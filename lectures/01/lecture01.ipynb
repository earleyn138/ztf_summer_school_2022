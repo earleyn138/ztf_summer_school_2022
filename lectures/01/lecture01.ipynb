{
 "cells": [
  {
   "cell_type": "code",
   "execution_count": 1,
   "metadata": {
    "slideshow": {
     "slide_type": "skip"
    }
   },
   "outputs": [
    {
     "data": {
      "text/plain": [
       "{'width': 1920, 'height': 1080, 'scroll': True}"
      ]
     },
     "execution_count": 1,
     "metadata": {},
     "output_type": "execute_result"
    }
   ],
   "source": [
    "from notebook.services.config import ConfigManager\n",
    "cm = ConfigManager()\n",
    "cm.update('livereveal', {\n",
    "        'width': 1920,\n",
    "        'height': 1080,\n",
    "        'scroll': True,\n",
    "})"
   ]
  },
  {
   "cell_type": "markdown",
   "metadata": {
    "slideshow": {
     "slide_type": "slide"
    }
   },
   "source": [
    "# Day 01: Part 1, ZTF Summer School 2021\n",
    "\n",
    "### Michael Coughlin <cough052@umn.edu>\n",
    "\n",
    "With contributions totally ripped off from Zjelko Ivezic and Mario Juric (UW), Gordon Richards (Drexel), Federica Bianco (U. Del), Maria Suveges (EPFL), and Gautham Narayan (UIUC)\n",
    "\n"
   ]
  },
  {
   "cell_type": "markdown",
   "metadata": {
    "slideshow": {
     "slide_type": "slide"
    }
   },
   "source": [
    "## Logistics\n",
    "\n",
    "* PROGRAM\n",
    "    * Program: https://docs.google.com/spreadsheets/d/1lPpAk57tjSPB__RWVtTfvp6hMYDVFhl2Ri5JDcH7RxU/edit?usp=sharing\n",
    "    * Abstracts and Speakers: https://docs.google.com/document/d/1HHVVuDY6jUiV6Bl-NBBGIdWZyK7qOBZsrn2c1uoLtvA/edit?usp=sharing\n",
    "* WAYS TO REACH US\n",
    "    * SLACK! ztfsummerschool.slack.com\n",
    "    * GitHub: https://github.com/mcoughlin/ztf_summer_school_2021(everything course related goes here)\n",
    "    * Email (ztf.summer.school@gmail.com): Good for official-ish messages like “I’m missing class.”\n",
    "* WAYS TO GET HELP\n",
    "    * Resources in the syllabus!\n",
    "    * Facebook: Python Users in Astronomy\n",
    "    * stackoverflow (can be toxic)"
   ]
  },
  {
   "cell_type": "markdown",
   "metadata": {
    "slideshow": {
     "slide_type": "slide"
    }
   },
   "source": [
    "## RULES OF ENGAGEMENT\n",
    "\n",
    "* Being able to explain a concept is the ultimate test of understanding, and it's entirely possible to believe we have an understanding right up to the moment we try to explain it to someone else.\n",
    "* Therefore, asking questions during class is providing a service.\n",
    "* No feigning surprise: To enable everyone to be comfortable saying \"I don't understand\", please resist the urge to act surprised when someone admits to not knowing something.\n",
    "* No well-actually's: A well-actually happens when someone says something that's almost - but not entirely - correct, and you say, \"well, actually...\" and then give a minor correction. This is especially annoying when the correction has no bearing on the actual conversation.\n",
    "* No subtle-isms: It goes without saying that overt expressions of racism, sexism, homophobia, transphobia or other biases are unacceptable. We also need to avoid subtle expressions of bias that can make others uncomfortable and that are of no benefit to the learning environment. For example, the expression \"It's so easy my grandmother could do it\" is a subtle-ism."
   ]
  },
  {
   "cell_type": "markdown",
   "metadata": {
    "slideshow": {
     "slide_type": "slide"
    }
   },
   "source": [
    "## SYLLABUS\n",
    "* In-class work (synchronous)\n",
    "* Homework (asyncronous). \n",
    "* We will not be tracking attendance or homework. You are (mostly) graduate students and therefore (presumably) want to be here."
   ]
  },
  {
   "cell_type": "markdown",
   "metadata": {
    "slideshow": {
     "slide_type": "slide"
    }
   },
   "source": [
    "## What are we here for?\n",
    "\n",
    "By the end of this school, we hope you are able to formulate an appropriate analysis plan for a research question, select, gather and prepare (ZTF) data to answer it, and build a model to describe it."
   ]
  },
  {
   "cell_type": "markdown",
   "metadata": {
    "slideshow": {
     "slide_type": "slide"
    }
   },
   "source": [
    "* It’s quite likely that you will be the last generation of astronomers to use telescopes directly.\n",
    "* We are moving from: The classical model - “What data do I have to collect to (dis)prove a hypothesis?” to the data-driven model - “What theories can I test given the data I already have?”\n",
    "\n",
    "  <center> <img src =\"./figures/cartoon.png\" width=\"800\"> </center>"
   ]
  },
  {
   "cell_type": "markdown",
   "metadata": {
    "slideshow": {
     "slide_type": "subslide"
    }
   },
   "source": [
    "## BUT THESE SURVEYS ARE MORE COMPLEX\n",
    "\n",
    "* Ever increasing data volume and complexity- SDSS is ~30 TB; LSST will be one SDSS per night, or a total of >100 PB of data (40 billion objects)\n",
    "* Sophisticated analysis, need for reproducibility - with the increasing data complexity, analysis becomes more complex, too; what do we do in case of disagreement?\n",
    "* Open-source approach improves efficiency\n",
    "   * we are not data starved any more!\n",
    "   * the bottleneck for new results is in human resources and analysis tools\n",
    "   * nobody has an unlimited budget; collaborate and share!"
   ]
  },
  {
   "cell_type": "markdown",
   "metadata": {
    "slideshow": {
     "slide_type": "subslide"
    }
   },
   "source": [
    "## Why github?\n",
    "\n",
    "* Reproducibility\n",
    "* Version control (git)\n",
    "* Collaborative platform"
   ]
  },
  {
   "cell_type": "markdown",
   "metadata": {
    "slideshow": {
     "slide_type": "subslide"
    }
   },
   "source": [
    "## Why python?\n",
    "\n",
    "* intuitive and readable\n",
    "* open source\n",
    "* support C integration for performance\n",
    "* packages designed for science:\n",
    "    * scipy\n",
    "    * numpy\n",
    "    * sklearn\n",
    "    * matplotlib"
   ]
  },
  {
   "cell_type": "markdown",
   "metadata": {
    "slideshow": {
     "slide_type": "subslide"
    }
   },
   "source": [
    "## ASTRO DATA ANALYSIS CHALLENGES\n",
    "* Large data volume (petabytes)\n",
    "* Large numbers of objects (billions)\n",
    "* Highly multi-dimensional spaces (thousands)\n",
    "* Unknown statistical distributions\n",
    "* Time-series data (irregular sampling)\n",
    "* Heteroskedastic errors, truncated, censored and missing data\n",
    "* Unreliable quantities (e.g. unknown systematics and random errors)"
   ]
  },
  {
   "cell_type": "markdown",
   "metadata": {
    "slideshow": {
     "slide_type": "subslide"
    }
   },
   "source": [
    "## NEW TO PYTHON?\n",
    "* Mohit Sharma’s tutorial from Urban Computing Skills Lab: https://sharmamohit.com/work/tutorials/ucsl/\n",
    "* Federica Bianco’s Python Bootcamp: https://github.com/fedhere/PyBOOT\n",
    "* UW E-Science 2015 seminar on python: https://github.com/uwescience/python-seminar-2015\n",
    "* Text reference: https://www.southampton.ac.uk/~fangohr/training/python/pdfs/Python-for-Computational-Science-and-Engineering.pdf"
   ]
  },
  {
   "cell_type": "markdown",
   "metadata": {
    "slideshow": {
     "slide_type": "slide"
    }
   },
   "source": [
    "## More help with git/os commands/python in the help/ directory\n",
    "\n",
    "<center> <img src =\"./figures/git.png\" width=\"800\"> </center>"
   ]
  },
  {
   "cell_type": "markdown",
   "metadata": {
    "slideshow": {
     "slide_type": "slide"
    }
   },
   "source": [
    "## CREATING / SYNCING FORK\n",
    "* https://help.github.com/en/github/collaborating-with-issues-and-pull-requests/syncing-a-fork\n",
    "* git remote -v\n",
    "* Check if my repo is already there! If not:\n",
    "* git remote add upstream https://github.com/mcoughlin/ztf_summer_school_2021.git\n",
    "* git fetch upsteam\n",
    "* get checkout master\n",
    "* git merge upstream/master\n",
    "* git push origin master"
   ]
  },
  {
   "cell_type": "markdown",
   "metadata": {},
   "source": [
    "# DATA"
   ]
  },
  {
   "cell_type": "markdown",
   "metadata": {
    "slideshow": {
     "slide_type": "slide"
    }
   },
   "source": [
    "<center> <img src =\"./figures/survey.png\" width=\"800\"> </center>"
   ]
  },
  {
   "cell_type": "markdown",
   "metadata": {
    "slideshow": {
     "slide_type": "slide"
    }
   },
   "source": [
    "## WHAT ASTRONOMERS CAN MEASURE\n",
    "* Angular separations\n",
    "* Time differences\n",
    "* Energy differences\n",
    "\n",
    "###  That’s it."
   ]
  },
  {
   "cell_type": "markdown",
   "metadata": {
    "slideshow": {
     "slide_type": "subslide"
    }
   },
   "source": [
    "## WHAT ASTRONOMERS CAN MEASURE\n",
    "* Astrometry (angular position on the sky) - arcseconds\n",
    "* Related definition: 1 parsec (pc) = distance at which a distance of 1 AU (i.e. Earth-Sun) subtends and angle of 1 arcsecond, i.e. 1 pc = 1 AU/tan(1”) ~ 31 trillion kilometers or 3.26 light years (ly)\n",
    "* Photometry (how bright something is)\n",
    "* Flux = photons (or energy in ergs)/sec/cm^2\n",
    "* (Apparent) Magnitude = -2.5 log10(Flux) + const\n",
    "* (Absolute) Magnitude = -2.5log10(Luminosity) + const = magnitude you’d measure if you could move the source to 10 pc\n",
    "* Light curves = photometry vs time\n",
    "* Evolution in source brightness either because of intrinsic (supernovae, AGN) or extrinsic (asteroids, eclipsing binaries)\n",
    "* Spectroscopy = Energy vs wavelength/frequency\n",
    "* Images/maps = Energy vs position on the sky (clustering, spatial correlation functions)\n",
    "* Proper Motion = Astrometry vs time (e.g. stars, satellite galaxies, asteroids…)"
   ]
  },
  {
   "cell_type": "markdown",
   "metadata": {
    "slideshow": {
     "slide_type": "subslide"
    }
   },
   "source": [
    "<center> <img src =\"./figures/spectrum.png\" width=\"800\"> </center>"
   ]
  },
  {
   "cell_type": "markdown",
   "metadata": {
    "slideshow": {
     "slide_type": "subslide"
    }
   },
   "source": [
    "<center> <img src =\"./figures/images.png\" width=\"800\"> </center>"
   ]
  },
  {
   "cell_type": "markdown",
   "metadata": {
    "slideshow": {
     "slide_type": "subslide"
    }
   },
   "source": [
    "## Temporal & Spatial Variation\n",
    "\n",
    "<center> <img src =\"./figures/spatial_temporal.png\" width=\"800\"> </center>"
   ]
  },
  {
   "cell_type": "markdown",
   "metadata": {
    "slideshow": {
     "slide_type": "subslide"
    }
   },
   "source": [
    "## Spatial Variation\n",
    "\n",
    "<center> <img src =\"./figures/cmb.png\" width=\"800\"> <img src =\"./figures/cmb_spectrum.png\" width=\"800\"> </center>"
   ]
  },
  {
   "cell_type": "markdown",
   "metadata": {},
   "source": [
    "# ZTF Alerts and Filtering"
   ]
  },
  {
   "cell_type": "markdown",
   "metadata": {},
   "source": [
    "This tutorial aims to give you an opportunity to explore the functionality of ZTFquery to get from ZTF observations to scientific objects. The content provided in this notebook draws from and builds on the tutorial material from Mickael Rigault (ztfquery.github.io)."
   ]
  },
  {
   "cell_type": "markdown",
   "metadata": {},
   "source": [
    "##  ZTF night observations"
   ]
  },
  {
   "cell_type": "markdown",
   "metadata": {},
   "source": [
    "As you may recall, ZTF surveys the entire Northern sky every three nights. We took at look at a data file describing the observations in the talk by Shreya Anand, and now we have a chance to play with data from one particular night."
   ]
  },
  {
   "cell_type": "code",
   "execution_count": 2,
   "metadata": {},
   "outputs": [],
   "source": [
    "from ztfquery import query\n",
    "from astropy.time import Time\n",
    "import numpy as np\n",
    "%matplotlib inline"
   ]
  },
  {
   "cell_type": "markdown",
   "metadata": {},
   "source": [
    "Does anyone recognize the days below (Hint: think of LIGO/Virgo)? Feel free to try other days."
   ]
  },
  {
   "cell_type": "code",
   "execution_count": 3,
   "metadata": {},
   "outputs": [],
   "source": [
    "zquery = query.ZTFQuery()\n",
    "jdstart = Time(\"2019-04-25\").jd\n",
    "jdend = Time(\"2019-04-26\").jd\n",
    "zquery.load_metadata(sql_query=f\"seeing<2 and obsjd BETWEEN {jdstart} AND {jdend}\")"
   ]
  },
  {
   "cell_type": "code",
   "execution_count": 4,
   "metadata": {},
   "outputs": [
    {
     "data": {
      "text/html": [
       "<div>\n",
       "<style scoped>\n",
       "    .dataframe tbody tr th:only-of-type {\n",
       "        vertical-align: middle;\n",
       "    }\n",
       "\n",
       "    .dataframe tbody tr th {\n",
       "        vertical-align: top;\n",
       "    }\n",
       "\n",
       "    .dataframe thead th {\n",
       "        text-align: right;\n",
       "    }\n",
       "</style>\n",
       "<table border=\"1\" class=\"dataframe\">\n",
       "  <thead>\n",
       "    <tr style=\"text-align: right;\">\n",
       "      <th></th>\n",
       "      <th>ra</th>\n",
       "      <th>dec</th>\n",
       "      <th>infobits</th>\n",
       "      <th>field</th>\n",
       "      <th>ccdid</th>\n",
       "      <th>qid</th>\n",
       "      <th>rcid</th>\n",
       "      <th>fid</th>\n",
       "      <th>filtercode</th>\n",
       "      <th>pid</th>\n",
       "      <th>...</th>\n",
       "      <th>ra1</th>\n",
       "      <th>dec1</th>\n",
       "      <th>ra2</th>\n",
       "      <th>dec2</th>\n",
       "      <th>ra3</th>\n",
       "      <th>dec3</th>\n",
       "      <th>ra4</th>\n",
       "      <th>dec4</th>\n",
       "      <th>ipac_pub_date</th>\n",
       "      <th>ipac_gid</th>\n",
       "    </tr>\n",
       "  </thead>\n",
       "  <tbody>\n",
       "    <tr>\n",
       "      <th>0</th>\n",
       "      <td>167.841034</td>\n",
       "      <td>-14.580353</td>\n",
       "      <td>0</td>\n",
       "      <td>318</td>\n",
       "      <td>16</td>\n",
       "      <td>3</td>\n",
       "      <td>62</td>\n",
       "      <td>2</td>\n",
       "      <td>zr</td>\n",
       "      <td>844140356215</td>\n",
       "      <td>...</td>\n",
       "      <td>168.292665</td>\n",
       "      <td>-14.152869</td>\n",
       "      <td>167.401740</td>\n",
       "      <td>-14.140647</td>\n",
       "      <td>167.387825</td>\n",
       "      <td>-15.006662</td>\n",
       "      <td>168.282152</td>\n",
       "      <td>-15.019243</td>\n",
       "      <td>2019-12-11 00:00:00+00</td>\n",
       "      <td>1</td>\n",
       "    </tr>\n",
       "    <tr>\n",
       "      <th>1</th>\n",
       "      <td>169.753946</td>\n",
       "      <td>-15.645640</td>\n",
       "      <td>0</td>\n",
       "      <td>318</td>\n",
       "      <td>11</td>\n",
       "      <td>2</td>\n",
       "      <td>41</td>\n",
       "      <td>2</td>\n",
       "      <td>zr</td>\n",
       "      <td>844140354115</td>\n",
       "      <td>...</td>\n",
       "      <td>170.204188</td>\n",
       "      <td>-15.214534</td>\n",
       "      <td>169.308928</td>\n",
       "      <td>-15.209621</td>\n",
       "      <td>169.301857</td>\n",
       "      <td>-16.075881</td>\n",
       "      <td>170.201174</td>\n",
       "      <td>-16.081070</td>\n",
       "      <td>2019-12-11 00:00:00+00</td>\n",
       "      <td>1</td>\n",
       "    </tr>\n",
       "    <tr>\n",
       "      <th>2</th>\n",
       "      <td>170.654505</td>\n",
       "      <td>-14.601988</td>\n",
       "      <td>0</td>\n",
       "      <td>318</td>\n",
       "      <td>15</td>\n",
       "      <td>4</td>\n",
       "      <td>59</td>\n",
       "      <td>2</td>\n",
       "      <td>zr</td>\n",
       "      <td>844140355915</td>\n",
       "      <td>...</td>\n",
       "      <td>171.099569</td>\n",
       "      <td>-14.167855</td>\n",
       "      <td>170.208359</td>\n",
       "      <td>-14.168581</td>\n",
       "      <td>170.207604</td>\n",
       "      <td>-15.035142</td>\n",
       "      <td>171.102176</td>\n",
       "      <td>-15.034246</td>\n",
       "      <td>2019-12-11 00:00:00+00</td>\n",
       "      <td>1</td>\n",
       "    </tr>\n",
       "    <tr>\n",
       "      <th>3</th>\n",
       "      <td>171.674526</td>\n",
       "      <td>-15.649168</td>\n",
       "      <td>0</td>\n",
       "      <td>318</td>\n",
       "      <td>10</td>\n",
       "      <td>2</td>\n",
       "      <td>37</td>\n",
       "      <td>2</td>\n",
       "      <td>zr</td>\n",
       "      <td>844140353715</td>\n",
       "      <td>...</td>\n",
       "      <td>172.120583</td>\n",
       "      <td>-15.213885</td>\n",
       "      <td>171.225276</td>\n",
       "      <td>-15.217096</td>\n",
       "      <td>171.226600</td>\n",
       "      <td>-16.083599</td>\n",
       "      <td>172.126013</td>\n",
       "      <td>-16.080530</td>\n",
       "      <td>2019-12-11 00:00:00+00</td>\n",
       "      <td>1</td>\n",
       "    </tr>\n",
       "    <tr>\n",
       "      <th>4</th>\n",
       "      <td>169.761466</td>\n",
       "      <td>-14.600939</td>\n",
       "      <td>0</td>\n",
       "      <td>318</td>\n",
       "      <td>15</td>\n",
       "      <td>3</td>\n",
       "      <td>58</td>\n",
       "      <td>2</td>\n",
       "      <td>zr</td>\n",
       "      <td>844140355815</td>\n",
       "      <td>...</td>\n",
       "      <td>170.208350</td>\n",
       "      <td>-14.168563</td>\n",
       "      <td>169.317023</td>\n",
       "      <td>-14.165775</td>\n",
       "      <td>169.313059</td>\n",
       "      <td>-15.032163</td>\n",
       "      <td>170.207530</td>\n",
       "      <td>-15.035125</td>\n",
       "      <td>2019-12-11 00:00:00+00</td>\n",
       "      <td>1</td>\n",
       "    </tr>\n",
       "    <tr>\n",
       "      <th>...</th>\n",
       "      <td>...</td>\n",
       "      <td>...</td>\n",
       "      <td>...</td>\n",
       "      <td>...</td>\n",
       "      <td>...</td>\n",
       "      <td>...</td>\n",
       "      <td>...</td>\n",
       "      <td>...</td>\n",
       "      <td>...</td>\n",
       "      <td>...</td>\n",
       "      <td>...</td>\n",
       "      <td>...</td>\n",
       "      <td>...</td>\n",
       "      <td>...</td>\n",
       "      <td>...</td>\n",
       "      <td>...</td>\n",
       "      <td>...</td>\n",
       "      <td>...</td>\n",
       "      <td>...</td>\n",
       "      <td>...</td>\n",
       "      <td>...</td>\n",
       "    </tr>\n",
       "    <tr>\n",
       "      <th>31441</th>\n",
       "      <td>227.818947</td>\n",
       "      <td>3.165006</td>\n",
       "      <td>0</td>\n",
       "      <td>479</td>\n",
       "      <td>6</td>\n",
       "      <td>4</td>\n",
       "      <td>23</td>\n",
       "      <td>1</td>\n",
       "      <td>zg</td>\n",
       "      <td>844506452315</td>\n",
       "      <td>...</td>\n",
       "      <td>228.253201</td>\n",
       "      <td>3.597154</td>\n",
       "      <td>227.387075</td>\n",
       "      <td>3.599262</td>\n",
       "      <td>227.385021</td>\n",
       "      <td>2.732701</td>\n",
       "      <td>228.250162</td>\n",
       "      <td>2.730827</td>\n",
       "      <td>2020-12-09 00:00:00+00</td>\n",
       "      <td>2</td>\n",
       "    </tr>\n",
       "    <tr>\n",
       "      <th>31442</th>\n",
       "      <td>226.966147</td>\n",
       "      <td>7.864767</td>\n",
       "      <td>0</td>\n",
       "      <td>479</td>\n",
       "      <td>14</td>\n",
       "      <td>2</td>\n",
       "      <td>53</td>\n",
       "      <td>1</td>\n",
       "      <td>zg</td>\n",
       "      <td>844506455315</td>\n",
       "      <td>...</td>\n",
       "      <td>227.404801</td>\n",
       "      <td>8.296160</td>\n",
       "      <td>226.531591</td>\n",
       "      <td>8.299465</td>\n",
       "      <td>226.528451</td>\n",
       "      <td>7.432963</td>\n",
       "      <td>227.400018</td>\n",
       "      <td>7.429482</td>\n",
       "      <td>2020-12-09 00:00:00+00</td>\n",
       "      <td>2</td>\n",
       "    </tr>\n",
       "    <tr>\n",
       "      <th>31443</th>\n",
       "      <td>227.827823</td>\n",
       "      <td>5.949824</td>\n",
       "      <td>0</td>\n",
       "      <td>479</td>\n",
       "      <td>10</td>\n",
       "      <td>1</td>\n",
       "      <td>36</td>\n",
       "      <td>1</td>\n",
       "      <td>zg</td>\n",
       "      <td>844506453615</td>\n",
       "      <td>...</td>\n",
       "      <td>228.263882</td>\n",
       "      <td>6.381457</td>\n",
       "      <td>227.394414</td>\n",
       "      <td>6.384121</td>\n",
       "      <td>227.392138</td>\n",
       "      <td>5.517535</td>\n",
       "      <td>228.260602</td>\n",
       "      <td>5.515172</td>\n",
       "      <td>2020-12-09 00:00:00+00</td>\n",
       "      <td>2</td>\n",
       "    </tr>\n",
       "    <tr>\n",
       "      <th>31444</th>\n",
       "      <td>226.962272</td>\n",
       "      <td>6.998141</td>\n",
       "      <td>0</td>\n",
       "      <td>479</td>\n",
       "      <td>14</td>\n",
       "      <td>3</td>\n",
       "      <td>54</td>\n",
       "      <td>1</td>\n",
       "      <td>zg</td>\n",
       "      <td>844506455415</td>\n",
       "      <td>...</td>\n",
       "      <td>227.400053</td>\n",
       "      <td>7.429481</td>\n",
       "      <td>226.528467</td>\n",
       "      <td>7.432979</td>\n",
       "      <td>226.525584</td>\n",
       "      <td>6.566776</td>\n",
       "      <td>227.395385</td>\n",
       "      <td>6.563079</td>\n",
       "      <td>2020-12-09 00:00:00+00</td>\n",
       "      <td>2</td>\n",
       "    </tr>\n",
       "    <tr>\n",
       "      <th>31445</th>\n",
       "      <td>224.102960</td>\n",
       "      <td>1.254025</td>\n",
       "      <td>0</td>\n",
       "      <td>479</td>\n",
       "      <td>4</td>\n",
       "      <td>4</td>\n",
       "      <td>15</td>\n",
       "      <td>1</td>\n",
       "      <td>zg</td>\n",
       "      <td>844506451515</td>\n",
       "      <td>...</td>\n",
       "      <td>224.535152</td>\n",
       "      <td>1.687690</td>\n",
       "      <td>223.670465</td>\n",
       "      <td>1.686766</td>\n",
       "      <td>223.670821</td>\n",
       "      <td>0.820275</td>\n",
       "      <td>224.534957</td>\n",
       "      <td>0.821336</td>\n",
       "      <td>2020-12-09 00:00:00+00</td>\n",
       "      <td>2</td>\n",
       "    </tr>\n",
       "  </tbody>\n",
       "</table>\n",
       "<p>31446 rows × 42 columns</p>\n",
       "</div>"
      ],
      "text/plain": [
       "               ra        dec  infobits  field  ccdid  qid  rcid  fid  \\\n",
       "0      167.841034 -14.580353         0    318     16    3    62    2   \n",
       "1      169.753946 -15.645640         0    318     11    2    41    2   \n",
       "2      170.654505 -14.601988         0    318     15    4    59    2   \n",
       "3      171.674526 -15.649168         0    318     10    2    37    2   \n",
       "4      169.761466 -14.600939         0    318     15    3    58    2   \n",
       "...           ...        ...       ...    ...    ...  ...   ...  ...   \n",
       "31441  227.818947   3.165006         0    479      6    4    23    1   \n",
       "31442  226.966147   7.864767         0    479     14    2    53    1   \n",
       "31443  227.827823   5.949824         0    479     10    1    36    1   \n",
       "31444  226.962272   6.998141         0    479     14    3    54    1   \n",
       "31445  224.102960   1.254025         0    479      4    4    15    1   \n",
       "\n",
       "      filtercode           pid  ...         ra1       dec1         ra2  \\\n",
       "0             zr  844140356215  ...  168.292665 -14.152869  167.401740   \n",
       "1             zr  844140354115  ...  170.204188 -15.214534  169.308928   \n",
       "2             zr  844140355915  ...  171.099569 -14.167855  170.208359   \n",
       "3             zr  844140353715  ...  172.120583 -15.213885  171.225276   \n",
       "4             zr  844140355815  ...  170.208350 -14.168563  169.317023   \n",
       "...          ...           ...  ...         ...        ...         ...   \n",
       "31441         zg  844506452315  ...  228.253201   3.597154  227.387075   \n",
       "31442         zg  844506455315  ...  227.404801   8.296160  226.531591   \n",
       "31443         zg  844506453615  ...  228.263882   6.381457  227.394414   \n",
       "31444         zg  844506455415  ...  227.400053   7.429481  226.528467   \n",
       "31445         zg  844506451515  ...  224.535152   1.687690  223.670465   \n",
       "\n",
       "            dec2         ra3       dec3         ra4       dec4  \\\n",
       "0     -14.140647  167.387825 -15.006662  168.282152 -15.019243   \n",
       "1     -15.209621  169.301857 -16.075881  170.201174 -16.081070   \n",
       "2     -14.168581  170.207604 -15.035142  171.102176 -15.034246   \n",
       "3     -15.217096  171.226600 -16.083599  172.126013 -16.080530   \n",
       "4     -14.165775  169.313059 -15.032163  170.207530 -15.035125   \n",
       "...          ...         ...        ...         ...        ...   \n",
       "31441   3.599262  227.385021   2.732701  228.250162   2.730827   \n",
       "31442   8.299465  226.528451   7.432963  227.400018   7.429482   \n",
       "31443   6.384121  227.392138   5.517535  228.260602   5.515172   \n",
       "31444   7.432979  226.525584   6.566776  227.395385   6.563079   \n",
       "31445   1.686766  223.670821   0.820275  224.534957   0.821336   \n",
       "\n",
       "                ipac_pub_date  ipac_gid  \n",
       "0      2019-12-11 00:00:00+00         1  \n",
       "1      2019-12-11 00:00:00+00         1  \n",
       "2      2019-12-11 00:00:00+00         1  \n",
       "3      2019-12-11 00:00:00+00         1  \n",
       "4      2019-12-11 00:00:00+00         1  \n",
       "...                       ...       ...  \n",
       "31441  2020-12-09 00:00:00+00         2  \n",
       "31442  2020-12-09 00:00:00+00         2  \n",
       "31443  2020-12-09 00:00:00+00         2  \n",
       "31444  2020-12-09 00:00:00+00         2  \n",
       "31445  2020-12-09 00:00:00+00         2  \n",
       "\n",
       "[31446 rows x 42 columns]"
      ]
     },
     "execution_count": 4,
     "metadata": {},
     "output_type": "execute_result"
    }
   ],
   "source": [
    "query_table = zquery.metatable\n",
    "query_table"
   ]
  },
  {
   "cell_type": "code",
   "execution_count": 5,
   "metadata": {
    "scrolled": true
   },
   "outputs": [
    {
     "name": "stderr",
     "output_type": "stream",
     "text": [
      "/opt/anaconda3/envs/ztfsummer/lib/python3.8/site-packages/ztfquery/utils/tools.py:76: VisibleDeprecationWarning: Creating an ndarray from ragged nested sequences (which is a list-or-tuple of lists-or-tuples-or ndarrays with different lengths or shapes) is deprecated. If you meant to do this, you must specify 'dtype=object' when creating the ndarray.\n",
      "  return np.asarray([v[0]*np.cos(theta*_DEG2RA) - v[2]*np.sin(theta*_DEG2RA),\n",
      "WARNING: AstropyDeprecationWarning: Transforming a frame instance to a frame class (as opposed to another frame instance) will not be supported in the future.  Either explicitly instantiate the target frame, or first convert the source frame instance to a `astropy.coordinates.SkyCoord` and use its `transform_to()` method. [astropy.coordinates.baseframe]\n",
      "/opt/anaconda3/envs/ztfsummer/lib/python3.8/site-packages/ztfquery/utils/tools.py:76: VisibleDeprecationWarning: Creating an ndarray from ragged nested sequences (which is a list-or-tuple of lists-or-tuples-or ndarrays with different lengths or shapes) is deprecated. If you meant to do this, you must specify 'dtype=object' when creating the ndarray.\n",
      "  return np.asarray([v[0]*np.cos(theta*_DEG2RA) - v[2]*np.sin(theta*_DEG2RA),\n",
      "WARNING: AstropyDeprecationWarning: Transforming a frame instance to a frame class (as opposed to another frame instance) will not be supported in the future.  Either explicitly instantiate the target frame, or first convert the source frame instance to a `astropy.coordinates.SkyCoord` and use its `transform_to()` method. [astropy.coordinates.baseframe]\n",
      "/opt/anaconda3/envs/ztfsummer/lib/python3.8/site-packages/ztfquery/utils/tools.py:76: VisibleDeprecationWarning: Creating an ndarray from ragged nested sequences (which is a list-or-tuple of lists-or-tuples-or ndarrays with different lengths or shapes) is deprecated. If you meant to do this, you must specify 'dtype=object' when creating the ndarray.\n",
      "  return np.asarray([v[0]*np.cos(theta*_DEG2RA) - v[2]*np.sin(theta*_DEG2RA),\n"
     ]
    },
    {
     "data": {
      "text/plain": [
       "<HammerAxes:>"
      ]
     },
     "execution_count": 5,
     "metadata": {},
     "output_type": "execute_result"
    },
    {
     "data": {
      "image/png": "[encoded data removed]",
      "text/plain": [
       "<Figure size 460.8x180 with 6 Axes>"
      ]
     },
     "metadata": {},
     "output_type": "display_data"
    }
   ],
   "source": [
    "zquery.show_gri_fields(title=\"Observations taken on 2019-04-25\", grid=\"main\")"
   ]
  },
  {
   "cell_type": "code",
   "execution_count": 6,
   "metadata": {
    "scrolled": true
   },
   "outputs": [
    {
     "data": {
      "text/plain": [
       "Index(['ra', 'dec', 'infobits', 'field', 'ccdid', 'qid', 'rcid', 'fid',\n",
       "       'filtercode', 'pid', 'nid', 'expid', 'itid', 'imgtype', 'imgtypecode',\n",
       "       'obsdate', 'obsjd', 'exptime', 'filefracday', 'seeing', 'airmass',\n",
       "       'moonillf', 'moonesb', 'maglimit', 'crpix1', 'crpix2', 'crval1',\n",
       "       'crval2', 'cd11', 'cd12', 'cd21', 'cd22', 'ra1', 'dec1', 'ra2', 'dec2',\n",
       "       'ra3', 'dec3', 'ra4', 'dec4', 'ipac_pub_date', 'ipac_gid'],\n",
       "      dtype='object')"
      ]
     },
     "execution_count": 6,
     "metadata": {},
     "output_type": "execute_result"
    }
   ],
   "source": [
    "query_table.columns"
   ]
  },
  {
   "cell_type": "markdown",
   "metadata": {},
   "source": [
    "Now, select only the subset of observations from 2021-04-25 taken in g-band that are deeper 21st magnitude."
   ]
  },
  {
   "cell_type": "code",
   "execution_count": 11,
   "metadata": {},
   "outputs": [],
   "source": [
    "# YOUR CODE HERE\n",
    "zquery.load_metadata(sql_query=f\"seeing<2 and obsjd BETWEEN {jdstart} AND {jdend} and fid=1 and maglimit>21\")\n",
    "deep_query = zquery.metatable"
   ]
  },
  {
   "cell_type": "markdown",
   "metadata": {},
   "source": [
    "Display the results of your query below. How does your observations map change?"
   ]
  },
  {
   "cell_type": "code",
   "execution_count": 12,
   "metadata": {},
   "outputs": [
    {
     "name": "stderr",
     "output_type": "stream",
     "text": [
      "/opt/anaconda3/envs/ztfsummer/lib/python3.8/site-packages/ztfquery/fields.py:530: UserWarning: Only one color given, favor using show_fields() directly\n",
      "  warnings.warn(\"Only one color given, favor using show_fields() directly\")\n",
      "/opt/anaconda3/envs/ztfsummer/lib/python3.8/site-packages/ztfquery/utils/tools.py:76: VisibleDeprecationWarning: Creating an ndarray from ragged nested sequences (which is a list-or-tuple of lists-or-tuples-or ndarrays with different lengths or shapes) is deprecated. If you meant to do this, you must specify 'dtype=object' when creating the ndarray.\n",
      "  return np.asarray([v[0]*np.cos(theta*_DEG2RA) - v[2]*np.sin(theta*_DEG2RA),\n",
      "WARNING: AstropyDeprecationWarning: Transforming a frame instance to a frame class (as opposed to another frame instance) will not be supported in the future.  Either explicitly instantiate the target frame, or first convert the source frame instance to a `astropy.coordinates.SkyCoord` and use its `transform_to()` method. [astropy.coordinates.baseframe]\n",
      "/opt/anaconda3/envs/ztfsummer/lib/python3.8/site-packages/ztfquery/utils/tools.py:76: VisibleDeprecationWarning: Creating an ndarray from ragged nested sequences (which is a list-or-tuple of lists-or-tuples-or ndarrays with different lengths or shapes) is deprecated. If you meant to do this, you must specify 'dtype=object' when creating the ndarray.\n",
      "  return np.asarray([v[0]*np.cos(theta*_DEG2RA) - v[2]*np.sin(theta*_DEG2RA),\n"
     ]
    },
    {
     "data": {
      "image/png": "[encoded data removed]",
      "text/plain": [
       "<Figure size 576x360 with 3 Axes>"
      ]
     },
     "execution_count": 12,
     "metadata": {},
     "output_type": "execute_result"
    },
    {
     "data": {
      "image/png": "[encoded data removed]",
      "text/plain": [
       "<Figure size 576x360 with 3 Axes>"
      ]
     },
     "metadata": {
      "needs_background": "light"
     },
     "output_type": "display_data"
    }
   ],
   "source": [
    "zquery.show_gri_fields(title='deep g-band observations')"
   ]
  },
  {
   "cell_type": "markdown",
   "metadata": {},
   "source": [
    "Using the query table saved earlier, determine which field had the deepest limiting magnitude amongst all of the observations. Then plot a histogram of the variation in limiting magnitude across the $\\textit{quadrants}$ and $\\textit{observations}$ in that field as a fraction of the total number of observations."
   ]
  },
  {
   "cell_type": "code",
   "execution_count": 52,
   "metadata": {},
   "outputs": [],
   "source": [
    "# YOUR CODE HERE\n",
    "zquery.load_metadata(sql_query=f\"seeing<2 and obsjd BETWEEN {jdstart} AND {jdend}\")\n",
    "query_table = zquery.metatable"
   ]
  },
  {
   "cell_type": "code",
   "execution_count": 56,
   "metadata": {},
   "outputs": [
    {
     "data": {
      "text/plain": [
       "3646    565\n",
       "Name: field, dtype: int64"
      ]
     },
     "execution_count": 56,
     "metadata": {},
     "output_type": "execute_result"
    }
   ],
   "source": [
    "maglimits=query_table['maglimit']\n",
    "deep_field = query_table[maglimits==np.max(maglimits)]['field']\n",
    "deep_field"
   ]
  },
  {
   "cell_type": "code",
   "execution_count": 61,
   "metadata": {},
   "outputs": [],
   "source": [
    "# YOUR CODE HERE\n",
    "import matplotlib.pyplot as plt"
   ]
  },
  {
   "cell_type": "code",
   "execution_count": 77,
   "metadata": {},
   "outputs": [
    {
     "data": {
      "text/plain": [
       "3429    20.467899\n",
       "3433    20.440800\n",
       "3434    20.392300\n",
       "3451    20.531401\n",
       "3453    20.258499\n",
       "          ...    \n",
       "4631    20.551001\n",
       "4639    20.547600\n",
       "4645    20.622400\n",
       "4648    20.552099\n",
       "4649    20.564501\n",
       "Name: maglimit, Length: 66, dtype: float64"
      ]
     },
     "execution_count": 77,
     "metadata": {},
     "output_type": "execute_result"
    }
   ],
   "source": [
    "query_table['maglimit'][deepfield][quadrant]"
   ]
  },
  {
   "cell_type": "code",
   "execution_count": 86,
   "metadata": {},
   "outputs": [
    {
     "data": {
      "image/png": "[encoded data removed]",
      "text/plain": [
       "<Figure size 432x288 with 1 Axes>"
      ]
     },
     "metadata": {
      "needs_background": "light"
     },
     "output_type": "display_data"
    },
    {
     "data": {
      "image/png": "[encoded data removed]",
      "text/plain": [
       "<Figure size 432x288 with 1 Axes>"
      ]
     },
     "metadata": {
      "needs_background": "light"
     },
     "output_type": "display_data"
    }
   ],
   "source": [
    "deepfield=(query_table['field'] == 565)\n",
    "for i in np.unique(query_table['qid']):\n",
    "    quadrant = (query_table['qid'] == i)\n",
    "    plt.hist(query_table['maglimit'][deepfield][quadrant],bins=20,alpha=0.5,density=True,label='Quadrant '+str(i))\n",
    "plt.legend()\n",
    "plt.show()\n",
    "\n",
    "for t in np.unique(query_table['exptime']):\n",
    "    exptime = (query_table['exptime'] == t)\n",
    "    plt.hist(query_table['maglimit'][deepfield][exptime],alpha=0.5,density=True,label='Exposure '+str(t))\n",
    "#plt.xlim(20,22)\n",
    "plt.legend()\n",
    "plt.show()"
   ]
  },
  {
   "cell_type": "markdown",
   "metadata": {},
   "source": [
    "Does this match your expectations? What explanations can there be for this observed limiting magnitude distribution?"
   ]
  },
  {
   "cell_type": "markdown",
   "metadata": {},
   "source": [
    "Hint: To answer this question, check what exposure times were used during these observations."
   ]
  },
  {
   "cell_type": "code",
   "execution_count": null,
   "metadata": {},
   "outputs": [],
   "source": [
    "# YOUR CODE HERE"
   ]
  },
  {
   "cell_type": "markdown",
   "metadata": {},
   "source": [
    "## Working with ZTF Alerts"
   ]
  },
  {
   "cell_type": "markdown",
   "metadata": {},
   "source": [
    "ZTF alerts can be found here!\n",
    "https://ztf.uw.edu/alerts/public/\n",
    "\n",
    "We pulled down examples for you... but after class, please do explore."
   ]
  },
  {
   "cell_type": "code",
   "execution_count": 87,
   "metadata": {},
   "outputs": [],
   "source": [
    "from ztfquery import alert\n",
    "ztfalert = alert.AlertReader.load('data/2019_01_10_739260766315010006.avro')"
   ]
  },
  {
   "cell_type": "code",
   "execution_count": 88,
   "metadata": {},
   "outputs": [
    {
     "data": {
      "image/png": "[encoded data removed]",
      "text/plain": [
       "<Figure size 648x360 with 4 Axes>"
      ]
     },
     "execution_count": 88,
     "metadata": {},
     "output_type": "execute_result"
    },
    {
     "data": {
      "image/png": "[encoded data removed]",
      "text/plain": [
       "<Figure size 648x360 with 4 Axes>"
      ]
     },
     "metadata": {
      "needs_background": "light"
     },
     "output_type": "display_data"
    }
   ],
   "source": [
    "def get_stamp(self, which):\n",
    "    \"\"\" return the HDUImage stamps for `which`.\n",
    "    where `which` is one of the following ['Science','Template','Difference']\n",
    "    \"\"\"\n",
    "    import gzip, io\n",
    "    from astropy.io import fits\n",
    "    with gzip.open(io.BytesIO(self.alert.get(\"cutout%s\"%which)[\"stampData\"]), 'rb') as f:\n",
    "        return fits.open(io.BytesIO(f.read()),ignore_missing_simple=True)[0]\n",
    "    \n",
    "from types import MethodType\n",
    "ztfalert.get_stamp = MethodType(get_stamp, ztfalert)\n",
    "ztfalert.show()\n"
   ]
  },
  {
   "cell_type": "markdown",
   "metadata": {},
   "source": [
    "Let's take a look at the alert contents. They are stored in ztfalert.alert as a dictionary of dictionaries."
   ]
  },
  {
   "cell_type": "code",
   "execution_count": 116,
   "metadata": {},
   "outputs": [
    {
     "data": {
      "text/plain": [
       "{'schemavsn': '3.2',\n",
       " 'publisher': 'ZTF (www.ztf.caltech.edu)',\n",
       " 'objectId': 'ZTF17aaacxxf',\n",
       " 'candid': 739260766315010006,\n",
       " 'candidate': {'jd': 2458493.7607639,\n",
       "  'fid': 2,\n",
       "  'pid': 739260766315,\n",
       "  'diffmaglim': 20.550893783569336,\n",
       "  'pdiffimfilename': 'ztf_20190110260752_000658_zr_c16_o_q4_scimrefdiffimg.fits',\n",
       "  'programpi': 'Kulkarni',\n",
       "  'programid': 1,\n",
       "  'candid': 739260766315010006,\n",
       "  'isdiffpos': 'f',\n",
       "  'tblid': 6,\n",
       "  'nid': 739,\n",
       "  'rcid': 63,\n",
       "  'field': 658,\n",
       "  'xpos': 2469.45654296875,\n",
       "  'ypos': 2918.46533203125,\n",
       "  'ra': 75.2007803,\n",
       "  'dec': 35.3613954,\n",
       "  'magpsf': 15.371133804321289,\n",
       "  'sigmapsf': 0.044493019580841064,\n",
       "  'chipsf': 332.4355773925781,\n",
       "  'magap': 15.316800117492676,\n",
       "  'sigmagap': 0.005799999926239252,\n",
       "  'distnr': 0.2712194621562958,\n",
       "  'magnr': 14.318999290466309,\n",
       "  'sigmagnr': 0.01600000075995922,\n",
       "  'chinr': 0.7440000176429749,\n",
       "  'sharpnr': 0.04699999839067459,\n",
       "  'sky': 0.048080768436193466,\n",
       "  'magdiff': -0.05433399975299835,\n",
       "  'fwhm': 5.71999979019165,\n",
       "  'classtar': 0.9869999885559082,\n",
       "  'mindtoedge': 162.03460693359375,\n",
       "  'magfromlim': 5.234093189239502,\n",
       "  'seeratio': 0.4467562139034271,\n",
       "  'aimage': 0.9980000257492065,\n",
       "  'bimage': 0.9309999942779541,\n",
       "  'aimagerat': 0.1744755208492279,\n",
       "  'bimagerat': 0.16276223957538605,\n",
       "  'elong': 1.0719655752182007,\n",
       "  'nneg': 1,\n",
       "  'nbad': 0,\n",
       "  'rb': 0.4471428692340851,\n",
       "  'ssdistnr': -999.0,\n",
       "  'ssmagnr': -999.0,\n",
       "  'ssnamenr': 'null',\n",
       "  'sumrat': 1.0,\n",
       "  'magapbig': 15.30270004272461,\n",
       "  'sigmagapbig': 0.006200000178068876,\n",
       "  'ranr': 75.2007661,\n",
       "  'decnr': 35.3614709,\n",
       "  'sgmag1': 16.554800033569336,\n",
       "  'srmag1': 14.907400131225586,\n",
       "  'simag1': 12.968000411987305,\n",
       "  'szmag1': 12.118000030517578,\n",
       "  'sgscore1': 0.9906250238418579,\n",
       "  'distpsnr1': 0.2507408559322357,\n",
       "  'ndethist': 110,\n",
       "  'ncovhist': 412,\n",
       "  'jdstarthist': 2458078.6711111,\n",
       "  'jdendhist': 2458493.7607639,\n",
       "  'scorr': 29.0941562652588,\n",
       "  'tooflag': 0,\n",
       "  'objectidps1': 150430752007784368,\n",
       "  'objectidps2': 150430752004922730,\n",
       "  'sgmag2': 19.738000869750977,\n",
       "  'srmag2': 18.764299392700195,\n",
       "  'simag2': 18.17530059814453,\n",
       "  'szmag2': 17.68600082397461,\n",
       "  'sgscore2': 0.8190420269966125,\n",
       "  'distpsnr2': 4.807201862335205,\n",
       "  'objectidps3': 150430752024253308,\n",
       "  'sgmag3': 21.341899871826172,\n",
       "  'srmag3': 20.212799072265625,\n",
       "  'simag3': 19.54170036315918,\n",
       "  'szmag3': -999.0,\n",
       "  'sgscore3': 0.6614580154418945,\n",
       "  'distpsnr3': 5.585875988006592,\n",
       "  'nmtchps': 13,\n",
       "  'rfid': 658120263,\n",
       "  'jdstartref': 2458160.723704,\n",
       "  'jdendref': 2458423.833854,\n",
       "  'nframesref': 15,\n",
       "  'rbversion': 't8_f5_c3',\n",
       "  'dsnrms': 367.40362548828125,\n",
       "  'ssnrms': 881.1093139648438,\n",
       "  'dsdiff': -513.7056884765625,\n",
       "  'magzpsci': 26.161134719848633,\n",
       "  'magzpsciunc': 4.346300102042733e-06,\n",
       "  'magzpscirms': 0.02807600051164627,\n",
       "  'nmatches': 2011,\n",
       "  'clrcoeff': 0.10079599916934967,\n",
       "  'clrcounc': 5.064399829279864e-06,\n",
       "  'zpclrcov': -4.580000222631497e-06,\n",
       "  'zpmed': 26.25,\n",
       "  'clrmed': 0.8849999904632568,\n",
       "  'clrrms': 0.19683699309825897,\n",
       "  'neargaia': 4.813373565673828,\n",
       "  'neargaiabright': 80.04391479492188,\n",
       "  'maggaia': 18.45102310180664,\n",
       "  'maggaiabright': 12.024665832519531,\n",
       "  'exptime': 30.0},\n",
       " 'prv_candidates': [{'jd': 2458464.7433681,\n",
       "   'fid': 1,\n",
       "   'pid': 710243366315,\n",
       "   'diffmaglim': 20.401599884033203,\n",
       "   'pdiffimfilename': '/ztf/archive/sci/2018/1212/243356/ztf_20181212243356_000658_zg_c16_o_q4_scimrefdiffimg.fits.fz',\n",
       "   'programpi': 'Kulkarni',\n",
       "   'programid': 1,\n",
       "   'candid': 710243366315015036,\n",
       "   'isdiffpos': 't',\n",
       "   'tblid': 36,\n",
       "   'nid': 710,\n",
       "   'rcid': 63,\n",
       "   'field': 658,\n",
       "   'xpos': 2455.7900390625,\n",
       "   'ypos': 2934.8798828125,\n",
       "   'ra': 75.2005213,\n",
       "   'dec': 35.3613293,\n",
       "   'magpsf': 19.122499465942383,\n",
       "   'sigmapsf': 0.15693099796772003,\n",
       "   'chipsf': 2.3269500732421875,\n",
       "   'magap': 18.66510009765625,\n",
       "   'sigmagap': 0.06650000065565109,\n",
       "   'distnr': 0.8740450143814087,\n",
       "   'magnr': 16.746999740600586,\n",
       "   'sigmagnr': 0.01600000075995922,\n",
       "   'chinr': 0.4390000104904175,\n",
       "   'sharpnr': -0.03500000014901161,\n",
       "   'sky': -0.4147239923477173,\n",
       "   'magdiff': -0.4574190080165863,\n",
       "   'fwhm': 2.7899999618530273,\n",
       "   'classtar': 0.8429999947547913,\n",
       "   'mindtoedge': 145.625,\n",
       "   'magfromlim': 1.7365000247955322,\n",
       "   'seeratio': 1.262969970703125,\n",
       "   'aimage': 1.4950000047683716,\n",
       "   'bimage': 1.2719999551773071,\n",
       "   'aimagerat': 0.5358420014381409,\n",
       "   'bimagerat': 0.4559139907360077,\n",
       "   'elong': 1.1753100156784058,\n",
       "   'nneg': 1,\n",
       "   'nbad': 0,\n",
       "   'rb': 0.3966670036315918,\n",
       "   'ssdistnr': 15.0,\n",
       "   'ssmagnr': 21.0,\n",
       "   'ssnamenr': '496822',\n",
       "   'sumrat': 1.0,\n",
       "   'magapbig': 18.590900421142578,\n",
       "   'sigmagapbig': 0.07509999722242355,\n",
       "   'ranr': 75.2007678,\n",
       "   'decnr': 35.3614708,\n",
       "   'scorr': 10.8979,\n",
       "   'magzpsci': 26.276500701904297,\n",
       "   'magzpsciunc': 1.1331099813105538e-05,\n",
       "   'magzpscirms': 0.03207220137119293,\n",
       "   'clrcoeff': -0.09714719653129578,\n",
       "   'clrcounc': 1.3177499567973427e-05,\n",
       "   'rbversion': 't12_f5_c3'},\n",
       "  {'jd': 2458464.8087847,\n",
       "   'fid': 2,\n",
       "   'pid': 710308786315,\n",
       "   'diffmaglim': 20.40559959411621,\n",
       "   'pdiffimfilename': '/ztf/archive/sci/2018/1212/308773/ztf_20181212308773_000658_zr_c16_o_q4_scimrefdiffimg.fits.fz',\n",
       "   'programpi': 'Kulkarni',\n",
       "   'programid': 1,\n",
       "   'candid': None,\n",
       "   'isdiffpos': None,\n",
       "   'tblid': None,\n",
       "   'nid': 710,\n",
       "   'rcid': 63,\n",
       "   'field': 658,\n",
       "   'xpos': None,\n",
       "   'ypos': None,\n",
       "   'ra': None,\n",
       "   'dec': None,\n",
       "   'magpsf': None,\n",
       "   'sigmapsf': None,\n",
       "   'chipsf': None,\n",
       "   'magap': None,\n",
       "   'sigmagap': None,\n",
       "   'distnr': None,\n",
       "   'magnr': None,\n",
       "   'sigmagnr': None,\n",
       "   'chinr': None,\n",
       "   'sharpnr': None,\n",
       "   'sky': None,\n",
       "   'magdiff': None,\n",
       "   'fwhm': None,\n",
       "   'classtar': None,\n",
       "   'mindtoedge': None,\n",
       "   'magfromlim': None,\n",
       "   'seeratio': None,\n",
       "   'aimage': None,\n",
       "   'bimage': None,\n",
       "   'aimagerat': None,\n",
       "   'bimagerat': None,\n",
       "   'elong': None,\n",
       "   'nneg': None,\n",
       "   'nbad': None,\n",
       "   'rb': None,\n",
       "   'ssdistnr': None,\n",
       "   'ssmagnr': None,\n",
       "   'ssnamenr': None,\n",
       "   'sumrat': None,\n",
       "   'magapbig': None,\n",
       "   'sigmagapbig': None,\n",
       "   'ranr': None,\n",
       "   'decnr': None,\n",
       "   'scorr': None,\n",
       "   'magzpsci': 26.150400161743164,\n",
       "   'magzpsciunc': 3.940509941458004e-06,\n",
       "   'magzpscirms': 0.018985100090503693,\n",
       "   'clrcoeff': 0.1061599999666214,\n",
       "   'clrcounc': 4.607570190273691e-06,\n",
       "   'rbversion': 't12_f5_c3'},\n",
       "  {'jd': 2458465.7352662,\n",
       "   'fid': 1,\n",
       "   'pid': 711235266315,\n",
       "   'diffmaglim': 20.264799118041992,\n",
       "   'pdiffimfilename': '/ztf/archive/sci/2018/1213/235266/ztf_20181213235266_000658_zg_c16_o_q4_scimrefdiffimg.fits.fz',\n",
       "   'programpi': 'Kulkarni',\n",
       "   'programid': 1,\n",
       "   'candid': 711235266315015027,\n",
       "   'isdiffpos': 't',\n",
       "   'tblid': 27,\n",
       "   'nid': 711,\n",
       "   'rcid': 63,\n",
       "   'field': 658,\n",
       "   'xpos': 2484.0400390625,\n",
       "   'ypos': 2900.300048828125,\n",
       "   'ra': 75.2003498,\n",
       "   'dec': 35.3612185,\n",
       "   'magpsf': 19.327299118041992,\n",
       "   'sigmapsf': 0.18195100128650665,\n",
       "   'chipsf': 3.6639699935913086,\n",
       "   'magap': 18.76759910583496,\n",
       "   'sigmagap': 0.0723000019788742,\n",
       "   'distnr': 1.5080699920654297,\n",
       "   'magnr': 16.746999740600586,\n",
       "   'sigmagnr': 0.01600000075995922,\n",
       "   'chinr': 0.4390000104904175,\n",
       "   'sharpnr': -0.03500000014901161,\n",
       "   'sky': -0.29673901200294495,\n",
       "   'magdiff': -0.559689998626709,\n",
       "   'fwhm': 2.3399999141693115,\n",
       "   'classtar': 0.7170000076293945,\n",
       "   'mindtoedge': 180.20399475097656,\n",
       "   'magfromlim': 1.497189998626709,\n",
       "   'seeratio': 1.7089200019836426,\n",
       "   'aimage': 1.7890000343322754,\n",
       "   'bimage': 1.5099999904632568,\n",
       "   'aimagerat': 0.7645300030708313,\n",
       "   'bimagerat': 0.6452990174293518,\n",
       "   'elong': 1.1847699880599976,\n",
       "   'nneg': 4,\n",
       "   'nbad': 0,\n",
       "   'rb': 0.36000001430511475,\n",
       "   'ssdistnr': None,\n",
       "   'ssmagnr': None,\n",
       "   'ssnamenr': None,\n",
       "   'sumrat': 0.8946229815483093,\n",
       "   'magapbig': 18.747900009155273,\n",
       "   'sigmagapbig': 0.08609999716281891,\n",
       "   'ranr': 75.2007678,\n",
       "   'decnr': 35.3614708,\n",
       "   'scorr': 8.9567,\n",
       "   'magzpsci': 26.318300247192383,\n",
       "   'magzpsciunc': 1.3844800378137734e-05,\n",
       "   'magzpscirms': 0.03554010018706322,\n",
       "   'clrcoeff': -0.1105860024690628,\n",
       "   'clrcounc': 1.6152000171132386e-05,\n",
       "   'rbversion': 't12_f5_c3'},\n",
       "  {'jd': 2458465.7594676,\n",
       "   'fid': 2,\n",
       "   'pid': 711259466315,\n",
       "   'diffmaglim': 20.211999893188477,\n",
       "   'pdiffimfilename': '/ztf/archive/sci/2018/1213/259456/ztf_20181213259456_000658_zr_c16_o_q4_scimrefdiffimg.fits.fz',\n",
       "   'programpi': 'Kulkarni',\n",
       "   'programid': 1,\n",
       "   'candid': None,\n",
       "   'isdiffpos': None,\n",
       "   'tblid': None,\n",
       "   'nid': 711,\n",
       "   'rcid': 63,\n",
       "   'field': 658,\n",
       "   'xpos': None,\n",
       "   'ypos': None,\n",
       "   'ra': None,\n",
       "   'dec': None,\n",
       "   'magpsf': None,\n",
       "   'sigmapsf': None,\n",
       "   'chipsf': None,\n",
       "   'magap': None,\n",
       "   'sigmagap': None,\n",
       "   'distnr': None,\n",
       "   'magnr': None,\n",
       "   'sigmagnr': None,\n",
       "   'chinr': None,\n",
       "   'sharpnr': None,\n",
       "   'sky': None,\n",
       "   'magdiff': None,\n",
       "   'fwhm': None,\n",
       "   'classtar': None,\n",
       "   'mindtoedge': None,\n",
       "   'magfromlim': None,\n",
       "   'seeratio': None,\n",
       "   'aimage': None,\n",
       "   'bimage': None,\n",
       "   'aimagerat': None,\n",
       "   'bimagerat': None,\n",
       "   'elong': None,\n",
       "   'nneg': None,\n",
       "   'nbad': None,\n",
       "   'rb': None,\n",
       "   'ssdistnr': None,\n",
       "   'ssmagnr': None,\n",
       "   'ssnamenr': None,\n",
       "   'sumrat': None,\n",
       "   'magapbig': None,\n",
       "   'sigmagapbig': None,\n",
       "   'ranr': None,\n",
       "   'decnr': None,\n",
       "   'scorr': None,\n",
       "   'magzpsci': 26.17930030822754,\n",
       "   'magzpsciunc': 4.065990196977509e-06,\n",
       "   'magzpscirms': 0.019159600138664246,\n",
       "   'clrcoeff': 0.08313559740781784,\n",
       "   'clrcounc': 4.752000222651986e-06,\n",
       "   'rbversion': 't12_f5_c3'},\n",
       "  {'jd': 2458466.8000347,\n",
       "   'fid': 1,\n",
       "   'pid': 712300036315,\n",
       "   'diffmaglim': 20.067899703979492,\n",
       "   'pdiffimfilename': '/ztf/archive/sci/2018/1214/299954/ztf_20181214299954_000658_zg_c16_o_q4_scimrefdiffimg.fits.fz',\n",
       "   'programpi': 'Kulkarni',\n",
       "   'programid': 1,\n",
       "   'candid': 712300036315015015,\n",
       "   'isdiffpos': 't',\n",
       "   'tblid': 15,\n",
       "   'nid': 712,\n",
       "   'rcid': 63,\n",
       "   'field': 658,\n",
       "   'xpos': 2488.5400390625,\n",
       "   'ypos': 2928.1298828125,\n",
       "   'ra': 75.2005575,\n",
       "   'dec': 35.3614176,\n",
       "   'magpsf': 19.027799606323242,\n",
       "   'sigmapsf': 0.18181900680065155,\n",
       "   'chipsf': 3.0431699752807617,\n",
       "   'magap': 18.751699447631836,\n",
       "   'sigmagap': 0.1315000057220459,\n",
       "   'distnr': 0.6384249925613403,\n",
       "   'magnr': 16.746999740600586,\n",
       "   'sigmagnr': 0.01600000075995922,\n",
       "   'chinr': 0.4390000104904175,\n",
       "   'sharpnr': -0.03500000014901161,\n",
       "   'sky': -0.06775899976491928,\n",
       "   'magdiff': -0.2761090099811554,\n",
       "   'fwhm': 2.3499999046325684,\n",
       "   'classtar': 0.8479999899864197,\n",
       "   'mindtoedge': 152.37100219726562,\n",
       "   'magfromlim': 1.316249966621399,\n",
       "   'seeratio': 1.0212600231170654,\n",
       "   'aimage': 0.7490000128746033,\n",
       "   'bimage': 0.5460000038146973,\n",
       "   'aimagerat': 0.31872299313545227,\n",
       "   'bimagerat': 0.2323399931192398,\n",
       "   'elong': 1.3717999458312988,\n",
       "   'nneg': 5,\n",
       "   'nbad': 0,\n",
       "   'rb': 0.5466669797897339,\n",
       "   'ssdistnr': None,\n",
       "   'ssmagnr': None,\n",
       "   'ssnamenr': None,\n",
       "   'sumrat': 0.9575620293617249,\n",
       "   'magapbig': 18.680400848388672,\n",
       "   'sigmagapbig': 0.15330000221729279,\n",
       "   'ranr': 75.2007678,\n",
       "   'decnr': 35.3614708,\n",
       "   'scorr': 5.52437,\n",
       "   'magzpsci': 25.635799407958984,\n",
       "   'magzpsciunc': 1.1772700418077875e-05,\n",
       "   'magzpscirms': 0.03299269825220108,\n",
       "   'clrcoeff': -0.043134499341249466,\n",
       "   'clrcounc': 1.3806699826091062e-05,\n",
       "   'rbversion': 't12_f5_c3'},\n",
       "  {'jd': 2458466.8188542,\n",
       "   'fid': 2,\n",
       "   'pid': 712318856315,\n",
       "   'diffmaglim': 19.677799224853516,\n",
       "   'pdiffimfilename': '/ztf/archive/sci/2018/1214/318738/ztf_20181214318738_000658_zr_c16_o_q4_scimrefdiffimg.fits.fz',\n",
       "   'programpi': 'Kulkarni',\n",
       "   'programid': 1,\n",
       "   'candid': None,\n",
       "   'isdiffpos': None,\n",
       "   'tblid': None,\n",
       "   'nid': 712,\n",
       "   'rcid': 63,\n",
       "   'field': 658,\n",
       "   'xpos': None,\n",
       "   'ypos': None,\n",
       "   'ra': None,\n",
       "   'dec': None,\n",
       "   'magpsf': None,\n",
       "   'sigmapsf': None,\n",
       "   'chipsf': None,\n",
       "   'magap': None,\n",
       "   'sigmagap': None,\n",
       "   'distnr': None,\n",
       "   'magnr': None,\n",
       "   'sigmagnr': None,\n",
       "   'chinr': None,\n",
       "   'sharpnr': None,\n",
       "   'sky': None,\n",
       "   'magdiff': None,\n",
       "   'fwhm': None,\n",
       "   'classtar': None,\n",
       "   'mindtoedge': None,\n",
       "   'magfromlim': None,\n",
       "   'seeratio': None,\n",
       "   'aimage': None,\n",
       "   'bimage': None,\n",
       "   'aimagerat': None,\n",
       "   'bimagerat': None,\n",
       "   'elong': None,\n",
       "   'nneg': None,\n",
       "   'nbad': None,\n",
       "   'rb': None,\n",
       "   'ssdistnr': None,\n",
       "   'ssmagnr': None,\n",
       "   'ssnamenr': None,\n",
       "   'sumrat': None,\n",
       "   'magapbig': None,\n",
       "   'sigmagapbig': None,\n",
       "   'ranr': None,\n",
       "   'decnr': None,\n",
       "   'scorr': None,\n",
       "   'magzpsci': 25.61050033569336,\n",
       "   'magzpsciunc': 6.175599992275238e-06,\n",
       "   'magzpscirms': 0.02367899939417839,\n",
       "   'clrcoeff': 0.09718719869852066,\n",
       "   'clrcounc': 7.214120159915183e-06,\n",
       "   'rbversion': 't12_f5_c3'},\n",
       "  {'jd': 2458468.7839699,\n",
       "   'fid': 2,\n",
       "   'pid': 714283966315,\n",
       "   'diffmaglim': 20.41230010986328,\n",
       "   'pdiffimfilename': '/ztf/archive/sci/2018/1216/283785/ztf_20181216283785_000658_zr_c16_o_q4_scimrefdiffimg.fits.fz',\n",
       "   'programpi': 'Kulkarni',\n",
       "   'programid': 1,\n",
       "   'candid': None,\n",
       "   'isdiffpos': None,\n",
       "   'tblid': None,\n",
       "   'nid': 714,\n",
       "   'rcid': 63,\n",
       "   'field': 658,\n",
       "   'xpos': None,\n",
       "   'ypos': None,\n",
       "   'ra': None,\n",
       "   'dec': None,\n",
       "   'magpsf': None,\n",
       "   'sigmapsf': None,\n",
       "   'chipsf': None,\n",
       "   'magap': None,\n",
       "   'sigmagap': None,\n",
       "   'distnr': None,\n",
       "   'magnr': None,\n",
       "   'sigmagnr': None,\n",
       "   'chinr': None,\n",
       "   'sharpnr': None,\n",
       "   'sky': None,\n",
       "   'magdiff': None,\n",
       "   'fwhm': None,\n",
       "   'classtar': None,\n",
       "   'mindtoedge': None,\n",
       "   'magfromlim': None,\n",
       "   'seeratio': None,\n",
       "   'aimage': None,\n",
       "   'bimage': None,\n",
       "   'aimagerat': None,\n",
       "   'bimagerat': None,\n",
       "   'elong': None,\n",
       "   'nneg': None,\n",
       "   'nbad': None,\n",
       "   'rb': None,\n",
       "   'ssdistnr': None,\n",
       "   'ssmagnr': None,\n",
       "   'ssnamenr': None,\n",
       "   'sumrat': None,\n",
       "   'magapbig': None,\n",
       "   'sigmagapbig': None,\n",
       "   'ranr': None,\n",
       "   'decnr': None,\n",
       "   'scorr': None,\n",
       "   'magzpsci': 26.173500061035156,\n",
       "   'magzpsciunc': 3.73800003217184e-06,\n",
       "   'magzpscirms': 0.018409699201583862,\n",
       "   'clrcoeff': 0.09262599796056747,\n",
       "   'clrcounc': 4.363610059954226e-06,\n",
       "   'rbversion': 't12_f5_c3'},\n",
       "  {'jd': 2458469.6793519,\n",
       "   'fid': 1,\n",
       "   'pid': 715179356315,\n",
       "   'diffmaglim': 20.280799865722656,\n",
       "   'pdiffimfilename': '/ztf/archive/sci/2018/1217/179340/ztf_20181217179340_000658_zg_c16_o_q4_scimrefdiffimg.fits.fz',\n",
       "   'programpi': 'Kulkarni',\n",
       "   'programid': 1,\n",
       "   'candid': None,\n",
       "   'isdiffpos': None,\n",
       "   'tblid': None,\n",
       "   'nid': 715,\n",
       "   'rcid': 63,\n",
       "   'field': 658,\n",
       "   'xpos': None,\n",
       "   'ypos': None,\n",
       "   'ra': None,\n",
       "   'dec': None,\n",
       "   'magpsf': None,\n",
       "   'sigmapsf': None,\n",
       "   'chipsf': None,\n",
       "   'magap': None,\n",
       "   'sigmagap': None,\n",
       "   'distnr': None,\n",
       "   'magnr': None,\n",
       "   'sigmagnr': None,\n",
       "   'chinr': None,\n",
       "   'sharpnr': None,\n",
       "   'sky': None,\n",
       "   'magdiff': None,\n",
       "   'fwhm': None,\n",
       "   'classtar': None,\n",
       "   'mindtoedge': None,\n",
       "   'magfromlim': None,\n",
       "   'seeratio': None,\n",
       "   'aimage': None,\n",
       "   'bimage': None,\n",
       "   'aimagerat': None,\n",
       "   'bimagerat': None,\n",
       "   'elong': None,\n",
       "   'nneg': None,\n",
       "   'nbad': None,\n",
       "   'rb': None,\n",
       "   'ssdistnr': None,\n",
       "   'ssmagnr': None,\n",
       "   'ssnamenr': None,\n",
       "   'sumrat': None,\n",
       "   'magapbig': None,\n",
       "   'sigmagapbig': None,\n",
       "   'ranr': None,\n",
       "   'decnr': None,\n",
       "   'scorr': None,\n",
       "   'magzpsci': 26.21980094909668,\n",
       "   'magzpsciunc': 9.16126009542495e-06,\n",
       "   'magzpscirms': 0.029184799641370773,\n",
       "   'clrcoeff': -0.054421499371528625,\n",
       "   'clrcounc': 1.0673699762264732e-05,\n",
       "   'rbversion': 't12_f5_c3'},\n",
       "  {'jd': 2458471.7562847,\n",
       "   'fid': 2,\n",
       "   'pid': 717256286315,\n",
       "   'diffmaglim': 18.88089942932129,\n",
       "   'pdiffimfilename': '/ztf/archive/sci/2018/1219/256273/ztf_20181219256273_000658_zr_c16_o_q4_scimrefdiffimg.fits.fz',\n",
       "   'programpi': 'Kulkarni',\n",
       "   'programid': 1,\n",
       "   'candid': 717256286315010021,\n",
       "   'isdiffpos': 'f',\n",
       "   'tblid': 21,\n",
       "   'nid': 717,\n",
       "   'rcid': 63,\n",
       "   'field': 658,\n",
       "   'xpos': 2491.110107421875,\n",
       "   'ypos': 2914.949951171875,\n",
       "   'ra': 75.2008108,\n",
       "   'dec': 35.3613921,\n",
       "   'magpsf': 16.39620018005371,\n",
       "   'sigmapsf': 0.08995500206947327,\n",
       "   'chipsf': 19.18950080871582,\n",
       "   'magap': 16.212600708007812,\n",
       "   'sigmagap': 0.03370000049471855,\n",
       "   'distnr': 0.3072949945926666,\n",
       "   'magnr': 14.319000244140625,\n",
       "   'sigmagnr': 0.01600000075995922,\n",
       "   'chinr': 0.7440000176429749,\n",
       "   'sharpnr': 0.04699999839067459,\n",
       "   'sky': -7.308690071105957,\n",
       "   'magdiff': -0.18356600403785706,\n",
       "   'fwhm': 1.332170009613037,\n",
       "   'classtar': 0.9980000257492065,\n",
       "   'mindtoedge': 165.5469970703125,\n",
       "   'magfromlim': 2.668339967727661,\n",
       "   'seeratio': 2.0,\n",
       "   'aimage': 1.0140000581741333,\n",
       "   'bimage': 0.9739999771118164,\n",
       "   'aimagerat': 0.7611640095710754,\n",
       "   'bimagerat': 0.7311379909515381,\n",
       "   'elong': 1.0410699844360352,\n",
       "   'nneg': 0,\n",
       "   'nbad': 0,\n",
       "   'rb': 0.6733329892158508,\n",
       "   'ssdistnr': None,\n",
       "   'ssmagnr': None,\n",
       "   'ssnamenr': None,\n",
       "   'sumrat': 1.0,\n",
       "   'magapbig': 16.20359992980957,\n",
       "   'sigmagapbig': 0.04170000180602074,\n",
       "   'ranr': 75.2007661,\n",
       "   'decnr': 35.3614709,\n",
       "   'scorr': 9.92211,\n",
       "   'magzpsci': 25.80820083618164,\n",
       "   'magzpsciunc': 1.5606699889758602e-05,\n",
       "   'magzpscirms': 0.03772670030593872,\n",
       "   'clrcoeff': 0.10134200006723404,\n",
       "   'clrcounc': 1.8175100194639526e-05,\n",
       "   'rbversion': 't12_f5_c3'},\n",
       "  {'jd': 2458472.7447454,\n",
       "   'fid': 1,\n",
       "   'pid': 718244746315,\n",
       "   'diffmaglim': 19.59749984741211,\n",
       "   'pdiffimfilename': '/ztf/archive/sci/2018/1220/244688/ztf_20181220244688_000658_zg_c16_o_q4_scimrefdiffimg.fits.fz',\n",
       "   'programpi': 'Kulkarni',\n",
       "   'programid': 1,\n",
       "   'candid': None,\n",
       "   'isdiffpos': None,\n",
       "   'tblid': None,\n",
       "   'nid': 718,\n",
       "   'rcid': 63,\n",
       "   'field': 658,\n",
       "   'xpos': None,\n",
       "   'ypos': None,\n",
       "   'ra': None,\n",
       "   'dec': None,\n",
       "   'magpsf': None,\n",
       "   'sigmapsf': None,\n",
       "   'chipsf': None,\n",
       "   'magap': None,\n",
       "   'sigmagap': None,\n",
       "   'distnr': None,\n",
       "   'magnr': None,\n",
       "   'sigmagnr': None,\n",
       "   'chinr': None,\n",
       "   'sharpnr': None,\n",
       "   'sky': None,\n",
       "   'magdiff': None,\n",
       "   'fwhm': None,\n",
       "   'classtar': None,\n",
       "   'mindtoedge': None,\n",
       "   'magfromlim': None,\n",
       "   'seeratio': None,\n",
       "   'aimage': None,\n",
       "   'bimage': None,\n",
       "   'aimagerat': None,\n",
       "   'bimagerat': None,\n",
       "   'elong': None,\n",
       "   'nneg': None,\n",
       "   'nbad': None,\n",
       "   'rb': None,\n",
       "   'ssdistnr': None,\n",
       "   'ssmagnr': None,\n",
       "   'ssnamenr': None,\n",
       "   'sumrat': None,\n",
       "   'magapbig': None,\n",
       "   'sigmagapbig': None,\n",
       "   'ranr': None,\n",
       "   'decnr': None,\n",
       "   'scorr': None,\n",
       "   'magzpsci': 26.258499145507812,\n",
       "   'magzpsciunc': 1.8713000827119686e-05,\n",
       "   'magzpscirms': 0.040821000933647156,\n",
       "   'clrcoeff': -0.04120130091905594,\n",
       "   'clrcounc': 2.203330041083973e-05,\n",
       "   'rbversion': 't12_f5_c3'},\n",
       "  {'jd': 2458472.7760995,\n",
       "   'fid': 2,\n",
       "   'pid': 718276096315,\n",
       "   'diffmaglim': 19.768400192260742,\n",
       "   'pdiffimfilename': '/ztf/archive/sci/2018/1220/276065/ztf_20181220276065_000658_zr_c16_o_q4_scimrefdiffimg.fits.fz',\n",
       "   'programpi': 'Kulkarni',\n",
       "   'programid': 1,\n",
       "   'candid': 718276096315010001,\n",
       "   'isdiffpos': 'f',\n",
       "   'tblid': 1,\n",
       "   'nid': 718,\n",
       "   'rcid': 63,\n",
       "   'field': 658,\n",
       "   'xpos': 2475.659912109375,\n",
       "   'ypos': 2881.070068359375,\n",
       "   'ra': 75.2007895,\n",
       "   'dec': 35.3613651,\n",
       "   'magpsf': 16.304000854492188,\n",
       "   'sigmapsf': 0.072782002389431,\n",
       "   'chipsf': 98.0071029663086,\n",
       "   'magap': 16.136600494384766,\n",
       "   'sigmagap': 0.017400000244379044,\n",
       "   'distnr': 0.3817960023880005,\n",
       "   'magnr': 14.319000244140625,\n",
       "   'sigmagnr': 0.01600000075995922,\n",
       "   'chinr': 0.7440000176429749,\n",
       "   'sharpnr': 0.04699999839067459,\n",
       "   'sky': -1.0609999895095825,\n",
       "   'magdiff': -0.16744400560855865,\n",
       "   'fwhm': 7.070000171661377,\n",
       "   'classtar': 0.9800000190734863,\n",
       "   'mindtoedge': 199.4290008544922,\n",
       "   'magfromlim': 3.6318399906158447,\n",
       "   'seeratio': 0.3431589901447296,\n",
       "   'aimage': 1.1610000133514404,\n",
       "   'bimage': 1.0420000553131104,\n",
       "   'aimagerat': 0.16421499848365784,\n",
       "   'bimagerat': 0.14738300442695618,\n",
       "   'elong': 1.1141999959945679,\n",
       "   'nneg': 0,\n",
       "   'nbad': 0,\n",
       "   'rb': 0.5600000023841858,\n",
       "   'ssdistnr': None,\n",
       "   'ssmagnr': None,\n",
       "   'ssnamenr': None,\n",
       "   'sumrat': 1.0,\n",
       "   'magapbig': 16.1018009185791,\n",
       "   'sigmagapbig': 0.02019999921321869,\n",
       "   'ranr': 75.2007661,\n",
       "   'decnr': 35.3614709,\n",
       "   'scorr': 9.65259,\n",
       "   'magzpsci': 26.18199920654297,\n",
       "   'magzpsciunc': 6.932929863978643e-06,\n",
       "   'magzpscirms': 0.025093000382184982,\n",
       "   'clrcoeff': 0.09686709940433502,\n",
       "   'clrcounc': 8.085479748842772e-06,\n",
       "   'rbversion': 't12_f5_c3'},\n",
       "  {'jd': 2458476.0065162,\n",
       "   'fid': 1,\n",
       "   'pid': 721506516315,\n",
       "   'diffmaglim': 18.493200302124023,\n",
       "   'pdiffimfilename': '/ztf/archive/sci/2018/1223/506377/ztf_20181223506377_000658_zg_c16_o_q4_scimrefdiffimg.fits.fz',\n",
       "   'programpi': 'Kulkarni',\n",
       "   'programid': 1,\n",
       "   'candid': 721506516315010008,\n",
       "   'isdiffpos': 'f',\n",
       "   'tblid': 8,\n",
       "   'nid': 721,\n",
       "   'rcid': 63,\n",
       "   'field': 658,\n",
       "   'xpos': 2454.0400390625,\n",
       "   'ypos': 2865.030029296875,\n",
       "   'ra': 75.200933,\n",
       "   'dec': 35.3614062,\n",
       "   'magpsf': 18.311399459838867,\n",
       "   'sigmapsf': 0.14271199703216553,\n",
       "   'chipsf': 1.2425099611282349,\n",
       "   'magap': 18.45680046081543,\n",
       "   'sigmagap': 0.31060001254081726,\n",
       "   'distnr': 0.5224440097808838,\n",
       "   'magnr': 16.746999740600586,\n",
       "   'sigmagnr': 0.01600000075995922,\n",
       "   'chinr': 0.4390000104904175,\n",
       "   'sharpnr': -0.03500000014901161,\n",
       "   'sky': -2.3708300590515137,\n",
       "   'magdiff': 0.1454389989376068,\n",
       "   'fwhm': 1.510990023612976,\n",
       "   'classtar': 0.984000027179718,\n",
       "   'mindtoedge': 215.46499633789062,\n",
       "   'magfromlim': 0.036371998488903046,\n",
       "   'seeratio': 2.0,\n",
       "   'aimage': 0.8650000095367432,\n",
       "   'bimage': 0.7080000042915344,\n",
       "   'aimagerat': 0.5724740028381348,\n",
       "   'bimagerat': 0.46856799721717834,\n",
       "   'elong': 1.221750020980835,\n",
       "   'nneg': 6,\n",
       "   'nbad': 0,\n",
       "   'rb': 0.6866670250892639,\n",
       "   'ssdistnr': None,\n",
       "   'ssmagnr': None,\n",
       "   'ssnamenr': None,\n",
       "   'sumrat': 0.9799730181694031,\n",
       "   'magapbig': 18.652000427246094,\n",
       "   'sigmagapbig': 0.4771000146865845,\n",
       "   'ranr': 75.2007678,\n",
       "   'decnr': 35.3614708,\n",
       "   'scorr': 6.77427,\n",
       "   'magzpsci': 26.056400299072266,\n",
       "   'magzpsciunc': 6.137350283097476e-05,\n",
       "   'magzpscirms': 0.048471301794052124,\n",
       "   'clrcoeff': -0.03710639849305153,\n",
       "   'clrcounc': 7.877970347180963e-05,\n",
       "   'rbversion': 't12_f5_c3'},\n",
       "  {'jd': 2458476.7992361,\n",
       "   'fid': 2,\n",
       "   'pid': 722299236315,\n",
       "   'diffmaglim': 19.758800506591797,\n",
       "   'pdiffimfilename': '/ztf/archive/sci/2018/1224/299109/ztf_20181224299109_000658_zr_c16_o_q4_scimrefdiffimg.fits.fz',\n",
       "   'programpi': 'Kulkarni',\n",
       "   'programid': 1,\n",
       "   'candid': 722299236315010004,\n",
       "   'isdiffpos': 'f',\n",
       "   'tblid': 4,\n",
       "   'nid': 722,\n",
       "   'rcid': 63,\n",
       "   'field': 658,\n",
       "   'xpos': 2472.110107421875,\n",
       "   'ypos': 2941.830078125,\n",
       "   'ra': 75.2007884,\n",
       "   'dec': 35.3613781,\n",
       "   'magpsf': 15.71030044555664,\n",
       "   'sigmapsf': 0.07040899991989136,\n",
       "   'chipsf': 103.40899658203125,\n",
       "   'magap': 15.623000144958496,\n",
       "   'sigmagap': 0.010999999940395355,\n",
       "   'distnr': 0.34183600544929504,\n",
       "   'magnr': 14.319000244140625,\n",
       "   'sigmagnr': 0.01600000075995922,\n",
       "   'chinr': 0.7440000176429749,\n",
       "   'sharpnr': 0.04699999839067459,\n",
       "   'sky': 0.7067189812660217,\n",
       "   'magdiff': -0.08734700083732605,\n",
       "   'fwhm': 4.619999885559082,\n",
       "   'classtar': 1.0,\n",
       "   'mindtoedge': 138.67300415039062,\n",
       "   'magfromlim': 4.135799884796143,\n",
       "   'seeratio': 0.5189020037651062,\n",
       "   'aimage': 0.8539999723434448,\n",
       "   'bimage': 0.8330000042915344,\n",
       "   'aimagerat': 0.18484799563884735,\n",
       "   'bimagerat': 0.18030300736427307,\n",
       "   'elong': 1.0252100229263306,\n",
       "   'nneg': 0,\n",
       "   'nbad': 0,\n",
       "   'rb': 0.7566670179367065,\n",
       "   'ssdistnr': None,\n",
       "   'ssmagnr': None,\n",
       "   'ssnamenr': None,\n",
       "   'sumrat': 1.0,\n",
       "   'magapbig': 15.624300003051758,\n",
       "   'sigmagapbig': 0.013199999928474426,\n",
       "   'ranr': 75.2007661,\n",
       "   'decnr': 35.3614709,\n",
       "   'scorr': 36.9074,\n",
       "   'magzpsci': 26.16830062866211,\n",
       "   'magzpsciunc': 5.59603995498037e-06,\n",
       "   'magzpscirms': 0.022677000612020493,\n",
       "   'clrcoeff': 0.10219399631023407,\n",
       "   'clrcounc': 6.528759968205122e-06,\n",
       "   'rbversion': 't12_f5_c3'},\n",
       "  {'jd': 2458480.8017245,\n",
       "   'fid': 2,\n",
       "   'pid': 726301726315,\n",
       "   'diffmaglim': 20.041500091552734,\n",
       "   'pdiffimfilename': '/ztf/archive/sci/2018/1228/301725/ztf_20181228301725_000658_zr_c16_o_q4_scimrefdiffimg.fits.fz',\n",
       "   'programpi': 'Kulkarni',\n",
       "   'programid': 1,\n",
       "   'candid': 726301726315010007,\n",
       "   'isdiffpos': 'f',\n",
       "   'tblid': 7,\n",
       "   'nid': 726,\n",
       "   'rcid': 63,\n",
       "   'field': 658,\n",
       "   'xpos': 2462.669921875,\n",
       "   'ypos': 2954.43994140625,\n",
       "   'ra': 75.200766,\n",
       "   'dec': 35.3614129,\n",
       "   'magpsf': 15.41469955444336,\n",
       "   'sigmapsf': 0.04314500093460083,\n",
       "   'chipsf': 104.4010009765625,\n",
       "   'magap': 15.35949993133545,\n",
       "   'sigmagap': 0.006599999964237213,\n",
       "   'distnr': 0.20615899562835693,\n",
       "   'magnr': 14.319000244140625,\n",
       "   'sigmagnr': 0.01600000075995922,\n",
       "   'chinr': 0.7440000176429749,\n",
       "   'sharpnr': 0.04699999839067459,\n",
       "   'sky': 1.196079969406128,\n",
       "   'magdiff': -0.05521000176668167,\n",
       "   'fwhm': 5.110000133514404,\n",
       "   'classtar': 1.0,\n",
       "   'mindtoedge': 126.06400299072266,\n",
       "   'magfromlim': 4.682010173797607,\n",
       "   'seeratio': 0.6075230240821838,\n",
       "   'aimage': 1.0989999771118164,\n",
       "   'bimage': 1.069000005722046,\n",
       "   'aimagerat': 0.2150679975748062,\n",
       "   'bimagerat': 0.209197998046875,\n",
       "   'elong': 1.028059959411621,\n",
       "   'nneg': 0,\n",
       "   'nbad': 0,\n",
       "   'rb': 0.7433329820632935,\n",
       "   'ssdistnr': None,\n",
       "   'ssmagnr': None,\n",
       "   'ssnamenr': None,\n",
       "   'sumrat': 1.0,\n",
       "   'magapbig': 15.346599578857422,\n",
       "   'sigmagapbig': 0.007400000002235174,\n",
       "   'ranr': 75.2007661,\n",
       "   'decnr': 35.3614709,\n",
       "   'scorr': 61.887,\n",
       "   'magzpsci': 26.139699935913086,\n",
       "   'magzpsciunc': 5.2400400818441994e-06,\n",
       "   'magzpscirms': 0.0217886995524168,\n",
       "   'clrcoeff': 0.09752260148525238,\n",
       "   'clrcounc': 6.118780220276676e-06,\n",
       "   'rbversion': 't12_f5_c3'},\n",
       "  {'jd': 2458481.8214468,\n",
       "   'fid': 2,\n",
       "   'pid': 727321446315,\n",
       "   'diffmaglim': 20.198999404907227,\n",
       "   'pdiffimfilename': '/ztf/archive/sci/2018/1229/321447/ztf_20181229321447_000658_zr_c16_o_q4_scimrefdiffimg.fits.fz',\n",
       "   'programpi': 'Kulkarni',\n",
       "   'programid': 1,\n",
       "   'candid': 727321446315010004,\n",
       "   'isdiffpos': 'f',\n",
       "   'tblid': 4,\n",
       "   'nid': 727,\n",
       "   'rcid': 63,\n",
       "   'field': 658,\n",
       "   'xpos': 2458.090087890625,\n",
       "   'ypos': 2955.860107421875,\n",
       "   'ra': 75.2007861,\n",
       "   'dec': 35.3614323,\n",
       "   'magpsf': 15.359000205993652,\n",
       "   'sigmapsf': 0.04518299922347069,\n",
       "   'chipsf': 73.64320373535156,\n",
       "   'magap': 15.30739974975586,\n",
       "   'sigmagap': 0.006099999882280827,\n",
       "   'distnr': 0.1559160053730011,\n",
       "   'magnr': 14.319000244140625,\n",
       "   'sigmagnr': 0.01600000075995922,\n",
       "   'chinr': 0.7440000176429749,\n",
       "   'sharpnr': 0.04699999839067459,\n",
       "   'sky': 0.7390589714050293,\n",
       "   'magdiff': -0.051642999053001404,\n",
       "   'fwhm': 4.150000095367432,\n",
       "   'classtar': 0.996999979019165,\n",
       "   'mindtoedge': 124.63800048828125,\n",
       "   'magfromlim': 4.891550064086914,\n",
       "   'seeratio': 0.699416995048523,\n",
       "   'aimage': 1.0,\n",
       "   'bimage': 0.9549999833106995,\n",
       "   'aimagerat': 0.24096399545669556,\n",
       "   'bimagerat': 0.2301200032234192,\n",
       "   'elong': 1.0471199750900269,\n",
       "   'nneg': 0,\n",
       "   'nbad': 0,\n",
       "   'rb': 0.7699999809265137,\n",
       "   'ssdistnr': None,\n",
       "   'ssmagnr': None,\n",
       "   'ssnamenr': None,\n",
       "   'sumrat': 1.0,\n",
       "   'magapbig': 15.302200317382812,\n",
       "   'sigmagapbig': 0.006800000090152025,\n",
       "   'ranr': 75.2007661,\n",
       "   'decnr': 35.3614709,\n",
       "   'scorr': 48.8836,\n",
       "   'magzpsci': 26.14699935913086,\n",
       "   'magzpsciunc': 4.875089871347882e-06,\n",
       "   'magzpscirms': 0.02101290039718151,\n",
       "   'clrcoeff': 0.10136599838733673,\n",
       "   'clrcounc': 5.681859875039663e-06,\n",
       "   'rbversion': 't12_f5_c3'},\n",
       "  {'jd': 2458482.6949421,\n",
       "   'fid': 2,\n",
       "   'pid': 728194946315,\n",
       "   'diffmaglim': 20.03580093383789,\n",
       "   'pdiffimfilename': '/ztf/archive/sci/2018/1230/194931/ztf_20181230194931_000658_zr_c16_o_q4_scimrefdiffimg.fits.fz',\n",
       "   'programpi': 'Kulkarni',\n",
       "   'programid': 1,\n",
       "   'candid': 728194946315010005,\n",
       "   'isdiffpos': 'f',\n",
       "   'tblid': 5,\n",
       "   'nid': 728,\n",
       "   'rcid': 63,\n",
       "   'field': 658,\n",
       "   'xpos': 2464.5,\n",
       "   'ypos': 2923.070068359375,\n",
       "   'ra': 75.200777,\n",
       "   'dec': 35.3614459,\n",
       "   'magpsf': 15.312999725341797,\n",
       "   'sigmapsf': 0.04950200021266937,\n",
       "   'chipsf': 193.52999877929688,\n",
       "   'magap': 15.258500099182129,\n",
       "   'sigmagap': 0.006399999838322401,\n",
       "   'distnr': 0.09554900228977203,\n",
       "   'magnr': 14.319000244140625,\n",
       "   'sigmagnr': 0.01600000075995922,\n",
       "   'chinr': 0.7440000176429749,\n",
       "   'sharpnr': 0.04699999839067459,\n",
       "   'sky': 0.37242600321769714,\n",
       "   'magdiff': -0.05451900139451027,\n",
       "   'fwhm': 4.760000228881836,\n",
       "   'classtar': 0.9919999837875366,\n",
       "   'mindtoedge': 157.42599487304688,\n",
       "   'magfromlim': 4.777279853820801,\n",
       "   'seeratio': 0.6033520102500916,\n",
       "   'aimage': 0.9990000128746033,\n",
       "   'bimage': 0.968999981880188,\n",
       "   'aimagerat': 0.2098740041255951,\n",
       "   'bimagerat': 0.20357100665569305,\n",
       "   'elong': 1.030959963798523,\n",
       "   'nneg': 0,\n",
       "   'nbad': 0,\n",
       "   'rb': 0.7433329820632935,\n",
       "   'ssdistnr': None,\n",
       "   'ssmagnr': None,\n",
       "   'ssnamenr': None,\n",
       "   'sumrat': 1.0,\n",
       "   'magapbig': 15.248700141906738,\n",
       "   'sigmagapbig': 0.007199999876320362,\n",
       "   'ranr': 75.2007661,\n",
       "   'decnr': 35.3614709,\n",
       "   'scorr': 55.9607,\n",
       "   'magzpsci': 26.05500030517578,\n",
       "   'magzpsciunc': 4.798020199814346e-06,\n",
       "   'magzpscirms': 0.020884400233626366,\n",
       "   'clrcoeff': 0.0965849980711937,\n",
       "   'clrcounc': 5.596600203716662e-06,\n",
       "   'rbversion': 't12_f5_c3'},\n",
       "  {'jd': 2458486.6315856,\n",
       "   'fid': 2,\n",
       "   'pid': 732131586315,\n",
       "   'diffmaglim': 20.260700225830078,\n",
       "   'pdiffimfilename': '/ztf/archive/sci/2019/0103/131586/ztf_20190103131586_000658_zr_c16_o_q4_scimrefdiffimg.fits.fz',\n",
       "   'programpi': 'Kulkarni',\n",
       "   'programid': 1,\n",
       "   'candid': 732131586315010005,\n",
       "   'isdiffpos': 'f',\n",
       "   'tblid': 5,\n",
       "   'nid': 732,\n",
       "   'rcid': 63,\n",
       "   'field': 658,\n",
       "   'xpos': 2464.389892578125,\n",
       "   'ypos': 2911.340087890625,\n",
       "   'ra': 75.2007552,\n",
       "   'dec': 35.3614111,\n",
       "   'magpsf': 15.256400108337402,\n",
       "   'sigmapsf': 0.04493499919772148,\n",
       "   'chipsf': 193.19500732421875,\n",
       "   'magap': 15.202500343322754,\n",
       "   'sigmagap': 0.00559999980032444,\n",
       "   'distnr': 0.22332200407981873,\n",
       "   'magnr': 14.319000244140625,\n",
       "   'sigmagnr': 0.01600000075995922,\n",
       "   'chinr': 0.7440000176429749,\n",
       "   'sharpnr': 0.04699999839067459,\n",
       "   'sky': 0.6538370251655579,\n",
       "   'magdiff': -0.05390400066971779,\n",
       "   'fwhm': 6.559999942779541,\n",
       "   'classtar': 0.9900000095367432,\n",
       "   'mindtoedge': 169.156005859375,\n",
       "   'magfromlim': 5.058169841766357,\n",
       "   'seeratio': 0.41437700390815735,\n",
       "   'aimage': 1.0789999961853027,\n",
       "   'bimage': 1.0210000276565552,\n",
       "   'aimagerat': 0.1644819974899292,\n",
       "   'bimagerat': 0.15564000606536865,\n",
       "   'elong': 1.0568100214004517,\n",
       "   'nneg': 0,\n",
       "   'nbad': 0,\n",
       "   'rb': 0.7266669869422913,\n",
       "   'ssdistnr': None,\n",
       "   'ssmagnr': None,\n",
       "   'ssnamenr': None,\n",
       "   'sumrat': 1.0,\n",
       "   'magapbig': 15.189900398254395,\n",
       "   'sigmagapbig': 0.006200000178068876,\n",
       "   'ranr': 75.2007661,\n",
       "   'decnr': 35.3614709,\n",
       "   'scorr': 32.1037,\n",
       "   'magzpsci': 26.141399383544922,\n",
       "   'magzpsciunc': 4.441750206751749e-06,\n",
       "   'magzpscirms': 0.019985899329185486,\n",
       "   'clrcoeff': 0.10217099636793137,\n",
       "   'clrcounc': 5.180249900149647e-06,\n",
       "   'rbversion': 't12_f5_c3'},\n",
       "  {'jd': 2458487.6926157,\n",
       "   'fid': 1,\n",
       "   'pid': 733192616315,\n",
       "   'diffmaglim': 20.482999801635742,\n",
       "   'pdiffimfilename': '/ztf/archive/sci/2019/0104/192616/ztf_20190104192616_000658_zg_c16_o_q4_scimrefdiffimg.fits.fz',\n",
       "   'programpi': 'Kulkarni',\n",
       "   'programid': 1,\n",
       "   'candid': 733192616315010008,\n",
       "   'isdiffpos': 'f',\n",
       "   'tblid': 8,\n",
       "   'nid': 733,\n",
       "   'rcid': 63,\n",
       "   'field': 658,\n",
       "   'xpos': 2464.6201171875,\n",
       "   'ypos': 2933.2900390625,\n",
       "   'ra': 75.2007876,\n",
       "   'dec': 35.3614494,\n",
       "   'magpsf': 17.79170036315918,\n",
       "   'sigmapsf': 0.06877300143241882,\n",
       "   'chipsf': 8.970430374145508,\n",
       "   'magap': 17.942100524902344,\n",
       "   'sigmagap': 0.03440000116825104,\n",
       "   'distnr': 0.1015779972076416,\n",
       "   'magnr': 16.746999740600586,\n",
       "   'sigmagnr': 0.01600000075995922,\n",
       "   'chinr': 0.4390000104904175,\n",
       "   'sharpnr': -0.03500000014901161,\n",
       "   'sky': 0.4061650037765503,\n",
       "   'magdiff': 0.15037000179290771,\n",
       "   'fwhm': 3.940000057220459,\n",
       "   'classtar': 0.9829999804496765,\n",
       "   'mindtoedge': 147.20599365234375,\n",
       "   'magfromlim': 2.5409200191497803,\n",
       "   'seeratio': 0.7884460091590881,\n",
       "   'aimage': 0.9459999799728394,\n",
       "   'bimage': 0.8920000195503235,\n",
       "   'aimagerat': 0.24010199308395386,\n",
       "   'bimagerat': 0.22639599442481995,\n",
       "   'elong': 1.060539960861206,\n",
       "   'nneg': 1,\n",
       "   'nbad': 0,\n",
       "   'rb': 0.8033329844474792,\n",
       "   'ssdistnr': None,\n",
       "   'ssmagnr': None,\n",
       "   'ssnamenr': None,\n",
       "   'sumrat': 1.0,\n",
       "   'magapbig': 17.93120002746582,\n",
       "   'sigmagapbig': 0.04179999977350235,\n",
       "   'ranr': 75.2007678,\n",
       "   'decnr': 35.3614708,\n",
       "   'scorr': 44.5531,\n",
       "   'magzpsci': 26.251699447631836,\n",
       "   'magzpsciunc': 8.795470421318896e-06,\n",
       "   'magzpscirms': 0.028508400544524193,\n",
       "   'clrcoeff': -0.05983800068497658,\n",
       "   'clrcounc': 1.0259999726258684e-05,\n",
       "   'rbversion': 't12_f5_c3'},\n",
       "  {'jd': 2458487.7407986,\n",
       "   'fid': 2,\n",
       "   'pid': 733240796315,\n",
       "   'diffmaglim': 20.58329963684082,\n",
       "   'pdiffimfilename': '/ztf/archive/sci/2019/0104/240741/ztf_20190104240741_000658_zr_c16_o_q4_scimrefdiffimg.fits.fz',\n",
       "   'programpi': 'Kulkarni',\n",
       "   'programid': 1,\n",
       "   'candid': 733240796315010006,\n",
       "   'isdiffpos': 'f',\n",
       "   'tblid': 6,\n",
       "   'nid': 733,\n",
       "   'rcid': 63,\n",
       "   'field': 658,\n",
       "   'xpos': 2487.199951171875,\n",
       "   'ypos': 2941.219970703125,\n",
       "   'ra': 75.200771,\n",
       "   'dec': 35.3614093,\n",
       "   'magpsf': 15.26609992980957,\n",
       "   'sigmapsf': 0.0545319989323616,\n",
       "   'chipsf': 152.79200744628906,\n",
       "   'magap': 15.200200080871582,\n",
       "   'sigmagap': 0.005200000014156103,\n",
       "   'distnr': 0.22668099403381348,\n",
       "   'magnr': 14.319000244140625,\n",
       "   'sigmagnr': 0.01600000075995922,\n",
       "   'chinr': 0.7440000176429749,\n",
       "   'sharpnr': 0.04699999839067459,\n",
       "   'sky': 0.12334699928760529,\n",
       "   'magdiff': -0.06589800119400024,\n",
       "   'fwhm': 4.630000114440918,\n",
       "   'classtar': 1.0,\n",
       "   'mindtoedge': 139.27999877929688,\n",
       "   'magfromlim': 5.383090019226074,\n",
       "   'seeratio': 0.5362290143966675,\n",
       "   'aimage': 0.9100000262260437,\n",
       "   'bimage': 0.8610000014305115,\n",
       "   'aimagerat': 0.19654400646686554,\n",
       "   'bimagerat': 0.18596099317073822,\n",
       "   'elong': 1.0569100379943848,\n",
       "   'nneg': 0,\n",
       "   'nbad': 0,\n",
       "   'rb': 0.6899999976158142,\n",
       "   'ssdistnr': None,\n",
       "   'ssmagnr': None,\n",
       "   'ssnamenr': None,\n",
       "   'sumrat': 1.0,\n",
       "   'magapbig': 15.184700012207031,\n",
       "   'sigmagapbig': 0.00559999980032444,\n",
       "   'ranr': 75.2007661,\n",
       "   'decnr': 35.3614709,\n",
       "   'scorr': 23.7179,\n",
       "   'magzpsci': 26.156099319458008,\n",
       "   'magzpsciunc': 4.035779966216069e-06,\n",
       "   'magzpscirms': 0.019275400787591934,\n",
       "   'clrcoeff': 0.09837999939918518,\n",
       "   'clrcounc': 4.723120127891889e-06,\n",
       "   'rbversion': 't12_f5_c3'},\n",
       "  {'jd': 2458488.7228356,\n",
       "   'fid': 1,\n",
       "   'pid': 734222836315,\n",
       "   'diffmaglim': 20.35759925842285,\n",
       "   'pdiffimfilename': '/ztf/archive/sci/2019/0105/222812/ztf_20190105222812_000658_zg_c16_o_q4_scimrefdiffimg.fits.fz',\n",
       "   'programpi': 'Kulkarni',\n",
       "   'programid': 1,\n",
       "   'candid': 734222836315010013,\n",
       "   'isdiffpos': 'f',\n",
       "   'tblid': 13,\n",
       "   'nid': 734,\n",
       "   'rcid': 63,\n",
       "   'field': 658,\n",
       "   'xpos': 2483.14990234375,\n",
       "   'ypos': 2928.02001953125,\n",
       "   'ra': 75.2007813,\n",
       "   'dec': 35.361441,\n",
       "   'magpsf': 17.67729949951172,\n",
       "   'sigmapsf': 0.07684099674224854,\n",
       "   'chipsf': 12.906399726867676,\n",
       "   'magap': 17.869800567626953,\n",
       "   'sigmagap': 0.046300001442432404,\n",
       "   'distnr': 0.1200449988245964,\n",
       "   'magnr': 16.746999740600586,\n",
       "   'sigmagnr': 0.01600000075995922,\n",
       "   'chinr': 0.4390000104904175,\n",
       "   'sharpnr': -0.03500000014901161,\n",
       "   'sky': -0.08934000134468079,\n",
       "   'magdiff': 0.19248899817466736,\n",
       "   'fwhm': 2.2899999618530273,\n",
       "   'classtar': 0.9829999804496765,\n",
       "   'mindtoedge': 152.4810028076172,\n",
       "   'magfromlim': 2.487839937210083,\n",
       "   'seeratio': 1.0200599431991577,\n",
       "   'aimage': 0.6060000061988831,\n",
       "   'bimage': 0.5820000171661377,\n",
       "   'aimagerat': 0.2646290063858032,\n",
       "   'bimagerat': 0.254148006439209,\n",
       "   'elong': 1.0412399768829346,\n",
       "   'nneg': 6,\n",
       "   'nbad': 0,\n",
       "   'rb': 0.6966670155525208,\n",
       "   'ssdistnr': None,\n",
       "   'ssmagnr': None,\n",
       "   'ssnamenr': None,\n",
       "   'sumrat': 0.9163370132446289,\n",
       "   'magapbig': 17.884599685668945,\n",
       "   'sigmagapbig': 0.05820000171661377,\n",
       "   'ranr': 75.2007678,\n",
       "   'decnr': 35.3614708,\n",
       "   'scorr': 19.2258,\n",
       "   'magzpsci': 25.792299270629883,\n",
       "   'magzpsciunc': 1.1668399565678556e-05,\n",
       "   'magzpscirms': 0.0330657996237278,\n",
       "   'clrcoeff': -0.028700700029730797,\n",
       "   'clrcounc': 1.3634399692818988e-05,\n",
       "   'rbversion': 't12_f5_c3'},\n",
       "  {'jd': 2458488.7541088,\n",
       "   'fid': 2,\n",
       "   'pid': 734254106315,\n",
       "   'diffmaglim': 20.536100387573242,\n",
       "   'pdiffimfilename': '/ztf/archive/sci/2019/0105/253958/ztf_20190105253958_000658_zr_c16_o_q4_scimrefdiffimg.fits.fz',\n",
       "   'programpi': 'Kulkarni',\n",
       "   'programid': 1,\n",
       "   'candid': 734254106315010014,\n",
       "   'isdiffpos': 'f',\n",
       "   'tblid': 14,\n",
       "   'nid': 734,\n",
       "   'rcid': 63,\n",
       "   'field': 658,\n",
       "   'xpos': 2483.179931640625,\n",
       "   'ypos': 2933.820068359375,\n",
       "   'ra': 75.2007706,\n",
       "   'dec': 35.3614575,\n",
       "   'magpsf': 15.26609992980957,\n",
       "   'sigmapsf': 0.07365600019693375,\n",
       "   'chipsf': 335.7070007324219,\n",
       "   'magap': 15.19260025024414,\n",
       "   'sigmagap': 0.0052999998442828655,\n",
       "   'distnr': 0.05526899918913841,\n",
       "   'magnr': 14.319000244140625,\n",
       "   'sigmagnr': 0.01600000075995922,\n",
       "   'chinr': 0.7440000176429749,\n",
       "   'sharpnr': 0.04699999839067459,\n",
       "   'sky': -0.2264620065689087,\n",
       "   'magdiff': -0.07348400354385376,\n",
       "   'fwhm': 3.7300000190734863,\n",
       "   'classtar': 1.0,\n",
       "   'mindtoedge': 146.68299865722656,\n",
       "   'magfromlim': 5.34345006942749,\n",
       "   'seeratio': 0.6642490029335022,\n",
       "   'aimage': 0.8109999895095825,\n",
       "   'bimage': 0.7929999828338623,\n",
       "   'aimagerat': 0.21742600202560425,\n",
       "   'bimagerat': 0.21260100603103638,\n",
       "   'elong': 1.0226999521255493,\n",
       "   'nneg': 0,\n",
       "   'nbad': 0,\n",
       "   'rb': 0.7200000286102295,\n",
       "   'ssdistnr': None,\n",
       "   'ssmagnr': None,\n",
       "   'ssnamenr': None,\n",
       "   'sumrat': 1.0,\n",
       "   'magapbig': 15.184700012207031,\n",
       "   'sigmagapbig': 0.00570000009611249,\n",
       "   'ranr': 75.2007661,\n",
       "   'decnr': 35.3614709,\n",
       "   'scorr': 52.9317,\n",
       "   'magzpsci': 26.13409996032715,\n",
       "   'magzpsciunc': 5.671930011885706e-06,\n",
       "   'magzpscirms': 0.02271980047225952,\n",
       "   'clrcoeff': 0.09155859798192978,\n",
       "   'clrcounc': 6.640800165769178e-06,\n",
       "   'rbversion': 't12_f5_c3'},\n",
       "  {'jd': 2458490.7040856,\n",
       "   'fid': 2,\n",
       "   'pid': 736204086315,\n",
       "   'diffmaglim': 20.551599502563477,\n",
       "   'pdiffimfilename': '/ztf/archive/sci/2019/0107/204062/ztf_20190107204062_000658_zr_c16_o_q4_scimrefdiffimg.fits.fz',\n",
       "   'programpi': 'Kulkarni',\n",
       "   'programid': 1,\n",
       "   'candid': 736204086315010013,\n",
       "   'isdiffpos': 'f',\n",
       "   'tblid': 13,\n",
       "   'nid': 736,\n",
       "   'rcid': 63,\n",
       "   'field': 658,\n",
       "   'xpos': 2475.659912109375,\n",
       "   'ypos': 2926.989990234375,\n",
       "   'ra': 75.2007764,\n",
       "   'dec': 35.3614407,\n",
       "   'magpsf': 15.282600402832031,\n",
       "   'sigmapsf': 0.05258699879050255,\n",
       "   'chipsf': 212.32200622558594,\n",
       "   'magap': 15.242500305175781,\n",
       "   'sigmagap': 0.005400000140070915,\n",
       "   'distnr': 0.12009800225496292,\n",
       "   'magnr': 14.319000244140625,\n",
       "   'sigmagnr': 0.01600000075995922,\n",
       "   'chinr': 0.7440000176429749,\n",
       "   'sharpnr': 0.04699999839067459,\n",
       "   'sky': 0.1623850017786026,\n",
       "   'magdiff': -0.04010799899697304,\n",
       "   'fwhm': 4.239999771118164,\n",
       "   'classtar': 0.9990000128746033,\n",
       "   'mindtoedge': 153.51100158691406,\n",
       "   'magfromlim': 5.309140205383301,\n",
       "   'seeratio': 0.6079229712486267,\n",
       "   'aimage': 0.8769999742507935,\n",
       "   'bimage': 0.8560000061988831,\n",
       "   'aimagerat': 0.20683999359607697,\n",
       "   'bimagerat': 0.20188699662685394,\n",
       "   'elong': 1.024530053138733,\n",
       "   'nneg': 0,\n",
       "   'nbad': 0,\n",
       "   'rb': 0.7266669869422913,\n",
       "   'ssdistnr': None,\n",
       "   'ssmagnr': None,\n",
       "   'ssnamenr': None,\n",
       "   'sumrat': 1.0,\n",
       "   'magapbig': 15.233400344848633,\n",
       "   'sigmagapbig': 0.005799999926239252,\n",
       "   'ranr': 75.2007661,\n",
       "   'decnr': 35.3614709,\n",
       "   'scorr': 55.6365,\n",
       "   'magzpsci': 26.15060043334961,\n",
       "   'magzpsciunc': 2.792670102280681e-06,\n",
       "   'magzpscirms': 0.01593630015850067,\n",
       "   'clrcoeff': 0.08970910310745239,\n",
       "   'clrcounc': 3.258920060034143e-06,\n",
       "   'rbversion': 't12_f5_c3'},\n",
       "  {'jd': 2458490.7308796,\n",
       "   'fid': 1,\n",
       "   'pid': 736230876315,\n",
       "   'diffmaglim': 20.36870002746582,\n",
       "   'pdiffimfilename': '/ztf/archive/sci/2019/0107/230498/ztf_20190107230498_000658_zg_c16_o_q4_scimrefdiffimg.fits.fz',\n",
       "   'programpi': 'Kulkarni',\n",
       "   'programid': 1,\n",
       "   'candid': 736230876315010014,\n",
       "   'isdiffpos': 'f',\n",
       "   'tblid': 14,\n",
       "   'nid': 736,\n",
       "   'rcid': 63,\n",
       "   'field': 658,\n",
       "   'xpos': 2480.22998046875,\n",
       "   'ypos': 2936.449951171875,\n",
       "   'ra': 75.2008078,\n",
       "   'dec': 35.3614237,\n",
       "   'magpsf': 17.859800338745117,\n",
       "   'sigmapsf': 0.07368499785661697,\n",
       "   'chipsf': 5.563529968261719,\n",
       "   'magap': 17.991199493408203,\n",
       "   'sigmagap': 0.03440000116825104,\n",
       "   'distnr': 0.19920000433921814,\n",
       "   'magnr': 16.746999740600586,\n",
       "   'sigmagnr': 0.01600000075995922,\n",
       "   'chinr': 0.4390000104904175,\n",
       "   'sharpnr': -0.03500000014901161,\n",
       "   'sky': 0.40188199281692505,\n",
       "   'magdiff': 0.1314219981431961,\n",
       "   'fwhm': 4.179999828338623,\n",
       "   'classtar': 0.9829999804496765,\n",
       "   'mindtoedge': 144.05299377441406,\n",
       "   'magfromlim': 2.3774800300598145,\n",
       "   'seeratio': 0.8757960200309753,\n",
       "   'aimage': 1.11899995803833,\n",
       "   'bimage': 1.0859999656677246,\n",
       "   'aimagerat': 0.26770299673080444,\n",
       "   'bimagerat': 0.2598089873790741,\n",
       "   'elong': 1.0303900241851807,\n",
       "   'nneg': 0,\n",
       "   'nbad': 0,\n",
       "   'rb': 0.8100000023841858,\n",
       "   'ssdistnr': None,\n",
       "   'ssmagnr': None,\n",
       "   'ssnamenr': None,\n",
       "   'sumrat': 1.0,\n",
       "   'magapbig': 18.00629997253418,\n",
       "   'sigmagapbig': 0.04259999841451645,\n",
       "   'ranr': 75.2007678,\n",
       "   'decnr': 35.3614708,\n",
       "   'scorr': 41.1089,\n",
       "   'magzpsci': 26.251800537109375,\n",
       "   'magzpsciunc': 1.5056900338095147e-05,\n",
       "   'magzpscirms': 0.03732069954276085,\n",
       "   'clrcoeff': -0.04329109936952591,\n",
       "   'clrcounc': 1.7638700228417292e-05,\n",
       "   'rbversion': 't12_f5_c3'},\n",
       "  {'jd': 2458491.7049769,\n",
       "   'fid': 1,\n",
       "   'pid': 737204976315,\n",
       "   'diffmaglim': 20.735200881958008,\n",
       "   'pdiffimfilename': '/ztf/archive/sci/2019/0108/204965/ztf_20190108204965_000658_zg_c16_o_q4_scimrefdiffimg.fits.fz',\n",
       "   'programpi': 'Kulkarni',\n",
       "   'programid': 1,\n",
       "   'candid': 737204976315010007,\n",
       "   'isdiffpos': 'f',\n",
       "   'tblid': 7,\n",
       "   'nid': 737,\n",
       "   'rcid': 63,\n",
       "   'field': 658,\n",
       "   'xpos': 2479.0400390625,\n",
       "   'ypos': 2924.64990234375,\n",
       "   'ra': 75.2007932,\n",
       "   'dec': 35.3614306,\n",
       "   'magpsf': 17.822900772094727,\n",
       "   'sigmapsf': 0.07487700134515762,\n",
       "   'chipsf': 15.062299728393555,\n",
       "   'magap': 18.036399841308594,\n",
       "   'sigmagap': 0.035999998450279236,\n",
       "   'distnr': 0.17242300510406494,\n",
       "   'magnr': 16.746999740600586,\n",
       "   'sigmagnr': 0.01600000075995922,\n",
       "   'chinr': 0.4390000104904175,\n",
       "   'sharpnr': -0.03500000014901161,\n",
       "   'sky': 0.35016998648643494,\n",
       "   'magdiff': 0.2135089933872223,\n",
       "   'fwhm': 3.809999942779541,\n",
       "   'classtar': 0.984000027179718,\n",
       "   'mindtoedge': 155.84500122070312,\n",
       "   'magfromlim': 2.6987500190734863,\n",
       "   'seeratio': 0.6854779720306396,\n",
       "   'aimage': 0.7710000276565552,\n",
       "   'bimage': 0.7089999914169312,\n",
       "   'aimagerat': 0.20236200094223022,\n",
       "   'bimagerat': 0.18608899414539337,\n",
       "   'elong': 1.0874500274658203,\n",
       "   'nneg': 4,\n",
       "   'nbad': 0,\n",
       "   'rb': 0.7766669988632202,\n",
       "   'ssdistnr': None,\n",
       "   'ssmagnr': None,\n",
       "   'ssnamenr': None,\n",
       "   'sumrat': 0.9894049763679504,\n",
       "   'magapbig': 18.035600662231445,\n",
       "   'sigmagapbig': 0.04390000179409981,\n",
       "   'ranr': 75.2007678,\n",
       "   'decnr': 35.3614708,\n",
       "   'scorr': 27.0125,\n",
       "   'magzpsci': 26.23590087890625,\n",
       "   'magzpsciunc': 9.639779818826355e-06,\n",
       "   'magzpscirms': 0.029942499473690987,\n",
       "   'clrcoeff': -0.0402613990008831,\n",
       "   'clrcounc': 1.122819958254695e-05,\n",
       "   'rbversion': 't12_f5_c3'},\n",
       "  {'jd': 2458491.7361806,\n",
       "   'fid': 2,\n",
       "   'pid': 737236186315,\n",
       "   'diffmaglim': 20.34819984436035,\n",
       "   'pdiffimfilename': '/ztf/archive/sci/2019/0108/236169/ztf_20190108236169_000658_zr_c16_o_q4_scimrefdiffimg.fits.fz',\n",
       "   'programpi': 'Kulkarni',\n",
       "   'programid': 1,\n",
       "   'candid': 737236186315010012,\n",
       "   'isdiffpos': 'f',\n",
       "   'tblid': 12,\n",
       "   'nid': 737,\n",
       "   'rcid': 63,\n",
       "   'field': 658,\n",
       "   'xpos': 2485.5,\n",
       "   'ypos': 2926.199951171875,\n",
       "   'ra': 75.200787,\n",
       "   'dec': 35.3614155,\n",
       "   'magpsf': 15.294400215148926,\n",
       "   'sigmapsf': 0.042775001376867294,\n",
       "   'chipsf': 203.9080047607422,\n",
       "   'magap': 15.25469970703125,\n",
       "   'sigmagap': 0.00559999980032444,\n",
       "   'distnr': 0.22149300575256348,\n",
       "   'magnr': 14.319000244140625,\n",
       "   'sigmagnr': 0.01600000075995922,\n",
       "   'chinr': 0.7440000176429749,\n",
       "   'sharpnr': 0.04699999839067459,\n",
       "   'sky': 0.8142539858818054,\n",
       "   'magdiff': -0.039707001298666,\n",
       "   'fwhm': 5.619999885559082,\n",
       "   'classtar': 0.9959999918937683,\n",
       "   'mindtoedge': 154.2969970703125,\n",
       "   'magfromlim': 5.093480110168457,\n",
       "   'seeratio': 0.5019440054893494,\n",
       "   'aimage': 1.059000015258789,\n",
       "   'bimage': 1.0110000371932983,\n",
       "   'aimagerat': 0.18843400478363037,\n",
       "   'bimagerat': 0.17989300191402435,\n",
       "   'elong': 1.0474799871444702,\n",
       "   'nneg': 0,\n",
       "   'nbad': 0,\n",
       "   'rb': 0.7099999785423279,\n",
       "   'ssdistnr': None,\n",
       "   'ssmagnr': None,\n",
       "   'ssnamenr': None,\n",
       "   'sumrat': 1.0,\n",
       "   'magapbig': 15.238499641418457,\n",
       "   'sigmagapbig': 0.006099999882280827,\n",
       "   'ranr': 75.2007661,\n",
       "   'decnr': 35.3614709,\n",
       "   'scorr': 27.6026,\n",
       "   'magzpsci': 26.14539909362793,\n",
       "   'magzpsciunc': 3.58507008968445e-06,\n",
       "   'magzpscirms': 0.01819480024278164,\n",
       "   'clrcoeff': 0.1041250005364418,\n",
       "   'clrcounc': 4.187790182186291e-06,\n",
       "   'rbversion': 't12_f5_c3'},\n",
       "  {'jd': 2458492.6524653,\n",
       "   'fid': 2,\n",
       "   'pid': 738152466315,\n",
       "   'diffmaglim': 18.69379997253418,\n",
       "   'pdiffimfilename': '/ztf/archive/sci/2019/0109/152292/ztf_20190109152292_000658_zr_c16_o_q4_scimrefdiffimg.fits.fz',\n",
       "   'programpi': 'Kulkarni',\n",
       "   'programid': 1,\n",
       "   'candid': 738152466315010001,\n",
       "   'isdiffpos': 'f',\n",
       "   'tblid': 1,\n",
       "   'nid': 738,\n",
       "   'rcid': 63,\n",
       "   'field': 658,\n",
       "   'xpos': 2485.02001953125,\n",
       "   'ypos': 2970.280029296875,\n",
       "   'ra': 75.20077,\n",
       "   'dec': 35.3614404,\n",
       "   'magpsf': 15.35569953918457,\n",
       "   'sigmapsf': 0.058031998574733734,\n",
       "   'chipsf': 28.701099395751953,\n",
       "   'magap': 15.299500465393066,\n",
       "   'sigmagap': 0.01769999973475933,\n",
       "   'distnr': 0.11629799753427505,\n",
       "   'magnr': 14.319000244140625,\n",
       "   'sigmagnr': 0.01600000075995922,\n",
       "   'chinr': 0.7440000176429749,\n",
       "   'sharpnr': 0.04699999839067459,\n",
       "   'sky': -0.7631239891052246,\n",
       "   'magdiff': -0.05616699904203415,\n",
       "   'fwhm': 5.409999847412109,\n",
       "   'classtar': 0.9980000257492065,\n",
       "   'mindtoedge': 110.21900177001953,\n",
       "   'magfromlim': 3.394289970397949,\n",
       "   'seeratio': 0.4955419898033142,\n",
       "   'aimage': 0.9710000157356262,\n",
       "   'bimage': 0.9319999814033508,\n",
       "   'aimagerat': 0.17948199808597565,\n",
       "   'bimagerat': 0.17227399349212646,\n",
       "   'elong': 1.0418399572372437,\n",
       "   'nneg': 1,\n",
       "   'nbad': 0,\n",
       "   'rb': 0.6766669750213623,\n",
       "   'ssdistnr': None,\n",
       "   'ssmagnr': None,\n",
       "   'ssnamenr': None,\n",
       "   'sumrat': 1.0,\n",
       "   'magapbig': 15.305999755859375,\n",
       "   'sigmagapbig': 0.02199999988079071,\n",
       "   'ranr': 75.2007661,\n",
       "   'decnr': 35.3614709,\n",
       "   'scorr': 20.5733,\n",
       "   'magzpsci': 25.03070068359375,\n",
       "   'magzpsciunc': 1.271679957426386e-05,\n",
       "   'magzpscirms': 0.034464698284864426,\n",
       "   'clrcoeff': 0.07444129884243011,\n",
       "   'clrcounc': 1.4830799955234397e-05,\n",
       "   'rbversion': 't12_f5_c3'},\n",
       "  {'jd': 2458492.6886111,\n",
       "   'fid': 1,\n",
       "   'pid': 738188616315,\n",
       "   'diffmaglim': 18.706600189208984,\n",
       "   'pdiffimfilename': '/ztf/archive/sci/2019/0109/188194/ztf_20190109188194_000658_zg_c16_o_q4_scimrefdiffimg.fits.fz',\n",
       "   'programpi': 'Kulkarni',\n",
       "   'programid': 1,\n",
       "   'candid': 738188616315010031,\n",
       "   'isdiffpos': 'f',\n",
       "   'tblid': 31,\n",
       "   'nid': 738,\n",
       "   'rcid': 63,\n",
       "   'field': 658,\n",
       "   'xpos': 2476.6298828125,\n",
       "   'ypos': 2970.969970703125,\n",
       "   'ra': 75.2007756,\n",
       "   'dec': 35.3614608,\n",
       "   'magpsf': 17.744199752807617,\n",
       "   'sigmapsf': 0.13925400376319885,\n",
       "   'chipsf': 2.3575100898742676,\n",
       "   'magap': 18.11720085144043,\n",
       "   'sigmagap': 0.22200000286102295,\n",
       "   'distnr': 0.04202599823474884,\n",
       "   'magnr': 16.746999740600586,\n",
       "   'sigmagnr': 0.01600000075995922,\n",
       "   'chinr': 0.4390000104904175,\n",
       "   'sharpnr': -0.03500000014901161,\n",
       "   'sky': 0.4911240041255951,\n",
       "   'magdiff': 0.3730359971523285,\n",
       "   'fwhm': 2.4200000762939453,\n",
       "   'classtar': 0.9779999852180481,\n",
       "   'mindtoedge': 109.53399658203125,\n",
       "   'magfromlim': 0.589372992515564,\n",
       "   'seeratio': 1.0661300420761108,\n",
       "   'aimage': 0.6769999861717224,\n",
       "   'bimage': 0.6179999709129333,\n",
       "   'aimagerat': 0.2797519862651825,\n",
       "   'bimagerat': 0.25537198781967163,\n",
       "   'elong': 1.0954699516296387,\n",
       "   'nneg': 5,\n",
       "   'nbad': 0,\n",
       "   'rb': 0.7166669964790344,\n",
       "   'ssdistnr': None,\n",
       "   'ssmagnr': None,\n",
       "   'ssnamenr': None,\n",
       "   'sumrat': 0.9367560148239136,\n",
       "   'magapbig': 18.117300033569336,\n",
       "   'sigmagapbig': 0.28369998931884766,\n",
       "   'ranr': 75.2007678,\n",
       "   'decnr': 35.3614708,\n",
       "   'scorr': 14.2461,\n",
       "   'magzpsci': 24.579200744628906,\n",
       "   'magzpsciunc': 8.400309889111668e-05,\n",
       "   'magzpscirms': 0.06778939813375473,\n",
       "   'clrcoeff': -0.10580699890851974,\n",
       "   'clrcounc': 0.00010472400026628748,\n",
       "   'rbversion': 't12_f5_c3'},\n",
       "  {'jd': 2458493.7031597,\n",
       "   'fid': 1,\n",
       "   'pid': 739203156315,\n",
       "   'diffmaglim': 20.77440071105957,\n",
       "   'pdiffimfilename': '/ztf/archive/sci/2019/0110/202917/ztf_20190110202917_000658_zg_c16_o_q4_scimrefdiffimg.fits.fz',\n",
       "   'programpi': 'Kulkarni',\n",
       "   'programid': 1,\n",
       "   'candid': 739203156315010009,\n",
       "   'isdiffpos': '0',\n",
       "   'tblid': 9,\n",
       "   'nid': 739,\n",
       "   'rcid': 63,\n",
       "   'field': 658,\n",
       "   'xpos': 2466.580078125,\n",
       "   'ypos': 2915.969970703125,\n",
       "   'ra': 75.2007902,\n",
       "   'dec': 35.3614651,\n",
       "   'magpsf': 17.906200408935547,\n",
       "   'sigmapsf': 0.07848600298166275,\n",
       "   'chipsf': 18.881099700927734,\n",
       "   'magap': 18.112300872802734,\n",
       "   'sigmagap': 0.04019999876618385,\n",
       "   'distnr': 0.0742269977927208,\n",
       "   'magnr': 16.746999740600586,\n",
       "   'sigmagnr': 0.01600000075995922,\n",
       "   'chinr': 0.4390000104904175,\n",
       "   'sharpnr': -0.03500000014901161,\n",
       "   'sky': -0.3882330060005188,\n",
       "   'magdiff': 0.20614099502563477,\n",
       "   'fwhm': 3.0299999713897705,\n",
       "   'classtar': 0.9829999804496765,\n",
       "   'mindtoedge': 164.5279998779297,\n",
       "   'magfromlim': 2.662130117416382,\n",
       "   'seeratio': 0.8007029891014099,\n",
       "   'aimage': 0.6499999761581421,\n",
       "   'bimage': 0.6000000238418579,\n",
       "   'aimagerat': 0.21452100574970245,\n",
       "   'bimagerat': 0.19801999628543854,\n",
       "   'elong': 1.0833300352096558,\n",
       "   'nneg': 7,\n",
       "   'nbad': 0,\n",
       "   'rb': 0.5828570127487183,\n",
       "   'ssdistnr': None,\n",
       "   'ssmagnr': None,\n",
       "   'ssnamenr': None,\n",
       "   'sumrat': 0.9683279991149902,\n",
       "   'magapbig': 18.13010025024414,\n",
       "   'sigmagapbig': 0.049800001084804535,\n",
       "   'ranr': 75.2007678,\n",
       "   'decnr': 35.3614708,\n",
       "   'scorr': 21.2911,\n",
       "   'magzpsci': 26.156200408935547,\n",
       "   'magzpsciunc': 6.962489806028316e-06,\n",
       "   'magzpscirms': 0.025365499779582024,\n",
       "   'clrcoeff': -0.05268219858407974,\n",
       "   'clrcounc': 8.104510015982669e-06,\n",
       "   'rbversion': 't15_f5_c3'}],\n",
       " 'cutoutScience': {'fileName': 'candid739260766315010006_pid739260766315_targ_sci.fits.gz',\n",
       "  'stampData': b'\\x1f\\x8b\\x08\\x00S\\xe56\\\\\\x02\\x03\\xed\\xbbgtUe\\xf7\\xaf\\r\\xa1H\\rE@\\xa4\\x83\\x08\\x88H\\x07\\x01\\xe9W@J@\\x04\\xe4\\t\\xbd$\\xa4\\xec\\xb6\\xea^k\\xd7d\\'T\\t\\xcd\\xd0;\\xd2\\xa5\\x97\\xd0{\\x15\\x11i\"\"\\xd2E\\x04D\\x9a\\x18\\xe9\\xbc\\xd3\\xe7\\xfd\\xf6\\x8e\\xf3\\xe5=\\xe7?\\xce\\'\\xd7\\x18\\x0c\\xc7\\x08;k\\xad\\xfb\\xbe\\xe7\\xfc\\xcd\\xebJ\\xb0W\\xe7n=b;T\\xa9\\xd2\\xaaJ\\x95\\xdeU\\xfe\\x07\\xae\\xf6\\x9d{\\xf7\\xe8\\x1c\\xf7\\xdf\\xfb\\xfd\\x7f\\xaf\\x0f\\x1a5\\xfc\\xff\\x7f\\xbf\\xee\\xed\\xe2:\\xf7\\xaa\\xf2\\xbf\\xbc_\\x95*\\xff\\xbb\\xf7k\\xf0\\xbf\\xbe_\\xd3F\\xff\\x9b\\xf7k\\xf8?w\\xbf\\xf6\\x9fu\\xef\\xdc\\xfb\\xbf\\xeb\\xad\\x19\\xd3\\xfd\\xff\\xfdR\\xcd\\xff\\x93\\xf3\\xe8\\xd0=\\xa6\\xca\\xbf\\xd7\\xbf\\xd7\\xbf\\xd7\\xbf\\xd7\\xbf\\xd7\\xbf\\xd7\\xbf\\xd7\\xbf\\xd7\\xbf\\xd7\\xff\\xdc\\x85\\xa3\\xf61\\x8c\\xf77\\xe0R31\\xa3J\\xa2\\x0f+\\x85\\xff\\xef\\xa9\\x18\\xfa.\\x02\\x8d\\xcb\\xa24\\xae\\x8e\\x16\\xc8Mj\\xd1>\\x84\\xf6\\xd7E\\xf9\\xeb2\\xa9\\xd3\\xfb\\x10\\xb8\\xbf\\x02sr\\x04\\xf7\\xe0\\x1c\\x9c\\rWb^\\xdd\\x85\\xfb\\xcc\\x01\\xcc\\xa9m1\\xcf\\xcc\\xc7\\xbe\\xd2\\x11\\xdb\\x95\\x85\\xf3\\xe9\\x05B\\x8e\\x8e\\xa4D\\x8dDw\\x8f\\xc0?v\\tV\\x9e\\xdb\\xf8\\x0e\\x8d\\xc4\\x95T\\x1co\\xa71X\\xb97b%}C\\xd0t\\xe2:\\x94B\\xe2\\xe1\\xeb\\xb8\\xfaO\\xc3\\xfc\\xde\\x81\\x92\\xd8\\x13\\xbdJA\\\\\\xad\\xe7\\x93^\\xbd+\\x9e\\xfesQ\\x0bfa\\x17H\\xc4;\\xb0-Z\\xb5\\xb2\\xd8]\\x1a\\x12^q\\x9d\\x11y\\x1b\\x93~t+\\xda\\xabW8\\x13Zc\\x0e\\xceOd\\xc7\\x04\\\\\\x8bo\\xa0\\x9c;\\x8f\\xfe(\\x80\\xf5WC\\xb4\\xa6\\'p\\x9c8\\x831\\xeb\\x01\\xfe\\'\\xbbp\\xce\\xf8\\x14\\xaf\\xff$\\x9e\\x8cR\\x84\\xd6vD\\xdbX\\x04\\xd7w[\\xb0Zm\\x95u\\xd4A;\\x1e\\x85\\xe7z!\"\\xfd\\xc7\\xe2\\xc8\\xff\\x84\\xb4\\xa7\\xf2\\x99\\xe3\\t\\x84r7#P\\xf5\\x19f\\x99\\xab\\x18\\xfel|\\xfdB\\xb8\\x83\\xb5\\t^\\xcd\\x90g\\x9d\\'8\\xeb\\x11\\xe1\\xca-q\\xf5\\x9b\\x89\\xa5\\x1a\\x98\\x0e\\x17\\x81nY\\x04\\xc6\\xa5\\xa3\\xb5?Orz\\x08\\xc7\\xb5\\xd5x\\n\\xaf\\xc7w\\xa5\\xac\\x9c\\x81\\x07o\\xa8\\x18V\\xfe\\xe6\\x98}\\'\\x11\\xbc\\xd7\\x16;\\xf1!Z\\xdf\\xe3\\xa4W6Q~.\\x83\\xf9\\xe6\"\\x02\\x9e\\x99x+\\xd5F\\xfd\\xa0\\x10\\xe1:\\xb9\\x08fw\\xc7;~\\x05\\x19\\x87\\xfeD\\xbdS\\x06o\\xf3\\x01\\x18\\x17\\xe4\\x9d\\x8e\\xd4\\xc2\\xb0o\\xa17/C\\xca\\xac\\x15(\\x0b\\x1a\\xe2[w\\x04\\xf7\\x9cm(\\x93\\x1a\\xa3m\\xbb\\x80\\xfa\\xfe2Y\\xc7y\"\\xe5\\x1fb\\xcd\\xad\\x86u\\xbb\\x10Z\\xa3C\\xa4\\xc8\\xf7\\x9b5\\xce\\xa3\\x15\\xeaM(\\xe6,\\xea\\xc6D\\xec\\x82\\xb1\\x98\\x8d\\xcf\\x11\\x9c=\\x96\\xd0\\xa5\\xc6\\xf8\\x17\\xad\\xc5\\xcdq\\xac6\\x0fH\\xaaS\\x01\\xcf\\xb6\\xcb\\x98\\xd3\\x1e`=\\xed\\x8d\\xe7\\xeb[\\xf8\\xe6\\x9f\\xc5^\\x18+k-\\x8ezh+\\xe6\\xd6Oq\\x8d\\xfa\\x01\\xed\\xa7k\\x04+.\\xc7\\xf7\\xecC\\xac\\x96\\x85\\xd1\\xd7\\xb9\\tw\\xec\\x8f{\\xc2m4\\x7fc\\xac\\x8cYxn\\xf6C\\xab\\xef\\xc1u\\xb3/z\\xb1\\xfc\\x18M\\'\\x12\\xe9P\\x83PN,\\xea\\x83\\x9eh\\x7f\\xf7@\\xdbp\\x1eWb\\x0f\\x02\\xce\\n\\xa4\\x95i\\x81\\xd2 /j\\xff\\x8d\\x98\\xdd\\x9e\\xc9\\x9e\\xc6`6\\x7f\\x86\\xefb\\x11\\xec\\xaa\\x8bH\\xabp\\x84\\t\\x9f\\x8c&}M{|O\\xeb\\xe1\\xdd\\xe0\\xc0\\xc7d\\x1c\\x0f:\\x11II\\xc0\\xda\\xb0\\x96`\\xe1\\x0bd\\xf4\\x1d\\x84\\xf5\\x87\\x82y(\\x80nW\\x91s\\xab\\x85\\xee\\x18\\x84\\xbb\\xa6\\x9c\\xdb\\x96\\x18\\xdc\\x85Wc5L\\xc5Q\\xb0)\\xfa\\xec\\xa3\\xb8\\xb6\\xed\\x93\\xb3k\\x88\\xb1j4\\xfa\\x00\\x15o\\x8fG\\xe8\\xad\\xeb\\xe3\\xebu\\x0fW\\xd3\\x1e\\x18e\\x96\\x11\\xde|\\x8b\\xe0\\xe4)\\xd8\\xd6\\x06\\xb4\\xa0A\\xc6\\xdd+\\x84j\\xd4BY\\x9b\\x82#\\xe3:\\xc6\\xf7\\x070F\\xc6\\x11\\xd8p\\r\\xdf\\xe2\\x9f\\xd0\\x87\\xe6G)\\xb7\\x9a\\xc0\\xa96\\xe8\\xf5\\xf6c\\x0cM\\xc6e=\\xc4\\xdd\\xe8\\x00\\xa1\\x85_\\xe2\\xd88\\x05o\\xf5\\xf2x&\\xdea\\xf8\\xbbR\\xa7\\xb3_a\\x1cj\\x80\\xd9 \\x0eW\\xf66\\xec)\\x0f1\\x8flC\\xd3+0bVG\\xc6OxN\\xf6\\x8e\\x13\\xccT{\\xe1\\xef\\xb1\\x14\\xed\\xc2\\tLm%\\xfe\\xfb}P\\x9f\\xef\\x93\\xbeVqN\\xddKx\\xe2}\\xfc\\r\\xf6\\xe0\\xdb\\xbe\\x90\\xb0V\\x17\\xe3\\xf4J\\x8c\\xffH&\\x1c\\xbdK\\xf2<\\x97\\x9ca6\\xd6G\\xeb\\xb1\\x07\\xaeE/\\xfc\\x08\\xf5\\x8fl\\x94\\xecC\\x18\\xef\\x96%\\xe9\\xe2\\t\\x8c\\xe3R{s6\\x12\\xd8\\x9b\\x80\\xb1;\\x0em\\xfai\\xac\\x16\\xdfcL\\xea\\x86\\xfes\\x14\\xda\\x91J\\xf86J-N\\xde\\x8c:\\xbf9\\xc6\\xa2Nx\\x8b- R\\xf2\\x11\\x91RU\\xb1\\xb5\\x9aX\\x9a\\xd4p\\xc1\\xf2\\xd8\\x17>G\\xd3v\\x11zg\\x1e\\xc6\\x81Mx\\xbb\\x0e@\\xc9)\\x86\\xfft\\r\\xac\\xfa*\\xa9c\\xb7\\x12\\xe8\\xf9\\x01\\xae\\xbb7\\t*\\xf50\\x16|\\x837f!\\xfe/\\xa4g\\xfdUQ/\\xed\\x95\\x9cjIf\\xc3k,u\\x0e`j\\xff\\xcd\\x98?\\x8fFq\\xb6\\xc5\\xea\\x13M\\xf2\\xf1\\xf6\\xb8\\xdd\\x9f\\x92\\xde\\xa5\\x0b\\xfa\\xfa\\xef\\xd1\\x1bE\\xa4_\\xfe\\x83\\xe7^\\x14\\x89\\xd9\\x99\\x18\\xf9\\xea\\xe0\\xdc\\xd0\\x12\\xbd\\xdd\\x10\\xd4\\xccdR\\x96<\\xc3{j2\\x9ea&\\xf6G.Yg*>5\\x19;\\xb7\\x85/\\xb6,\\xc9\\xd3\\xaaH\\xde\\xe8h\\xb1q\\x84~yL\\xf8\\xd3\\x91\\x18\\x1f\\xec\\'2d\\x07f\\xec`\\xa9\\xaf\\x8f\\xb1\\xd6\\\\\\xc4\\xf5\\xf5\\xc7x\\xf3Y\\x98\\xf3\\xe2\\xf1\\xae\\\\\\x80\\xef\\xdag\\x98\\x7f\\x97%\\xf4\\xe34<\\xef\\xc4\\xa1\\xfc\\xda\\x8e\\xe4\\xff\\x94!\\x18>\\x86\\x95\\xfe\\x1ejBs\\x82\\xa5\\xde\\xc3(\\xbe\\x86\\xc8\\xca\\xd6D^7e\\\\\\xbf\\x1cF\\x9e\\xd61\\xab\\x9e\\xc1_\\xb7#\\x8e\\x93\\xb2\\xa6\\xa1\\x92q)U\\xf1\\x8c\\xfc\\x15o\\xd1ADf\\xacc\\xe4\\xc7}\\x18\\x11\\x9e\\xc1\\xa87F\\xe1/=\\x11\\xe3\\r9\\xaf\\xfa\\n\\xbe\\xb9\\x87\\xf0\\x9d\\xbb\\x87\\xf9:\\x84\\xb1\\xa1\\x1c\\xfa\\xf1M\\x84\\x8d\\xb7\\xf0\\xfc\\xe7\\x11J\\xf0*\\xf6\\xd0-\\xe8G\\xee\\xe0\\xcb\\xec\\x89\\x12\\xbd\\x96\\xe4\\x85U0\\xc6M\\xc6\\x1a0\\x11\\xf7\\xf3;\\x98#\\x8fJ\\x0f\\xb6\\xc0\\xfa)G\\xea\\xa7\\x08Z\\xb2\\x89\\xbb\\xd7\\x05\\xf4\\xedmqM\\xdb\\x81\\xb7\\xe6\\xdf8\\xce\\x9dA\\xb3^\\xa2\\x1eS\\xf1\\x9f\\x90\\xb5\\x16\\xbc\\x85\\xbf\\xf1\\xefXs.\\x11\\xdf[\\xean\\xdb\\x0b\\x94v\\xb5\\xa5\\x8f\\'\\xe0\\xf8\\xb2\\x12\\xde\\xcd\\x11<_\\x15\\xc2\\xf52Kr\\xfd\\n\\xf6r7\\xc6\\x9a\\x1aR\\xab)\\xe8\\xa9\\x8fH\\x9f\\xfb\\x0b3\\xa6\\x15\\xe1\\xd4\\x8fKX\\xfc\\xfd]\\xecG_c.o\\x82\\xfb\\xea!\\xdc_n\\xc0\\x9f\\xb5\\x95\\xf0\\x8f\\xd7P\\xa6\\xf7\\xc3\\xf7\\xbb\\xbc_\\x9f\\x99dl\\xefNZ\\xf2c\\xac\\xd2\\xc5\\xf1\\xe5\\x925T\\xb8\\x8bw\\xf0(R\\xc6\\xee$8\\xac\\x0f\\xden2?>\\x8b&u\\xdag\\x0c\\xf7\\xe4`\\r\\xec\\x85\\xd6\\xe2\\x10\\xde?\\xa6c\\xf5\\xbc\\x8c\\xe7\\xcb;\\xa8k\\xe5\\xfbrd\\x8fr\\xaa\\x11\\x88\\x95\\\\\\xcd\\xbfO\\xb2\\xfd\\x16\\xda\\x14Y_\\xad\\x9bx\\xa5\\xf7\"fS\\x99!\\xc5\\t\\xef\\x90\\xbca\\x15\\xee\\x16%\\xd0K\\x0f \\xf4\\xfa v\\xb7rX\\x9d\\xd6\\x11\\xf8n:\\xfens\\xa4\\xb6\\xab\\xa3\\xbc\\x1b\\x85\\xc3\\x1f\\xc6\\xc8#\\xd9\\x9e\\xab\\x97\\x9c\\x89\\x1b\\xeb\\xe2b\\xd23\\xa5\\xb7\\x86\\xff\\x82\\xban<v\\xfcg\\xe8\\x9f\\xc9g\\xbf\\xde\\xc8\\xc8o\\x8e\\xb1\\xac\\xcf\\x8b\\x98<\\x9d\\xdbs\\xa2\\xee\\x032g\\xe7\\'upO\\x1c\\xef\\r%\\xa9\\xa4\\xcc\\xe5*\\x9dQ\\x1c\\xb7\\xd13\\xcb\\x12\\\\\\xf6\\n\\xab\\x83\\xe4G1\\x97\\xd4\\xe0 \\xd4\\x12O\\xb0\\x8b\\xbdI\\xe8-/J\\xe5\\xf3\\xf8S\\x15\\x0c\\xe4\\xcf\\x149\\xcb\\xfd}\\xb0?n@\\xca\\x90\\x8d\\xf8\\x83\\xddp4\\xeb\\x88\\x9a\\xab6F\\x9b,\\xb4\\x9c[\\x98M\\xa5\\xd7\\xbe\\x95z\\xd8\\xd6\\x13w\\xe9\\xf3\\xd8c%\\x7f[T\\xc0\\xad\\x14G\\xa9\\xba\\x11\\xef\\xe3\\xb2\\xf8\\xebTCo\\xba\\x87\\xc0\\xcca\\x98\\xa9\\x13\\xf0\\xf7m\\x81\\xabO\\x14\\xc1\\xda\\x030\\x8b\\x07\\xd0j\\x0e\\xc6;\\xd5\\xc1\\xd0N\\xd1\\xb8\\xcfKV_|\\x9f\\xe0>y\\xb7\\x96\\x10\\xbc\\xbb\\x1b\\xc7\\x0f\\x07\\xa4>\\x16\\xa2\\xbe\\xf1+\\xfe\\xb7:cU\\x8f`n\\xe9\\x8e\\xfb\\xe9M\\x02eF2zx\\x19f\\xcd\\xf9\\x96\\xec\\xe09v\\x96\\xbb\\xc3\\xb8\\t\\xeb\\t\\xc6U\\xc0\\xb5[r\\xf6ZM\\x8c\\xa2\\x1f\\xe0X\\xb1\\x12\\xdf\\x017v\\\\!t\\xc9\\xc4`\\xb3\\xb9(5.\\x93\\xdcf=\\x0ee\\x11\\xde\\x15\\xedQ\\xca\\x07\\t\\xaez\\x82\\xd9^\\xb2\\xb1p\\x1a\\xf6\\xabc\\xb8;\\x1e\\xc6\\xb5l\\x05\\xbe\\xafo\\xe0~\\xd9\\x11w\\xb3D9\\x9fR$ \\xbd\\xfe\\x8d\\xcc\\xc7?{\\x10\\xf9\\xe0Ga\\x95\\xa3hC\\xba\\x10\\x8e\\x9a\\x8c\\xb7\\xf6h\\xbc\\xb3\\xe49\\xad\\x8b`M>\\x8a\\xf9\\xee\\x11\\xd4\\xf1\\x17\\xf0\\x0c\\x19\\x81\\x99P\\x08\\xe5\\xd3\\xee\\x84s\\x9d#\\xa4\\x9f%\\\\OX\\xaa\\xc3\\x01\\xbcK\\x9e\\x93\\x9ag\\x13f\\xd9\\xc7xW\\xbf\\x85\\xd9P\\xb2\\xdb\\x1d\\x87]K\\xf8a\\xee9\\xec?\\xef\\xa0\\xff8\\x1c\\xadS\\x06!O\\x1c^S\\xf6\\xaf\\xe5\\xaf\\x18361\\xb6a\\x192;\\xd6`\\xca\\x98\\xd1d(+\\x08\\xe4/\\x8ds\\xfda\\x1c%\\x1eJ6\\xf7C\\x9f\\xd5\\x16_\\xa0\\x18\\xea\\x90e\\xe8}\\x92\\xb1n\\xad\\x15\\xd6\\x11>\\xab\\xf1\\x1dN3\\x8c\\xb5#\\t\\xbb}=\\xb4\\xb7G\\xe1\\xc9\\x9c\\x81\\xf1W\\x0e\\x81\\xaf.a5\\xde\\x80\\x1d\\xba\\x8e\\xff\\xc8o\\xd8\\xb3{\\xc8\\x8c\\xdb\\x879;\\x03\\xdf\\xec\\xbah\\xe5\\xcf\\xe3\\x8b\\xefB\\xa8X\\x02\\x81\\xcfG\\xa3\\xf5\\x99\\x8e\\xb3bu\\xf9l^\\xfc\\x8f\\xe7\\xe3\\xed\\xbb\\x0fWD\\xce,\\xfa\\x02\\xca\\xc8\\x89\\xe8\\x9d\\xf3a\\xfa\\xdb\\xe3\\xaa\\x12\\x83#u\\x0e\\xae\\xf8\\xdd\\xf8\\xde\\xbc\\x89kp*\\x81\\x93MP\\x0e\\xce\\xc1X\\xda\\x13\\xcb\\xaaD\\xa0\\xd2P\\\\\\xa5\\x0f\\xa2U=Dh\\xec@4\\xb5\\x01\\xde\\xc4Y\\xd8Q_au\\x13N\\x9a\\x10\\xc6\\xec\\xf9\\xa9\\xe4\\xeaxR?\\x1a,=}\\x941\\xb2\\xffi}dn\\xed\\x97Y\\xb8\\xb4\\n\\x9a=\\x11uxC\\xc9\\x89\\xd9\\xa8Z<V|*\\xfe\\xb5\\xe7\\xd0\\x0bTC\\xe9\\xdd\\x9e\\xc0\\xb1f\\xc2\\xac]\\xb1{\\xc9\\xb3\\xfex\\x8d\\xb6i\\x03z\\xaf\\x93X\\xdd?E\\xff\\xb5\\x18\\xda\\x7f.\\xa3\\x16\\xbd\\x80\\xb6S\\xd8\\xebu\\x01\\xc9\\xcc>\\x18O%\\xcffND{\\xd4\\x96`C\\x07\\xe9\\xfe\\xfe\\x84w]\\xc7:\\xd1\\tsXS\\xcc*R\\xef\\xc3%\\x9b\\xea\\x08{\\xdd\\x8c\\xc397\\x1b\\xff\\xf7\\xcfpZ\\xdd\\x88\\xb4\\x94}{Z\\x05\\xfd\\xc6T\\xac\\xadG\\xf1}\\xbb^8.Az\\xb8<\\xbe\\x94Q\\x92\\'_\\xe3\\x19-\\xef1\\xbe\\x1c\\xde\\xfe\\x1a\\xf6\\xf6\\xd9h\\xdf\\xecE\\x1d,L\\xfcA=\\xd4\\xa7S0\\xfeN\"\\xf4v#\\xdc\\x97;\\x13\\x1e[\\x97@\\xcc6\\xf4]m0\\x17e\\x10\\x19.3\\xfe\\xe7a\\xf8\\n\\xe6\\xe0.s\\x0c{~+\\xfc\\xf6i\\xfc/\\x84[\\xa7\\xc8~\\xa4\\n\\xab\\'\\xcfD\\xff\\xa2\\x10\\xde\\x85\\xf5\\xf1f\\xfapM\\xcc\\xc2\\x8c31>\\\\(}\"\\xf5<\\xa8.\\xceo\\'\\xe1j\\xbe\\t\\xf79\\'a9\\'\\xad\\xdaX\\xb4\\xd3-\\t\\xf8\\xe4\\xf3#%\\xe7\\xbfy%}\\xdf\\t\\xcf\\xb7G\\t\\xcf+I\\xe0\\xcd\\x04\\xd4\\xd8\\x96hQ\\xc2}kJ\\xe2\\x7f&=^k\\x0b\\xf6D\\xe9\\xa3\\xf9R\\x13|\\'\\xbc#\\xbdvYf\\xc0\\xd6\\x18\\xd4\\xdfK\\xa2)y\\t\\x1e\\xfb\\x0c%\\xee&\\x1e\\xd7_\\xb8&\\x8d\\xc2\\x1c \\x1c\\xf3p\\xb0\\xd4D\\n\\x81\\tN\\x8c\\xf2\\x9f\\xe0\\xb91\\x12\\x9fO\\xc3\\xb9\\xa49\\xfa\\x9b\\xfd1\\x8f\\t\\x17\\xae\\xe8\\x8b5j&\\xa1\\xba\\x99\\xe8ol\"\\xed\\x97\\xfe\\x04^Fc\\xe7\\x0f\\xe0\\xe9>\\x1b\\xe7\\xc94\\xbc\\xef^\\xc1\\xdf\\xb1\\r\\x1e\\xdf8\\x99\\xa3\\xe7\\tM\\xab\\x8b\\x15\\xb7\\x12\\xef\\xc71\\xd8\\x1fH~\\x8f\\x1b\\x8e=\\xaa<\\x96o#z\\x9ez\\x98\\x93z\\xe1\\xf2>A)\\xd5\\x9b\\xd4\\xdd\\xbb\\xf1\\xb6JE\\xbf\\x15\\xc1Y/Dx\\xe6\\x19\\x02-\\xcf\\xe0\\xfb8\\x80R$?\\xe9\\x9d\\xb7\\xe0k]\\x1b\\xf3\\xd4\\x16\\x9c\\x1dc\\xd1\\xc7\\xb6\\xc4\\xb8Q\\x0bO\\xe3\\xc68\\x8f\\x17\\xc1]Y8)\\xf6\\x1e\\xf6\\xd9#\\xe8\\x1f.\\xc5\\x1c~\\x07\\xedN+\\xd4\\x95\\xc2\\xfe\\x07\\xd7\\x88\\xcbl\\'\\xb1\\x94[\\xe6\\xd2R\\xbc\\x07o\\xc9\\xbc\\x9dC\\x8a^\\x0bo\\xd40\\xdcwn\\xa1.\\xef\\x8d\\xedK\\xc2;i)\\xea\\x7f\\x0e\\x90\\xf4b\\x15\\x81\\x84=\\xf2\\xec7\\x88\\xf4\\x95\\xfb.k&\\xdc\\xe1\\xc0\\x0co#}\\x92\\x85\\xab~\\r|G\\xde\\x96||\\x07\\xe7\\xcc\\xc3\\xf8SN\\x10\\xcaU\\x06\\xbdFe\\xcc\\x19\\x92\\xd1\\x89\\x0f\\xf0}\\xf8\\x18\\xf3\\xb9\\xf4\\xfbq\\x99\\xb9\\x13\\xc6\\xe3z\\x90\\x07#wO\\xbc\\xfd\\xaa\\xe3i\\xd2\\x0bo\\xc3\\x10\\xae\\xf05\\xf4K\\x9f\\xe2\\xefU\\n}M\\x1d\\xfc}\\x86\\xa0\\x9d\\xc9&r\\xb27\\xda\\xe5N\\xf8\\'\\xcb\\x1e\\x14\\xae/\\xec\\xf5\\x00w\\xca\\x10\\x8c\\'\\r\\xf1\\xe4;\\x80\\xe3~\\x00c\\xf5\\n\\x8c\\x89>\\xacF\\x85\\x84\\xd7\\x8f\\xe1\\x18\\xb5\\x08\\xeb\\x94\\xf8\\xc9\\x86>h\\xb5\\xff&\\xd5u\\x06\\xf7\\xee?\\xd0\\xae\\xfd\\x85\\x7fB\\x03\\x1cy\\x9f\\x88\\x0b=\\xc7(y\\rG\\xb9\\x822\\xd3\\xffD\\xeb\\xfe\\xb9\\xb0L\\xa60J\\x07TG:\\xcaR\\xd9\\xdf!\\xa0\\x7f\\xfb\\x18\\xfb\\xbb~\\xb8\\xf2\\x96C[WM\\xf6o?J\\xbd\\x9a\\x04\\x8a\\xa5b\\x01\\x8e\\xcb\\xadHXv\\x95`\\x8b\\xea$\\x9b?\\xe0\\xbb,<Qe4\\xe6\\xd2\\x1d\\xd8\\x13\\xe2H\\x9d\\'~Td#\\xae\\xe1\\xc7\\xf1\\r\\x1b\\x87\\xbd\\xb9\\x19\\xc1i\\xab\\xf0\\x9c[\\x84~\\xde#\\x0c\\x19\\x85\\xa2\\x94Ai\\xfe\\xae\\xf0x>\\x82W\\xdeF\\xdd\\x9c@p\\x80\\x07\\xcf\\x9c\\x13\\xd8)R\\xffE\\x1e\\xe3\\xdf\\xd4^\\xfc\"/\\xbe\\xad\\xb1\\xd83\\x8f\\xa2t\\xddG\\xe4U\"Z\\xe7\\x8b(\\x1b-\"\\xc5\\x7f\\xc6\\xd8\\xdf\\x05\\xf3\\xbd\\x968\\xf5(\\xdc\\xeaX\\xec2\\x9f\\xe3{P\\x81\\xf0\\x81v\\x92\\rQ\\x18Mn\\xe0\\x7f\\xff#\\xd4d7J\\x15\\xe1\\xd7\\xb8uX3\\xe4}\\x92\\xc7\\xa1\\xbcS\\x1d\\xa3\\x8f\\xf4\\xdf\\x9d%\\xa4\\x17\\x9b\\x8d\\xf1h\\x1e\\x9a\\xb0\\xb7Uk\\x00\\xe16\\xc7\\xf0\\x9eW\\xf0~\\'^\\xbam\\x1df\\xa7\\x02$7\\x1e\\x8c\\xeb\\xd6M|3\\n\\x8b\\x13\\n\\x13m\\xd9\\x8e\\xba\\xbf\\x84\\xd4Zg\\xcc\\x0f\\\\\\xd8\\xb7S1\\xde\\xbb\\x8a\\xf2\\xe6|\\xfcy\\xd7\\xcaY4\\xc7z\\xfe6\\xaeM\\x7f\\xe0\\xfca!\\xde\\x07\\r\\xf0\\xe4<\\xc17n\\x01\\xc9#\\xff\\xc4\\xbc\\xf2&\\xc6\\xe15X\\xc7\\xc5ys\\r\\xc2{\\xfd&\\xd6j\\x17f\\xfe\\xde\\x92\\x8b\\t\\xe8\\x1d\\xa4\\xf6\\x86\\x96Bk[\\x83H=\\xe1\\xfd:\\xd7\\xb1\\xbb\\xbe@my\\x0c\\xd7,\\xa9\\xd9F\\x92E\\xfd\\x85\\x19\\xbf2I\\xe9/\\x8e\\x16\\xbcC\\xa0t\\x0f\\xc9\\x18\\x99\\x1d\\xeb\\x8b\\xa1w:\\x82\\xf9\\xd9Gx\\x06%\\x0bK\\xcfC/>E\\x1cQ\\xf6l\\xe9P\\xb4\\xdfmR\\xdcC1\\x84]\\xed\\xe4%(\\x95\\x06\\xa1\\x95n\\x86%=\\xe3]%\\xb9\\xaa\\xdc@\\xad]\\x81\\x94\\xa0\\xd4\\xc2O\\xd2\\xe3S\\x1b\\x10\\xcc]\\x0e_\\xef\\xc5$\\x8dh\\x82\\xf7\\xef\\xdfq\\xcc\\xec\\x8b\\xf2\\x9e\\xf0\\xed\\xb4(l\\xa7\\xcc\\xe9\\x9a\\xe2\\x9e\\'Na\\xb4\\x9a\\x88\\x920\\x1c+\\xb1\\x03\\x9e[/\\xb1\\xda\\xcf%-o\\x04\\xfd\\xeb\\xea\\xa4n\\xcc\\x8b\\xf2\\x89\\xcc\\xf6E#\\xf0\\x1f((\\x19\"\\xcesV\\xf2\\xe2vm\\xdc%\\x07\\xe1\\x9aS\\x01mok\\xfc\\xdb\\x8a\\xe0{\\x7f\\xb58\\xf68\\x9c\\x07\\xab\\xa0^m\\x8b\\x1a\\x8c\\xc5\\xdd]\\xbe\\xd66\\x0e\\xebfk\\xdc\\x8f\\x84\\xfd\\xbe=\\x85\\xf9S\\x10\\xef\\xf3D\\xcc\\x87\\xfb\\xb1\\xf7\\x88c\\xa8\\xf5q\\t\\x9by[\\x94%-\\xfe\\x14\\x9e1~\\xac\\xbd\\xa3\\xd0\\x13\\xe5\\xfc\\xcf\\x8d\\x136\\x11^\\xd8\\xfa\\x1c\\xbd\\xd2e\\xd2\\xff(\\x8b\\xbaF\\x98h[6\\xc6\\x89h\\xc2+.\\x13\\xfa4Q\\x9c\\xa6\\x19\\xbe)%\\xc5s\\xe5\\x9e\\xf9\\x06\\x92\\xd2l\\x14V,\\x18w\\xbf`xm9\\x83r\\x87\\xb0\\xab\\x97 \\xf8\\xc19\\xb4Yu\\xa4\\x9f\\xca`\\xbd\\xba\\x89\\xe3\\xddl\\xf4V&\\xbe65P\\xbd\\xe7\\xa4\\xff\\x8f\\xa3\\xf4)\\x83}Hrp\\xb6\\xf8z\\xa1\\xea8\\xea\\xdc\\x15\\xb6\\xefG\\xe0\\x93\\xa5$\\xbd[\\x8a`\\x05a\\x8f\\xc2\\xc2cC\\xee\\xe1\\x0b\\x8a\\xdb\\xd5\\xb9F\\xc0\\xbf\\x9f\\xa4N\\x7f\\xa2\\\\\\xb4\\xd0\\xbeZ\\x8b\\xe1\\xed\\x81/T\\x10_\\xc2\\x03\\xf4{Sp\\xf4\\x91y\\xffy9R\\xee\\x1cC\\x9b\\xbc\\x0fu\\x90\\xf8\\xd8\\xc6\\x9f\\xf1\\x8f\\xadHh\\xfb\\x8f\\xe8>\\x99\\xd7\\xdbK\\xe2i\\xfd\\x1b^z\\xe1;q\\x1b\\xf3\\xf6^|\\xcfKa\\xb5^\\x85y\\xeb\\x11vf\\x1c\\xe6\\xfb\\x9d\\xf0\\xb5\\xc8\\xc0\\xe3w\\x89gU \\xc1{\\x0c\\xb5Q\\x01\\xc2W\\xc6\\xe2\\xcc#\\x19s$\\x86p\\xa3\"x\\xf2LG\\xf9N\\xf6\\xa3]^\\xcc\\xb6\\r1G\\xc4J_\\xd5\\xc7n\\xd1T|r\\r\\xe6\\xa3\\xd9\\xe8I\\xaf\\xf1\\x9d\\xbf\\x82\\xba\\xf7g|}~\\xc3}\\xf6\\x95\\xcc\\xd4\\xf5Rk[\\xd1Nn\\xc6s\\xe1\\x12\\xf6\\xde\\xc5\\xb8\\xee\\x9c\\x15?]I\\xe0\\xc3h\\xb4\\x14a\\xb5F\\xb5\\xb1\\xbb?F\\x93|Q\\xbaf\\x93\\xd1\\xfcO\\x12gJ\\xc6\\xf6,\\x85\\xafa\\x0f\\xd4p\\x14\\x9e2\\x11\\x825s\\xc4\\xc5.\\xe3==\\x97\\x94\\x9coPk\\xce\\xc5w\\xef9\\xfe\\xb92\\x0b*\\\\\\xc7s\\xfa\\x13a\\xe3\\x81\\xa8/\\x85\\r>9$l)\\xf9\\xb1W\\xee\\xbb\\xfam|\\x93\\x13\\xa4\\x9f\\xe3Qv\\t\\x03\\\\\\xc8\\xc4\\xde8\\x13\\xbf\\xd5\\x0c}y\\x7ft\\xa7pB\\xc9\\x04\\xb4\\xa4\\xaa8\\x97O\\x16\\xbf\\xcd\"\\x947\\x0f\\xce\\x12\\xe5\\x08WiO\\xda\\xbc\\xadXGd>\\xb8\\x0b\\xa0\\xec\\x137:&\\x0c\\x9e\\xa7\\x11\\xaeVM0\\x16W\\xc2\\xb1\\xb4\\x10\\x9eIc\\xd0\\xeaEP\\x92\\xc7\\xe0*;\\r\\x97\\'\\x01\\xebj\\x06J\\xe3\\xd3\\xb2\\'\\xd2\\xaf\\x15\\x15\\xb4O\\xe7\\xe1\\xcfU\\x1d\\xed\\xdc.|\\xcdf\\xa2\\x84vH\\x96=\\x16\\xdf\\x18\\x8f{\\x9d\\xb8\\xcc\\xc1\\xc6\\xa8\\x85e\\x8e\\xec(\"N\\xb2\\x85\\x94W\\xeb\\xf1\\xbd}@\\xf2\\xf1\\x18)c\\x8e\\xe0,\\xd2B2\\xfd\\x94\\xe4\\x8f\\xf8\\xc7\\xa5\\xa2\\x84\\xc7<!\\x98\\x9aF\\xb0\\xd5n\\xd4\\xedK\\x08\\x9c\\xbb\\x8b:\\xe1\\x13\\x86\\xc7\\xd7\\xc4\\xde\\x95\\x97\\xc0\\xc1\\x0c\\xf4\\xdb\\x7f\\xe3\\xde\\xd2\\x80\\xd4w\\xfa\\xe3\\xec\\xecB{P\\x8d\\xf4\\x0f\\xd6\\xe1,,{\\xb44\\x1a\\x7f\\x19\\xf1\\xcf_\\xbe\\xc7\\xecu\\x83\\x806\\x165\\xfe\\x1a\\xc6[\\xf7\\t\\xeeI\\x12\\xbe\\xaaG\\xea\\xe1X\\xb4\\xa3\\xf9\\xc5/%\\xff\\xff>\\x88\\xf7\\xf0\\x97\\xf8\\xa3\\xc5\\xf9_(X\\xb2g\\xd6\\x88\\x81\\x04\\xe6\\x9f\\xc6\\xae\\xfb\\x8e\\xf4\\xebX\\xcc\\x7fXhL\\x16\\xbazR\\xd8m\\x13\\x89\\t\\xc7\\x08\\xfc)g\\xf3FOB\\xe3\\x96\\xe2(uOrc\\x908\\xcbu\\xf1\\xfcf\\x98\\xdf\\n\\xb3t\\xb8\\x83{\\x89|\\xed\\xe2#\\xfc\\x85\\x84\\xc5\\x8fV\\xc2\\x17\\xb5R\\xb2X\\x1c\\xa1\\xef\"\\x12\\x1b\\xf7\\xc0\\x9a\\xad\\x8a\\xe7\\xca\\xd7\\xa7\\xf5\\xc1\\xd9D\\xf6bjW\\xd4\\xfb\\xb7\\x84\\xf7\\x17\\xa0\\xbe\\x92\\xbe\\x9e\\xd0\\\\\\x18N2\\xf1i\\x0c\\x9e\\xf9\\x8d\\xc5\\x07La\\xa12\\xa8\\xbf|\\x8bv>\\x0e_\\x97\\xd7\\x98\\x99#pV\\xf8\\x08eRy\\x02?\\xfb1v\\x0c\\xc2\\xfd]4\\xbe\\xae\\xe2i\\x1f\\x17\\xc4\\xd9=\\x1d\\xc7o\\xf2\\xcc\\xdf%//\\xc8L\\xce\\'=\\xd6\\xec>\\xfa\\xdb\\x99\\xe2\\x0b\\x8d\\t\\xa7\\xaf\\x90Y&\\xbd\\xd0e1\\x9e\\xf1\\x13\\xb0\\xeb\\xad\\xc5\\x9f |e\\xac!\\x925\\x8c\\xa4\\xda\\t\\xf8\\xf7I\\xf6])M\\xfc\\xd2\\x1a\\xd8gz\\xe1<\\xb0\\x0b\\xff/\\xd2\\xb3\\xcb\\xc3\\xb8\\xfb\\xc7\\xe2\\xd9\\xd0\\x14c\\xee11\\xbd(\\xccyR\\x9bC\\xef\\xe1\\xee\\x19\\xc0?p\\x05\\x9e\\xe3\\xdd\\xf1\\xfeZ\\x06s\\xb7\\xb8z\\xb4\\xd4\\xceY\\xd9\\xbb\\xacZ\\x04\\x16\\xb8p-\\xb9\\x88:\\xae\\x1c\\xce\\xa3\\xc9\\x18\\xcb\\xa5\\xfe\\xee\\x17\\xc4\\xa8\\xd6R\\xce\\xa8\\x8d\\xece<\\xc9\\xaf\\xb7\\xe1M\\xda\\x85\\xd2RXyR9\\x02\\xa7\\xaeb\\x1e\\xdd\\xce\\xf0\\xb4/Qf\\xb7#q\\xfek\\xf1\\xc1\\xc2x\\xae\\x14F)\\xfa\\x93d\\xd1\\x1b\\x18\\xd3*\\xa0~QQ\\xb8\\xb9)J\\xae\\xfb\\x84\\xc6\\\\ \\xb8\\\\8\\xa3\\xf7\\\\<\\xc7\\nc\\x97\\x10.\\xbc\\xfd+\\x1eM\\xc5\\xdc4\\x0f\\xe5\\xe7\\xe7\\x98\\x03\\xbd$\\xdf{\\x173\\xebG\"q\\x17I+\\xff\\x8d|\\xee\\x0c\\xde\\xaa\\xc2\\xd8#\\xaf\\n\\xb3\\xcaz\\xc6\\x9e\\xc37\\xfc\\x0b\\xd4\\x01\\xef\\xa2T|\\x83\\xe1g\\xc5%{H\\xae]\\x92=}!^Z\\xf1\\x11\\xae\\xccax\\x9d\\xe2\\x8a7{`\\x9e\\xac-\\xdf\\xdb\\x1aK\\xddE\\xa8o\"zZ4\\x1e\\xa70\\xf9\\xa1\\xc7\\xe2J\\xb3%\\xbb\\x07\\x88\\xbb\\xb8I\\x1e\\xd1\\x0b\\xf5\\xd4\\x0c\\xd2_t\\xc1\\xb9IX\\xe4\\xe3\\x19\\xe2i\\xf1\\xa4\\xcc\\xf8\\x18\\xff\\xa2N2\\x0f\\xa5\\xfe\\xd6\\x9d\\xc4\\x9e\\\\\\x0e\\xe5\\x87\\xf7\\xa5\\xf7%7\\x7f\\x10\\xde\\xeb9\\x03O\\x9f\\xe2XI\\xe2\\xbd\\xb3\\xa4\\xae\\xc6xq\\x17\\x90\\xfc\\xea\\x98\\x84\\xa7\\x9d\\xcc\\xb5\\xbd\\x92\\r\\xb5\\x8a\\xa2]\\xdaG\\xf8\\xdbx\\xe2\\x87\\\\B\\xd9\\xd6\\x8dPAaU]r?\\xa3%\\x8e\\xc3\\xbf\\x90zV\\xcee\\xd3\\x16\\xe9M\\x99\\xa9\\xa1\\xdc\\xb8\\'\\xa4\\x10\\xecxP|\\xf5w<\\xdf\\x95\\x10VX\"\\x19\\xf0\\x1e\\xd6\\xf5n\\x18?\\x16\\x17\\xff\\xcd\\x8d\\xfe\\x9e\\xf0\\xe0\\xa6\\xea\\xc2\\x97\\xe2DC\\xa6\\xe2\\xfd\\xcb\\x87\\xbd*\\x06\\xdf\\x80\\x0b\\x04\\xe2\\xab\\xe0lU\\x07\\xfd\\x90\\xb0\\xd6\\xa4J\\xc2\\x19\\xc2\\xa4m\"\\x18\\xd7\\x871\\xfc\\x99\\xcc\\xa9N\\x83P\\xab\\x0e\\xc3\\xf3g\\x17<\\x11\\xf1\\xe8\\x12\\rQ\\n_$\\xf2\\xb7\\xf0m\\xa5\\xfc\\xe8\\x83\\xe4\\xbe\\xad;\\x108\\x93\\x82Q\\xe6O\\xf4\\xdf\\xc5YvT$}\\xc2\\x0f\\xd8m\\xf6\\xe3\\xca\\xea\\x85\\xffI\\x11\\xec\\xd4\\xf9\\x18#\\xe7\\x13\\x98.L\\xd4\\xd5\\xc0\\xb9f\\x11i\\x07\\xa4\\x9e\\'\\x9d\"\\xa5\\xeb7\\x92e\\x9fH\\xbd\\xbd@\\x9f\\xdc\\x1e\\xbbd7\\xfc\\xfds\\xd0\\xeb\\x07Q\"\\x16\\x8e\\xd8\\x02\\x98\\x0b\\xf3\\xe0\\xb83\\x0c{\\\\\\xbc\\xf4\\x9b\\x07g\\x9dZ\\xf8\\xf2\\xd5B\\xcd{\\x05\\xadP[\\xf4\\xc2\\xb9\\x88l{\\x85\\xd9Or`\\xefR\\\\\\xfd>\\xc3\\xaa\\'\\xe76i/\\xce]\\xf512\\x84\\xad\\xf6\\x8bW\\xee\\xbc!\\xf7\\xd8Gh\\xd2H\"\\xa5\\x1ea\\xae\\xbc Y\\xd4\\x0b\\xcf\\xaa(\\xd4\\xa5c\\xe5\\xbcN\\x88KmC9\\x9e\\x85\\x11\\x9a\\x88Y.Aj<\\x19_9\\x1f\\x8eU\\xe7I\\x8a\\xfb\\x03\\xfb\\xc0\\t\\xbc\\xfb\\xa7anI\\x95\\xac*\\x8a\\x99\\xb2\\x83\\xd4_\\xbe\\xc29@\\x97\\xe7\\xbc\\x83~\\xb1\\x1f\\xb6\\xfa!V\\xf6\\x1c\\xbco\\xa4\\x13t\\x88\\x0b\\xd5\\x97\\xd9\\xf9q>\\x1c\\xd7e/\\xee\\x0c\\x16\\xaf)I\\xf8\\xcdv$\\x0fxN\\xda\\xb4\\x81$\\x9f\\xae\\x8b\\xde\\xbe\\x1b\\xa9s\\xdb\\xa14\\xe9*Y\\'\\xd9v\\xaa\\x89\\xf8H{|s\\x1e\\xe1| \\xde\\xd7H\\xd6w\\xab,\\x9e\\xfd3p\\xc7\\xb91^u\\xc5{7\\x9a\\xe0\\xe8\\x0f\\x08L\\x95Y\\xf6e,)\\x89\\xc2\\xef\\'\\xb7\\xa0d\\xed\\'\\xf0O\\xed\\xdf\\x0f\\xe1\\xf4\\x8cC\\xbb;\\x92\\xd4\\x05GH\\xcbw\\x01\\xff\\x8fw\\x88\\xc4D\\xa3\\x1c\\xf5\\x89\\xbb\\xe5\\xc5\\xe8R\\x06\\xe74\\x97\\xb0I\\x15\\xbc\\x0bZ\\xa3\\x85{\\x12X\\x11C\\xb0\\xceEB_\\xb5\\x96\\xd9]\\x81\\xe0\\xb6\\x11\\x84\\xf5\\xc2\\xc2\\x85K\\t.8)\\xd9,.Yv*\\x81w\\xa5\\x1e\\xa6f\\x11\\x08J&\\xac.\\x8d=Hf\\xe9\\xd9\\xaeD|\\x86\\xf8E\\x05\\xfc\\xd3W\\xe3J\\x94\\xf3\\x1b%\\xbc\\xe2\\xe9!y&3\\xb9\\xf9\\x12\\xd2\\xca-\\x939$\\xcc^\\xd4\\x87\\xb6t\\x1a\\xde\\xc5\\xb3\\xf1\\xdcO\\xc4\\xaa\\xd3\\x82p\\x9foQ\\xef\\x861\\xa6o\\xc0\\xf9U\\x07\\xdcs;bM\\x13o\\x9a\\xf8\\x05\\xfa\\x98(\\\\s+\\x12\\xb8.\\x9e<J\\xd8\\xabe}9\\x87\\\\(\\xdd\\n\\x12|\\xb2K2s\\x12\\x9e\\x01\\xb3$\\xd3\\xd6\\xa3\\x9fh\\x8ck\\x8f\\x07cN\"\\xc1B\\xed\\x993f\\x19\\xebe\\x9d\\xd3\\x1e\\x9c\\xc1Z#>\\xdc\\xb3\\x9a0\\xeae\\\\m_\\xe0\\x1c[\\x84\\xb4\\xc2\\xe2\\tw\\xf6\\xa1\\xcf_!\\xeejJ.|\\x88vb\\x1f\\xa3\\xc6\\xd6&\\xfd\\xcfN\\xa4uT\\x08O\\xfc\\x9e\\x11\\x8d\\xf2\\x12)|\\x04\\xdf\\xadk\\xf8e\\x0e\\xb8\\xd5\\x8f\\x84\\x832\\xe5\\x9d$\\x87\\xdbo\\xc5l\\xf2\\x06\\xee\\x12ocV;NZ\\xee\\x19\\x98\\xa7Se\\xb6\\xfe\\x812\\xb8#jI\\x15\\xcf\\xd7\\x1b\\xf0\\xfcV\\x13\\xef\\xf2\\x05\\xf8w\\x8a\\xa7\\xad\\x93\\xf7\\xdf\\xdc\\x11g\\xff\\xdc\\x92\\x89\\xf7\\xd1\\x12\\x06\\x13\\xf1JO\\xcf\\x15\\xff\\xad\\xfaT\\x18s\\xbf0\\xd7\\xcfh\\xde\\x9d\\x18C\\x9f\\xe2_\\x1d+\\x0e%\\xee4l\\xaa\\xb8\\xb0\\x8aR#\\t}\\x83\\xb0V\\x8b=\\xb8\\xdb\\x8b\\'\\xae\\xde\\x8b\\xfb\\xc4\\x05\\xc2\\xc1\\x8d\\xa8/\\n0\\xa1\\xcd\\x9f\\x1cO\\xfe+\\xa6L\\xf3\\xfbl\\xcd[\\x86\\x11\\xf9[\\x10\\xa9\\xd3\\x1e%\\x7f.\\xacK\\xeb\\tU\\x95L\\xcc\\x9c\\x8b\\xb6\\xc5\\x835\\xa5\\xbb\\xb0\\xc5\\r\\xbc\\x7f\\xde$\\xf2\\xd0\\xcd\\x84FA\\xa6\\x14\\x1a\\xca\\xcc?\\x1e2sb\\x88\\xf1\\xf7Fc\\xd5|\\xc5\\xa8\\xb5\\x0f0\\xaa\\xcb\\x0c\\xeb\\xbd\\x13owq\\x96+\\xab\\xf1\\xaf\\xcb pZf\\xce\\x8c\\x96h\\x8b\\x0f\\xe1\\xfe\\xfcg\\xd2\\xb6\\xee\\x93\\x1e\\x96|\\x7f\\x12\\xc2\\xd3\\xbb7>\\xeb-\\x9c\\xa1\\xbeh\\xe3\\x0f\\n\\x97\\xe6\\xa0\\xde(%\\x0e\\xf21\\xa1a\\'\\xd1f\\xc8\\xac\\xef\\xf5\\x0bv\\xe3u\\xe8Y\\xc2\\xb2\\x17\\x82\\xe8\\xab\\x9e\\xa1<\\x8b\\x10(\\xf0\\xcf\\xcfb\\xc4\\x03v\\xc9~\\xae\\xb8\\x8f\\xbd\\xe93|\\x91i\\xa4\\x9f\\xf9\\x10;I\\xe6u\\xe7\\xa1x[\\xef$-\\xdc\\x08\\xcfZa\\xfb\\x15\\xdd\\x89\\xe4\\x19\\xc2\\xe4\\xec\\xb2\\xac\\xfcu89\\x93~c\\xdf\\xb4\\x83LP\\x9a\\x91\\x1e-\\xecxH\\xcew\\xd3Y\\xfc\\xe5r\\x84\\xfd\\xb2$\\xd3z\\x10T\\x12eN\\x0e\\x13\\x9e\\x18\\xc1\\x88\\x93\\xe3\\x985\\xe8\"\\xdf\\xbd\\xdb.\\xa6P\\\\\\xdd\\x98\\\\S\\x0b\\xb0\\xe9[/\\x93\\xdb\\x97gDO\\xc9\\x85t\\x99\\x93\\x073ef\\xed\\xc68\\x94\\x8a\\xfd@\\xe6\\xff\\xd0\\xc9\\xb8\\xab\\xcd\\xc17F\\xe6\\xd5\\x10Er\\xfdO\\xacO7`\\x8c]\\x8f\\xe2\\xb71\\xb67&\\xe8\\x94\\x9ck\\xb8\\x15\\xb5\\xf9*\\xb4US\\xd0\\x87\\xfd\\x81\\xf1R\\xdc\\xb3\\xd4n\\xbcy<\\xa4\\xe6\\x95,\\xed\\xdf\\x19\\xcfg\\x8b\\xb1\\xd7\\xd5F\\xafR\\x06wE\\xd9\\xf3\\xba\\xa7\\t\\xec\\\\\\x81\\xd5m=\\xfe\\xbeq\\x84\\xdd[\\x89\\xe4\\\\$5\\xab\\xb3\\xf0\\xef+\\xac\\x84|D\\x92Na\\xc7\\xc8\\x0c\\x9e\\x92\\x85\\xbf^\\x80Q\\xd7\\x82L\\x9eU\\x8f/\\xb7\\xdff\\xe1\\xca\\xfc\\x8c\\xcf\\x10f\\xear\\x01\\xad\\x81\\xec{\\xfaq\\xbc]\\x85\\x9d\\xf7\\x85\\xf0\\xee\\x15\\xde{\\xaf\\x1c\\xe9\\xfd\\x93I\\xbdy\\x86\\xac\\xcag9\\x1a\\xfbnL\\xff\\xbd\\xa5:\\xbc9;o\\xcc\\xd3\\x8d\\x0fb*5^\\xce\\xca\\xc9E\\xf8<\\xf7lF\\xe4i\\x85\\x15s\\x03\\xabS7\\x02\\xd3\\xbe\\xc47r)\\xfa\\xf3\\x87\\xf8\\x1c!\\x8c\\xe8|XET\\xd2J\\x1d\\xc0{\\xee\\xbe\\xb8i\\x10\\xdf\\xd1\\r\\x04^\\x7f/\\xf3f\\x1d\\x8e&-1j\\x97\\'\\xf8\\xec\\'\\xcc\\xc6\\xb2\\'1U\\x08\\xb7\\xfc\\x1a\\xed\\xe9$\\xc2\\xd9Mp9[`/\\xeb\\x8d\\xd2b\\x15\\x8e\\xbe\\x05qT~\\x86\\xef\\x8d\\xc3\\x18\\x8f\\xd7\\xe1\\xcf\\xbe\\x82\\xee\\xde\\x89\\xfa\\xbbp\\xe1\\xd1\\xb0\\xf0\\xe4_\\x04ZH\\xdd\\xee}\\x86\\xb1\\xa7=\\xa9\\xc3\\x85\\xb1\\x8e\\xe4\\xc2w\\xb25#{\\xb5a\\xe4\\xefe\\x18\\xfdd8\\x9f\\x97\\x10\\xc7\\xd8\\x7f\\x8fP\\xc5\\x9e\\xb8J\\x17\\xc0\\xf8t&\\xe1\\x8f\\xa5\\xff;\\x0b\\xd3\\xb9\\xcf\\xe0\\xf3\\xefbT\\xd1V\\xa4\\xa5nf\\xca\\xea|\\xdc\\x9d\\xb4!f\\xcd\\xea\\xb8\\x0e\\xf3\\xed\\xdc\\x1df7\\xdf\\x113z\\xae\\x8fs\\x85N3+t\\x8fQ\\xeb\\x8e\\x11yp\\\\\\xce\\xad3\\x91\\x1as\\xb1*f\\xa2mhD\\xb8KwB\\xa5\\x82\\x04\\xe7\\xfe*3\\xb1\\x05\\xc6\\xb6\\xbdh\\x855\\xc2g\\xe21\\xff.JZ\\xd3\\x9dX\\x9bR\\xb0\\xa6\\xcb\\xcc\\xfa\\xe9;|K\\x86\\xe0\\xec\\x9b\\x0f\\xe3\\x8f^\\xb2f\\xd9\\xf7\\xa5\\xc26\\x9fe\\x13\\xc8\\x16\\xdf/\\xbf\\x93\\xd0\\xbd\\x1b\\xb8\\xea\\x95\\xc5\\xc8|%3Q2\\xbc\\xa08\\xfe\\x99\\xdc(\\x19\\xcb\\xb1V},\\\\w\\x14\\xcf\\xd3\\xe6(M_\\xe3\\x1f\\xbcL\\xf2i\\x16FA\\x99\\xd7\\xf9,YS\\x02\\xe1\\xbdm1K\\x96\\xc5Wv4v\\x8f\\x18tM\\x98\\xe6v]|\\xa5\\xbb\\xe0\\xfb\\xe4\\x00\\xf6\\x9c\\xb1\\xf8\\x8d[\\x84\\xe7\\x1dgL\\x89a\\x8c\\x1c1\\x95i}\\\\<\\xe9\\xbb5frr\\xc1\\x0e\\xd5\\xadr\\x1d\\x06\\x9a\\xc91K3j\\xf2{\\xa5\\x07\\xccx\\xf5\\x9a\\xc8\\xa2!\\x04{\\xf6\\xc2[4\\x8aH\\xf8<f\\xe2|B\\xb1\\xf1xz~\\x805NX\\x7fl~\\xcck!\\xf4\\x8e\\xa51\\xe2t\\xac\\xea\\x0e\\x94\\x82_\\x90\\xda\\xe8:F\\xf9\\x13X\\xfd\\xc5y\\xf6\\x95%\\xb4i\\x13\\xf6\\xb0/\\xb1\\xd3\\xf7\\xa3U\\xdc\\x8f\\xf7k\\xc9\\xdf\\xdc3\\xd12\\x16J\\xe6\\x0eA\\x1d\\xdd\\x0c\\xe5\\xf2~\\xac\\xb7\\xcfb\\xc4O\\'\\xad\\xf4zR\\x1b_\\xc18\\xed\\xc0\\x1e\\xf1\\x1b\\xe9\\xe5W\\x92\\xd4e#\\xfe\\x9eKp6k\\x805z\\x99\\xf0\\xb2\\xcc\\x98a}\\x08?\\x11\\x87x\\xb9\\x8f\\xe0\\x87\\xc7H/[\\n\\xa5\\xf5 \\x02\\xdfUA\\xaf5\\x19k\\xe2\\x11\\x02C$g\\xdfq\\t\\xab\\x1f\\xc1\\xda\\xb8\\x87\\xb4wu2\\xdbtc\\xfa\\xa1G\\\\;\\xb74\\xa6\\xdd\\xfe\\xd61\\xe9[\\'\\xc6\\xac\\xde9-&}\\xf9\\x1b\\xdc\\xbe\\xf31\\xd3/\\x14`\\xec\\xe72\\xd3;T&\\xf2M\\r\\xacj\\x93\\xd0w?\"8o\\x1b\\xa1\\xe9}q]\\x11\\xc6\\xcb\\xbdS\\xf6[X0\\xee\\x14\\xae\\x03=P\\x1eN \\xf9\\xc1a\\xbc\\xcfv\\xe2>_\\r\\xd77C\\xf0G\\xc4U2\\xd7c~c\\x90\\xb6\\xf41\\x9e\\xc72[\\xdbld\\x98]\\x10\\xfd\\xfd\\xa2\\xe2w\\xc7\\xf0m\\xfa\\x02e\\xc9\\x11\\\\\\x8b\\xdf\\xc43Kf\\xc3\\xbd\\xe1\\xf8[f\\xe3N\\xdf.=\\xe3!\\xb0j$\\xeeL\\x1bo\\xe2\"\\xd4\\xc7C\\xd1\\xb6V }\\xe1\\x1e\\xd2\\x9b\\x97\\xc15_\\xd6U\\xd5\\x83o\\xb0\\xbc\\x8br\\x13\\x7f\\xe9\\x9e\\xa8\\x05\\x8a\\x0bC\\x94\\x17\\xd7\\x1f\\x8f\\x9e,N\\xb5\\xe07\\xa9\\xd7\\x8b\\xd8\\xc7b\\x19\\xb5\\xea&\\xd3\\xeb\\xee`\\xca\\xf5v\\x1c\\xbc\\xf3vL\\x9e\\x9d\\xfe\\x98\\xe8\\xe1\\x191o.\\xdf\\x18\\x13\\xbd\\xfa\\x07\\x0e\\xfe\\xf0\\x94/\\x0b\\x8caD\\xbe\\xe6\\x84KE\\xe1\\x7f\\xbc\\x8d\\xe0Ia\\xe6\\x88\\x8a_\\xf8-\\xbd\\xa0\\xf4}\\xe5e\\xc2-\\xb5I\\xcb\\x99\\x89\\xf7m\\xf1\\xef\\x9fk\\xa3\\x1e;\\x82?=\\x19\\xefo\\xc2\\xd0;\\xcea\\x16\\x8b\\x96\\xf9\\xd2\\x94\\xc0\\x8d\\xb2h\\xff\\xb8\\xc8\\x8d%(\\x93\\x1bb|v\\x9d\\xe0\\xf1\\x92\\xc2\\xbd\\x95\\xb0\\xb7=!\\xf2\\x930\\xd7\\xc4h\\xbco\\x9e 9X\\x03\\xbd\\xb9\\xacg\\x94p\\xc9\\x93\\xde\\xb2\\xb7s%Ov`\\xe5\\xdb\\'\\xfd^\\x1b\\xf3\\xfb:\\xc2G\\x95\\x08\\xc8;)\\xbf9\\x08T\\x16g8%\\xbd\\xb5\\xbe\\xacxh-\\xec\\xe7u1\\x8b\\x08\\xe3\\xc66D\\x9d!\\xfe~\\xf2\\x05\\xa1\\xffl\\x94\\xfc\\xbcNhs\\x17\\xd2\\xfa\\x8c\\'+\\xcf2&\\x15\\x9e\\xcf\\xfc\\x9a*\\xeb\\xbf\\x1e\\xca\\xc6\\x9dg8W\\xb1#\\xc7W\\x17f\\xd9\\xe82L\\x98\\x10`\\xb4\\xf4\\xa8\\xdaa\\x01\\xf6|\\x99w=\\x84u\\xd6M\\xc0\\xf3~kRv\\x94\\xc1\\xd7\\xbc#\\xee\\xaagP\\x96\\xdf%T&J\\x18\\xba\\xac\\xb0\\x7f\\'\\xe9\\xaf\\x95(\\xb7\\xcf\\x12\\xfc^\\xdc\\xbe\\xf0J\\xcc\\x86\\xab%\\xf3\\xaf\\xe3g\\tI\\xa7\\xc4\\xb5w\\xf4&\\xbc\\xe2\\x16\\xde\\x8b\\x9f\\x08\\x7f\\x0eBi\\xbb\\x05kQU\\xf4B\\xe2\\x0e\\xd5\\xc6\\xa3\\x1d\\xac&|0Y\\\\\\xa71z\\xf68\\xfc\\x13V\\xe0\\xdcz\\x1e\\xa5\\x97\\xf0\\xc3\\x9f=pv\\x92\\xcfOjI\\xf8Q6N\\x99]\\xde\\xe5\\xe50\\xbf\\x90u\\xb6\\x91\\xef\\xb9\\xdc\\x11\\xbdHY\\\\y\\xda\\xa25oF\\xb0\\xdf\\\\q\\xb5E8?+\\x8b\\xfb\\xc3g\\xf8\\xf7\\xc42\\xa2r_2\\xfa\\x9da\\\\\\xbemd.:\\xcb\\xcc\\xb7\\xa3\\x99]{\\'\\xe7\\xee\\xd5\\xe5\\\\\\xdel\\xb2\\xd4\\xd6\\x8c\\x1b\\xec$2(\\x19e\\xcd\\x1d\\x8cJ{\\t\\xd6\\xed\\x8a\\xa5\\x84\\xf0\\x1d\\x16\\x87[\\xf8&\\xc1\\xe2\\xb3\\t\\xe6\\x97\\xf79pF\\x98{\\x08\\xc9\\x83\\x1dh\\xef\\xdf\\xc3\\\\p\\n\\xff\\xd1\\x1b\\xa8\\xdf\\x8c\\xc6h\\xf9\\x82\\x94\\xaf,2\\xccIh/\\x8a\\x88\\xb7\\x0bg\\xb4m)k]O$oG\\xb4\\xfa\\x8fp\\xef\\x18\\x8b\\x95\\xe79\\xaa\\xf4\\x98\\xd5R\\xf6\\xf7\\xf3g\\xa4\\xc6-\\xc2P\\xaa\\x13l\\xae\\xe2-]\\x08sy\\x82d_c\\xfc\\xa6\\x07}\\xdcYl=Vj!/\\xa6Kj\\xa9H\\x1cJ\\xf2\\x00<]\\x07\\x91<^\\xf8k\\xd6\\x0bq\\x9d\\x1d\\xe2\\xdcw0\\xdf/\\x876\\xa76\\xceu\\xb3\\xb1\\xef\\xe7E\\x9fR\\x80P\\x87\\x15\\xa4\\xdf\\xdbF\\xc0S\\x9c\\x8c\\xebg\\x08\\xe7\\x9f\\xc9\\xa4\\xe6\\xedYx\\xa24\\x1b\\x9a<%\\xeb;\\x99\\xab\\xe3\\x1a\\x12\\xae\\xd3\\x06\\xf3\\xe2C\\xac\\x1d\\x95\\xf1\\x8e\\xffE\\\\\\xa3)\\xe6\\xb3%\\xe8S7\\xa0t\\x14NmT\\r\\xa3f\\x11\\xe9\\xc9a\\x04_N\\xc5\\xf9M\\x1d\"\\xe9\\x92\\xdd\\xa3^\\xe1\\x18\\xff\\x0c\\xcf\\xc1>\\x18\\xef\\xad\\xc7u\\xda\\xc4\\xf9\\xab8\\xdb\\xf9\\x01$\\x05z\\x12\\x96wM\\xca\\x99\\x86\\xbb\\xde\\xfb\\xe8\\xb1o\\x90\\xa4U\\xc2Y\\xa1)\\x9a\\xf2\\x82\\xe4]\\x97\\xf1\\x7f9\\x17\\xd7\\xe7[0\\x8b\\x97\\xc2\\xfb\\xa8\\x1a\\x8e\\x7f\\xbckI\\x19\\xe1{\\x99\\x83?g\\xa3\\xc5\\x1f \\xe8\\xf3\\x91\\xfc\\xed1\\xec\\x96u\\xf0\\\\8\\x8b^O\\xbc\\xed\\xc2Hq\\xe9E\\xa4~)\\xcf-Q\\x84H\\x82\\xb8Cp*\\x9e\\x14\\x0bS\\xe6\\x87\\x12\\xaa\\x85\\xa5\\x89\\x1fgD\\t7]\\xc2\\xb7h\\xa8\\xecE%2*M\\'3!\\x93\\xcc^}\\x18}\\xbe6\\xa9\\x97\\xca\\xa2\\xe7I@\\xbf\\x1b@\\xb9%n\\x7fj/v\\x8a\\x82.\\xec`U;\\x88r\\xa6\\x02f\\x1d\\xc9\\xfd5!\"gna\\x1dJ\\xc6\\xf9\\xbe8\\xe7Z\\xc9\\xfe\\xbb\\x89\\xf8~\\x99\\x8f\\xd9\\xeb\\x15\\xc6\\x9f\\xfb\\xf0\\xbe/\\xb9\\x95o!\\xfe[\\x9dp\\xa7\\xe4\\x92\\x19~\\n\\xad\\xe66\\xb42\\xd9\\xe8\\xd1\\xe2\\x83Y5H\\xabWH\\xf8\\xe92\\xbe\\xa8\\xf3\\xe8\\r\\xc49j\\x16\\'\\xf0`\\x0fj\\xcc\\x11F\\xf6\\\\*n\\x12\\x85\\xb6\\xe0\\x02\\x91.\\xa307\\xafE\\x99\\xdb\\x0cO\\xd5\\xee\\xe8\\x15\\xb2\\x08\\x9d\\xbeE\\xcaw\\x01\\xc9<\\x13\\xb5\\xaf\\xf0L\\xdb{\\xe2N&\\xee\\xc5+\\xd0\\xaf\\x15@q\\xf4\\xc43#\\x06;Y\\xea?V\\xdc\\xb1x\\x16\\xce\\xb6\\xddH\\xdb\\x14\\x87\\xbd\\xe33\\x02y\\xcb\\xe2?uF\\xd6\\xfc\\x84\\x8c\\x97\\xd9\\xc2\\xc23\\xf0\\x16\\xfc\\x9a\\xd4\\'\\x8b\\xf1\\xcc.\\x80\\xaf\\xd7\\x16\\x99u\\xc717.D\\xf9\\xc9\\x87qD\\xce|\\xb5\\x0bmO\\x86\\xe4\\xfa+\\\\\\xab+a\\x16lA\\xe8\\x8d*8\\x96\\xbd@9\\x15\\x8d{\\xe52\\xac\\xeeW\\t\\x05%\\x0b\\xb2\\xf2b\\x1f\\xac/\\\\]\\x83p\\x8f*\\xc21\\x1a\\x0e\\x9f\\xd4t\\xc9\\x0bX\\x7f\\xdf&\\xa5Uq\\xb4S\\xc7P\\xbe\\x12\\xde\\xbep\\x14\\xed\\x07\\x07\\xea\\xa2\\x01\\x8czP\\x84\\x89W\\x8e\\xf0y\\xad\\xcf\\x08\\xfd*\\x9f=\\xfe\\x88\\xc0\\x18\\x99\\xe5\\xfb\\x85\\x85\\x0f\\xbdB\\x89\\x8dH\\xff\\x8d\\xc7\\x1f?\\x19\\xdf\\x0f\\xd2\\xe7\\x1f\\xc6\\xe2x\\xac\\x93R>[\\xe6\\x9a\\x8er\\xfd\\xbc\\xf4]^q\\xa9Wh\\xdf\\xba06Z\\xe8M\\xe5<\\x7fl\\x817\\xbb#\\xc1\\x81\\x9d\\xb0]C\\x89\\xfc8\\x1d\\xf5\\xab\\xe5\\xe8\\xa3:c\\xb6m\\x87\\xd1\\xaf;\\xe6\\x9d\\x04\\xf1\\xac\\x1d\\xf8\\xf2db~\\xdb\\x1d\\xb5\\xde\\x1d\\xdc\\x8f\\xff\\x83Q\\'\\x86\\xd4WU$c\\xa2\\xc5W\\x12\\x85\\xd5}\\xa8\\xb3\\xfb\\xa0e\\xde%%4\\x13u\\xcd!\\xcc\\xd5+\\xd1d\\x86\\xe9\\t\\xd2\\xbf\\x8dv\\xa1|:\\x04\\xf3d?|\\xa92/:T\\xc4\\xb1u\\x1e\\xa1mGq.pbK\\xdfj\\x0fWb\\x9c\\xab#\\xbdQ\\r\\xed\\xfeq\\xec\\xbfc\\x99\\xb4l\\x07\\'\\x0b\\xf6\\xe5\\xe0\\x8a\\x91\\x8c\\xb3&\\xe2\\xfd\\xa0\\x14\\xfe\\x9a\\x83\\xd0\\x1fGaU\\xed\\x8d\\x167\\x1b\\xff\\x9fW\\xb1\\x06\\x16\\xc1\\x9c1Nj\\xbc\\x12\\x9eKcQ[\\xc6\\xe2^qU\\xde[|S\\x9c\\xc6{\\xe6\\x05\\xee\\x988R\\xfa\\xb5\\'x&F\\x9e%57\\xb8$\\xea\\x80\\x97\\xe2U\\xf7\\xf0\\xef\\xbe\\x8d2\\xe8\\x03\\xc25\\xbf&\\x94vP\\x9c\\xef\\xae0\\xa28{\\xfcI\\\\\\x9d/bV\\x9a,\\xae\\x91\\x9f\\xd0\\x1f\\x89\\x0c\\xbfr\\x11\\xab\\xc2\\x05\\x8c\\x19R\\xd3E&b\\x8f\\x96\\xfbU\\x17\\x16o\\xb2\\x8b\\xc0\\xf0\\xeax?\\xda\\x85\\xf3\\xa8\\xd4\\xca\\xfa\\x138\\xc6H\\x1e\\xe5\\xbb,s\\xbd\\x1a\\xbe\\xbf}x<y\\xf1N\\xfb\\t5\\xedK\\xb4\\x8e\\xf30\\xd2;\\x92\\xf2b!\\xa1Iu\\xb0[\\xcby\\x9d\\xed)\\xfc\\xbcM\\xfa0\\x89\\xe9-\\n\\xf1\\xfd\\xf8\\x0b\\x9c\\xad4\\x80\\xc97\\xf2\\xe0+\\x16\\xc1\\xbcqNX\\xb5:\\xbe\\xa00Q\\x85Zh?\\xea\\xa8I\\xe2i;\\xb6\\xe0Q\\xba\\x93\\xd6h5\\x89\\xd3\\xeb\\xe3\\xef,93(\\x07c\\xfe\"\\\\\\xda2\\xcc\\xaf\\xc4k\\x87O\\xc5\\xeb]\\x86\\xa7x\\x13\\xecFc\\xb0z}\\x84\\xfe,\\x1d\\xcf\\x8dk\\xc2\\x19\\xbd\\xb1\\xb3\\xaa\\xa0\\xcc\\xbc@(\\xfaS\\x8c\\xae\\xad\\xb0\\x9b\\xf7\\x95\\xbe\\xae\\x87\\xeb\\xbdo1\\x87\\xbc\\x96\\xec\\xf8\\x04\\xbb\\xe4D\\x8cTSr\\xfd\\x19\\xea\\xf1\\x01\\xf8\\xaae\\xe3\\x19\\xb6\\rON\\x11\\x94*\\'\\xd0s\\xc5\\x92\\xf4p\\x07Z\\xa5\\x1d2\\xab\\xaa\\xe3*0\\x1b\\xa5\\xa2\\xb8\\xfeE\\xa9\\x83\\x9e\\xba\\xe4n5\\x9c\\xddR\\xb0w\\xcag\\x13\\x8a\\xe0\\xbeW_\\xb2\\xb1\\x06)\\xfds\\xc4\\x1d\\xdb\\xa3EK>L\\x88e\\xdc\\xb5\\xa9|1\\xea)+\\xd6w\\xe0\\x8b\\x8f\\xc5-V-#\\xd89\\x82\\xfb\\xdcd\\xbc\\xfay\\xb4\\xe1\\xb5\\xb1\\x85\\xe1\\xb4\\xb2\\xe2\\xadC\\x9eav\\x8f\\xc1\\xdb\\xf2\\xae\\xf8r-\\x029\\xc2D\\xa5\\x06\\x11\\xd4zK\\x1f\\xb5\\xc0\\xbd\\xe4\\x05\\xc1Rq\\xa8\\xd7\\xbf\\xc0\\xa8\\xfb7\\xce]\\x8f\\xd1\\xfb\\\\\\xc5\\x9e$\\xae0\\xff\\xa1\\xccJ\\xc9\\xd8\\xaa\\xbb\\xd0\\x90z\\x98\\xb8\\x80\\xd0\\xbcl\\\\?\\xf5G\\x99&\\xf7\\x1cS\\x0c\\xa5d6\\xc6$\\xd9\\xf3\\xdc*\\xc6\\xe1A\\xf88C\\xa4j\\'\\xcc\\xab\\xc2\\xcd\\x03\\xf6\\x89\\x93\\xb7\\x14\\xae\\x91y\\xa5\\xaf\\xc47\\xe4\\x04\\xde9E\\xf0\\xfc \\xbca\\x94\\xc2j~\\x80H\\xe1\\x12(\\xb5dvVI\\x97,\\x10\\x16[\\xdc\\x10\\xd7\\xa7\\xbf\\x904\\xfa\")\\xad\\x03xo?@\\xf9~.\\xa1Z\\x92\\x0f\\'[\\xca\\x9c\\xed\\xca\\xa8\\xb7&1\\xfa\\xfb\\xa6\\xa4w\\xad&u\\xf8O/\\xc8Y\\x17\\xce\\xc6\\x1c\\xd5\\x03\\x97y\\x87\\x80!\\x0c{\\xbb\\xbe\\xbc[m\\xbc\\xff\\xec\\xef\\xde\\x8exg\\xdc\\xc1;+/Zx:f|\\x0e\\xden+P\\x16>@_\\x9a\\x85\\x96\\x16B+\\xb0\\x17o\\x0fy\\xc6\\x8c\\xbd\\xf8O\\xcb\\x7fk\\\\\\xc4\\xd5I\\xf2\\xe2\\xadJx\\xbf\\xff\\x0b\\xdf\\xa0\\x17\\xe8_\\x94A3\\x9f\\xa0lz\\x8a\\x917\\x15\\xc78\\xd9\\xa3\\xa3EI\\xed\\xfa\\x08\\xbb\\xeeh|\\x03\\xcbb\\xbdU\\x9b\\xc4\\xc6}Hk\\xb0\\x91\\x94\\xe7\\x16\\xc1\\x12.\\xac\\xd9\\xddI\\x12\\'\\xf6\\r\\xedGp\\xe1\\xd5\\xff\\xfe\\xbc:\\xa9\\xacJ\"7H/<\\x0c_;\\x1d\\xaf<\\xcbW\\xb5\\x86\\xf8\\x8f\\xecm\\x8b-\\xe2\\'\\x01\\xacz\\xc7\\xa4~\\xef\\x89\\x0f\\x08\\x17:\\x07\\xe0\\x7f.L\\xf9\\x87d\\xd2\\xc1eD\\xa6\\xe6\\xc7\\xba\\xfd\\x84\\xb0z\\x13\\xab\\xb70\\xfdv\\x0f\\xc9_\\xc8<\\xf8\\xdc\\xc2sJ\\xc5L\\xaaF`\\xdd0\\xd4^+q\\xbc\\x93L\\xb8\\xa00\\xf0\\xa5\\n$tH\\xc6s\\xac!\\xa9\\x87%\\xbb&\\r\\xc2|\\x9e\\x1f\\xb5\\xdfR\\xd4\\xa5S0\\xdeh\\x827w\\x0bTCf\\xf8U\\xc9\\xb9\\xe4\\x11\\x18o}B`\\xb3\\xcc\\xe0\\xed\\x92\\xf9\\x7f-\\x92\\x9e\\x1d\\x80>\\xad>\\xc6\\xd2\\n\\xb8\\x0b\\x16\"m\\xd0=\\\\o\\'\\x88\\x17\\xd6G}s\\x17\\xaec\\xb2GGd\\xf6\\x7fT\\x04;a\\x1b\\xfa*\\x99\\xc7\\xed\\xa2\\xa5\\xae\\xa21?\\xc9\\xc0\\x1f\\x14\\xfe,\\xd4\\x02\\xdf\\xf4\\xb3X\\xb9\\xa7c\\xfd|\\x19\\xab\\xe0\\x16\\xec\\xa2\\xf5\\x85w>$-Kr\\xfb\\xed*\\x04>\\x14?NX\\x8f\\xb6x.\\xee\\xfa]\\xc8\\xf8\\xe2\\x17B\\xebF\\x92\\\\Rz\\xb9T,\\xce\\xddGQ\\x9b$\\x88\\xbb\\xcb:\\x96\\xca\\x0c\\xcb\\x99\\x8f\\x9a\\xab\\x87\\xd4\\xdeZ\\xf1g9\\xf3\\xa2\\xd5P:\\xf5 l^Dk*s\\xfc\\xc32\\x98\\xa3\\x8f\\xe09\\xfb\\x82\\xd4\\x15\\xf2\\xac\\xae\\xbb0+\\xca\\xdcI)\\x8c\\xf7\\x87\\xe9\\xe8\\xae\\x0c\\xec\\xdc\\xa7p\\xeey\\x85\\xb7\\xd2k\\xbco\\xfc\\x85\\xff\\xecM|\\x85w\\xca\\xcc\\xf0\\xca\\xbb\\x16 !\\xed,\\xa9\\xf9\\x1a\\x90\\xba;?\\xee\\xa9\\xb9\\xf1\\x1aY\\xd8\\xc3\\x03\\xb8\\xdf= \\xf9*L[9\\x80\\xd9@\\x9es\\xa15\\xca\\xc7\\xa3q\\x9e{\\x82\\xea\\x7f@j\\x86\\xf0_\\xcd\\xf3\\xf8\\x9fX\\xd2\\x9b3\\xb1\\xaa\\x087\\x0c[\\x8f\\xef\\'a\\xfa\\xde\\xd5p\\x1f\\xb2\\x18:\\xf0\\x1d\\xfc\\x85u\\xb4\\xd15p\\xaf\\x9e\\x8a\\xf9\\xc3|R>\\x9e\\x8b\\xfde]4}\"\\x81euQ>\\xaa\\x85R\\xff2\\xe1\\xad\\xc7IKn\\x8b\\xddOfH\\xed\\x86\\x04\\x7f\\xbd\\x89s\\xc4\\x19q.\\xa9\\xed\\xb42\\x18\\xf7\\x1d8\\ng\\x89\\x1f\\xb7\\xc6\\x7fE\\x98HIE;y\\x1d\\xb3\\xfey<\\x97\\xa5o;_\\xc0\\xbdu\\x95\\xe4\\xc50R\\xf2\\xa4\\x88\\x9b\\xfe%\\xcc9\\x0ce\\xf1*\\xf4\\x1e\\x03p\\xdc.\\x83\\xd7\\xff\\x03\\xee\\xa3k\\xd1gH\\x1e\\x0e\\x1e\\x8fwC=\\x99O\\x9f\\xe3[}\\x1b\\xad\\xc3c\\x9c\\x0f_I\\xbf\\xf9\\xf0\\xdb\\xe2/\\xd7}\\xb2\\xbf2\\xdf\\xbf\\x12\\xfel3\\x17\\xbdN2\\xfe\\x02\\xc2R\\xa1\\xea\\xa4\\xafs\\x10n {\\xfd\\xa81\\xda\\xf2\\\\\\x92\\xcb+\\xf1^\\x15>56\\xa3$\\n\\x03\\\\\\xaa\\x85\\xff\\xced\\x92\\x9f\\x0b/\\xa7\\x8c\\x97\\x0c\\xcd@Y!\\xf3\\xf2\\xa58\\xc0\\xa0\\x1b(\\x0b\\xa4n\\xfb\\xcaY\\xbb\\xdb\\xe3\\xdb.{\\xfce{\\xac\\x02W\\xd17u\\x12\\x07\\xd61G\\x8a\\x0f?\\xe8\"\\xf9&,\\x7f~\\x1f\\xd6\\xf0\\x92h\\xff\\xfc\\xfc\\xacM\\x0f\\xcc_\\xba\\xe3\\x0e\\x0bcW\\xba%\\xbe{\\x1c}D\\x00\\x9fd\\xaeV\\\\\\xeaC\\x97\\x9c\\xdb\\xdb\\x19\\xed\\xa30\\x91j2\\xf7\\xdb4&E\\xd8\\xd9\\xa8,\\xeb\\xde\\xf1XX\\xa4 \\xda\\xf1t\\xe1\\xf9q\\xa8\\xa9\\r\\xd0nH\\x8fz\\xcb\\xe1\\xc9\\xfd+v^\\xe9\\xa9\\xad\\x07\\x84k\\xaa\\x91\\xf2H\\xd8{\\xce\\x19\\xd4Z9\\xd8\\x7f\\x9c\\xc5?z%\\x81\\x16\\x13\\t\\x9fK M\\x95^,\\xd6\\x0c\\xb3nq\\xd4\\xf6r\\xef@\\x0eI{\\x1e\\xa3\\x8d\\x98Gj\\xc5\\xcd\\xe8-Wa|d\\xa0l\\x9e\\x8c\\xd1X\\xb8\\xeeM\\xf9~U\\xf6cK{B\\xf1\\xa7\\x08N\\xe8C\\x8a}\\x93\\xb4\\xd35Hzq^|\\xe7\\x01\\xce\\x8d\\xe7\\xc5g-\\xe9\\xa7\\\\X\\x9b\\x849]\\xf9\\xe5\\x8ce\\xb6\\xe7\\x92^\\xf9X\\xf6j\\xe2d\\xccB\\r\\x85\\xbd\\xe5\\x9e\\xd3\\xeb\\xa2\\x0e:J\\xfc\\xfd\\x86\\xf8z\\x08[\\x15\\x97\\xbf?\\x12OF\\xe1_\\xf1T\\xbe\\x81\\xa1z\\xd1\\xf7db\\x94]Or\\x83r\\x04\\xbd\\xa71\\xb6\\x1c\\x95Y\\xb6\\x0f\\xb5\\xf6pYW\\x059\\xe7r\\x84\\xa7\\x08\\xc3l\\xc8\\x87/[j\\xed\\xe0x\\xac\\xb9\\xa7p\\xaf*\\x84\\xf7\\xd51\\xac-&\\x9e\\xff\\xf4F\\xbf\\xaf\\xe2{Q\\x01\\x7f\\xb6\\x0fM8 \\xd4\\xf3.\\xeaM\\xa9\\x81<cQ*W\\xc7\\x1f\\x1d\\xc0\\xef\\x19\\x873\\xea=\\xb4\\xcd\\x9f`\\xf4\\x15\\xc6\\xf8|\\x1f\\xe1\\x87O\\x89\\\\\\x17\\xa7\\xcd\\xd3\\x00W\\xdad<\\xadg\\xe1i7\\x07#~\\x9c\\xcc\\x8f3\\x04\\xee\\xb5\\'y\\xe34\\xb4\\x01\\xf3\\t\\x9e\\xbf\\xf8\\xdf\\x7f\\xdf\\xedk\\xd9\\x0c\\xdb\\x96\\x1a\\xdc(5\\xd1Z2]z\\xc2\\x8a\\x13\\xe7\\xbc7\\x1e\\xf3\\xdeha)\\x9d\\xe0\\x89*\\xf8\\xe7\\x8bWO\\xeb\\x87=H\\xe6\\xb2\\x9a\\x83RD\\xceu\\xffK\\xf4%\\xc2\\x83\\xedL\\xb4bQx3s\\xe1}\\xef\\x1c\\xee\\x0bu\\x08n/Fj\\x9dE\\xe2\\x88\\xa9\\xf8\\x17K\\x96\\xbc\\xce\\xcf\\x98w\\xc61b\\xe7C\\xf1\\xe1F\\x84\\x87\\xdd\\xc5\\x7fI\\xe6\\xe1\\xf4C\\x84\\'\\x1c#\\xe17\\x99\\xef\\xa3\\x9e\\x11r\\xae\\x90\\x1cjF$\\xbb\\x1b\\xceS]dN\\x9d#0\\xa7$\\xf6/\\xe2q]\\x1e\\xe0~)\\xf5\\xe5}\\x86\\xfb\\xd5)Tq\\x08{^\\xb4\\xcc\\xdb\\xf9d,}MVx3\\xf3\"n\\xc6\\xad\\x9aNZ\\x97\\\\\\xb2\\x8f\\x92\\x8b\\x1bs\\x88?\",\\xa2\\xd6\\xc1\\x9fna=\\x88\\xc1(}\\x8f\\xe4\\x7f~o\\xfe\\x97d\\x83\\xda\\x07\\xdfo\\xb1h\\xe3\\x1b\\x13\\xbf*\\x11\\xcf\\xad\\x10\\xba\\xfa\\x02\\xab\\\\%\\x94>\\x07\\xf0e\\x95\\x94Y5\\x1b\\xef\\xe7\\xa70/u\"\\xd0\\xb9\\'F\\xf8\\x1d\\x0cO?\\xccOO\\x92\\xdc\\xf3\\r\\xd2\\xc3\\xe5e\\xdfZc\\\\\\x9d\\x85}\\xb8&\\x96!\\xee\\x9d\\xaf9\\xf6\\x96\\x8b\\xd8\\x0fo\\xf1\\xc5\\xdaa|39\\xc2V\\xb9\\xdf\\x18\\xfd\"\\x91\\nr\\xef\\x98$\\xdc/&\\xa2M-J\\xf0\\xa7\\xe1\\x18W&\\xe0^?\\x0e\\xe3\\xf7\\x96\\xd2\\xb7\\xcfH\\xb9\\xbfB\\xf2\\xb7=\\xae\\x19\\xcf\\xf14jL\\xea\\xdb~\\x94\\xb7\\xca\\xa1\\x1e>O\\xb0\\x93\\x0b\\xef\\x10\\xf1\\x9e\\x0frIO\\xb4\\'\\xd3^\\xc2\\xbe_3yR|&\\x8b\\x9f\\x1f \\xed\\xe5\\x10B\\xf9\\x85\\xeb[\\xb5\\xc7\\xf8Z\\xf2y\\xa1\\xf0\\xc9\\xd0\\x8b(\\xe3K\\x11\\xf8\\xb2\\x19\\xa1\\x81\\x0e\\x8cU\\x030\\xcat\\xc7\\xe7X\\x82;\\xed\\x1e\\x9e\\xc4\\xc7xs\\xae\\x13R\\xc5iN\\xc4\\xc8\\xec\\xecH\\xda\\x87\\xd5H\\x96\\x8c\\xb1\\xaeD\\xe3\\x7f\\xef<\\x8e\\xfcu0\\xaaf\\x13.\\xf7\\x01\\xfe\\x06\\x97p\\x15i\\x8c>\\xba7\\xea\\xc8vX\\xa9\\x8b1\\xfc\\xe2\\xd1\\x13\\x96\\x91<\\xa6&\\xbes\\x83\\x183\\xa0\\n\\x0b_\\xde\\x8c)\\xf2G\\xdd\\x98\\xc2\\x83z1\\xfb\\xae\\xcc\\x93c\\xd2s\\x9d\\xfe\\xc68\\xfd=\\xc1\\xa2\\x1f\\t/\\xf4A\\xff\\xfa>\\xc6\\xf8\\x01\\xa8\\xa7s\\xf0\\xbc%\\xf3v\\xe9 \\xbc;\\x87\\xa2\\xcb\\xe7\\xdc_\\xd9\\xc2B\\xdb\\x08\\xfd\\\\\\x11W\\xd93\\xf8\\x9c\\xbd\\tx\\xe5\\x0c\\x07\\xae@\\xfb\\xa4\\x14#\\x1b\\x0fe\\xcd\\xe2k\\\\\\x17\\x17Y3\\xbc\\x04\\xe9\\x87\\x9b\\x88\\x9f\\xcc\\x16\\x0f\\x90>K+\\x87\\x1e\\x12&\\xd6\\xea\\xa0G\\x95\\xc2\\xb8\\xb6\\x113\\'K8g<\\x81\\xd9\\x9717\\xcc\\xc49?\\x01\\xb3\\xe6hR~\\x97\\x1e\\xf4\\x8c\\xc5\\xb1>\\x15{\\xf9t|\\xab\\x86\\xe0\\xfa\\xa1\\n\\xf6\\xcd\\x18\\xc9\\xc1\\x8d\\xe8G\\xcfIf=\\xc4au T\\xe1M\\xe9\\xfd4\\xc9\\xeew\\xb0#\\xeb0\\xf6\\xddC}\\xbf\\x18I\\xa6\\x0f\\xef\\xdb^Rk|\\xc5\\x98BQ\\xcc\\x1c\\xfe\\x88C?\\xcd\\xe7V\\xf1(\\x96IO\\x8d<\\xb7T\\x9ey\\x03\\xbb\\xb1\\xfcyX\\x19\\xfb\\xe5P\\x92\\xab\\xc9\\x9a[\\xc9{\\x8d\\x16\\xaf\\xb8V\\x19\\xa3\\x90\\x8ag\\xc5\\x17\\xb8\\x7f\\xd0\\xb0\\x06\\xf7\"8L\\x189\\xbb\\x16\\xea\\x9e=\\xe8Mz\\xa0\\xfe\\x95\\x8ai\\xcf\\xc4\\xcc\\xe5bT\\xd1}L\\xb81\\x9b9\\xde\\x06,\\\\\\xae\\x93\\xfa\\xe9\\\\\\x02{e\\xef2\\xb3\\xb0d\\xf6\\xea\\x96\\xd4_\\xc6B\\xac\\x98]\\xf8\\xad\\xeb$\\xd5\\xfa\\xe7\\xe7\\xf4\\xa9\\xe8\\x1bO\\xa0\\xa4\\x08\\xaf\\xfc1\\x16o\\xdd8\\x1c\\x95\\xce\\x08#\\x1e\\x90\\\\\\x96~\\xfd\\xe8&\\xfa\\xf7\\x923\\xad\\xb2d\\x86\\x89_\\x9f\\x9f\\x8b\\xd2S\\x18[\\x1d\\x88\\xdeo\\x1a\\xf6Z\\xc9BCrzL\\x00\\xbd[\\t\\x9c\\xa3\\xb7\\xc9\\xbb\\xcf\\x10\\xf7~\\x17-\\xd7rBqQ\\xa4M\\xcdC\\xe6\\x07\\x15\\x98\\xb5\\xff<\\x0b\\x0bnc\\xce\\xa3\\x16\\x8c:<\\x16\\xd7\\x8fR7-2\\t\\xfe\\xd2\\x1b\\xd7\\xfb\\xfdQ/\\xc4cu\\xb4P~?\\x83Q\\xab\\x18\\xfa\\x95\\xdf\\x08\\x1d\\x17f\\xf8j0\\xea\\xf8>8\\xe3*\\x92\\xbaUrT\\x7f\\x88z\\xe3*f\\xb7mX\\xf9\\x1e\\x93\\xb2n-\\xfe\\xdf\\\\d\\xcch\\xc5\\x88\\xf8\\r\\x8c\\xdbY\\x9a\\xf0\\xe0\\xeb\\xa4=\\xeb$\\x8e+3>\\xc6#.\\x14\\xc1\\xf5\\xab8[\\xbd\\x15\\x92!\\xe2e\\x19\\xc2\\xf2\\xb7\\xc4\\x91o\\x8a\\xa7\\x8b\\xb3+\\xef\\xaf$\\xdc\\xb68\\xa9m\\x84\\xbf\\xf2J\\x1f.X\\x88\\xe3p\\x11\\xb4z\\x07H\\xd9sS\\xf2\\xed\\x19\\x9eG\\xb1\\xa4N;\\x83r\\xa2\\r)?\\xde\\xc6\\xe8\\x15$M<[i\\xfc\\x13\\xc6\\xf1\\xf1\\xe2\\x84N|\\x0fN\\x12Z\\x99\\x81\\xd3\\xdaF\\xda\\x97\\xe7\\xc9\\xb86\\x9d\\x8c\\xa4 \\xa3V\\xace\\\\\\x9dxF\\xcc\\x97\\xec\\xeb\\xbd\\t\\xfb\\xfd\\xa5h\\xa5\\xc5\\x05\\x02\\x0fIq\\x1e@9\\xfd-\\xeerw1\\x16\\xd5Dy\\xde\\x03\\xdf\\xa4\\xfe\\xc2\\x13;\\xb0\\xcb_\\xc1\\xf2\\xbf\\x8f\\xb9D\\x18\\xfb\\xc3l|\\x07\\xc6`\\xefI\\xc4l,\\xce\\xbe\\xe1\\x1c\\x91\\xc5\\x1e<C\\xa4\\x0f\\nH\\x8f*5\\x88t\\xb9\\x84\\xf9\\xba\\x00\\xa9\\xfdw\\xe0\\xbau\\x17\\xc5%9\\xda\\xb8\\x1f\\x81\\x82cqo\\x925\\x9f\\x96L{\\x96\\x8a\\xf7xOt{\\x1f\\x816\\xc7\\x18\\xfesK\\xe1\\xe4\\x1a(\\xf3\\xee\\xe2k\\x14!\\xb9h\\x02\\xee\\xe39\\x0coj\\x92\\xbaV\\x983]X\\xbe\\xd0u\\\\)U\\xf0N\\xf8\\x16\\xb5\\xdcn\\xd4\\x9cx\\xe1\\xda\\x01h\\xa9\\xa0\\x9e}\\x17\\xa5Q\\t\\xf4rKq\\xd6<D\\xa8qE\\xf4t\\x03{M!R\\xdd\\xf7\\xb0\\xc7\\xbcC\\xea\\xf7\\xc2\\xe8\\x97\\xebbM\\xcb\\xc0\\xf4I-\\xb7-\\x84\\xbf\\xd3k\\xc2\\xcb\\xfe\\xc2s\\xb1=jca\\xb0\\xdd}I\\xe9V\\x14}\\xc7\\xaf\\x18\\xcb\\xc4I?\\xd6\\xf0\\xfe1\\x88\\x94m7q|&\\x8c\\xf5\\xd2\\x89~\\xe6\\x1e\\xbe\\x1b\\xf7\\x08?:*|W\\x84\\xc0\\xcd,\\x8c\\x9f\\xe7K\\x1f\\xddA\\x7f{\\x11\\xbe7v`<\\xee\\x8d9F\\xf8\\xe9F]\\xf4\\xbcE\\xd0{5\\x15\\xee\\x93\\xf5\\x8b\\xbf\\x86\\xd7\\x8dC\\x91,7:\\x94\\xc2\\x958\\x84@Q\\x99Q\\xadg\\x93T<\\x16\\xfd\\x13\\xe9\\x11[\\xfc\\xe5\\xafs\\xf2\\xfca\\xd89\\xe3I\\x99$\\x8er\\xcc\\x81\\xbe\\xf8\\x11\\xbe\\xcf\\xf7`m\\x9fD`T.\\xccZ\\x9f\\xe3\\xde)<U<Ff\\xefw\\x04Z\\x8a\\xc3\\x16^Ihd\\x17\\xf4-2\\x9bJ\\xbc\\x94\\xb9\\xac\\xe0\\xab\\xf7\\xa30\\xe8{x\\x1d\\th7\\xc5g\\x97oD\\xf9)\\x8b\\xe0a\\xc9\\xb8G\\xffx\\xfbC\\xb4\\x07\\xf90N\\x0e\\xc0\\xf5\\x1f/\\x81\\xdc\\x8dqoI\\xc7\\xfd\\xe1b\\xfcu:\\xa1\\xfeZ\\x02\\xff\\x89)h\\xb6\\xf0\\xd6\\xa5\\x1cR\\x9b\\x9e\"\\xbc\\xea:\\x9e;\\xfb\\xf0_\\xbb\\x83Y\\xe1&\\xc6ba\\xe0\\xff\\x88#6y\\x80\\xaf\\xc5>\\xdcV3a\\xa2\\x18\\xb4!\\xc5\\t>\\x8f\\xc2^|\\x86\\xe0\\xe5X|7e\\x8f\\x8b\\xc8,z|\\x19\\xe3F\\x94\\x9cw!\\\\cGc\\xef\\x1a\\x84\\xb16\\x11k\\xa68\\xfd\\xf6f\\xe2\\xe0\\xc2\\x0f\\xdd\\x85S[?\\x12\\x07\\xab\\x8d17\\x07\\xb3GG\\x94\\xb8d\\x99k]\\xd1\\xa3/\\x90>\\xf6K\\x8cn\\x07\\xe4\\xb9R\\xc3;d\\x8do\\rCO\\xdcD\\xf0\\xe43\\xbc\\x9f\\xe5\\xc6\\xe3\\x17\\x7f+v\\x9d\\xc0w\\xcb\\xb1\\xee\\xf4\\x11\\x07\\xd9\\x8a\\xf6p&\\xcaW\\xdbq\\xb9\\x82\\xd2k1\\xe8\\xe7F\\x13HO\\xc7| \\xfc\\x14^\\x8c\\xd9\\xbe\\x08F\\xd4e\\x02\\x1b\\xd6\\x10i\\x11\\x87\\x92\\xb3\\n\\xfb\\xb3\\xc5\\x042%\\x7f\\x93\\\\x\\xe2\\x85\\xcd~\\x16\\x1f>?\\x1d%Z\\xd6\\x1d\\x9b\\x81\\xfeJ\\xde\\xff\\xda1\\xf1\\x84\\xd5\\x18\\xe4\\xc7s\\xaf5\\xee\\xa4\\xc7\\xc2~\\x0e\\xfcR{fe\\xf9\\\\V\\x1f</\\xeb\\xe0\\x99>]j\\xe5\\x00\\xfa19\\xb3\\x9a2\\xc3K\\xc6\\xe1\\x9a|\\x8a\\xc0\\xceax\\x1e:\\x08\\x99\\x8f\\xf1l\\x1c$\\xef\\xbdVf\\xae\\xb0p\\x94\\xac!$\\xf5tV\\xdc\\xa6\\xdbsq\\x08\\x99\\xf5\\xdb\\xaa\\xe31\\xb7\\xe0\\xad1R\\xd8\\xf8oa\\xf3\\x16h\\xae/\\xb0\\x9e\\xb7\\x93L\\xfe\\xe7\\xdf\\xff\\xf4\\xc5.\\xf85\\xfa\\xfe\\x07\\xd8sZI\\x7f\\x8c\\xc0\\x1ax\\x1eW\\xb7^\\xb8?]\\x88\\xe7\\xf7\\x03\\xe2\\x07w\\t\\xcd\\xfc\\x14\\xf7\\xb4Y\\x18I\\xe2k\\xeb\\xa6\\xcal\\x1a\\x8e\\xa3\\xfa\\x0e\\xac\\xcd\\xf2.\\x13N\\x13\\xfcZ\\xcea\\xf7r\\xfc\\xe7d\\xb6\\x1f\\x94\\x0c{\\xba\\x08w|\\x14\\xea\\xeca8\\xd2\\x84\\x81\\xd6\\x1e\\x11\\xff\\xb1p\\x9f\\xe8)L;\\xf6\\xbf.\\xa7o\\x16\\x7f\\x1c\\xd1\\x93\\xb4\\xad\\xd5plZ\\x8f\\x15\\xce\\xc1Z\\x16\\xc2*\"\\x9cYs\\x9f\\xf8fu\\xf1:\\xc9\\x94\\x85\\x85\\xd0.K\\xae\\xed\\x8e\\x92\\xb9\\xde\\x9b`\\xe1\\xf3\\xa8\\xcf\\x9f\\x10\\x8cD\\xa3?\\x8a\"i\\xb3\\xf0^\\xb5\\n\\x18-:bv\\xfa\\x0eW\\xb4\\xfc\\x9d\\xff\\x02FCP\\nd\\xa3\\xee\\xac\\x8cg\\xefX\\xc2\\xd3\\xdb\\x91V\\x08\\xac\\xce\\xc2E\\x8bJ\\xa3\\xd8\\xef\\x10\\x14FS\\xb6\\x15@{W\\xf2-\\xfb0\\x9a\\x7f\\xab\\xf4\\x9ed@\\xed|\\x04\\x026\\xa1\\xfe\\xe2q\\xb9\\x85\\xbd\\xea\\xc6\\xcb\\x99\\xedF_\\x7f\\x0c\\xc7\\x93G\\x04~:*\\xfd}\\x85\\x94\\xd7\\xb3p\\x8cO\\x95y%,\\xbfp\\x1aVf\\x05\\xf9\\xfa\\x16\\xfc\\xff\\xfcl\\xa9\\xe51\\x9c\\xc9\\xba\\xd4\\xf0!|\\xbbc\\xf1\\x14\\x95\\x0c\\xebp\\no\\xb4pu\\x9e\\xb3\\x98\\xdb\\x1f`\\x1e>\\x8e;\\xf4\\x04\\xa3\\xfe\\x10\\x9c\\xa5\\x97\\xa1w\\x94\\xfd\\xee\\xda\\x1d\\xad\\x94\\xb0\\xad^\\x9d\\xd0\\xd7\\'\\xf0\\xc5\\xeb\\xf8\\x1fv\\x14\\xc6\\xef\\x81\\x9d\\xd8\\x94p\\x17aG\\xb5\\x02\\xf6\\x08\\x99m\\t\\xaadfm\\xcc\\x8e1\\xc2\\xd62\\xe7\\xea?\\x92\\x99$\\x19\\x97\\xbc\\x16\\xe7\\xc2\\xe98\\xbbm\\x97\\xac|\\xfe\\xdf\\xdf\\xb7\\xeb\\xf1a\\x9cS\\x12\\xc4wG\\x8a\\xc3\\xaeEy\\\\\\x0e\\xe5\\xbe\\xb0\\xd3\\xfd\\xe5\\x98\\x03\\x0f\\x93\\x9cP\\x07\\xef\\xae\\x1f\\xf1\\xee\\x9e\\x84\\xbd\\xa03\\xde\\xd5\\xe2\\xad\\x17\\xa2\\x89,\\xfd\\x15\\xb3\\xf4q\\xbc\\t#\\xc5\\xe5\\xb7K\\xcf\\x0bSV\\x90\\xfa\\xbf\\x1e\\x83kTn\\x82\\xceQ\\x98=o\\x12\\x99-nS\\xbe\\x87\\xf0\\xbc\\xcc{\\xf1#\\xab\\xa2\\xe4\\xd2A\\xe1\\xe9\\xc5\\x8fQ\\x06\\x16\\x90\\xbe\\x92\\xcc8-\\xce\\xf5Z\\xcevCqB>Y{_\\xc9\\xb4Br\\xc6\\'\\xce\\xa3H\\xad\\xb8\\x1a\\xac\\xc6?)/v\\xdf\\xee\\x18\\xeb\\xfa\\xe1\\x8b\\xe9\\x88\\xaf\\xb7\\xf0\\xff\\xb6g\\xe2~\\x0b\\xff\\xfb\\xff\\x00\\xd8\\xb3\\xd7\\xa2\\xbdW\\x08_\\xc3\\x95\\xe8\\x11\\x9f\\xe4\\xf3X\\xac\\x12\\xe2\\xeds\\x17\\xfd\\xf7wc\\xee\\xad{0\\xcf\\xb6\\xc1SU\\xce\\xeel\\x7f\\x02\\xff\\xfc\\x1b\\xed\\xe6\\x0b0ZJ\\x1d\\xdc\\xcd\\xc6\\xf5\\xee\\xdf\\xa8\\x0b\\xaf\\x92\\xfcV\\x05\\x94N\\xf2~\\xe5\\xaab\\xae\\xeeKph\\'\\x8c\\xc9\\xad\\xd1\\xdaWE\\x1f\\x9c\\x892\\xe9>V|m\\xf1]\\xa9\\xe5\\xa0\\xb8_E\\xf1\\xdc.\\xd2\\xb3%\\xf6\\x932|\\x1e\\xae\\x8b\\xf2\\xb9MEQ\\x0e\\x08\\xa7F7\\xc5sh\\x00\\xe9\\x9f\\x8c\\xc0;(:\\xd7\\xbf\\xd7\\xbf\\xd7\\xbf\\xd7\\xbf\\xd7\\xbf\\xd7\\xff\\xf5\\xeb\\xff\\x01\\xcc\\x8e/\\x00\\xc0N\\x00\\x00'},\n",
       " 'cutoutTemplate': {'fileName': 'candid739260766315010006_ref.fits.gz',\n",
       "  'stampData': b'\\x1f\\x8b\\x08\\x00S\\xe56\\\\\\x02\\x03\\xed\\x9bUtTi\\xbb\\xadqwwwwmt&4\\xc1\\xdd\\xdd=\\xb5\\xb4*\\x06ABp\\xb7\\xe0\\xee\\xda84\\xee\\xee\\xee\\xee\\xd0\\xb8\\xc3~\\xe0\\xbf;c\\xdf\\x9c}\\xf68W]cd\\x90\\xae\\xa4\\xd6\\xfa\\xbe\\xef}\\xdf9\\x9fY\\xa9n\\x1cP\\xb7A\\x1d\\xffl\\xd9*e\\xcb\\xd6$\\xdb\\xff\\xc2\\xa3z@\\x93\\x06\\x01-~_\\xef\\xff|\\x14.Y\\xe2\\xff\\xfez\\xf5\\xaa\\xb5\\x08h\\x9c\\xed\\xbf\\xbd^\\xb6l\\xff\\xd3\\xeb\\x15\\xff\\xef\\xafW\\xa6\\xe4\\xff\\xf0z%\\xfe\\xf7\\xaeW\\xbdi\\xbd\\x80&\\xbf\\xf7\\x9b\\xd7\\xaf\\xde\\x7f\\x9e\\xca\\xfb\\xffR\\x0f\\xffz~\\xd9\\xfe}\\xfc\\xfb\\xf8\\xf7\\xf1\\xef\\xe3\\xdf\\xc7\\xbf\\x8f\\x7f\\x1f\\xff>\\xfe}\\xfc\\xef=d\\x7fi&\\xa7\\xf8\\x15\\x19GN\\xc8<\\xdbV\\xe6\\xd7\\x932\\xca/\\x96y\\xa7\\xa4\\xcc\\x19\\xfe\\xb2v\\x8e\\x945\\xb0\\x8d\\x8c\\'?dW\\xb8\\'\\xe7\\xf0RY3\\x96\\xc9x\\x1b$+s,Y\\x19\\xef\\xc8\\xbe}M\\x967\\x8e\\xac\\'\\xbb\\xe5\\x0c\\xcc\";j\\xa7\\xdcN\\xe7d\\xfdH,\\xe3\\xc1&YG\\xba\\xca\\x1e\\x19]f\\xb1grk\\x9e\\x92\\x9d\"\\x9a<3\\xee\\xc9\\xae\\xc6k\\xe7t\\x90\\x13}\\x98\\x9cb\\xb6\\xdc\\xd4\\xdckG\\x1a9\\xeb\\xf8z\\xbdM\\xd6\\xda>2\\x0eW\\x911\\xf9\\x82\\xecx\\xb5e\\x8d\\xab\\xc1:\\x1b\\xc8S\\xef\\x96\\xec\\xab5d\\x9e\\xbe+w\\xe5B\\xb9i\\xae)\\xf4Cl\\r\\x08\\xbc\\xaf\\xfeW\\x0e\\xcaI\\x92Y\\xe6\\xb2.\\xb2\\x0b\\xe5\\x905j\\xa1\\xec{\\x17\\xe4\\xc4\\x19\"\\xb3\\xd2P\\xb9q\\xd6\\xc8\\xdec\\xcb\\xf6F\\xcai\\x99IN\\x8a\\xa6\\xb2/V\\x90\\xf3\\xf9\\xbd\\xec\\x13\\xe5d\\xf7aM\\x05\\x0e\\xc8\\x0e\\xbf(\\'\\xfbxYW\\xd9g\\x89\\x942\\xef\\x06\\xc8\\xbctP\\xf6B?\\xd9s\\'\\xcb\\xea^\\\\v\\xdcy\\xb2}Ed\\xe7:.\\xfb]=\\x99-b\\xc8\\x1c\\xf0M\\xf6\\xac \\xd9aOe\\xa6-.c\\xd9\\x01\\xb9/c\\xc8J\\xf3\\x9akt\\x92\\x9dc\\x84\\xcc\\xc9\\xbc>\\xf1\\'\\xd9U\\xb2r\\xd6\\x83\\xe5\\xd9qVv\\xf1\\xca\\xacu\\x83\\xaca\\x89d?\\xe6:\\xd7\\xf3\\xc8\\n{\"\\xe7Sn\\xf9\\xc6\\x06\\xca\\x19\\x9eWf\\xach2\\x06\\x8c\\x90\\xddc\\xa8\\xac\\xa8@\\xb9\\x81\\x07\\xe5\\xae\\xb0\\xe4\\xbd\\x94@\\x03*5TP\\x8cp9\\x19Cdg<%+{z9\\r\\xa3\\xcb\\t\\xec({m!\\xd9w\\x8e\\xca\\x97w\\x82\\xbc\\xe9\\x96*h\\xef\\x13\\xf6ZK\\xde\\xb2\\x9f\\xe4\\x9e\\xe9F\\xfd\\xc7\\xca\\xfb\\xf5\\x9a|\\xa5?\\xca\\xca:[fe\\xf6\\xde\\xb2\\xa8\\x9c\\xdd)\\xe5Tx(kSZY\\xedW\\xcaq^\\xc8\\x1bRMv\\xd6\\xd8\\xb2\\x16\\x8f\\x93S\\xfb6g[R\\xdeT_emg\\xdfS\\xdf\\xcb\\xaa\\xbfD\\xc6\\x9e\\x1d2K\\xb1\\xbf:=e\\xaf\\x9fF\\xbd#e]\\xff$\\xeb\\xde\\x03Yw{\\xcb\\x9d\\xfeH\\xde\\r\\x8e<\\xb7\\xe8\\x8f\\xb8\\xfbd\\x1fqezk\\xc8\\xba\\x9f\\x98\\xdfe\\xed\\x91\\x7f\\xca\\xfeZIn\\xd71\\xb2\\xcb\\xee\\x94\\x1dT_\\xc6Z\\x7f\\xfag\\x92\\xac\\xe1}dg\\xf9B\\xfd\\xd6\\xc8\\xa9R[\\xf6\\xe8L\\xf2\\xc6>%\\xef\\xbc^\\xf4\\xd6w\\xd9\\x1b\\xa7\\xca\\x9a\\xb5J\\xd6\\xabP\\x19\\x9f\\xaa\\xc9y\\xd7I!\\xd7vjH\\xf5\\x15\\x1aS\\xaa\\xa7\\x86w\\xf8C\\xc6\\xc5\\xd9rZ\\xe7\\x97\\xb7\\xf2i\\xce\\xa3\\x88\\x82\\x8f\\x9d\\x95\\xf7\\xd8\\t\\x19\\xdf\\x93\\xc8*SGv\\xa3&\\xb2\\x06\\xb5f]\\x1b\\xe5\\xd4Z\\'cc<\\x9e\\xaf\"7l\\xa7\\x8c\\xab{Yws9\\xf5c\\xd0+\\x95d>\\xec+k\\xc1 \\x99\\x17>Q\\xb3\\x9a\\xfc\\xbc;\\xb3rC\\xce\\xf2a2\\xe6e\\x96]\\x86\\x99\\x883^F\\x86\\xf9\\xb2;\\x19r\\x9e\\x9f\\x90\\xf5\\xfe\\x91\\xac\\xcf\\x05\\xa8y\\n\\xb9O\\x9eqn\\xcc\\xc4\\x12zbX-99\\xb8_\\xf6\\x99\\xb2r=\\x97g\\x84-\\xabUUY\\xf3\\x8e\\xc8\\xd9\\xc4\\xdc}\\x99\"\\xebb;\\xd9\\x97\\xe2\\xcb\\xdd\\xb8T\\xee\\xf02r+\\xf6\\x97\\xb71=\\xdd:J\\xe6\\x8a\\xea\\xb2:\\xcc\\x95\\xd1z\\xaa\\x9c\\x908r\\x02\\x0ei@\\xbf\\xbd\\x9a\\x18\\xd4C\\xcb\\x1b<\\xd1\\xcc\\x8a\\xe12\\xdfN\\x935b$\\xf3\\x19!wC?\\xb9\\x8f\"\\xe4\\x8d5TfPK\\xf6\\xcf\\x9a:82\\xbb\\x15\\x939\\xe5\\x1f\\x99\\x1b\\x98\\xe1\\xd4Wd\\re=\\x01/dUx#\\xb3\\x04\\xdf\\xbf\\xdc(\\xbb\\xe4V\\x99\\t\\x13\\xc8\\xea\\xdcW\\xe6\\x8f\\xa7\\xb2*\\xfeM\\xbf\\x16\\xe5:\\xf4\\xee\\x17z\\xa7\\xe5j\\xd9\\xc6*y\\xbeM\\x90g)\\xe7\\xf1q:=\\xf1\\xb7\\x8cs\\x01\\xccn.\\xea}O\\xd6\\xc9\\xa3r\\xb6,\\x94u\\xf4\\'\\xd7g\\x96\\xe6,\\x93\\xe7\\xe4r\\x99\\x9f\\xbd\\xb2r\\xaf\\x93\\xd3~\\xa0\\xac\\xe3\\xa5\\xe4\\x96_\\x8d69\\xb2\\xfb&\\x93\\xf7\\x81\\x8f\\xbeO/\\xef\\xf2\\xcf\\n\\xea\\x8e\\x9e,\\xcb\\xca\\x99$\\x94up\\xa4\\xcc\\xb6\\xf4O\\x8e\\xb9\\xb2\\x97\\xa5\\xe6Z%\\xd4\\x7f\\xd8\\'\\x8d\\xbfTF\\x8b\\xa2\\xe7WT>f\\xf2\\xee\\x189M\\xfa\\xca=\\xc8\\xecvz.\\xe3\\xd4$\\xd6A\\xfdv\\xe6\\xa2\\xc6\\xd1e\\x0cI\\xce\\xf9\\x8d\\x93=\\r\\xcd\\xc9\\xb6RV\\x93\\x8b\\xb2\\xbb\\xef\\x97q=\\x81\\xec\\xd9)e\\xe7_/\\xcf\\xb6\\xb32\\x07\\x16\\x90[)\\x8c\\xb5\\xdd\\x90\\xb9\\xae\\x07\\xebz#\\'\\xd5^j\\xdbRN\\xa3\\x16\\xb2\\'\\xd1\\x7f\\xa5\\x8a\\xc8i|@f\\x024ed4\\x99IR\\xc8\\xa9W\\xe3?\\xbdYd\\x8d\\x8cK\\xcd\\xb9W#9\\xfe\\xacyJ&\\xd9yw\\xc9\\x99z]\\xe6h\\xb4\\xf2\"3\\xec)@=\\xe3\\xcb\\x99\\x86\\xf6-\\xdb*wG5\\x05\\xcdM\\xa5\\x81\\xd3\\x1eiX\\xad1\\x1aZ$\\xb3\\xfa\\xef\\xbb%_\\x85-\\xf2\\xce\\x99)c\\xec\\x049\\x91\\\\\\xa3\\xce\\x0e9\\xcd\\xc6\\xc9\\xb78\\x86\\x06M\\xba\\xad\\xe1)\\xee)b\\xad%kw\\x159\\x89\\n\\xcb\\xed\\xd6L\\xf6\\xb7\\xcc\\xb2tN\\xc6\\x97\\xdc\\xf4\\xeet\\xeaYB\\xc6\\xd3W\\xd4\\xde#\\xd7\\x83f>\\xaf\\x8ev\\x9d\\x97\\xbd\\xb8\\x16\\xb3\\xde^\\xc6\\x87\\xf72\\x9b\\xed\\x90\\xd1\\xea%\\xfd\\x10Kn\\x9f[2S6\\x92Q\\xb9\\x82\\xdc\\xc4+\\xe5[=C\\xd6y\\xce\\xa2qa\\xb4c\\xb0\\xec\\x12\\xe8i\\xa1\\xc42{\\xc4\\x95;s\\xa2\\xac\\xde\\xaf\\xd0\\x85\\x1e2#\\x13\\xc8y4P\\xce\\xf4\\xdd2\\x8e^\\x97\\x1b=\\x9b\\\\\\xffc\\x9c\\xc3w~g9^\\x92D\\xe6\\r4r4\\xfd4\\x82\\xf9\\xbaTW\\xee]\\x9f\\x826\\xcc\\xd7\\xc0\\xea\\xc74\\xbbMY\\xed\\xcb]R\\x7f\\xe5J\\xa0\\xe1V*\\x85\\x04\\x7f\\x90\\x9b\\x08\\xed\\x8d\\x9bH\\xdeB\\x93\\xe4\\xc6\\xea&\\xfbY\\x98\\x9c\\x06W\\xe5\\xb4\\xf0*\\xa8\\xc0e\\xb4\\x13\\x0f\\x1br\\x8d\\xf9\\xe4\\x9c\\xc71\\xd3Y\\x1f\\xc9\\xfe\\x87^\\xed\\xcaY\\xa53\\xe4^\\xf3\\xca\\x0eM\\xc7\\xfaZ\\xd3\\xc7xB\\xa3K\\xf8\\x0e}\\x9f?\\x19z\\xe2\\x91\\x9d\\xaf\\x97\\xccah\\xe0\\x83W2G2\\x0b\\x87\\x9f\\xd3G\\xf3\\xe4>s\\xd8G\\x03\\xb9-W0\\xcf\\xf4\\xdf,\\xf6T\\x96\\xf3\\xd4\\x1b\\xd9\\xb1\\xa2\\xe4\\xc4<\\'g\\xcdKf;\\x83\\x8c\\x91\\xe3d>\\x89\\x92\\xfd\\xd0\\x92;\\xf1\\x0f\\x99u\\xd0\\x8dX\\xb3\\xe9?\\x9f\\xcci\\xb1dNO%s\\xfb-\\x19m\\x9a\\xcb>]\\\\\\x8e\\xbe\\xc9j\\xbe@v\\xd2z\\xf2e\\x89\\xab\\xc1\\x1f\\xfe\\xd2\\x86\\xf2\\x93\\xf4re}\\x9d\\x0b.\\xaf\\xf1/\\x1a)d\\xc9\\x1c9\\xe5\\x87\\xe1g%\\xe4\\xf6\\x7f&\\xa7C8\\xeb`\\xdd{?\\xc8\\x8e\\xe4>\\xdd\\xfde\\xbf\\xce\\xc9,\\xd3o\\x01\\xf9\\xe4\\xf8\\xadD#Xg|t\\xe6\\xe0\\x12y\\x93\\xe5\\x93\\xbb\\x905-c\\xbd\\x05\\xf2\\xa2G\\xf8\\x9c\\xd9\\x903\\xcfN\\xff\\xa2\\xb1\\x0b\\xdfS\\x1fz:\\x1e\\xda~+\\xbb\\xac\\xd3\\xccp\\xa2Mr\\xdb\\xb4\\x97\\xdb\\xa8\\x8a\\xac\\xc1\\xec\\xbb\\xc859\\xf7s\\xcb\\xd9\\xbeV\\xe6\\xb5\\xed2\\xf3\\xe6\\xa1vqd>>*\\xf3>\\xd7\\xed\\x1c\\xaa~7\\xee\\xc9\\xdc\\x8c\\xbf$fm]^\\xc8\\xd6p\\x99\\xa7\\xbe\\xcb\\xdc\\xe9/\\xe3`\"Y\\x06=\\x9f`\\xb3\\xec\\x98\\xb0D\\xdf3\\xacs\\xbe\\x9c\\xb4\\x13\\xe5\\x96\\xfc,_\\x8b\\x0e\\x1ap\\xe1\\xbc\\xe6\\xf4\\x1f\\xa3\\xbd/\\xd2j\\xc3\\xcae\\x1a\\xf5$\\x83\\x82\\xfd\\xd3\\xc9\\x9b\\x10\\xc6h]Y\\xce\\xa0\\xdbr\\xcf\\xdf\\x96\\xb9\\x90\\xde\\x1d|K\\xd6\\x8a\\xfc\\xb2{S\\xeb\\xce\\xf4\\xe1\\x90\\x08\\xd9c\\x96\\xc8\\xdaL\\xdf&x\\xc49\\xe3\\x17\\x9b\\x98\\xe5\\xd6\\re8\\x1dd\\xcdA\\xc7\\x0b\\xe0uC\\xef\\xca\\xb8F\\xff\\xce\\xde*\\'\\xe7pxe\\xa9\\x9c])dGc\\xff#\\xbf\\xc8\\xd7\\xec\"\\x1e>\\x805&\\x97y\\xac\\xa8\\xecO\\xe8D\\xbd#\\xb2\\xc62#96\\xe3\\xed\\x8bdt\\r\\xe1\\x9ca\\x00\\xdfey\\xde\\x97\\x91\\xbd\\x1f\\x9d\\x88\\x91Dv\\xfddrF\\xbf\\x97Q\\xe5\\x95\\x9c\\x01\\x03d~+$\\xb7\\xf1IYE\\xab\\xca\\xde\\xcb\\xcf\\x8b>\\xc6\\xcf~\\xc8j\\x87\\xa6>[\\x85\\x1f\\x1d\\x91]\\x9e\\x9a\\x1e\\x9b\\xaa\\xe0\\xf9\\xa1\\x8a\\xf8\\xbb\\x8bF\\x1e\\x1f\\xab\\x11\\xd3\\xa34\\xa8^\\x02\\xf9\\xfe\\xa6\\xf7\\xce\\xe6\\x97y\\x95:\\x99E\\xd1\\x85\\x142w-\\x90\\x9b\\x03\\xbeY\\x8c\\xdfv\\xa4/R\\xe1\\xb5\\x1b\\xbe\\xc2%\\x9de\\x9e\\xbf\\xaf@w,{{(\\xf7\\xcacY\\x8d\\xcf\\xa8\\xdf\\x0f\\xb4\\xe5\\x1c\\xbeSq\\xaf\\xac+xv\\x8e\\xe32s\\xb0\\xdf\\x94]\\xe5\\x14fm\\x9d;\\xc9I\\xda^\\xa1\\xafC\\x156(\\xaf\\xdc\\x8bx\\xcbB\\x9e\\xf7L\\x96\\x9dv\\x1a\\xdfw\\x95U\\xa7\\x84\\xcc\\x8dhu(\\xdesb1\\x1e]^V\\xb3\\xd12c\\xa3\\xd3\\x0b>\\xe1W\\x07e.:\\x82\\xa6r\\x8f-_\\xf1\\xc0\\xca2\\xde?\\x95\\xfd\\xf7i9\\xe9\\xe3\\xca\\xfah\\xc9<A\\x0f\\x95e>/\\x9e\\x91\\x99(\\xbe\\xec\\x83\\x8d\\xe0?z\\xca*\\xa8\\xa0\\x8a\\xd5\\x15\\xf4d\\xa3|\\xe9\\x7f(\\xc8\\x97Y\\xde\\x12s\\xe5]\\xb8\\x8e\\x99\\xbc\\'\\xa3\\xedD\\xce\\xb5\\xbd\\xbcY\\xf1\\x90\\x9f\\x15d\\x0e\\xdf\"\\xeb\\xd1m<\\xe8\\xb8\\xacE]d\\x9d9\\x8f\\x7f\\xc0Q)\\xe1\\x8b\\xcf\\xec\\xfdVLy3\\xd5\\x93\\xf3\\xe0/\\xd95:\\xd2\\x9f\\xa3eoC{\\xff\\xdc.;g}\\xea(\\x99\\xff\\xec\\x95\\x99\\xa9\\x92<wK\\xca\\xad\\xb6R!\\x1fJ(\\xf8\\xd4f\\xb9/\\xb8\\xd6\\x9c\\xe9rb\\'\\x95\\xf1\\x8bgV\\xf2}\\x9e\\xb4\\xb2\\xc7\\x8e\\xe4\\x1a;d\\xa7\\xffC\\x9e\\xcf\\xf8\\x7f\\x95x\\xb2\\x0b\\xc7\\x94}\\xac\\x18\\x1a\\x01W\\xcf\\xc2\\xe3R\\xe2!\\xf9\\xf9\\x9dU\\xf4G]\\xfa|\\xc0(\\xfc\\xa7*:s]V\\xad\\xd1\\xb2\\xbe\\xdd\\x81\\xb7\\xbf\\xca\\xf3\\x08.JX\\x8f\\x9e\\x89!w1=\\xb0\\x15\\x1ei\\x81?\\x1f\\xba-\\xa7Gw|p\\x86\\x9crp\\xd0\\x8d\\x1ar\\xca\\xe0\\x9f\\x87\\xe7\\xc8>\\x00\\x9b\\xe6J!k\\xebO\\x18\\xaf\\x98\\x8c\\xf8C`\\xca\\x92\\xb2]f\\xdc\\xce \\xf38?/7OV\\xa6\\xcf\\xb2\\x07\\x0f\\x91\\xf3\\xb6\\x9d\\xac\\x06\\xe3d\\xe4\\xa8\\x88\\xe6\\x15\\x94[\\x1dV\\xc8\\xbbLf\\x99t2\\x16\\xc5\\x97Y\\x9a\\x9e\\xe8{\\x16\\x9e8,\\xefuSn\\x93Rr\\xbe\\xec\\x93\\xb94\\xbd\\xcc\\x90+2?\\xa1\\x1b\\x13\\xd7\\xc3\\x04;\\xa8\\xc5}\\xd93\\x0f\\xc3\\xfc\\xf8[,f/WRY\\xe9r\\xc8\\xd9YQVDY9%K0\\x0b\\x83d\\xdc/!\\xfb\\xda\\ny\\xe4\\x95\\'\\x19<\\xd1\\xae\\x183\\xcbl\\x9e\\xbe)\\xb7\\x03\\xfd\\x94\\x97\\xaf\\xd3\\xb5\\xe5\\xcch%\\xb3 z\\x9f\\x13\\xae_\\n\\xdb\\xf9Z\\xcb{\\x81\\xe7\\xa7\\x07\\xc8I\\xb6Hf\\x8a~2\\x7f\\x92Ijm\\x93\\xdd\\xca\\x90\\xd9\\xf0\\x92\\xcct\\xc3e\\xe7f\\x16\\xe3v\\x91g`\\x84<=\\xf1\\xac\\xac\\xfbe\\xffYGf\\xf8Iy\\xe6\\xa1\\xb9\\xe5\\xae\\xcb\\xbe\\x0f\\x87\\xac\\x9d&#\\xdfyff\\x11:TZ\\x96o\\x98L\\xff\\xfe\\xe8\\x17\\xbe\\xbc\\xc4\\x83>\\xec\\x92\\xf1\\x90=.\\x82\\xbf>\\xde\\x95\\xf3t\\x9e\\x9ch\\xcca^8\\xb6\\x02\\xfa<#Tv\\x97\\xfc2\\xb6\\\\d\\xd6\\xe8\\xe7\\xc2Qd\\x82\\xf4\\xb2\\x12\\xa1\\xaf\\xabn\\xca\\xec\\xc0\\xbc\\x19\\xf0A\\x05\\xf2A\\xa5d2\\xff\\xd8\"{P\\x1e9\\xf1a\\xf6\\x8a0\\xcc\\xbb\\x1c2\\xe6\\xd2\\x17;\\xea\\xa3\\xe93\\xe5L\\xca\\'{3Y\\xe7\\xeci\\xf8\\xe2\\xb1\\x8c\\xc7\\xcc\\xd1\\x04\\xb8\\xeckey\\xbc\\x8b\\xe8\\x03X\\xb3\\xe2Z9K>\\xe3\\x1bO\\x14\\xb8\\xbd4\\xfc\\xc0=\\x0e\\x0cQ\\xe0z\\xb8\\xc5K-G\\n\\xdfD7\\xbd\\xd5d\\x15\\xe8-\\xab\\xe5gY\\x132\\xc8J\\xfbFn\\x8c`\\x98c\\xbe\\xac\\x01\\x96\\xec\\xd5\\x9d\\xc9cM\\xc9\\x02\\xcch\\xeb/2\\x86^\\x85\\xaf\\x85\\xaf\\xd2\\xc3\\xd9^\\xca\\\\\\xbe\\x9bu<\\xa1W\\xe2\\xb3\\x87\\xca\\xe83\\xda~\\x81\\xec\\x15TAV\\xca\\xc32\\xbev\\x87\\xa5X\\xf3\\xd9\\x98\\xd4\\x14\\xf6\\x1b,\\x19\\r+\\xcas\\xd4\\x95}\\xbc0\\xf7\\xbdI}y}\\x19\\xf4\\xe0{\\x03\\xfc\\x06\\x1ez\\xc6\\xbe\\xe2\\xae\\x87[\\xdf\\xca\\xf1R\\x83\\x80\\x19\\xb2[\\xc0z\\x9f\\x97\\xc8I\\xf9AN\\xee\\xac\\xb2\\xfb\\xa5Fs\\xb8\\xe7\\xf4\\xa92\\xc7\\x95\\x97=\\x82~jD\\x1f\\xe6\\x85\\xd9\\xe7\\xec\\x927\\x013y--\\xba\\x897\\xc3y\\xf6\\xb2&\\n\\xfcA\\xad\\xce}\\x91\\xb9\\x89\\x7f\\xbb\\x1e\\x96\\xd3\\x86\\xeb\\x0cbM\\xc3\\xcb\\xcb\\xec=[v\\xed\\xd8r\\xfe\\xc9)\\xeb\\xd3>y\\xda\\x95\\x91\\xd9\\xfc\\x90L\\x13\\xcd\\xad\\xb3\\x82\\xb9\\xe7,\\x17\\x93Q\\xc3m9\\xd5r\\xe3A\\xcc\\xc6\\xf1.r2/ \\x9b\\xac\\x95\\xb1\\x01F\\xca\\xcf\\x0c\\x96\\xa0\\xc6\\xcdw\\xca\\xb3\\x93\\x1e\\xa95\\x1e/\\xce g\\x05,\\xdd\\x8a\\xbd\\xb2N\\xcb\\xee+\\xe3\\xc0O\\xce\\x00\\xbd\\xcc\\x8d\\xd7\\x8d-%\\xb3;\\xd7\\x9f\\x89\\xf6\\x9d\\xa7o\\x92\\xc5\\x95\\x93-\\xb3\\x1c\\xf7O\\x19\\xf5\\xd0\\xe0\\'\\xf8\\xc3\\xbb\\xebr\\xa6\\xfc\\x90;\\x08n\\x84\\xdd\\xad-\\xf4\\x9a\\x8f\\xfe\\\\\\x89\\x97\\x06\\xd3\\xdf\\xfb\\xb9O\\xe2\\x7fX\\xff;YU\\x99\\xc7\\xbdu\\xc9\\xd7\\x9deU\\xaa\\xac\\xc0\\xa7od,\\x80A\\xe27\\x90=\\x1c\\xadl\\xf4FV\\xff^hRV\\x99\\x99w\\xc9\\x9c\\xc8\\xbf\\xf7\\xe9\\x9dv\\xccM\\x1d8,$\\xa5\\x8c[\\xf8k/f*\\xe5D\\x19A\\xf8o\\xd5\"2^\\xce\\x96\\x15zW\\xd6\\xe4,2\\x9a\\xf6\\xa1g\\xe8\\xcb/x\\xf6\\xf5\\xddd8\\xee\\xbb%\\x0f3\\xc5\\xeft\\x82\\xd5\\xba\\x16$\\xf3\\xa3+7\\xc6\\xcb\\x9c\\xef\\'\\xb3pn\\xd9N\\x0f\\xb9\\xcd\\'\\xcb\\xf0\\x05\\xd3\\xc7\\xe3\\xe5\\xa6\\xcbI\\xfd\\xa9\\xf1s\\xb2e\\xc3\\x9c\\xf2\\xb4\\xad-#\\xd6_\\xf4\\xe4\\x11\\xb9I\\xf0\\xca\\t]d$E\\x1f\\x1aO\\x91\\xe7\\x0e\\x9e\\xfc\\xcfI9\\xe3`\\xe6\\xc9\\xccF\\x03\\xf2\\xeeKx\\xf4\\x03\\x19\\xee{jz\\'\\xa5\\xacC\\xd4\\xb5J\\xa0\\x8c\\x95d\\xa4\\x84\\x9be\\xee\\xab\"\\xb3\\x10\\xb3\\x9a*?\\x19\\x9f\\x19\\x9fH}\\xb2\\xf7C;~(\\xf0zOY\\x7f\\xa1\\xa1*\\x83\\xae\\x85\\xc8\\xecB\\xd6\\xef\\x0cow\\xfbK\\xe6\\x10\\xe6\\xec\\x1a\\xfa\\xd8\\x05\\x8fi\\r{\\xc6\\xb5dD\\xc7\\xe3:\\xa2I^\\xfc\\xb0e\\x16\\xd9\\xd5.p\\xbfx\\xf2\\xbc\\xe0\\xe7\\xde\\xc2\\xb2\\x03\\x1b\\xcbN8\\x07\\x8dCC\\xc7\\xf6\\xa2\\xdf\\xe1\\xbd\\xeb\\xe4\\xcdu\\r\\xe4Y\\x89.\\xb5\\xdf g%\\xd9x\\x15\\xb3\\xf3\\x9c\\xfb>\\xe2\\x9c\\xee\\xe2%\\x1d\\xd0\\xb47\\xc5\\xf9\\xef\\x0b\\n<\\x1e\\x07\\xaf\\xf3\\x97\\xe3\\xe9,\\'x\\x9b\\x8c\\x8cMe\\x9fd\\xde\\x9e;2\\xa6\\xc1s=`\\xe2\\x14h\\xcb\\x14\\xf41wgy\\xf6o\\x91\\xf3\\x84\\x1aET\\xa5F\\xebe\\x7f\\xacB\\xee\\xe4|\\x1d\\xb4\\xa0\\xf7T\\xf8-\\x81L\\x1b.\\xeeJV\\xcc\\x07\\xbb\\xb9x\\\\\\n\\xea\\xf9K\\x03\\xc7/\\'\\x17\\x90\\x1d+\\xe1\\xcb\\xddCe]-\\x053\\xc06\\x83\\x92\\xc9\\xaa\\xfc\\'\\xfc\\x9a\\x90s!+\\x1eC7N\\xdd\\x94\\xbd\\xa7/<G\\xcdr\\x17\\x91\\xbd!\\xa9<[7\\xc2\\xdf\\xcc\\xdc<\\xb2@\\xd9\\x00\\x19\\xfb\\x13\\x92\\x19\\xf1\\xe3\\x95m\\xe1Prj\\xe71\\xe4\\x02\\xf2f\\xc2\\xb42\\x1b\\xc1\\xabm\\x93\\xe2\\xf1]e\\xac\\xc7\\xa3\\xa3\\xc1\\x06\\xf5\\x9f\\xc8|\\xdf\\n/\\x1f \\xb7s;\\xe6\\x1e\\x8d\\xbd\\\\Q\\xcel8rp[\\xd9\\xb7\\xcb\\xca\\x8d\"\\x7fg\\'\\xd7\\x97\\xdf/\\xabW8\\xbaM\\x0f\\xcc\\xa3\\xf6~p\\xde\\x8d\\xb92\\x932K\\x95\\xd1\\xcc\\xd4\\xec\\xadvZj\\xbb\\x92\\x9e%On\\xc43\\xab>ff\\xc9\\xfc\\xe9\\xf1\\x93\\xce\\xcc\\xd5g\\xea\\x97\\xa6,\\xdeR\\x01\\xa6#\\xf7VA\\x7f?\\xacf>\\xf0\\xb0\\x90\\xe12J]\\x96\\xf5\\x1dO\\x88\\xe2~\\xcd\\xe1\\xa8\\x0c\\x9de\\xec\\xd9\\xfc\\xfb=$o\\xb9\\xe8\\xcc~z\\xb9\\xe5\\x8e\\xd1oA2\\x9b\\x9a\\xf015~<\\x94<[N\\x9e\\xa1\\x01\\xb2\\xe2m\\x94u\\x87Z\\xcd?\\xc9\\xf5\\xf9\\x1eo\\xb7\\nn\\x93y\\xf3\\xb5\\xac\\xe8\\xbc\\xae\\x1f\\x19\\xee;\\x9c\\xbb\\x84\\xbe\\x9d\\x82\\xb7<k+7s\\x1b\\x18\\xa7\\xb4\\xec\\xa3\\xc7\\xe5\\x8cX!s\\x07\\xfa\\xf0\\xb3%\\xfa\\x99\\x08\\x9fGw\\xa6WBw\\x0br\\xfe}X?\\xda\\x94\\xe2\\xba\\xbcF\\xa4|\\x99\\xbb\\x93\\x91\\xf1\\xb2\\x0f\\xfb\\xc8\\x077\\xc8\\nG\\xd4\\xefz\\x0f\\xb8\\x1d\\xae\\n\\xd9\\xfb\\x9f\\x9c\\x90\\xae\\x8b\\xcc\\xdbm\\xc8\\x1d\\xdc\\x7f\\x14\\xdaR\\xbf\\xb6\\xcc\\xd6\\xa6\\x8cxhpJ</\\x15}Z\\x97<\\x9e\\x89Y\\xa9\\xc1\\x9a\\xfcl\\xe6\\x979\\xa8\\x17\\x00\\xdb\\x90\\xd13\\xf1\\\\/\\xf2\\xd08j\\xb6\\xa5\\xb5\\x8cL\\xafa\\xbdmr\\xd3\\xc0\\x10\\x07F\\xc8Sf\\x0f{@\\x03\\xae\\x90\\x97F\\x9c\\x90]\\xb3\\x00\\x19\\x98|>\\x1a\\xbfj\\x97Y\\xe6\\xdfd\\xc8\\xba\\xf8c\\x17\\xbc\\xe8\\xecP2\\xd0$\\xd9e\\xf6\\xcblP\\x89\\x8c\\x7f_N\\x86\\t\\xb2\\xa6\\xc0\\x8cm\\xd1\\x9f\\x108z9\\xfa\\x96\\x0b6\\x1c\\x8e7\\xb6\\xa3\\xd7J\\x8f\\x96g\\xd9|fy\\xab<5\\xa9\\xc5L8\\xc0\\x82\\xa5O\\x9e\\x90u\\x9b\\xbeJ\\xbdNf}\\xf66\\x15.*N\\xee\\x88\\xd3L\\xce\\xc3)r\\x96\\xcd\\x93\\xf9\\xf4\\x98\\x8c\\xe5\\x1b\\xe8\\xc5\\xc32\\xe3\\x0c\\x96\\xb5\\x8d\\x8c\\xd0\\xed\\xa8\\x8c\\xe4\\x86\\x8c\\x1f0w(\\x9e\\xfd\\x8e\\xfa\\xf5\\xedC\\x96|,7\\xd3a\\xb2\\x02\\xda\\x10\\xbb\\x9b\\xcc\\xa1\\xe8\\xef j<\\x97\\x0cw\\x04?\\xb9wI\\x9e\\xd6\\xac5{F\\xea\\x84\\x9f\\x97\\x83\\xb53\\xa6\\xc2s\\xff\\x86\\xe7j\\xa1\\x01xE\\xf4o\\x9c9\\xd9\\xd3\\x1b!3\\x1b\\xe76\\x9c|\\x1a\\x97u\\xe5+%k\\x19\\xf7[J\\x1f}\\x85\\x8b\\xbf\\x94\\x97\\xfb\\xea\\xa0\\x1c\\x9by\\xeb\\xd1\\x92\\xbef\\xf6\\x8fd\\x92\\x19\\x93z\\xb7h \\xeb\\xc7:<\\x14\\xbdZ\\x84\\x07\\x96\\xca\\x08\\xd3r\\xff\\xcd\\\\#5\\xdc\\xb18\\xaf\\x9cw\\xd9d|\\xdf-gTL\\xf2\\xcd3Y\\xffD\\x83\\xb5\\xf7\\xca\\x18v\\x08\\xd6\\x86\\x15\\xba\\x16!\\x07\\xb5%\\x9fme\\x1e\\xbch\\n\\x1a<\\x02\\xffX\\xd9]nA\\xe6\\xeb,\\xb32\\x93\\xd9\\x0e`\\x86\\xb6\\xe1\\xa9\\xe1\\x1d\\xc8f\\xfd\\xe5\\x84\\xb4\\x97\\xfd#\\x93\\xec-G\\xc8\\xb3\\xef\\xa8gr\\xd8e\\x16\\xdc\\x88/\\xa4\\xdb$\\xe3c,\\xb4\\x18n\\xccs\\x87\\xec\\xdbL\\xee\\x94z\\xf2\\xa6\\x1e\\xc89\\xc3p\\x8dk\\xa0\\x0b\\x9c\\xff\\x14?\\xd9\\x99\\xe8c\\xbf\\x8f\\xe8\\x19\\xfe\\xb6\\x99\\xdexQX\\xce\\xcd\\\\r\\xc2\\xd0\\x92\\xfb\\x9bd?_!\\x9f/\\x9f\\xbcw\\x96P\\x9f\\x022z\\xc3\\x15\\xd9G3c0R\\xe9\\x00y\\xae\\xd9p\\x7f\\x1b\\xd9;\\xef\\xc8iJ\\x9e\\xa9\\xcf|\\xb7\\xa1\\x9f\\xa7\\xa3\\'\\xf1\\xa3\\xe4\\xb9\\xf1\\rn}\\xca\\xf5\\x7fi\\xc0\\x009U\\x9e\\xcb\\xaa\\xb9I\\x1e\\xdfi\\xfa\\x10\\xad(K/\\x1eN+gBR8\\r_w\\xe1\\xf9\\x03ho\\xd94\\xf4\\r\\x1c\\x11\\x0b\\x9e\\xaf\\xd4\\x1e\\xfe\\xa5\\xbf:\\xc3BG\\xe8\\xd1ld\\xf6\\xf5xNw|{\\x05\\xf7\\x8f\\xc5=\\xca\\xc1\\xa2A\\xdbeT*\\x8eV\\x15\\x92\\x95\\x0c\\xe6}\\xd8\\x8a\\xe7\\x98\\xc1Vd\\x8f\\xaf\\x99\\xe56\\x85U\\x9f\\xfe\\x03\\x83/\\x90\\xb1\\xfa\\x11\\xb9\\x9c,\\x99\\xe9\\x149\\x96s\\xeet\\x8c9\\xf1\\x91\\x89\\xf1\\xb0c\\xf0\\xca\\xb7\\x9d\\xf2\\xf6\\x84G\\xd2e\\'\\x0b\\x92o\\xc7_\\x91\\xbbi\\xaa\\xec\\xe4\\xb0\\xd5Tf\\xe2u2\\x19\\xa3\\xc9\\xba\\xd7\\xb7\\xcb\\xba\\xc4\\x0c\\xdf\\'\\x87\\xc1\\x1a\\xc6\\xeb\\x122\\n\\x1f`\\xefI\\xe5TE\\x9ff\\xcf\\x97\\xa7GL\\xb2[Gz\\x1a}\\x08n\\xce\\xcc5\\x80%\\x02\\xe1.\\xf2\\xc8\\x94\\xbf\\xe1L\\xf2\\xe3\\xf0\\rx\\xc0\\x0f\\xfc\\xb4\\xa4\\xcc|\\xe4\\xfbbwY\\xcb}Y~I\\xe5\\x16gM6:\\xf8\\x86\\xfd\\xa7\\x99\\n\\xcb\\xd7\\xe5\\xec\\xf0\\xef\\xe0~\\xb2\\n\\xe1ww]\\xf4\\x10\\x06(E\\xce\\xb8\\x01O|\\xc1\\xc3_\\x92Sz\\xc3\\x8c\\xa7\\xd1\\xdd\\xf1o\\xf1\\xa4\\xea\\x9c?,\\xd8\\x80u:\\x9d\\xd0\\xd7\\x05d\\xdeX0iO\\xb8\\x91\\x9e\\xbcQU\\xde\\xb4\\x99\\xe4\\xfd\\xb3\\x98\\xec\\x9e\\xb7\\xe5{\\x91@\\xceA^\\x93\\x97\\\\0,\\x9a\\x82\\xea\\xc3\\x17\\xf7\\x98\\xf7\\x0e\\x15\\xe4\\xfe\\xe4\\xbe\\xe7\\xe0\\xc1\\x1f\\xf4\\xf9\\xf4k0\\n\\x1at\\xe5\\x92\\xdca\\xabe\\xf6\\xbfA6\\xd9\\xfc\\x9bi\\xad\\xcdw\\xe4\\xe9\\x15\\xe3\\xf7\\xb9\\xd8\\xc5bS\\xdf>2\\x1e\\xd07\\xab\\x7f\\xd0\\xa7\\xdcgXb\\xf4\\xb0\\x9e<\\xaf\\x8a\\xca\\xa8]\\x9c\\x19yF.\\n\\x94\\xdd#\\\\n\\x06<~i\\x90\\xdc\\xf8p\\xe1\\rGn\\xb7\\xf7\\xd4\\x99\\x9e\\xc1g\\xed\\xf8\\xf8\\xf7\\x8ap\\xb2=\\xd7\\xbc\\xd1\\x0e\\xae\\xcb!\\xfb\\x11\\xfd\\x12\\x90KA\\xd3>(\\x18\\xe6\\xf0\\xdee&:\\xa0\\x15\\x15B\\xc8\\x19?\\xc8\\xee\\x999\\xf7\\xe8\\xe4\\x9fN\\xb2\\x8d=r\\xd6\\x85\\xc9Y\\xfb\\xeb}\\x1f\\xe6\\xbewj\\xb9\\xf3\\xb6+8v\\r\\x05e\\xa1\\xdfWLUH\\xeb\\xf7\\xf2\\x05=\\xe1\\xec\\x1f\\xcaa_N\\x17\\xb4\\xb4=\\xdew0\\x98\\xbc\\xe0/{t#\\xb9G\\xaa\\xc9\\x9bd\\x82\\x9c\\xa1\\x9b\\xf0\\x8c\\x0f\\xb2\\'\\xae\\xe2_\\xe6+\\xdf\\\\X\\xba\\x1a|\\x0f\\x7f=g\\xad\\xb5s\\xc9\\xae\\x85\\xff\\x97\\xde(\\xa7h\\x02yJ\\x9d\\x91u\\x9f|U\\x1a\\xcf\\xcf\\x8a\\xeev)#\\xb7\\xe5s9A\\xf4\\x07uu\\x96\\xd0\\xf3\\x99\\xb3\\xcb\\xd8\\xbeI\\xd6\\xa6\\xef\\xe4Y|r~2\\xd9\\x97\\xe8\\xef\\x8b;d\\r\\xba(\\xa7\\x0e\\xcc1j\\xab\\xdc\\xe40LH\\xa4\\x822wVx\\x97\\r\\n\\xffrF\\xfd\\xf7\\xb4TH\\xf7ur\\x16\\xbc\\xc2\\xb3\\xeb\\xa2\\x99\\x7f\\xc8\\n\\xfe*\\xb7\\x04<3s\\xa9\\x9cJO8\\xdb\\xab\\xf2\\xe6\\x8d#\\xaf\\xd5B\\x03b\\xd5\\xd0\\xc0\\x96)50\\x8d\\xa9\\x81\\x05\\xca)\\xbcv1\\xf5\\xbf\\xb4YAK\\'\\xc9\\x97<\\x89\\xbc\\xd3\\x87\\xc9~UC\\xee\\xc4\\x1br|\\x06\\x1cUC\\xbe\\x8c\\x9f\\xe5\\xa4FW\\xdbl\\x92\\x9b\\xf1\\xb9\\xcc\\x8f\\xec;9\\x19>\\xf1#4\\xf3\\xa6\\x8c\\xdb\\xe4\\x82~\\xe8K\"8\\xb4t\\xa8\\x9c\\xec\\x8d\\xd0\\x1crJ\\xd6\\x94\\xf2\\x1cj+c)\\x9aw\\t\\x06*\\xb1OFE8Vd\\x92{#dO\\xca\\xfc\\xfb}\\x18k4uN\\xdeD\\xc6\\xa4\\xa32\\x93/\\x83Y3Rgxi$=\\xd7\\r\\x8f\\xcd\\x8d\\x7f\\r\\xba w[\\x1b\\r\\n\\xbf\\xa9\\xd9\\x17\\xc7hS\\xef4\\x9a7\\xf9\\x87\\x86\\x1cO.\\xdf\\xc5k\\xcc;\\xfau\\x83\\xde\\xa8\\xb6\\x9f\\xbd\\xa3!\\x0b2\\xb1V\\xced\\xe2\\x0f\\x85\\xf4k\\xa7A\\x95\\xfa(\\xe2s#\\x8dj\\x14\\xae\\x99\\x8b\\xdbkn\\x95\\x05\\x1a\\xd7\\xe5\\x83\"7\\xaeW\\xf8\\xb6O\\n\\xe9\\xbaV\\xbe\\x13\\xd5\\xe5\\xfa\\xc6\\xc2\\xb0W\\x98\\x87\\x07pD|\\xb9\\xb7\\xf2\\xc8\\xd8\\x8a\\xf7L\\x87\\xebV\\xc4\\xa3\\xaf\\xd1|\\x7f4\\xa7\\xce&9\\xed\\xd0\\x83\\xc8\\xe1p\\'^\\x15E\\x86<\\xf2\\x96\\x0c\\x8b\\xf6\\xf9\\n\\xc8\\xd7\\x91\\xba\\xdd?\\'\\xabX<Y\\x8b\\xd1\\xe2\\x03\\xcc\\xf2R\\xfc\\xe5,\\xb3\\x9c\\x0c\\x86\\xe9O\\xae\\x1b\\n\\xdf\\xad\\x1f\\x04\\xd3\\xce\\x81+8\\xd3\\xbfg\\xc8\\xec\\xb3Nn\\xe0G\\xb9\\xb3\\xd1\\x907d\\xd2\\x1b\\x96\\xdcC=\\x15T\\xcf_#\\xd2t\\xd4\\x89\\xd2\\xef\\xfc\\xa2\\xcf\\xfc\\xac\\xd3ONkt\\xe2\\xed\\xd4m1\\xfb\\xf7\\xca\\x1b\\xa7 L4\\x97\\xbe|\\x0eoeQp\\xf5\\xae\\n\\xea\\xb6L\\x03\"\\xbbj\\xd8\\xc6\\xcf\\x9a\\\\\\xf3\\xa5\\xd6\\xa5J\\xa0\\xbd9#u0\\xdd.\\xadJ\\x9cEc?\\x9cT\\xc4\\xee\\x94\\n\\x9f\\xff\\\\\\xbe\\xf5\\xe3\\x15\\x9c0\\x9b\\xbc\\xdf\\xd1\\xfdF\\xcc\\xfeH\\xb8\\xf5\\x14ZM\\x9e7O\\x91\\x17/\\xa1O\\xdbk\\xc9\\xf3\\xf6\\xe8o=\\xb2\"^\\xc8[\\x83|\\x1e6]N\\x0eK\\x8e\\xff{\\xe6/\\r\\\\PI>\\xdbO\\xbe\\xcb+`\\xdf}\\xf0\\x05318Tn\\xfa!\\xe8\\x1a\\x9e\\xdf\\x99\\xb3\\x1c\\xba\\x8c<\\r?\\x1f\\x18*\\xf3\\x02\\xac\\x16\\xc1L>\\xfbK\\xde\\x83\\x9f\\xf054\\xfd;\\xbf;\\x1c\\xf6Y1F\\xce\\xad\\xf6\\xf2\\r15\\x82\\xec\\xb9\\xefDE\\xfd\\xf3\\xa0\\x8d\\x0e\\x9e\\x0c\\xd4(\\x7f\\xe6\\xf7\\xc8\\x19\\x85\\x16[\\'\\xef\\xc9\\x8brc\\xde\\x96\\xbb\\xe8\\xa2\\xbc%\\x07)hdq\\xf5\\xef\\xdbJC\\xec\\x0e\\x9a\\xf0q\\xb2vgX\\xe1\\x17\\xeb\\xd9)\\xbf\\xca_[\\xf8\\xf9\\xc7\\x1f\\xe2\\x97\\xa8\\xf7\\x02m^A\\xfd\\x1bT\\xd1\\x90\\x90\\x8f\\n~v^a\\xbb\\\\\\xf9\\xd2\\x99\\xf2\\x15XF~#/\\xa4\\x99\\xcd\\x9a\\x0c\\x99[`\\x86M\\xeb\\xc8\\xe3\\xe4$\\x93\\x1a\\xef\\xef+\\xa7IL\\xd9Ua\\xa65\\xd4r\\xd2O\\xb9s`\\xf2uO\\xe4\\x99M.\\xef\\xf9\\x02F\\xd9&\\xe7.\\x9c\\xb0?\\xbd\\xacl\\xe8\\xd9\\x8aF\\xb0\\xd68\\xb9\\xbbf\\xca|\\x0b[\\xfeyNFK\\xe6\\xbfkJ\\xb9\\xb3\\x86)d\\xc3r\\x85\\xe6\\\\%\\xfb\\xdam\\x99{\\xa2\\xe13\\x17\\xe9\\xf9\\xd1r\\x13\\xf4TH\\xcc\\xca\\xac1\\\\\\x93w\\xcc\\xd3\\xc2\\'\\xe74-\\xd9;\\r)VL!\\xcfO\\xcb\\xbb\\x13\\xdfi\\n\\xdb^\\x1c\"\\xb7\\xf5,\\x05\\xd7m\\xa5\\xd0\\xb2\\xccw\\xf5+\\x1a\\x1b3@k\\xa3\\x95\\xf7\\x8b\\xff\\xfd\\x89\\xdf\\xe1\\xba\\xe3\\xfc{\\xce\\xc8\\xe4\\xdf\\xa5\\xfd\\t\\xbf=\\x15{\\xeami\\x9f\\xe6\\xcd\\xdc\\xafQ\\xc7NkP\\xc1\\x9a\\xea\\xbf*\\x91\\x82z\\x1dS\\xd0\\x81\\xc7\\xf2\\xa6\\x8a!\\xefp\\xf2k\\xc7;\\xf4.\\x8c\\xbeg?\\x9e?\\x8c\\xfd\\xc11\\x11\\xa7\\xe4\\xf5\\xaf\\'\\xc7\\\\D\\xce\\xd8#\\xf7I_4\\x05?\\x9b\\xd0\\x11~\\x1d\\xca\\xbc%\\x92\\xf1\\x1e\\xbe\\xfa~\\\\\\xee\\xb2}p\\x08\\xbd\\x18Gp\\x0c\\xfc\\xdf\\xb7\\xbe\\xac\\\\\\xb0D\\xf6y\\xb2\\xdb\\xee\\x94\\xf9\\x02>\\x8b?IA\\xcf\\xc6+4F!2\\xe2\\xaa\\xff\\xfc=1.\\xde\\xd0\\xfc\\xa1|1|\\n:\\x19M\\xa1\\x89\\xcfh\\xc0\\x9c\\x83\\x1aXq\\x92\\xc2K\\xdfWh\\xe8E\\x05\\x17\\xbc!w`K\\xf9\\x86\\xa3S\\xfd\\xdeS\\xfbZ\\xf2.\\xdf\\xa7\\xb0-E\\x15aL\\xd0\\x94\\n;t\\xfcc\\x05\\xbf\\xbc\\x89\\xe3\\xfb\\x17\\rz\\xe4\\x7f\\xde9\\xec\\x7f\\xd6\\xff\\x86\\x7f\\xee\\xa5e\\xfd\\x12^N\\xa9\\xf9\\x85\\xe6h\\xdc\\xed5\\x8ax\\x94Q\\x03r\\x04(t\\xcd\\x12\\xf9\\xba\\xe6\\x96\\xdb+@\\xf6\\xa1\\xfer\\xd7\\xb2G\\xc7\\x94\\xd3\\xf1\\xac\\xbcoWq\\x1ee\\xe5\\xad\\x92LN\\xe3\\x91r/\\xa7\\x81)\\x83\\xe5.L,k\\xd8.2B;\\xd9M\\xf2\\xc9\\xe9<\\x83\\xda7d\\x1f\\x0f9\\x1b\\xfc\\xf969~y\\x0e\\x99\\xd9k2\\x03\\xcc\\xf2\\xd6+h;~|\\x83\\x19i\\x7f\\x8e\\x9e\\xf9\\x8e\\x1f\\xa3iu\\xaf\\xcbm\\x8b\\xff\\x96\\x8c\\xc4\\xd3\\xa7\\xa3}p\\xc6K~f\\xd4\\x95S\\xab\\x95|\\x91{\\x14\\xfc\\n\\xaf~WO\\xbe&\\x1d\\xd0\\x8f\\xa2r\\xc6\\xf8\\xc9[\\x14\\xcf{\\xc7\\xf9\\x8d\\x1b\\xa0\\xd0}\\xfb\\x14\\x9e~\\x89\\x86\\xee-\\xa5\\x89E\\x1fh\\x7f\\xceh~\\x19\\xd2\\xef\\xf1Op\\xb4\\x87\\xff\\xa22G\\xfc\\xe7o|\\xef\\x1f\\xbf\\xad\\xbf_\\xc2\\x99\\xe75\\xcf\\\\\\xacQd\\xb9A-O\\xca\\xd7\\xe5\\xa3B\\xce\\x8cSPr\\xc9,{\\x89Z\\x91W\\xb6\\xc3\\xd7\\xd1\\x83\\x14R\\xe9\\xaf\\xdf\\x7f\\xdf\\xb4\"\\xf1\\xb1\\x9b\\xf8\\xfb\\xf70\\xb9\\x8d\\xf0\\xd3</\\xe8\\xd3\\xec\\xb2\\xdf\\xfbdnN(\\xab_n\\x99\\xe7\\xb2\\xc0\\xc6d\\x9e\\xcfh\\xbb\\xfb\\x88L\\x1b)\\xc3\\xd8%gl]y*\\xde\\x94\\xc7\\t\\x94\\xb7\\xd3;9\\r\\'\\xc9xE\\xad\\'e\\x95\\xb7\\xe639\\x1fg\\xca\\xee\\x86\\xd6\\xae\\x9c!;\\xf6\\xaf\\xbf\\x8b\\x92/\\xd3\\xc0\\xee\\x85~\\xc8\\xcd{RN\\x8b\\x89\\xb0\\x16~\\x163R\\xde\\xd3\\xed\\xe4-A/\\x1d\\xe5\\x8c\\xc2\\x8f\\xcb\\xfb\\xa8$\\x1c\\x896V~\\xaep\\xdfW\\r\\xddT]c{\\xad\\xd3\\xf2\\xc9\\x8f\\xf4\\xb6P}?7\\xf7%\\xbfg9\\xaa\\xfb=\\xbd\\x11\\xddo\\xe0\\xb9\\xd3z_\\xf5\\xab\\xe6\\xec\\xae\\xa4\\xc8\\xc0\\xde\\x1a\\x10\\xf1^A\\xed\\xfb\\xc9g4\\x90oR\\x18{B\\xd7c\\xd1\\x9b\\xf8\\xab\\xb9\\xa6$\\xde\\x1bO\\xbe\\xde{dN\"\\xeb\\x98xJN4p\\x04\\x99qZ\\x0e\\xfa\\x8e\\xd9\\xa86Y\\x81\\xd7\\xbf\\xc8\\xbaE\\xbf\\x8e\\xb8+\\xa3:\\xfb\\xcf]PN\\xa7lr\\xca\\x85\\xca\\xcc\\x10\\xc4^\\x8b\\xc8:\\xce\\xcc\\x98m\\xe4&\\x1e\\xc4,\\xc1\\x01\\x0f`\\x88/9\\xd9[J9{\\xfb\\xc9\\xdb\\x11\\xc6<RJ\\xe6r\\xf2_\\xf3\\x9ap8\\xd9}M.YI\\xe1\\xd5&\\xf0\\xfdcX\\xb66\\xfar\\x9e\\xd9\\xd9\\x8d\\xd6\\x96\\x80M\\x0e\\xe3\\xf5&s\\x1fL^\\xfb\\xb9V\\xe1}\\xefiD\\x89*\\x1a\\x7f6\\xbd\\xa6\\xd7\\x8d\\xd2\\x96\\xda\\xfe\\xba\\xf3\\xf1\\xa5\\xbeu\\r\\xf3\\x8b\\xd7\\xf2\\x86\\xde\\x14]\\xa6\\xddgV)\\xaa\\xf1\\x12E\\xecm\\xa3\\xb0J\\x85\\x14|\\x01O}\\xf0\\x87\\x9c,sd\\x8e\\xfc\\xa55\\x05d\\x7f\\xa8*\\xeb\\xf25\\x19\\'\\xee\\xb3ox\\xb4 \\x0c\\xd4\\x17\\xae\\xac\\xc5\\x9c7\\xa7\\xfe\\x8f\\xe0\\xfe\\x15Wd\\xce\\xf2\\xf1}\\x11\\xb9_\\xe1\\x84\\xe7p\\xea\\x95k\\xb2\\x0b\\xef\\x80\\xdd\\xe0\\xc1\\xe5\\x19~\\xbf\\x8fe\\x87\\xc1\\x88>\\xf8k\\xd06\\xd9\\x1f/\\xcajB\\x7f\\xd5\\xa3\\xceE\\xd0\\xcb\\xc2\\xeb\\xd1\\x92\\x00\\xf9\\xd6L\\x97\\x9bc\\xd6\\xef,o%\\xe7\\x1c\\xa6\\x0f\\xe6\\x0c\\x1c\\x99C\\n\\xc1]\\x89\\xd1>|c\\xd4$\\xb2@[\\xd93\\xd0\\xdd>We\\xef\\x1b.\\xb3\\x02\\xec\\x14k\\xbe|7\\xcb\\xaa\\x7f\\x9dK\\x1a\\xfa.\\xae\\xc6\\xa6\\x1d\\xa21\\xe7\\xb6k\\xd2\\xb9IZp\\xa1\\xa5\\xd6\\xef\\xdf\\xaaS\\xb7\\xbb\\xeaD\\xe6\\x11Z\\xd8\\xbc\\x94F/{\\xaf\\xc1\\xf3\\x9a+hQ\\x13\\x85\\x04\\xb1\\xcf?\\xc8\\x1eYk\\x90\\x81\\xb7\\xca\\xc8\\xf3C\\xc6\\xe0\\x9a\\xf2\\xc4%;w\\xda/k\\xf5G9\\xabk\\xcb\\x8dN\\xae\\x9d~\\x8e~\\xa4v\\xb9\\x1ap\\xef\\x91\\xb2\\x8e\\xa5$?\\x8e\\x91]\\x99\\xd9\\xdeM\\xee\\xdf\\xfb]f\\xe39\\xe8]\\x1by\\xee\\xc33a|\\xcd\\xdaB>\\'cT\\x84\\xb7\\x1f\\xa1\\x9d#\\xe6\\xca\\x8c\\xde[\\x81U\\xc2\\xe5I\\x11OvQ\\xb2\\xcc\\xdf0O&r\\r\\xbac\\xb6\\xb8/\\xa3>9\\xfaNO\\xd9\\xaf\\xcf\\xca\\xaa\\xce\\x9e\\xf3-\\x97\\x1d\\xc9k\\x1f\\xc0\\xd6A\\xf0G\\x13\\x98\\xff\\xf8|9q\\xc8\\xe5u\\xd9\\xffb\\xf4\\xa0du\\rx:F\\x83w\\x17\\xd0\\x90\\xe9\\xa9\\x15\\x199Y\\xa3\\xe7T\\xd4\\x82E\\xb1u\"\\xdeZ\\x1d5\\xe7j\\xf6\\xc3\\xad\\x8aH6T\\xe1\\xc7\\x1f*\\xf8\\x01\\xfb\\x18\\x95\\x1b\\xce\\x9a-\\xf3\\xe1`y\\x93\\'\\xfb\\xcf\\xfbMa\\xfbe<\\x1a&_\\x8ah\\xf2\\xf6\\xb8,oK\\xaf\\x9c\\xf4i\\xe1v\\xbc\\xfe\\xf96y2/\\x95\\xbb\\x03\\xff[\\x08\\xc7\\xf4\\x1f.\\xc3m\\xca\\xfa\\xfd\\xf0\\xf0.r\\xc8\\xe7V\\xee$r{\\x90G\\x930\\xab\\xfd\\xba\\xc8\\x8c\\xcb\\xcc<\\xfa&\\xab=\\xf3\\x1ex\\x10\\xce\\xc9#+F\\tYG\\xd3\\xc9\\xec\\xdd\\x90\\xfd7%\\x8b\\xc1\\x13\\x7f\\x92\\xe5\\xaf\\x93-6\\xe3\\xaf\\x07+\\xc9\\xca\\xd3Tn\\x8bo\\xe4\\xe5\\xe22\\x93\\xd5 \\xb3e\\x94\\xb9\\x8aY\\x08\\x18\\x05co\\x91se\\'\\xfaPA\\xe6K\\x98.c\\x1a\\x05E\\xc1+E\\x8f+\\xb4o;\\x85\\xd7M\\xa5\\x81\\xc7>hB\\x8bMZ\\xfe\\xb3\\x81\\x96_[\\xa6qY\\xaa(\\xbcWS\\x85\\xd4$\\xdf\\xc6\\xd8N\\x96AWM\\xafL\\x8bY\\xf5GK\\x92\\xb5\\x90\\xbd\\n\\xbe.\\x9fL\\xa1wR(\\xb8\\xfdh\\xf9v\\x16%\\x9b\\x1fg&;\\xc9\\xa8WX\\xe66\\x18\\xf8\\xc3K\\xd9\\'l\\xb9\\xa9\\xc6\\xca\\xaatC\\xc6J\\xb2\\xf1^\\xfa\\xa0n/YO\\x7f\\xc0u\\xf4\\xd3\\xad\\xf8ds\\xb4\\xe0\\tY.)\\x1c4/\\xae\\xdc\\xd3\\xe8|\\xbd]\\xb2\\xee\\x90)\\xaa\\xecTP\\x9e\\xc9\\xf2\\xe5.\"g\\xd65Y\\x05v\\xcb\\x98M\\xef\\x0c\\x80\\xa5W\\xce\\x92\\xc7\\x0fOi\\x10%\\xef\\xd4,\\xb2\\xe7m\\x841\\xff\\x92\\xd1\\xba\\x9a\\xac\\x89d\\xd1\\x1cOe\\xd7$c\\x0eX,7\\xe2\\xb2|i\\x99\\x17/\\xde\\x94\\xf4\\x8b\\x82\\x9a\\xe5\\x90/\"\\xb7\\xc2&^\\xd3\\xa0\\x1b\\xc5\\x14\\xf9\\xa8\\x9f\"\\xf7>\\xd7\\xe0\\xd5\\xa7\\x15V\\'\\xad\\xbc\\xe1\\xf0\\xf4\\x15\\xd6T0\\x95\\x9c\\xcb\\xcc\\xe4\\xce\\x10\\x19\\xc3\\xe1\\xe2#\\xbf>{\\xf1\\x12\\xf6\\xfe(_\\xfa\\x86\\n\\x99\\xfbV\\xdei0Z\\x9bE2\\xa7\\x92IzM\\x93g\\xfewy\\xd33\\xdf{Z\\xc8LW\\x9dL\\x91DV\\xf6\\xb3\\xbf?\\x83b=\\xa6\\xc73W\\xa4\\xb7\\x17\\xd1\\xafw\\xc8\\x03\\xe4\\xf1z\\x7f\\xcaL\\xdb\\x03\\x9f\\xeb \\xb3`lY\\x1b\\xe1\\xba\\xaf\\x9b\\xe5k5F\\xc1\\xfb\\xce*x\\xf6G\\x05e\\xbc\"\\xab\\x11\\x19u\\x07\\xf9i\\xf9\\x19\\xbc\\x1e\\r\\xa9\\x11$;WWYm\\xf1\\xc9?\\xd2\\x91o\\xbf\\xc8\\x9eP\\x8c{Q\\x83\\xb0\\x8b2\\x9f\\x91#\\xda\\xc3\\x85\\xc1\\xe3\\xe9\\x8df2\\xf38\\xbc\\xee\\x95\\xbc\\xaf\\xd1\\xd1\\'\\xb0_\\xd6\\xc7\\xf2]-\\xab\\xa0}\\x9b\\x15\\xfc\\xf3\\xa0B*\\x8fUHYr\\xebB\\xfcjW\\x90\\xcc\\xda\\xeb\\xf0\\xb6\\xf9\\xec\\xa5*k\\xde\"c\\xc7$\\xbcj\\'\\x19r\\x12\\xaf_\\xaa\\xa0\\xb7d\\x87\\xcd\\x9c\\x95lYU\\xc9z5\\xea\\xcb\\xec\\x84/\\xddd\\x067\\xaf!\\x87\\x14\\x93\\x9b\\xec:\\xf9;Jv\\xb9\\x9e2oO\\x81a\\xe8\\xf1#C\\x98\\xe1\\xb8r\\x16\\xb1\\xa7!.>D\\xbdO\\xb7\\x95\\xf9\\xbe5\\xcc\\x0e\\x03\\xb7\\xbf\\xa9!\\x89\\xd3k\\xdc\\xe4\\xc3\\x1a\\x17\\xad\\xae\\x06\\x9e/\\x08\\xa3\\x84\\xc8^\\x1fK\\xc6\\xb1\\x15\\xb2&\\xbd\\x94\\xb3\\xf9\\x10\\xfd\\xb6_\\xe6\\xc2\\x8cr\\xcb%\\x97q\\xe5\\x19>{\\x90LXSv:\\xeaS\\x96\\xb9{\\xdc@Vtt%^!\\x99O\\x99W\\x18\\xdf\\x1a\\xb2\\\\\\xd6\\xbc\\xc2\\xbf\\xff\\xae\\x1b\\xb4\\x06/\\xf9\\x1c%\\xd7\\xdc%_i\\xf2\\xefH\\x18\\xa4$\\xccY\\x8b\\x19kVYf\\xdf\\xf3rc\\xc3Z\\xc2\\xe3\\x92>\\x95\\xd9\\x11\\xee<\\xfeS\\xde\\xb8\\x0b\\xe5+\\x86\\xd6$\\x84W#\\xe0\\xddU\\x1bd\\x9d\\x1f.\\xb7c^Y7\\x98\\xf3\\xf8)d7>JN\\x8d%\\xfb\\xcb\\'\\x99uv)\\xb05\\xd7\\x8e\\x01#\\xedd&\\x1fN\\x92\\xf9</\\xd7\\x0b\\x96\\x95\\x03v\\x88Om\\xd6\\x92\\x85NVV\\xc8\\x80\\x97\\x8a\\xea\\xf4R\\x07\\xdc\\xdd\\xda\\xdb%\\x99&\\x9ej\\xa2\\xe0\\x86\\xdd\\xe5-\\xbeP\\xe6\\x87\\xc22b\\xa3/\\xcb\\xe8\\x97\\x83{d\\xbct\\xc8\\xf9\\x8d\\xf8\\x9a(g\\xce[\\xaeE6\\x1a\\x9c\\\\\\xde\\xf5x\\x94_\\x13\\x991K\\xc9\\xb3o&\\xe7\\xc2\\xf5\\x17\\xdd!\\x0f\\x18\\xe4\\xc5*\\xb2\\xcf\\x95D\\xaf\\x93\\xc8\\xb9\\xbe\\x1d\\xaf`\\xa6^\\xe2ei\\xe0\\xf0\\xceg\\xc9\\xfa\\'d\\xcdX/7n\\x1e\\xb2\\xcb\\x0c\\x19m\\xe3\\xc8\\xea\\xb3_\\xdeqpE\\x95\\x8f\\xbf\\xff&j\\xbd\\xfe \\'\\xd7\\x11rL;\\x99Y\\xda\\xc8*\\xf1\\x8f\\xac\\xb3/d$\\xfe(s\\xdc\\'\\x19\\xe9\\x06\\xcbYC\\x16\\xf9\\xfaQv\\x8fD2\\xf33\\xb3\\xe7\\xaf3{\\xff\\xc8\\x9e\\x7fL\\xceV\\xce\\xc6K\\xde\\xde_J\\xce5\\xf2\\xda\\xa4E\\xf4J\\x90B\\'\\xc7\\xd6\\xec\\x1f\\xf5u\\xf6\\xfa\\x0e\\x9d\\xd8\\xbbKQ\\xd16)d\\xfdB2e\\x01\\x99O\\xf0\\x9c\\xcdU\\xe1\\t4h \\xd9\\xd0\\x1f?\\xec\\x93\\x815\\xc6\\xe4\\x0b\\x9d\\xc9\\xb7O\\xe6\\xcd\\xdar\\xe2\\x06\\xb0\\xa7\\xf72\\x9e\\xcf\\x93\\x91m\\x88\\x9c=\\xef\\xd1\\x99G\\xb2~\\xbd\\xf7u\\x12\\x9f,\\xc6k7\\xc4\\x96y\\xed\\x0e5\\xfa,\\xb7\\xd4h\\x05\\xba\\xf8Ec\\x18<\\xc7\\x9frN\\xb7B\\xdb\\xb3\\xc9,9UN\\xa9\\xa32\\x96\\xfc%\\xbbd[y\\xd3,c\\x7f0\\xec\\xf3\\xf7\\xb2\\x9b\\x8eg\\xde\\xc8\\xecy}\\xf2\\xc5\\xc6\\xf7\\xb2w\\x90\\x91b\\x9a\\x9cf\\xf4\\xfaTtc\\x15\\x9aQy\\x84\\x9c\\xe1\\x0fe\\x9eA\\'_\\xa7\\x92\\xb5\\xbe\\x0e\\x19\\x90\\xecw!JN\\xa2\\x98d\\x9c\\x18\\xb2\\x961\\xafC>\\xcb\\x99y\\\\!M2j\\xe4\\xf7\\x96Z\\xd0y\\x94\\xe6\\x1d\\r\\xd3\\x88\\xfa\\x7f),Sny{\\x91\\xe7[&\\xfb\\xfd\\xf9\\x14g\\xa7\\xe7\\xf7{\\xf3V\\x8b\\t\\xf43\\\\`\\x85\\xa1Q\\xf8\\x9b\\xdf]y^\\xf9\\xc93\\x99I\\x0c\\xc9&ch{\\xd9\\xc3\\x98\\x83\\xd3;d\\'XL\\x1e\\xaf\\x85\\xff\\xc0bM8\\xb3\\xf87\\xe4\\xcdVCv\\x810y\\xed_\\xef\\x97G\\xca\\x9e\\xb3\\x9dL\\xd6WV\\xf1\\xb9r2\\x1c\\xfd\\xfd>\\xbbq(\\x87\\xac\\xa2\\x99dMf\\xb6\\xea\\xa0ae\\xa6\\xc8>\\xff\\x14-\\\\\\'{\\x13\\xda\\x9a\\x07\\xf6\\xd9\\xc8\\x7f\\xdf\\xfb\"\\xcf\\xa5\\xbc\\xb2_\\xc5\\x80\\xbfF\\xca,\\x9a\\x84|\\x8an\\xbc~\\xca\\x9a\\xfa\\xc0t\\x19\\xf1\\xb4\\xfe\\xb2\\xef\\xe3\\xd5\\xd9\\xd0\\xa8T{d\\xef\\xcdG\\x8d\\x98\\x95\\xf3\\xd4\\xf3\\xd64\\xf9\\xb2dS\\x98\\xf7\\x94\\x06W\\xc5\\x93cO\\xd2\\x80\\xc4\\xfb\\x14<}\\xbd\\xbc{3\\xc1V\\xadd\\xf8^\\xcb\\xf8vS\\xf6b\\xce\\xaa\\xc0=\\xb9\\xc7\\xe3\\xe1\\x05\\xe1\\xb2[\\x8c\\x95\\xfd\\x06\\x9f\\xfb\\xc9:[\\x1ff\\xff\\xe8tz\\xf2At\\xfa.O\\x84\\x9c\\xee\\xb9\\xc8\\xf5\\xf7\\xe1\\xed/\\xe8pZYW\\xf1\\x82\\'h\\xd9\\xaf\\xcf\\x9e\\xd4$o\\xf5y)c\\xf1Jt\\xe4O\\xd8{\\x06\\xf9\\xe2\\x88\\xbc\\xe5\\xa9o\\x8ad\\xf2\\xf4\\xac*o|^s\\x86\\xbc\\xbd\\x8fY\\xdfZ\\x13\\xd6\\x98\\xc0Z`\\xa9?`\\x8d\\xd5\\'~\\xaf\\xc9\\xed\\xd1@N+|~\\xea\\x1e\\xcey\\x8bl/\\xd9s>\\xbc\\x9a\\x9c\\x1e\\x98\\xb0X\\xb63N\\x81\\xed\\xca\\xc9\\xac\\xb2J\\x9e~\\xb7\\xc9o\\x7f\\xcbz\\xd3\\x93L\\xdc\\x02\\x9dE\\x1f\\x87\\x90c\\xb2\\xac\\x91/Iq\\xb9\\x15\\x86\\xc9y\\xc5W\\xed\\xbb\\xe8\\nyw\\x02\\x9e\\xb0=\\x01>\\x18]\\xd6\\x96K\\xf8\\xce\\x01\\x98\\x00\\x8e\\xab\\xf9^\\xd6p\\xf4`\\xe3\\x1b\\xfa\\x94\\x99\\xf3\\xb5\"o,\\x97\\xf3\\xb2\\x9c\\xecQe\\x98\\x8f\\xea\\xf8\\'\\xbd~\\xee\\x84\\xdc\\xad\\xaca\\xdc=\\xfc\\xf7\\x0c\\xbaf\\xc8;\\x11-\\xbb\\xf3Yv\\x16X{\\x05\\\\\\xea_^N\\xa3\\xce\\xac\\xe9\\xd7\\xfbo\\x85\\xe5\\x16\\'\\x9f\\x06\\xc1e\\x87J\\xcbk\\xc0\\xa3\\xd7n\\xe0\\xa1\\td\\x0e\\x9f!\\xcf\\xeb\\x93\\\\\\x7f\\x16\\xac5\\x9e\\xbe]#o\\xd3\\x1drR\\x1e\\x957\\xf5\\x11\\xb9\\x03n\\xca\\xe9vBv;\\xea\\x16\\x19\\x93\\x8cF\\xffe?-\\xfb\\xc5`\\xb9\\xd1\\xee\\xc2b\\xec7k\\t\\xb9\\xdf\\xba\\xa1Gd\\x95<Id?C\\x8b\\xde\\xb1\\xdf\\x81\\xf8\\xea\\x99Fr\\xd3\\xa7\\x92q\\xfc>{\\x1b+\\xb7\\xef\\x02\\xb8\\x889\\x9b\\x96\\x9f\\x9cSPV\\xbc\\xc4\\xf2\\x1c\\xa3\\x0f\\xb3\\xc7e_pA\\xb6\\x9er\\x12\\xfc!\\xfbX\\\\z\\x14-\\xfd\\x82\\xc7\\xa6\\xc7\\x13\\x92\\xe4D[\\xc3e\\x1d&\\'\\xdbk\\xe87\\xf6\\xdf}\\x83\\xec\\xb4Sd%\\xb8\\x057\\xcc\\x86A\\xe1\\x87\\x02x\\xd2\\x01r\\xf6\\xdb\\xf2\\xb2k\\xa7Q\\xe0\\xadD\\xd4\\xba&|\\x07\\x9fM{\\xcd~3\\xca\\xd8\\x02\\x7f\\xa5\\x9b\\'\\xf3(g\\xfe\\xa6;lCn\\xa8\\xf2\\x82s&C\\xd5<\\xa4\\xa0\\xf7\\x86\\xdc\\x9fKd\\'}&\\xf3\\x1b\\xb3\\x18\\x99Fn\\xd4[\\xb9a\\x0beuj.w\\xd3X\\x99\\xad\\xa6\\xe1?p{z\\xf2^_fl3z\\x99\\xf8!y\\xb5\\x1f\\xde]\\x1a^\\x1f#\\'Z\\xc3\\xff\\xbco1\\x89\\xeck{\\xc9\\x8a9\\xd0\\x1bf\\xb5\\xfe>\\x19\\xcf\\xfe\\x86\\rZ\\xd3\\x7f\\x03d\\x1d\\xdc,\\xe3\\xfds\\xb4\\r\\x8e\\xe9\\xccuB\\x9a\\xe2-\\xbf\\xde\\x0f|\\xf6\\xfb\\xb3\\xa8n\\x0f\\xf2D!\\x98\\xa3\\x08\\xfa0\"\\xbd\\xcc\\xd9Wa\\xce\\xe62\\'\\xe3]/V\\x91Q\\x87\\xc9(I\\xd6X\\xc8Yw\\xa7\\'\\xf3\\xc2\\xe5a\\xd1d_\\xac\"#\\x98<1\\xbb\\x85\\x9cQ\\xeb\\xa9\\xf9+Y\\x1f_\\xc9~\\x1b]F)\\xce\\xbf\\x12\\x1e\\x96\\x92l\\x91\\x06^\\xa8`*\\xf4\\xe4_\\xea_\\xa5\\xa5\\x82J\\xb3\\xfe&\\xf8~|\\xce\\xecg~\\x19G\\xf0\\xb2g\\xdc\\xabAo\\xce-\\x8f<>\\xe6\\xe4f\\r9\\xcd\\xe1\\xb1\\xb2\\xd9eE]\\x943\\xe4\\x90\\xec\\xcb\\xcf\\xe9\\xa9\\xf3pk\\'9C\\x1f\\xfd\\xfe\\xbb\\xbf\\x9d\\xf2\\'s\\n;\\xbc\\x1d\\xcdY\\xa1%\\r\\x1as\\x8e\\x07\\xe4\\xc4\\xa3\\x07\\x131\\xdf\\xf7\\x8b\\xca\\x9c\\x92K\\xc6\\x8d\\x8a2n\\xaf\\x90\\xd1t\\x89\\xac\\x15\\x97\\xe4L\\x81\\xa7:o\\x97\\x95\\x02\\x9d\\xbd\\xdcIV\\x074\\xfc\\x8fv\\xcc\\x00\\x0c\\xfc\\xe0\\r\\x19\\x9b\\xcc\\x95\\xb2\\x0bz\\x16)\\xb3]]t\\xff\\xa7\\x8c8\\x05\\xe9\\xcf|\\xb2S\\x93\\xa7\\x93\\x8c\\x90\\x95\\xe8\\x19\\x19\\xea\\xbc\\x9c\\xd8\\xc9\\xe9k\\xfc\\xf4,z\\xd9\\xb7#>\\xc0\\xbf\\xcb`\\xf36S\\xf0\\xc1!r\\xd3\\x9cP\\xc8\\xf3\\xe5\\n)\\x97A\\xeegj\\xda\\x983\\x89\\x8d~\\x0ef6\\x87\\xe2\\xad\\x89\\'*\\xa8\\xe2>\\xd9K\\x06\\xca\\xba\\x96F\\xe6\\xf7\\x1e\\xf2\\xce\\x8b\\x01\\xd7\\xa2{\\xaf\\x1a\\x92\\xf3\\x16\\xcb\\xfbf\\x97\\xec\\xe3\\xacyocf\\x05\\xe6\\xd9\\x0b+\\xd78/;j1\\xd9\\x17\\x1f.\\x9a\\x19\\x8e\\x8b#\\'~$\\x1e\\x13\\r\\xd6e}/\\x93\\xcbS\\x11]~\\x81\\x8f\\x95\\xf8\\xce\\xb9N\\x83\\x13\\x0b\\xc06hQ{\\xbc\\xbf/<\\xf50\\x81\\x0cx\\xd7\\xec\\x9fU\\xd6\\xc8c\\xf2\\x84\\x91\\x0bG0/_a\\xcej\\x13\\xe5Y\\x81\\xce]\\xc2\\x0fz\\xe6a\\xce\\xd0\\xb3\\x89\\xf4\\xd9\\xbb\\x91\\n\\x1e\\x86\\x17\\x7f9#oHV\\xb9\\x87\\x8f*\\xb0,\\x1es\\x8f\\xf3\\xdf\\x8f\\x9e\\x19\\xf0\\xcdd\\xfa&3:]\\x9f~\\xad\\x7fXN\\x05rD\\x83_\\x9f\\xd7\\xa4\\xff\\x92\\'\\x96s?\\xbe\\xdc\\x1f\\xccg1t\\xaav\\x00?C\\x03\\xfb\\xfd\\x94/\\xc6r\\x05\\xd5,\\xa5P\\xef-\\xd8\\xf2\\x86|\\xc1\\xe4\\x90b\\xf8\\xff\\xd5[rg\\xa3\\xb5Q\\xe4\\xb6}xA\\x1cX,$P\\x9e\\xb4ud\\xfc\\x1dG\\xa6\\xcb\\xcc\\xbf\\xbeFV$#N\\x95\\x9c\\x00f\\xfb$\\xbe\\xb2\\xf8\\x1b=\\xdeU\\xa6\\xa7\\x1c\\xfc\\xd6\\x88\\\\H\\x7f\\x06\\xd3W\\xc1\\x9c_0u\\x9fV\\x02\\xf6X\\'\\xebv\\x80\\x9c\\x15u\\xd0hf\\xea\\xe4ZY\\xd3\\xb9G\\xdc\\xbe2\\xa2\\xc8H\\'-\\xb9S.*\\xb4[LE\\xbc\\xca\\xa5\\xa1\\xfb#\\x15^z?\\xfbF\\xc7O\\xa3\\x1d\\x1e\\xfahuG\\xb9%k\\xd1S\\x9c\\xedcS\\xeeQ\\xb4\\xb50\\\\\\x15\\x19\\x03\\xbf\\xf8.{\\xa6\\xf5\\xfbs1f\\xcd\\xbc2\\xda\\xc0\\xb8\\xe1\\xa9y~\\x93\\x8c\\x17Iew\\xedJ?\\x87i\\xe0\\xd51\\x9a\\xa0/\\x9auj\\x81\\xc65\\xba\\xac\\xfe\\xc5[\\xc9m\\x02o\\xf9\\xce\\xc0\\xad\\x0fd\\x9e\\xcf\\x0f\\x8fL\\x84\\xd1\\x98\\xed\\x8b\\xe4\\xf6\\xd1\\x1e\\x98!5\\xe7L]6\\xf8\\xc9\\xdc\\xc49$\\xa9 \\xbb8\\\\\\xf5\\xeb\\xfd\\xc3m\\xd3\\xe0U|\\xfdQ\\x80<\\x89\\xe8\\xc7\\xda\\xc7\\xc8OE\\xe4Y\\x9cUF\\r\\xb2\\xe9\\xa5\\'\\xe8\\xdc,Y+G+(\\xe4\\xd7\\xdfG\\x8a1g\\xc1\\xf0\\xda)f<\\\\\\xee\\xc4\\xcd\\xf2^\\xfa\\xac\\xf0\\xac\\xa75\\xb9\\xe4\\r\\xed\\x0b\\xfc\\xa6\\xbdo\\x1fjJ\\xbe\\xf9\\n\\xdbI\\x9eKT\\x9cL\\x9b\\x8f=\\xd5\\x96\\xd9s\\x9d\\x02\\x7f\\xbd6!\\xfe\\xb0\\x879k\\x90\\x9d>m$;t\\xe7\\xef\\x9c\\xe9T@G#\\\\|-\\xbd\\xech1\\xd5\\x8fljwZ*\\'y5\\x19\\x83?i\\xf8jC;\\xef\\xfb\\xebf\\xd4\\t\\xadk6Y\\x83\\xb7&\\x80\\x93\\xf1\\x97?\\xfa\\xe2Ce\\xe4\\xdcHH-a\\xedDp_\\x13\\xce\\xa1\\t\\xd9\\xfe!Zl6\\x97\\x95\\x8b<\\xdd\\x90\\xfc\\xe4\\x17[\\x9e6x\\xaf\\x03\\xb7F\\xad\\x92\\xd9\\x95\\xccQ`\\xa0<\\xb3\\xdb)\\xf0\\xe2\\x0f\\xd9\\x06\\xe7}\\x9c\\xfa\\x16\\xd9&w<\\xec\\xdd\\x89\\x0c\\x94\\xed\\x96\\x9c\\x19d\\xae\\x9ap\\xe2~\\xe6\\xedeY\\xb2c\\x84\\xdc\\x12\\xb0Ea\\x9f\\x06\\x97/\\xa5U\\xe9\\xcf\\xf9\\xc5L\\x90\\xc8/f\\xca~Z\\x1d\\xfcU\\x83\\x9bM\\x94w\\xcf\\xce\\xdf\\xef-\\x1b\\x1b2\\xc9\\xf8g3\\x19\\x05==\\xca\\\\&\\xfa[\\x9e\\xf4\\x97\\xc8\\xab\\xd5\\xd8k)\\x19\\x15\\xdf\\xc9*]YVAX\\xaf\\xfbe\\x99\\xed\\xc9\\xa7\\x81\\x9c\\x7f\\x0er\\xdf\\xa0\\x9b\\xd4t\\xafF\\xf4\\xb9\\xa1\\xed\\xb7\\x9b\\xe8\\xda\\xf9\\xd3Z\\xef\\xb7IC\\xcb\\x8e\"\\'\\xa0\\xb1\\xbd\\x7f\\xcay\\xcc\\x9c\\xa6\\xc5\\xdb\\x0e\\xa3\\xcd\\x87\\xd1\\xc0\\xe2\\xe7\\xe4T\\xa4\\x9f\\x9a\\xc00)\\xc2Y3\\xf7\\xcf1\\x06\\xd6\\xb2\\xf16t\\xb303\\xb6\\x06F\\xae@\\xbf\\x8d\\xeb/\\xf3R\\t\\xe6\\xba\\x9b\\x8c.0w\\xbb\\\\\\xf2~\\xa3\\xcf\\x03\\xcf\\xc8\\x9cIoo@\\x0f\\xd61\\x07fe^\\xdb\\x0e\\xf6\\x9c)\\xb7\\x00\\xf9e\\xfa&\\x85.X\\xa8\\xc11;j\\xee\\xfb;\\xba\\xdb\\xfc\\x83\\xeeNH\\xae\\x05\\x1d\\x8b*\\xbc\\xeft9-\\xfe@7\\xe0x/,\\xba\\x9c\\x9e\\xfe\\x02k\\xcf:H\\xf6)O\\xbf\\x91\\x153\\xfd);\\xd6sYu\\x07)0j\\x10?GKb\\xc7\\x96s\\xa2\\x07~\\x8a\\xcfL#gN~\\xa5\\xc0\\xa3\\xef5\\xb0_%M\\xcaSE\\xf3\\xc7\\xd3\\xfb\\xef\\x1bj`\\xa2\\x13\\xf2\\xfe\\xfa,h\\x97\\xfa\\xb2\\x97\\xc6\\x94\\xbd\\x01F\\x8cG6\\xe8\\xc5\\xb5y\\xde\\x8dA\\xf6]\\xd6\\x9bLM\\x96\\x89\\x82\\xb1\\xf3s\\xbf\\xe5\\xeb\\xe4\\xd9\\x1aK\\x9e\\x85\\xf8\\xc9\\xc0t2\\xb22/\\xc9\\xc9\\x08S,\\x18\\x7f\\x8d\\x8c\\xd5\\xf8y\\xbfb\\xe8 \\xdf\\xa7\\xaaJ\\xc6\\xbf\\rW\\xd5\\x97g\\x11k\\x9c\\xb1\\x12\\x96\\xbc +\\xeeh\\xe6h\\x9a\\xbc\\x8b\\xe1\\xb0\\xfcU\\x14\\xe6\\x1e\\xd3\\xf0\\x91\\xb1\\x15u7\\x85f\\xacu4|T\\x06\\x85u\\xef\\x84\\xb7LS\\xe0\\xfa\\xcb\\n\\xec\\x8f\\x96\\x9f\\xc1\\xc7\\xca\\x90\\x7f2\\x1fa\\x06\\xb2\\xe3\\xfd[\\xf1Q\\xe65}\\x84\\xccd\\x9f\\xd1\\xe5\\r2\\x7f\\xa4\\x84+6\\xa0G\\x13\\x14\\xf8\\xe2\\x8a<\\x87C\\xc9Sd\\xa5\\xc3\\x81\\nJ\\xf4V\\x03r,\\xd3\\xc0\\x95s\\xd5\\x7f\\x0fY\\xe9@?yK%\\x91a\\xc3\\x97\\xfdW\\xe0-\\xe8\\xe8\\xaf\\xaf]\\xccrJf!\\xe1\\x0f\\xf4\\x8a\\x196*\\xc88\\xdcPF\\xbc\\xb5\\xf8<\\xfa\\x1a+\\x9e\\x8c\\x0f\\xb3\\xe4\\xa9\\x05\\x8f\\xd7\\xeb#{6\\x9ah\\xe1C\\r\\x92\\xc9\\xf8\\x94\\x99<\\xf7C\\xe6\\x91\\xb2d<\\xfcr>z\\xb5\\xfc\\x8e\\x02O}\\x95\\xb9\\xa08\\xfe\\x9b\\x14^>\"{\\xee[4\\xa4\\x8b\\xdcb\\xf7\\xe5V\\xcd\\xa3\\xd0\\xf2\\xb14`\\xd1J\\xf5o\\x9aFa\\xf5\\xde(\\xe4\\xc3xy[\\xef\\xc6\\xeb\\x0e\\xc1\\x99\\xa5e\\xf8\\xc30Q\\xf0\\xeeA8a\\xf3_0\\x0b\\\\U\\x84\\xfcPu\\xbd\\x9c\\x93h\\xcd`2\\xf0\\xbe\\xee\\xe8{If\\xeb\\xa3\\x8c\\xcex\\xca\\xf7\\xf9\\xb0w\\n4\\x0b\\xaf\\xbe8B\\xbe\\xbdW\\xe5\\xad8L\\xbe\\xfa\\xad\\xf17\\x18\\xbb/\\x8c\\xbdn,}DVl\\x8a\\xd7\\xf5c\\xdd\\x17\\xdb\\xcb48\\xcb\\xa3\\x95\\xe4|x\\x03\\xf3\\xc4\\x95\\xd9\\x14\\x0e\\x8a\\x1e(3W,|\\xef:\\\\z\\x9b\\xfcQ\\x82\\x9c\\xdcD\\x16\\xbcc<\\x86[\\x03^\\xc9\\xdd\\xd9XF\\x81\\xa9d\\xb1\\xe5\\xe4T\\xce\\xb5\\xd9T\\xb2\\xfc\\x01Y_\\xbcp\\xd4\\x07\\xf8\\xef\\xa4\\xacgMe\\x15\\x81\\r\\xf7$\\x95\\x83\\xc7\\x999\\x06\\xc9W\\xed\\x14\\xacVAA\\x857\\xca7\\xf3\\xba\\x9c3\\x1f\\xe4\\xaeD\\x0f/R\\xc7\\xecea\\x0e\\xbe/\\x81~\\xb7\\xe8*\\xcf\\xba\\xdd2\\xffAG\\x9b\\xcd\\x95\\xf5\\x81\\xda\\\\G\\x9b\\xd7\\xb3\\x96M\\xf8\\x96Af\\xfc\\x0e;\\xa4\\x86\\xcf\\xf2t\\xc1\\xe7g*\\xf0\\xed~\\xb8\\x0c\\x8d\\xf6\\xe7\\x9cK\\xfe\\xfa\\xfc\\xccP\\x18\\x17=\\xb8\\xdc\\xf1\\xf7\\xfb\\xac\\xe6\\xe7\\x97\\xb2v\\xe3\\xe1W\\xa9c\\x8b~\\xf8\\xd2\\x05\\x05\\x9e<$\\x93\\xd9\\xb0\\xf6R\\xcb]\\xb0\\xc0\\x9f5\\xe4\\x9e#o\\x16\\xcc\\x82\\x0f^\\x92\\xdb\\x95Y?\\xfa\\x8a\\\\\\x81\\xef\\x9f\\x84[\\x9c\\xb9\\xec\\x87^I\\xf8\\xb7\\x8c\\xd6\\xe8\\xc6\\x94\\xd2xl\\xa3\\xff\\xfc\\r\\xf9\\x0eLX\\x0f\\x9f\\x9e\\x83_/\\xde&g\\x11\\xbc\\x13\\xf0\\x8b\\x97\\xde\\xc0\\xc4\\xf4H\\x0f\\xfc\\xce\\x97Q\\xde\\xd5\\xdb\\xe1\\xfb\\xc9\\xb2\\xda\\xc0\\'\\xbb\\xc8\\x80\\x9d\\xde\\xc2@hw\\x0b\\x98f+\\xfd\\xf9!B\\xd6\\x0b|3\\xdd$\\x19\\x11}\\xe4\\xb99\\x8f{\\xe2\\xb3\\x13\\x98\\xad\\xe2\\x17e\\xa4\\x1d\\x89\\xef\\\\\\x81\\x81\\xa8\\xfdV\\xb2k\\x8dsd\\xfa\\xfa\\xe8\\xd1w\\x19y\\xf6\\xc8\\xb3\\x99\\xbc7\\xf0(\\x9ct\\x11~\\x86{\\xb7\\xc1\\x8cm\\xd1\\x12\\x83\\x19y\\xe9\\x93g\\xc0\\\\\\x197mzw\\x1b:3\\x8a\\xf5\\xa7\\xa6^\\xac\\xfbZ|xv)\\xec8@\\xe6WrH\\xceSx\\x1a\\xdc\\xd9\\x1a\\xbf\\x98\\xc1\\xdc_\\xd9+\\xb3\\xea#\\x19\\xdb\\xd8\\xfbc<\\xd9\\xf9u\\xbe{\\xc9s\\xbb\\xa8\\x99\\x1f\\xdc\\xb1E\\x86\\x81\\xb6F\\x16\\x93\\xb1\\x9c\\x19\\xe8MV\\xba\\xfb@\\xde\\xe6\\xe4\\x8a\\xd0\\x87\\xb2\\xednr\\x1e\\xad\\x97{\\x8b\\xb5\\xf6\\xfc\\xa4\\xc0\\xc7\\x0f\\xe0\\xc2\\xa92\\x87\\xb5\\x95q\\xf6\\x83\\xcc\\xe6\\xc7\\xf0Y\\xea\\\\\\xae\\xc1\\xef\\xf7\\x14\\xcd\\xba\\xf9d\\xf5d\\xbfm\\xc8U\\xc7\\xd9\\xa7\\'\\xb6\\x8c\\xb5\\x19\\xc8\\xd6\\x17d\\x0f*\\x8b/\\xb5\\xc6\\x03\\x12\\xcbM;\\x86\\x1e\\xa8\\x85\\xfe1\\xcf\\xb9\\x07\\xcb\\xa8\\x12&\\xfb\\xd7{s\\x9b\\x96\\xc8\\xb8\\x8b\\x06\\xff,\\x83n\\xce\\x92\\xb1\\n]\\xba\\xf7]\\x81?\\x17\\xc8x@o/\\x19\\xc1\\xef\\x07\\xca\\x8e^MN\\xe4\\xaf\\xff\\x1f\\x84\\x9a\\xaf@\\x7f\\x0b\\x93C\\x9f=\\x91\\xf1\\xa3\\x0e\\x9c\\x16]v\\x04\\xda\\xd321\\xd7)!c\\xdem\\x05\\x96\\xe1\\\\\\x0e\\x9f\\x92q\\x90\\x99\\xa8I\\x8ezb\\xc8YH\\xcd+\\x9f\\xe2\\xf7\\x8e\\xa8\\xdf\\x83\\xf8r2\\xc2\\xd67\\x17\\xcbjpU\\xd6>\\xb2]\\xb4\\xcb\\xb2\\xc7\\x90\\xdbN$\\x95\\xa7l,t\\xa41\\x8c\\x95W\\x9e9\\x99\\xe4)\\xcd\\x1a\\xeb\\x93#ZS\\x07r\\x905\\x95\\xac\\x94\\x18?\\xaf\\xbeD}\\xb7\\x85\\xcb\\xf8\\xa3\\x97\\x9c\\x013\\xe5\\x8d\\x89\\xbf\\xe1Y&\\xcf[\\xa9\\x98?\\xff\\x1f2\\x9a\\xe3\\xd5W\\xe8\\xad\\xf9\\xb0\\xd8\\xbb_\\x9f\\xe9\\xc3\\x9f\\xeb\\xb1^\\xce\\xd5\\x08@K2\\xb7\\xa2oj\\xa3\\xdd\\rd\\xc6`o\\x81~dq\\xfc\\xda\\xd3\\x06\\xfdC\\xbb\\xcf\\x0c\\x96\\x93\\x86\\x0c\\xe9R\\x8bcu\\xe5\\xec\\xcf\\x85\\x87m\\x95\\xd3\\x0b\\xbf\\xbbF6\\xb9G}\\xad\\xc4\\xf4\\xc6c\\xd9\\xb5\\x98\\xb7\\x0c\\\\#WA\\xd9\\xeb\\x99\\xef\\xa9E\\xe1%\\xb8d\\x17k=\\x12O\\x9e\\x0e\\xc9e\\x86\\x91\\x17\\xaf\\xc3\\x02\\xbd\\xee\\xcaN\\x05\\x0f7;NN\\xe2\\xf7\\xb7\\xe3\\xcf\\x89\\xa7\\xc3\\x7fd\\xea\\x1f-\\x98\\xe7\\x9e\\xf8\\xf6my\\xf66\\x90\\xf1&\\xa7\\xec\\x91\\x1bd\\\\%_\\x9f\\xa9\\x81\\xbe,\\x97\\xd1\\xaa\\xbc<9S\\xca\\xd8\\x91E\\x9e\\xc1\\x8f`\\xde\\x8ed\\x02\\xfc7\\x0e\\xb3\\xd1\\xf8\\x16\\xbc\\xddZf|j\\xb8\\x889\\x88\\xdfLV\\xff\\xd2r\\x12\\xa7\\x94\\xb5\\x14\\x1d\\x1b\\x85\\x1e4\\xed${F[~7R\\x9e\\x17%e\\xd4\\x84\\xe1#f\\xcb\\x99K\\xd6\\xcfo(\\xb0^\\x03\\xb2\\xf3[2@1y\\x93\\xaeQPR2p\\x06f\\xe3P\\xb3\\xdf\\x9f/2\\xbf\\xa2u\\xc9\\xd8\\xbf\\x87\\xfb\\xfe\\xf4\\xc9\\x99\\x87\\xae\\x16d\\x06g\\xa6\\x91\\x1d@\\xfd2\\x91\\x1do2_\\xaf\\xbe\\xc8Z\\x13!O\\x00Y\\xb0\\xf82\\xd9\"\\xcbUAW+\\x909\\x87\\xc2\\x93\\x99\\xc4\\xf5R\\xd1G\\xe8\\xd2\\x04\\xf2\\xaa\\xba\\xc1npr\\x9f\\xa9\\n\\xbcvG\\xd6\\\\\\xae_\\x0b\\xff\\xc9\\x19]\\x81\\xfb`\\xa5\\xc0I\\xe4\\x85\\x01\\xcc\\xfb\\xaf\\xf7\\xeb:\\xc8\\xfc\\xf5\\xff\\xb2-\\x8a\\x90\\xe1%\\xcb\\xae\\xaa\\'\\xcf\\xf2\\xe3\\xe4?\\x18z;\\xbd\\xba\\x94\\x1c7\\x8f\\xe7\\x9e\\x97\\x931\\xad\\x0c}\\xf1\\x89\\xfe\\xa1\\xe7\\xdf\\xc2\\xe0x\\x8d\\x15P\\x9c\\xfb\\xb7\\x95\\xbd\\x12N^\\xbeK\\xe6\\xd5\\x00\\xd9\\xe3\\xc93\\xbb\\xa9\\xe3\\x0f\\xaf\\x9c\\xfcw\\xe5\\xdb\\xdeYA\\x13Gr\\xad\\x1d\\nl\\xc1=6\\xdf\\x91\\xbd\\xcfb\\x1e\\xf3\\xc8x\\xba\\x90\\x1edO\\x07\\xc8N\\x8f\\x1c\\xcev\\xa4\\x9cL\\xb9\\xc9\\x1cW\\xd1\\xd2\\xf82C\\xd0\\x865\\x83a\\xf2\\xbf\\xf0\\xad\\xcc\\xe4\\xe0\\xa5\\xcc\\x03\\xcc\\xdb\\t\\x86\\x1c\\x8a.>\\x83\\xa1\\xe7\\x0c\\x92\\x1b\\xb8Tn\\x089\\'Z1\\xd9\\xd9\\xe6\\xa1\\xa1\\xd9\\xe5\\xa9\\xc6ZV2\\xeb\\x07\\xe1\\xc2\\xf5\\xe4\\xac5\\xf0\\x85\\xd5N\\x9e\\x19\\x03\\xc9\\xc1\\xf3\\xe4\\xf3^\\x82)\\xd0\\x81\\x95\\xfd\\xd0\\xb9DdMf\\xf1\\xd0w\\x99\\xaf\\xd1\\xda\\\\O\\xa3\\xfd\\xfb\\xf8\\xf7\\xf1\\xef\\xe3\\xdf\\xc7\\xbf\\x8f\\xff\\xef\\x8f\\xff\\x02`%I\\xd8\\xc0N\\x00\\x00'},\n",
       " 'cutoutDifference': {'fileName': 'candid739260766315010006_pid739260766315_targ_refmsci.fits.gz',\n",
       "  'stampData': b'\\x1f\\x8b\\x08\\x00S\\xe56\\\\\\x02\\x03\\xed\\xb7i8\\x97_\\x14\\xf7k\\x9e\\x87\\x08\\x8d\\xa4\\x84H*B\\x19~{\\xdd\\xa6(\\x12\\x12M\\xd2\\xa4A\\x839\\x8a\\xcc\\xb3L)\\xa4R)e\\xac\\x90\\xca\\xf0\\xdb\\xebV)B))\\xa2\\xa24 Q()=\\x9d\\xe7\\xbc;\\xd7\\xf3\\xe6<\\xe7\\xb9\\xce\\xab\\xff\\xe7\\xe5\\xfd\\xe2{\\xad{\\xed\\xbd\\xf6\\xf7\\xbb\\x1c\\xadm\\xd7\\xdaX(+\\x9b(+\\xafS\\xfe?\\x80\\xa9\\xf5\\xba\\xb5\\xd6.\\xffS\\xef\\xff\\xc9\"]\\x9d\\xff\\xf7zk\\x18\\x17kG\\xe5\\xff\\xa5\\x9e\\xb2\\xf2\\xff\\xae\\xde\\xd2\\xff\\xb5\\x9e\\xbe\\xee\\xff\\xa6\\x9e\\xce\\xff9=S\\xa75\\xd6\\xeb\\xfe\\xe7\\xff\\xaa\\x9b\\xaf\\xf9\\xbf?\\xa9\\xff\\x7f9\\x0f\\x8b5\\xe6\\xca\\xff\\xf1\\x1f\\xff\\xf1\\x1f\\xff\\xf1\\x1f\\xff\\xf1\\x1f\\xff\\xf1\\x7f\\x0eFx\\xbc\\x85|o\\xb2\\x07\\xc3\\xae\\xe9\\xe4\\x13\\xf2s\\xd2\\xcd\\x19V9m\\x0eM\\xbe\\x9e\\x8d\\x01\\xe7\\xf7\\x93\\x13D\\x8b\\xf2\\xf9\\x84\\xb0\\xcaj{1Y\\xe6\\x8b\\xc9\\xb7p\\x17L\\xe9<\\xc12\\xeb\\xc7\\xb9\\x9f89\\x90*v\\x00\\xbe\\xf5\\xe9\\x98\\x08\\x9e\\x1c\\x82$\\xab\\xbb\\xe4\\xab\\xfd\\x1cN\\xa6\\xd66\\x94)\\t\\xa1\\x0f\\x8en#\\xf7\\xf3\\xed0`\\x94\\x87Y(\\xd5\\x8a\\x1cUnM\\xba\\x04\\x83\\x97\\x1e\\x94\\xb2\\x8b\\x8by\\xa0u\\xaa\\x12\\x89\\xab{\\xc2q\\xf7\\x8b\\xa5\\x02\\xc3\\xb7i\\xc7Z!\\xb8\\x9f\\x95\\xca\\xd8<\\xd6\\x82w\\x01\\xf7@\\xf8\\xb63}>\\xfe\\x8a\\x10\\x97l\\xf0U\\xfd\\xc0.\\x0c:\\x08\\xa2\\x8eZ\\xe4\\xa7\\xa2\\tQ\\x8b\\x96\\xc0\\x02\\xbe\\xad\\x8c\\x94\\xfd>Lt\\xf2 \\xdc\\x81\\x85h#\\xb0\\x0co\\xadX\\x0es\\xf2\\xfc\\xa1\\xe2\\x10/\\xda>\\x15fU\\xe5\\xe4\\xa1\\xea\\xc0~h\\xd6}\\x83\\xbb\\x1f\\xdb\\x80\\xcd\\x91\\x18\\x92cN\\x19\\x89\\xe6R\\xf2q5\\x1f\\xfd^\\xfd\\x04\\xda+\\x03\\xc8x\\x8e0\\xf1\\xb1\\xb0\\xc3\\x90\\xb2H\\x92\\xe1\\x1c\\x00\\x1dZ\\x07@\\xa1\\xb9\\x10C3\\x9f\\x91\\xf3\\x8c\\x13\\n\\xcd\\x1f\\xc0\\x91\\xd0`\\x10?3\\x8eI\\\\7\\xdc\\xb9\\xcf\\x03\\xef\\xb09\\xf8:\\xf7\\'\\x11\\xff\\xbd\\x81CKt0\\xf6i2\\xc8\\x9c\\xba\\x89\\xe1\\xaaP\\xe3\\xf4\\xe1,6\\x95\\xe8\\xb3\\xeb%\\xe63s\\x94V\\xd1(\\xbd\\x9b\\x18\\x10\\xa1\\x88zY\\x1f\\xf0\\xdc\\x930P^\\xb7\\x92Q\\xe5)\\x81{\\xe2\\x07i\\xd8g=\\xfa\\xe0\\xa3\\x13X], \\xa1\\x97\\xdf\\x13\\x1b))\\xdcl\\xfc\\x13\\x1b\\xf5N\\x13\\xd9\\x0f\\xa7\\xe1\\xfd\\xb2\\x8f\\xac\"\\x0f\\xe5\\x8a\\x1f\\x14\\xc1\\x10\\xadP\\xfc\\xf2B\\x87\\x1b\\xce\\xfd\\x02\\xc7\\xee\\xbe\\xc2\\x9c\\'\\x80\\xf5\\xb3\\x04\\xa1\\xf2J6\\xcb\\xb9\\xf8\\x1bd\\xef\\xda\\x82\\xce\\xc8=\\xb4\\x8a\\xca\\x02\\xe2\\xf4\\x93<\\xbe\\xf9\\x06\\x16+\\xacg\\xd4\\xd6]\\x80\\xbe\\xf0\\xe3\\xb4\\xce\\xb2\\x9d\\xd1\\x17_\\x04Z\\xa7\\x0e\\xc2\\xdd\\xef\\x9f\\xe1\\xd42u,\\xc2\\x1b\\xf8\\xe4\\x9b/\\x15\\xf6T\\xc1\\xd4\\xacg5\\xdbW\\xddb\\xa4~}\\x03\\xbf\\x0c]\\x88\\xcem\\xc3\\xd4\\x9d\\xe5\\xd4\\xff\\x81\\x16\\xec\\xd3:G\\x17\\xd1x<\\x1b\\xfe\\x92\\xd5\\xb8-\\xcf\\xfd\\xd3=\\x01G\\x97*\\x00k\\xf5\\tF\\xeaS\\x18\\xd1\\xb2W\\x18\\xca_\\x8c\\x81\\x83\\xcd$\\xbd?\\x04%\\xbc\\xe6\\xa1\\xbeg\\x0e\\xcc\\xad]K\\xfa\\x08\\x0f\\xed[\\x17\\x0f\\xbb\\xfa\\x8fA\\xc5\\xfa\\x0e\\xfa\\xb1\\xe40;\\xaf>\\x0f7\\xefXO>\\xf0pX\\x9ey\\x1e\\x90s\\xf34\\x19\\xb8\\xa7OO\\xc8O\\x81]\\x7f_\\xc2\\xb7o\\x1bA\\xaa\\x9e\\x1f\\xfc\\xcfq\\xd1d\\xe96V7\\xfe\\x10+$$L\\xbcf\\x06\\x82\\x17\\xb1\\x00_\\xa2\\x0e=%\\xeb9\\xa6\\x89\\x8dX\\xb6r\\x04\\xba\\xa5\\x0f\\xc0\\xda\\x94\\xbd\\xa4\\x8e\\x8aA\\x96\\\\9\\xae\\x99\\xf4\\xa1\\xbf{\\xcc\\xe0H\\xf3jp+m%|\\x0f\\x8a\\x80\\xad\\x8ecy\\xe3\\xbd\\xe9%w;\\xf0r[\\x06\\xfe\\x01\\xb6\\xf4\\xaf\\xcb$=54\\x86\\xbf\\xfa\\xf9\\xd8\\xfd\\x1a9\\x18$2\\x85\\xde\\x1f\\xa8\\xa0)RS\\xa9\\xdf\\xdfs4\\xbb^\\x8eL\\xad>\\x06\\xfc\\xce\\xa9\\xdc\\xc4`\\x16\\x0fT\\x88\\xc1\\xc0\\x1b-\\xb8\\xda\\xfd\\x81\\xf4\\xe8.4a\\xcb\\x12\\xd0\\xe8\\xda\\x16\\x90snEyq#\\xfa\\xf1\\xf1_\\x93\\xcc\\xa19$\\xef\\xb2#\\x04N\\xf8a\\xf9\\xdb\\tV\\xe7\\xc0\\x0b\\xf2E>\\x98tL\\x1be\\xe3V\\xcc\\xc7\\xc6\\x9c]pn\\xed\\x1d\\x86\\xcc\\x94\\'Y\\xef\\xafr$\\xec\\n\\xf0\\x9bg\"\\xbd\\xe3|\\x17\\x1d\\xd6\\xd4B\\x9c\\x7f\\x18+\\xbb\\xf0\\x06H\\xb1?\\xb8O\\xe6\\x040\"1+aS\\x98\\x0en\\xb2\\r\\x86+\\xee!pBw\\x01\\xbczg\\xc9,v\\xfd\\r\\xd7\\xc8\\t\\xfa\\xf5\\xb7-\\x15\\xfb\\xeb\\x0e\\x17\\xdd\\xb7\\xe2\\x8f\\xf3\\x9a`\\xc0\\xd3L\\xcf9<C3qW8}\\xee\\x01>$\\xce\\\\\\xc9\\xc3|\\x183\\x90\\xc2\\x8ddD9w~\\x0c\\x81\\x95\\xb9\\x15\\x18\\xe6UR\\xb6\\xdf\\x8c\\x14\\x1c\\x96c\\xa7\\xf7\\xaf\\xc6\\xe3\\x1b*\\xb0\\xdex\\x1f6\\'\\x1a\\xe2\\xfc\\xe9\\xdfA\\xe2\\xaa-8\\xfa)C\\xfd\\x1e\\x0e4\\xac?\\x889\\xba_\\xe8~\\xfep\\x92\\xec\\x1aBj4d\\xc9i\\xc3\\xdd\\xa4\\xa9\\xbd\\x06\\xba\\xf9o\\x83\\x9a\\xe7B\\xac\\xdb\\xf9\\x0e\\x7f\\xbb\\x85\\x83\\xa3D(=.>\\x03\\xaf\\xdb\\x0cb\\xbf\\xf66\\xc8\\xca_\\x8cj\\x0c/V*D3\\xcac\\x97\\x88^\\xeaZZ\\xfbj!\\t\\xaf\\x11b!\\xfa\\x1dk6C\\x15/\\xa5\\x9b\\xe0>{B\\n\\x9f\\xf8\\xe1\\xac\\xbe?\\xe4\\xc2\\x89*|\\xbb\\xa2\\x14v\\x88\\x94\\xa3\\xf5\\xe1\\xe9\\x84.\\xb9J><\\x1f\\xc3%\\x0b\\xea\\xd1\\xfd\\xb8\\xcf\\xbf\\xde\\\\\\x85\\xf3\\xdf\\x1a\\xb1s\\xba!\\x91X|\\x02u\\x0c\\xb6`\\xac\\xb0\\x01\\xadI:\\x02\\xb2\\xe3W\\xb9\\x97J.C|4?\\xe8^\\x8da\\xe4\\'#I\\xdb\\x864\\x08\\xb5\\x91\\x84\\x83\\xc2\\x95\\xd0\\xff\\xf7\\x03\\xd9\\xe7\\xb8\\x80\\xb5\\xb9\\xa1\\x0fB+O\\x98\\xbc\\xd2\\x7f\\x84Y\\x9f+\\xe0|\\xceZF\\x8bG\\x8d\\x9e\\xb2?\\x0e7\\xd2\\x08H\\xf9\\x9d$\\xf9\\xcf\\x8c\\x19\\xf5\\x82\\x7f\\xb5>\\xbb\\x80F\\xba\\xbb\\xe8\\x99]Y\\xe4Z\\xdc_4\\x1d^\\x8f\\x85\\x9e\\xe35G\\xdd\\xee3\\x82\\x0bB\\xa1+\\xc6\\x85T\\x97e\\xe2\\xfdpcV^\\x84\\x17\\x82s(ktF\\x94\\x98\\xf3/\\xc6\\x13o\\xdf\\xc0\\xec\\x92x8c\\xb0\\x8d(&\\xec\\xa6\\x973\\xcbp\\x9b\\x92\\x12\\x1a\\xcfy\\x86\\x87\\xf2\\xf90\\xc3|\\x00\\xaa\\x02\\xcfA\\x90\\xbf\\'\\xb3\"\\xd2\\x14c\\xa2j\\xf1\\xc5\\xf6;\\xe0s<\\x10\\xb7+\\xe4\\x90\\x08\\x11\\x1dV\\xaek\\t\\xce\\\\[\\xce\\xea\\x9d\\xbd\\x8a)\\x8a\\x8b\\xe0\\x97t\\x0b\\xa9T\\x88ef\\xb7\\x95cn\\xc0RH+\\xb2\\x81\\xe4\\xc9Jr\\xfe\\x19\\xc5\\x06\\xfb\\xbf8\\xe3\\xf6v\\xc8+\\xf9\\x06\\xadS~\\xe3\\xb4s|$-?\\x13zxy\\xa9\\xbf\\xcd\\x12\\x8a%\\xbe\\xd8Tk\\xc9\\xb5\\xbf\\x1bD\\xf6\\xa9\\xaeeu\\x1fo\\x80^\\x1dMF\\x80iA\\t\\xa1a\\x9c/oK\\xc7\\x1a\\x92\\xa0\\n\\xad\\xe0u\\x07K\\xf7\\x0c\\x06\\xd2\\xdfu\\xdf9\\xe7\\xc4x \\xa1i\\x1b\\x8a/2\\xc0\\xf2[q`\\xe8\\xe7\\xc9\\x18\\x0c\\x1f\\xa7\\x1b\\x8e\\xf3\\xc2v\\x0b\\x17rb\\xf94\\xb2?\\xa9\\x9a\\x11h\\x1e\\xa5n\\xdd\\xe3\\x10\\xdd\\xa6\\x81\\xaf\\xa4\\x9d0I,\\x16\\x07\\xce\\xef\\xa2\\xcb\\x0f_b\\xf6jrA\\xba\\xe9<#\\xd01\\xc0\\x88\\xb9\\x7f\\x82\\xf8\\x1b\\x8f\\xb8\\xbc\\x97\\x0c!\\xa8$\\x10\\xe6,\\\\O\\x9d^\\x05\\xd1\\xcf=\\x7fL\\xfe4|\\x86\\xa8_\\xe2\\xd0\\x98\\xb7\\x8b\\x1a\\x80)\\xd91\\xc3\\x98=g\\xa2\\xcf\\x88\\x7f\\xc8b\\xa6\\x1f\\xb2\\x84\\xfc\\xbcQxbP\\x06\\x7f^\\xb9\\xe1j/Q\\xbc\\xf4\\xd7\\x11\\x1ct\\xd4\\xc9\\xe5\\xe9C\\xa0\\xbc\\xf9\\x06w\\xa9\\xdfV\\xdc\\xee2\\x0f\\x03\\xdd\\x95\\xf0\\xb2\\xff\\x10\\xb7\\xfb\\xab4\\xd5\\x17\\x99\\x01\\xbf\"]\\xf1\\x9c\\xdd\\x9d\\x9al\\xbfD\\x88\\x93=\\x8d\\xc3\\xbf}\\x19~i/\\\\4K\\x1a\\x94\\x0f<\\xa16\\xb7\\x02\\x11\\xb7\\xfa\\xc3O\\xa7\\xf9\\x10\\xb5\\xd4\\x02\\x85\\xb7\\xb9s\\xea\\x7f\\xdc\\xc5\\xcc\\x0f\\xdat\\xfb\\xafA\\xd8X\\xe3\\x01#\\xa7\\xdeADJ2ml\\xd7\\xc7\\xf1\\x9eJ\\xc8\\x94\\x08gg\\xed\\xd9\\x8d\\xb7\\x02\\xfd\\xe0^\\xca\\x06\\xb8i\\xdb\\x805>\\x97i\\xd6\\xdbC8W\\xfc\\x10~\\x0b\\xe9\\xa0\\x8d\\xd9\\x8b\\x989O\\xd4`\\xd6\\xcb\\xfd`=\\xb9\\x13\\xa7\\x1e\\xa8 7W;\\xc0I\\x93\\x08\\xcc\\xf8r\\x85\\xdd\\xa1{\\x19W\\xb4\\x1c\\x05\\xd3AE\\x8c=\\xf4\\x84\\xb41\\xd1p\\xa6\\xd6\\x9d\\x86I,\\x85\\x96\\x03\\x0b\\xd9\\xbd\\xf9A$D\\xea4\\xfd\\xc4\\xd7[\\xd3\\x12v\\x92\\x11<y\\x881k\\xb8\\x8b\\x17N\\xb6\\xc3\\xb9\\xc9\\xb3\\xc0\\xab\\xe1\\x8eO#\\x07\\xfe\\xbdCU\\xb0\\xcb\\xec\\x1d\\xfa\\x0eQ\\x98\\xa6~\\x04\\xd7\\xbd~\\x85\\xe1\\xe9?!\\x9c\\x11@\\xf7\\xa5\\xed\\xe8\\xf51\\x03\\xda\\xb7\\xbb@\\x96\\xe4fR\\x18u\\x89\\x91\\xdf\\xf6\\x82\\x06\\xfd\\x1c\\x83\\xa7\\xcb\\x8e\\xc2\\xb7/\\xd7\\xc8\\xa3\\x17J\\xe0\\xb3\\xf6\\x11\\xf9\\xe8\\xc0\\xd2\\x86\\xd5K0\\xcaW\\x06V\\x1fYJ\\xa3\\x7fN\\xc1\\x87\\xc1w\\xa0n\\xfef\\xb88\\x85\\x07\\xf7\\xd8\\xdfG\\x91\\xa7\\xa3\\xc0#_\\x82\\xf4\\x92\\x1b\\xe6h\\r\\xd1iz\\x15\\xa4j\\xbe8+\\xbf5\\x82[\\xdf\\xa9\\x8c\\xbdM\\x81\\xf4z\\x1f\\x1f\\x93e\\x12J\\x96\\x9b\\xd4\\xe1v\\xf3[\\xd8k(\\xc6J\\xfc\\\\\\xc8\\xf2N\\xc9\\x86+\\x99\\xeeX\\xd4W\\xcb]<q\\x04\\xc3\\xcfAMi\\x1a\\x0f\\xd1_\\xd9\\x0c7\\xcbt\\x88\\xa5\\xe2\\x12v\\xbdO\\n\\x1c\\xd5}\\xc1\\xf09\\xd6\\x90\\xb8\\x84\\t\\x08Mm\"\\x02\\xf3l\\x19\\xc5\\'\\xe6\\xf0\\xf0\\xba59\\xf4W\\x86Y\\xf74\\x97\\xe5\\x13\\xdc\\x0f\\xea\\xad\\x814\\xact&\\xda|\\xf7\\x81m\\x83\\x9b\\x18F,\\x99\\x91\\xc9r\\xa1\\n\\xa7\\xc7\\x88\\xb6\\xbd\\x00v;\\xef\"[xL8O\\xf7\\xe4\\xe3\\xb3\\xbc\\x9f\\xd0\\xba\\xf1\\x07\\xb4\\xc5\\xf2\\xe0\\x8aM\\xed\\xa4\\xfeC\\x1f\\x1c98\\x1d~~\\x08ad:\\x9a\\xe0J\\xaf!\\x8a9\\x85\\xe2\\xcf\\x87\\xbadQ\\xa5\\thpk\\xf0\\xda\\xba\\x02\\x0c\\xdc:\\x83\\xfc\\xda\\xb4\\x99z\\x1c\\n\\xa0\\x1f\\xfc\\t\\x95\\n\\xbf\\x05\\x87c\\x87\\x88\\xc1#\\xcaU\\xbci\\x04\\t\\xa7\\x1d\\xd9\\xb9Y\\xbex,\\xed\\x18;\\xbbT\\x05\\xb7F;\\x90\\xe4\\xea\\xf3\\xac\\xe2\\xedy \\x90\\xb0\\x1do\\x89\\xa4\\xc3\\xcc\\xfb/Ar\\x1f\\x10c7\\x7f\\xfc\\xd5:\\r\\xf9\\x84\\xf39\\xf5\\x9f\\xe6\\xd7\\xacyo\\xc7\\x9d5\\xb9\\x0b+\\x93z\\xc8+scx\\x90\\x13\\x02\\xa9%oI\\xfeZ\\x03\\x9cZ>\\xc8\\xa8\\xa8.\\x83\\x13w\\xa2\\x99E\\xa3\\x9dP9M\\x02\\xac6\\x17\\xc0\\t\\xde L&\\xab\\xa1I\\xfe \\x9d\\xc8\\n\\xa7\\xe9\\xefB\\xa0|\\x9b,\\xde\\xd9-\\x01o_U\\xe2\\xee\\x1f\\xa68&*Or\\xf6\\xe92\\xa2\\x81\\xd5\\xf4ID\\x1e\\xbbr\\xd9{\\xdc<\\xf1\\t\\x17|\\xd4\\xc0\\xdc*\\x15\\xfaa\\xc2\\x9fjx\\xed\\xe3F\\x8cn\\xa9q}\\xdaA7\\\\\\x7f\\x80\\x0b\\xc2\\xcd\\xe9\\xee\\xf3ga\\xf6R]\\xb8\\xa7n\\n\\x1b\\x0b\\xb7c\\xfcMO|\\xe2\\xe1D\\xe36j\\xc0\\xa5\\xbd\\xab \\xfd}\\x171\\xb1-\\x84\\x82\\xeb\\x8eT\\xe3\\xd7r\\xc8\\x8bv\\x80\\x96rw\\xb0\\xf7\\x11!B\\xde#\\xc4\\xd5\\xff\\r\\x0e,9F\\xd7\\n\\xde\\x06\\xb8\\xec\\x85%<\\xd7Qm\\xa2\\x82\\x11\\t\\x9eE\\x8e\\xea=gy\\r+iV\\x84;\\xb9\\xea*\\x865\\x8d|\\xb4\\xe0\\xc1\\x16<J\\xe6\\x83h\\xf1jx\\x9deJF\\xda\\xf6r\\xd5\\x8c\\x06\\xf0C\\xe3\\\\\\xda\\xfd\"\\x15\\xfeD\\x05\\x82Ev 1\\x0c6\\x86\\xe9\\x9a\\x9f\\xc0Q\\xcc\\x8dD\\xee\\xf9\\x88\\xa9\\xba\\xad\\xf4d\\xc9\\x03\\x9at\\xe0<\\x9cq\\x12\\xc1\\x93k~S&u\\x07\\x08|\\x9d\\t\\xfa\\xda\\xbb\\xc9\\xdb\\x0c\\x06.\\x85\\x05\\xd5\\xcc3\\xe0\\x80\\xa5\\xf0~2\\xf1\\xf0\\x0f\\xdcL<NzN/\\x86\\xfd\\x8b\\x82\\xa1}K\\x1a\\xae\\x08\\x94\\xc6\\xd0\\xd2q\\xba\\xe6\\xda[\\xf4\\xe0\\xe7\\xc5`\\xd1e\\x18\\xf3\\xde\\x8b\\xebq\\xf9\\x10\\xb14\\xd9\\x0eKM\\xfc\\xf1\\x85\\xc9\\x1e\\xba1\\xd2\\x9fd\\x88\\x8fC\\xd8\\xfd\\x0f\\xdc{\\xddF\\x10\\xbc\\xfe\\x00\\xeb\\xe2p\\x11\\xefWqA\\xab\\xfe/G;\\x131\\xe7\\xb1&\\x8dR~\\x8e\\xa9\\xc7\\xae\\xe0\\x16\\xc1\\xa5$\\xd6A\\x92\\xf3\\xf2\\x94(q\\x13N&*-~X\\xf5+\\x88L\\xf1\\xcb\\x84\\xb2\\xb8\\xd943 \\x80{ V\\x8d\\x9e}=\\x81\\x9b\\x80a$M\\x1ep\\xc3\\x92\\xc2p\\xe9\\x81\\x02FT\\xf8\\x03\\n\\x9a\\xb4\"\\xd7u\\x05\\x8d\\xf8\\xb4\\x82\\xbc<L\\xe1\\xeb\\x90\\x18%Y\\xb1x\\xab!\\x01\\x8f\\x86&\\xd2\\x94e\\x0b\\xc8\\xa9/\\xa28\\x99a\\xc0\\x9d\\xae\\x16L\\xd7\\xec\\x9cO\\xd3\\xaeM%\\x85\\x0f\\xe5\\x89o\\xffcnL]\\x13M\\x8b\\x14\\x03\\xfd\\xb6\\xb9\\x80\\x8b\\x96\\x83\\xfcp\\x05\\x8c\\xab4\\xa1o\\xc78\\x99\\xd4K\\xa7\\xb2#\\xaa\\xd8\\xcf\\x0c@\\x99\\xba\\xef?_>\\x07\\xb1K\\xac!iP\\x13\\x1b\\xb3\\x8a\\xe8\\xa3\\xab.F\\xed\\xa6g\\xb9\\xe3\\x9ec\\\\\\x91\\xeaC\\x98\\xa2\\xe7\\x83\\x87\\x0e\\xea\\xc09r\\x14\\x15\\xef\\x962\\xfc\\x07.\\xd2\\xf7\\x9b48\\x0e\\xc7U\\xc8\\xb3\\x9ep\\xf0\\xe4}G\\xbb\\x9e\\xbd\\xa2V\\xb7K\\xc94\\xc3Dr\\xf0\\x90\\x0e\\xf4K=G\\xad\\xb8k\\x98\\xa1\\xb1\\x03\\xef\\xed\\xf3\\xad\\xb9\\x1c\\xabO|\\xa8>T\\x9fR\\xc7\\x90\\x13\\x0f\\xa0\\xcf\\xde\\x01\\x8eoP\\xc1\\xd8\\x81=$H,\\x08\\xd7o\\xd2\\xc2\\xbc\\x05\\xd6p[F\\x90\\x15\\xdd\\xa0\\x8b[}%\\xf0zF%H/\\xab\\x83W\\xaf>Q\\xbb\\xf8\\x8b\\xf8)[\\x84L\\xc8\\xce\\xa1\\x9a\\x9ew\\xb1a\\x831\\xde&\\xa38\\xe4\\xda\\x8b\\xc5\\'\\x8a\\xc1\\x82\\xef\\x19e\\xcd\\x04\\xb0\\xcd\\x91\\x8f\\xaeR\\xdc\\x02\\x96\\x06\\xeb\\xe1\\xcd\\xbc@\\xe2]\\x7f\\x18\\x07\\xa6}%A]\\xb5$)+\\x04`\\xf6J\\xbct(\\x93\\xb5|\\xe5\\xc0\\xed_\\xf7\\x9av\\xa5mf-^\\xa5\\xd1zEo8\\xb9l\\r\\xbc\\xf9U\\x08\\x91\\x1a\\xcb\\xc9\\xf6\\x96\\xd30\\xd3k\\x9c\\xe1=\\xd8\\r\\x05\\xf61\\xc0\\xb7\\x93ps\\x19#\\xba\\xc2\\xe0\\x19=\\xe2\\x1d\\t*\\xc5\\x1c\\xaa\\x13<\\x86B\\xab\\x1b@\\x06\\xacaD\\x7f\\'HH\\xbe\\xe3Zp-\\xc1g\\x97\\x19\\xdc\\xb3\\xdb\\x08G.y\\x11\\xb1\\xb9?H\\xf3\\xac\\xe7\\xe8q\\xf6\\xa1\\xc9\\tsqh\\xeb\\x89a$\\xd4\\xf4)\\xee\\xf8I[\\x16Ib\\xcf\\xda\\x8d\\xa8\\x90\\xcfA\\xf7\\xce\\xc9\\xea\\x17n\\xdbX\\xb9\\xd6\\x06\\xb0\\xd9z\\x0f\\xb5W9\\xe2c\\xedV0[?\\x8cZ\\xb7\\xdd\\xd9uu\\x7f8~Jo\\x89\\xac\\xc5jZ{U\\x9c\\x1e\\xf7\\x18\\xc2\\x13\\x0b\\x9b\\xd1\\xe8\\xce>\\xa8\\x96\\x17\\x833\\xa2E\\xa0\\xf9/\\x9f\\xc5\\\\\\x8d \\xd5\\xceZ0\\xef\\xe9S\\x98L\\x8e\\'a\\xc2\\x99x!\\xc9\\x05\\x03\\xe6\\x9e\\xa5\\x8awl9\\xe5#\"\\xac\\xc8d\\x15\\x86fhr_\\xcb\\xc7\\xe0\\xdf\\xde\\x1e\\x14s\\xb6\\x81\\xd8zcR\\xeb\\xfd\\x15\\x1a\\x83\\xea\\xe1B\\xdc\\x1f\\xee\\t\\xde\\xf7\\xa0[{\\x95\\xe6\\x07\\xfc\\xc5\\xe5\\xdf\\x9a\\xa0\\xe2\\xf6F\\xdc\\xac\\xdd\\x8b\\x99\\xf1m ]\\x10\\x8d/\\xd3>`rN,\\xf9q\\xe93M\\x19p\\x02\\xb55\\xf1\\xe4:W\\x9d\\x93w\"\\x98\\x91\\xb0l\\x82f\\xcd\\xf7\\xa0\\xa1\\xdbL\\xaf;_\\xe5\\xbc\\xa1\\xf7\\xc1u|\\n$\\xfe9\\r\\xe3w2\\xe9\\xe0\\x9f\\xa5\\xdc\\x91\\tw\\x93\\xcb\\x16\\xe7a^\\xb3\\x11\\x11\\xf8\\xb6\\x8e&\\xb8,\\xc4ew\\xd2 m\\xc58\\xa3p\\xaf\\xf4\\x9f\\xf7w\\xd1\\x973\\x973\\xd2\\xa9\\t\\xd8\\xd8\\xe5D\\xca\\xf6\\xec\\xa4\\xefwk\\xe3\\x85\\x1f\\xd2\\xf8fL\\x14\\x1d\\x1a\\xbf\\xc2t\\xee jU\\x8eb\\xac\\xe9ut\\xbbi\\x05\\'\\xae\\xc4\\xa2\\xd2=?\\x0c\\xff\\xd8F:.\\x14@\\x84\\xb1\\x1d}\\']\\x81\\x8f4\\xb8(\\xe3y\\x8fJ\\xf4\\xde\\xa6\\xb6)\\xf95-\\x1e\\xa35\\xb1\\xe3\\x0f\\xd1\\xcc\\xd7\\x18A\\xde\\x0b\\x0fY\\x18R#\\x15\\x07\\x14\\xeb\\xe0c\\x99\\x8d\\x9d(\\x19n\\t\\xf6}\\x87\\xf1\\xd3{3\\xba\\xf4\\xdd:\\xf28\\x87\\x0f\\x1e\\xd6\\xeb\\xc3\\x9d\\xd9\\xcb\\xb1\\xa2\\xf9\\x07\\xbe\\r\\xaf\\xc6\\xe2\\x0f7\\xf1L\\x99~\\xa5\\xbb\\xea\\x04n\\x14\\xf9\\x05]\\xbf\\x1f\\xc0\\xd9\\x08\\x0e\\xb9\\xb9U\\x83U]s\\x9b6\\xa4\\xe5\\x11\\x83\\x1f\\x99\\xf0\\xdc~\\x11\\x0c\\xd4\\x15\\xe2\\xb5+[h\\xf7\\xa1\\xf9\\xa0p-\\x1a{g\\xdb\\x11\\xa9d\\x16)\\xa3OrG\\r`\\x97\\xd6\\x01\\xea\\xff\\xe9#\\xd0\\xc8`p\\x8a\\xbbG\\x1b\\x84\\xf7q\\x02\\xf3\\xe6C\\x98e?\\xd9\\xf3\\xd2\\rb-t\\xa9`\\xb1\\x01^\\xcd,$\\x92\\xb9\\xd5\\x9c\\x93-w\\xf0\\xfe\\xd2T\\xd4^\\xe4\\x88a9\\xee\\xd0\\xcci\\x82/\\'\\xdb\\xd0\\x85\\xd7\\x90\\x18\\x95\\xbfB\\xf5@I\\xc8\\xc8sE\\x99\\xee\\xfd\\x98\\xb6\\xfe\\x1b\\xd5\\xd8.L\\xdf/\\xb6\\xc4\\xe4\\xcf<\\xc8\\xdcq&\\xb9|#\\x9cz\\xfe&\\x804%\\x0c\\xf6P\\xc2\\xb0\\x9bG\\xb1\\xbe8\\x1b7\\r\\x0eP\\xd3\\xcf\\xdd\\x0c\\x8f\\xe2N\\xb0\\xb4\\x8e\\xc2\\xfd\\xd5\\xc5\\xdc\\xaaO_I\\xb7\\xa2>\\x18LH\\x82\\xb2\\xef\\x08\\xcd|:\\x07\\x96\\x97l\\xe0\\xa4\\x0b\\xad\\x80eeG1\\xa3\\xe3\\x15\\x1d>\\xa9\\x006G\\x01\\xf8\\xf5\\xdf\\xe1\\x14\\xdf\\x16\\x1c\\xf0\\x96\\x84\\x94\\xeb\\xa9\\xa0k\\\\\\x0f\\'\\'_\\xe0\\x85\\xe4\\x15\\xb0s\\xe8\\x0bx$\\'Q~\\x97\\xe3\\xb8\\'\\xe1!\\x91\\x8b\\xef\\x81\\xf5\\x8dI\\xf01_\\x99\\xfe\\xc8\\x08\\x04\\xdf\\xc2(\\xce\\xd0D\\'\\x8e\\xd5y\\xc2\\xcf\\xbdC\\xe4\\xd5\\xb3$\\xc6\\xcc\\xfc\\x03\\xf5/\\xb7 \\xf1\\xf7\\xbf\\xc3\\x14\\xf9\\x8b\\xf4\\xa6\\xb1\\n\\xf5M\\xe2\\x87\\xb8\\xea\\xc5\\xd0<\\xef\\x12\\xfa~\\xb7\\x85\\x17\\xa7^\\xd0\\xaa\\xb5\\x82\\xacb\\xc7YZY5\\x84c\\xf3\\xee\\x92\\xeb\\xddmt]|$;\\xbf\\x7f\\n&\\x9b\\xc8p\\x97\\xae\\x9e\\xcbJ?2\\x85\\xd3\\xe9\\xfe\\x8c\\xd8\\n\\x06w\\x8c:\\xe2\\xb9\\x7f;\\xaf\\xe99u\\xb8\\xe6\\x13\\x07\\xb1\\xb5\\x0f\\xa0T@\\x1fT\\xc6T\\xe0\\xd0\\xc5\\x16\\x90I\\x99\\x81\\x17y\\xfb\\xe1\\xeeA\\x1f\\xccx_g\\x9c\\xf2>\\x89&\\x1c\\xfb\\x8e\\x8eg\\xabi\\xc7CiR\\x9dj\\x0er=\\x05\\xe4\\xea\\x91M\\xecJ\\xbb\\x18\\xee\\xbd\\xb2\\x1c\\xe2\\xd9\\xbc\\x9b38y\\x05\\x8bc\\x97\\x934/Bg,K\\xc4\\x14\\xb5}\\xac\\xf6\\x91j\\xb0\\x93}LF\\x8f}\\'\\x8b^\\xc6\\xb2[\\xe6\\xb4p\\x87\\xef&\\xd1\\x05\\xa7\\x93\\xb1T\\xed#<\\xae\\xbbJ\\xd2\\xee\\x9d\\xa12\\xf9\\xae5\\xd7\\xfa\\x85\\xa0\\xf3\\x17\\x1f\\xc3\\xdf]\\r!\\x0bw\\xa3B\\xec),\\xaf\\xf4\\xa5\\x82#7HO\\xd1\\x1b\\x14\\xe6y\\xcfL\\xbf\\xcb\\x01\\x15\\x8fOx\\x85\\xa7\\x94;f\\\\\\x86\\xbb\\xfe\\xd5\\xcbwy.ny\\x18\\x84\\xa7T\\xfe\\xe5S\\x95\\xabP\\xad\\xf2\\x862Z\\xcaT\\xee\\xd7/h\\x9dZGo\\x18\\xb8Q\\x85\\x9b\\xba\\xd8\\x94~\\x1a\\x8fG\\xf0s,\\x95\\x92\\xb03q5\\x0c\\xecZ\\x00\\xee\\x96A\\xb4_N\\x97[V\\xff\\x83\\x93p5\\x05_T\\xd7\\x92\\xda\\x9f\\xe5\\xe0\\xf7\\xfa\\x00\\xdd\\xc5\\xb7\\x90\\x99\\xf9P\\x83\\x1b\\xf9|\\x028\\xc5\\xcb\\xc03\\xb7\\x00\\x9b?\\x8a\\xe2\\xe1\\x8b\\xb9\\xa4lw.\\x1eh\\x8e\\x80\\xcfA\\xce$ej/\\xc6\\x9e+\\xa3s\\xbc\\xfc\\xe9\\x8c918\\x96\\xe2\\x88Bo\\x82\\xf0p\\xb7\\x16N\\xf9\\xfb\\x12%2\\xd2  \\xf24\\xa8\\xb6\\xfb@\\xdf\\xec\\x1e\\xb8o\\x7f\\x10\\xdbO\\x85A\\xa9\\xcfar4X\\x1c\\x8bd\\xaf\\x92!\\xc7QXvK\\x1a\\xaa\\x8espZ\\xe2&\\xfa3\\xd9\\x18\\xfb\\xfd#h\\xbd\\xdel2\\xf0f*9\\x0b\\xc6pq\\xe7w\\x9c\\xa1QD\\xd4\\xf6\\x87s\\xeel7\\xa3oO\\x85r*\\x93\\xf2\\xa8@//\\xe5L\\x8d\\x83\\x8c\\xf1>\\xb4\\xe96\\x81\\xfe\\xc1\\x0fP\\xbf\\xed\\x11\\xa6\\xe4\\xdd\\x82\\xdd\\xcd\\xaf\\xc0\\xa6\\xef\\x08>\\xf1\\xe7\\x03v\\x8f\\x07\\xe1\\x96\\xafae\\x8c$\\xe0\\xca\\xc3(\\xe4\\x1b\\x11\\xc1y\\x91\\x92D\\xe6\\xe5\\x0e\\xd2#\\xb6\\x1c\\xc3\\xe6\\xf7\\x81\\xf0\\x84\\x19p\\x14\\xdeCF\\xf0\\x1b\\xf8y\\xf5\\x07fz\\xc6\\xe3\\xd6\\x9c\\x85\\x90%\\xf1\\x95\\xdb\\xdc\\xebN\\xbe\\xce\\xde\\x0f\\x9e$\\x16\\n7n\\x82\\x13\\xb9\\xa6h\\xbe?\\x97\\x84\\xff\\xcb\\xcaZ\\x0f\\xda\\xb0}F5\\\\\\\\j@\\x9a\\x96\\xce`E\\x06\\xa6\\xa3\\x8d\\xfdO\\x10\\xd3r\\x80\\x14\\xcf\\x10\\x90\\xcbR \\xdd\\x9ai\\x90o\\xa4O:\\xdb\\xd7\\xa1\\xda\\xbdl\\xbc\\x90\\xe7\\x80\\x95\\x07\\x83\\xd8\\x03\\xbb5\\xd0\\xb5\\xea\\x1bi\\xfa9D\\x06\\xec\\xff\\x92\\xf1\\xf9\\xaa\\xc4\\x1fj\\xa0\\xcc\\xff1I\\xf01 \\xcb4?\\xd3\\xfb\\xeaG !F\\x02\\xcc\\xbeG\\xc1\\t\\xad\\xcd\\x8cj\\xa9$\\x9aO\\x9fK\\xd4\\x98\\xe54\\xdb+\\x03\\x18\\x87\\x0e\\x92\\xf9-\\x1bC\\x7f,\\x81\\x98-u\\x98=\\xa0G\\'\\x9e,\\x82\\xa4\\xe1\\x8b\\x90\\xe4\\xb5\\x1f\\xce\\x1aw\\xa0\\xa1M\\x14\\xce\\x11\\x92&\\x0f\\xa7\\xe8ah\\xeb\\\\(\\xe7<\\xa0\\xd9\\x07\\xd4Y\\xbe\\x1f\\x19\\x8c\\x88E;#\\xb8\\xe1\\xdf\\x8ct\\x1b\\xe0\\xe1K1`\\xf7k:v\\xd6\\xcdg\\xa7\\x85Xb\\xe7\\xc4z\\x10\\x1f_\\x8dQ\\x1a\\x0e\\xa0\\xfa\\xed\\x1e|\\x97\\xeb\\xc5Uw\\x1f\\xe0-\\x8b\\xfbp2\\xd6\\x1b\\x92?5`\\xd7\\xaa\\x1c\\xa8\\xf1\\xe6\\xc3\\xd6\\xa2C\\xacJ\\x99\\x19\\x95\\xd9\\xf6\\x1253\\x9fa\\x81N\\x03(zU\\xa3\\xf66A\\xf4Gk\\xee\\xa3\\x8f2$\\xf1\\xbd7\\x96\\\\9\\x8b\\x97\\x9f\\x8c`l\\xf2\\\\0fF`\\xaet\\x0b\\xfe\\xb4,\\xc6\\x06\\xdb\\x04lk\\\\\\rk\\xce\\xefFe\\xf5`T\\xf9\\xf1\\x08o\\xb74\\xd2;\\xfd=\\xd82\\xf9\\x03B\\x95\\x02\\xe1]Z!\\x90\\x8d\\xf5\\x8c\\xc4\\xe9\\x19\\x10\\xb1d\\'\\x1d\\x17^\\x01\\xbe\\xcb(+U\\xa0\\x07?M\\x9e0\\x0b\\xb2x\\xb08(\\x1b\\xe2x\\xda\\xfe\\xcd\\xd5J\\xce\\xab\\xaa>\\x18\\x14\\x16\\xa2\\x1f\\xddSp\\x85\\xf3\\x1eth\\x91\\xa1\\xb1\\xbb\\x06\\xf1`\\xc3\\x1bRku\\x08>=\\xd8a2\\xf9X\\x98\\x96\\x14Fa\\xcf\\xeb\\xcd\\xd0\\xa3W\\x06\\x1d\\r\\xfeP\\xf9\\xb8\\x13\\x9c\\xddU\\xa1\\xdc\\xe9\\x00\\xael\\xa1(\\x98\\xeeG\\xef:\\xbf\\x80=G\\xcf\\xa1\\xed\\xf8u\\xccH\\x18\\x04\\x87hA\\x93\\x9aN{Z\\x11jM\\x85x\\xbb\\xe0\\x89j;P\\xc7Z\\xccR\\xf7\\xc6\\x18\\x1d;F\\xf9\\xc4#\\xbcq\\xde\\x15\\x927\\xaa3\\x0e\\xdbOCY\\x9d\\x12U\\xb0\\xbc\\x8bZw\\xb7\\x91\\xabz\\x03\\xe4\\x8c\\x8f\\x1d\\xf2n\\x8b\\xc4\\xb8\\x8a\\x1e\\xfc\\xb2x\\x15\\x9a\\x9f\\x96\\x81\\x9c\\x99\\x07\\xa1\\xe9\\xd1ER`\\xa6\\x88\\xd6%3p\\xa3\\x8a#\\xfe~\\xd2\\x0eM\\x05:\\xb4Q\\xc9\\x19\\xe6mNe6\\xcfv\\x06\\xc7\\x92\\xfb`\\xab;\\x83>|\\xe1\\r\\xf2\\x89\\x8ba2\\xa4\\x08\\xba\\xeeF\\xd1\\x86\\xe7\\x07H\\xb9\\xe6\\x00\\xe8g?\\x80\\xf4Pc\\xf0Q\\x94\\xa5}Fo\\xe1do.\\xba\\xce\\xbd\\x8aV\\xad\\x82\\xa0\\xf8X\\x13\\xe4f\\x04b\\x85-\\x1f&z\\xac\\x07\\xb9\\x7f>$\\x11\\xea\\xcc\\x08p\\xc2\\xa0\\\\&\\x05\\xf7\\xa6\\xab@\\xe2\\x98$\\xae\\xf6\\xd1\\x00\\xe5\\xb4E\\x8cG\\xecA<]\\xb0\\xbd\\x86\\xadE\\xf0\\xfb\\xf3\\xaf\\x87\\x05\\x878\\x9f\\x86\\xfc`\\xfc\\xa8/|\\xa8\\xde\\xc6(\\xb5J\\xc1@\\xe2mB\\xde\\xbe\\x84\\x88\\xf4\\xed\\xe8:M\\x9e\\xd4\\\\\\x18\\xc0u\\x15_!\\xfb\\xd8C\\xe4\\xad\\xf9\\x97g\\xdf\\x1d\\xc1\\xac\\xc9\\xaf\\xd4\\xed\\xd4\\x1d\\xb2\\xcariui\\xfe$;KU\\x00\\xc2?\\x06\\x13\\xb7\\x90.\\xce\\x96`Q\\x90\\r\\xae\\x82_\\xe4\\x0b\\xedz<\\x87U|\\xf7\\x06{\\xae\\x9e\\xc5\\xdc\\xe6\\x85`\\xa8\\xb1\\x17\\xcd\\x97\\xfcA\\'\\xa6\\x0f&E\\xf8\\xf1\\x8c\\x902)\\xee\\xd5cDK\\xfb\\x18\\x85\\x84U\\xa8|<\\x00g\\xed\\xb2\\xa5\\xf5n\\xb3!(\\x8c\\x17x\\xf3%Q9Q\\x96,\\x94+$\\xb63\\xa7\\x80L\\xeeFr\\xaa\\xb9\\x1a\\x8f\\x0f_\\xa2\\xbb6u\\x93\\xe0\\xf1|X\\xd5/\\x0f\\xf5\\x16\\x81`z\\xcf\\x05*\\x1f\\x052\\x07.\\xf5c\\xea\\x85tV\\xfe\\xa7\\x0f\\x14Ez@LP8\\xaa\\x8460<~\\xbeh\\xba\\xba\\x02$\\x84\\x151\\xec\\x86\\x14.\\xe4\\xdc\\xa2\\x01\\xff\\xbc\\xb03\\xf6\\x18\\xa8-\\xdeH\\xaeY)\\x93[\\xe1\\xc9\\xdc\\xd1\\x86e\\xf4b\\x88?\\x8a\\xf1\\n\\xc1{&\\xd88g\\xfdz\\x1a\\xdb\\xa5\\x8b\\x7f\\x1c[ \\x89Y\\x85\\xdb\\x9aw\\xe3\\xbd>\\x03\\xe6\\x90~\\x04\\xbd\\xfd7\\x00\\xdb\\xae\\x07r*g=\"B\\x7f\\x16\\xc1\\x99f7v\\xe6\\xf3\\'\\xf8n\\xc6g,)\\xb5\\x83\\x87~~\\xe4\\x8d\\xc1\"\\xec\\xed\\xb3d\\x84\\x7f}\\x85\\xac\\xb1V4\\xf2\\xd4%\\x1a\\xa3v\\xf8\\xfa\\xf2^\\x10\\x9c/\\x02\\xbf\\x85\\xc4`\\xdd\\xb3xrV\\x93\\x97N\\xc6\\xb6\\x90\\xb0i\\xcf9\\xbf\\xd2\\xb7\\xd1\\xfa\\x1d\\xfd\\x18%1\\x8e\\xb76\\xff%\\x7f\\xa7\\x1c1\\xd1\\xfb\\x10\\x00g+\\xaf\\xc2\\x94J\\x89\\x1a\\xf3i\\xab\\xb8C\\xd7\\xa3\\x19Q\\x9bYp\\xe5c4\\x88\\x1c8\\xcfH\\x1bfB\\xde\\xef\\xa7P\\xe3\\x97\\x03n\\x99\\xdb\\xd8\\x9d\\xba~\\xa0\\xb5\\x9e%\\xd5\\x8b\\x8cQQ\\xd0\\x95\\x0e\\x94T\\x80\\xe3\\xa2\\x99\\xc6\\xf2\\x15\\xc7a\\xe7\\xc7^l\\xa8=\\x84\\x87TU\\xc9\\xcf\\x9cN4\\xb1=\\x85-\\x8b\\x17\\xa3\\xf5\\xf2\\x95\\xf4\\xfc\\xa3&\\xce\\x86+y\\x90\\xbdG\\x9f\\xd5\\x8b\\x8e\\xc2J\\xed\\xbf\\x90\\xd2Hp\\x8f\\xe6\\x0b2\\xf1\\x9b\\x97\\xba\\xaf}\\x81\\xdf\\xfc\\xa4p\\x99\\x9e)\\x84\\x9e\\x7f\\x02%\\xdfj![\\xde\\x8a\\xde\\xbc~\\x99\\x0cI\\x8e\\x80\\xf1\\xb1$<\\xf6o\\x8fm\\xff\\xe3\\x0b\\xf1j\\x9f\\xc1\\xfa\\xa2\\x11\\xbc3\\x19\\x06\\x89\\xd6\\xbd\\xf8@\\xef<\\x1e\\x19-#es\\xbd\\xe1\\xac\\xb3\\x04U\\xbfV\\x83\\xc7\\xee\\x18\\xc1N\\xa7\\x0e\\x88\\xb5.2\\xb6\\xd7\\xf2b\\xc5\\x8a\\x1eq\\xcb\\xf5\\xf7\\xa1\\xdc\\xefw\\xc8\\x06\\xc4\\xd3\\x92\\x88A\\x1c_;\\x00W\\x1es\\xe0S\\xa2(\\x86\\x98\\x9c\\x05\\xe9\\x15\\xee\\x10\\xe9\\xbc\\x88L\\x88\\xbc$\\x91/_q[T\\xb7\\xa2\\xba\\xb7\\x1c\\x14\\xad\\x16g\\x0eJu@\\x82\\xf8Z\\x98\\xd2\\xf9\\x83\\x11\\xfb}\\r^\\xce?\\x81\\xd6\\xf6\\xc3XU\\xcd\\x0f-\\xc1_\\xc9\\nA%:& \\x85g\\x0f\\x8d\\xd0\\x86\\xcfg\\xe9\\x0e\\xdaIk\\xd8Q\\xce;\\xc7b\\xbc\\xfb|\\x11T\\xd5H\\xd3\\xf4}\\xefQf\\xcb\\x02|\\xe6\\xb2\\x11\\xfc\\x89\\x13\\xd6\\xd1\\xe7p\\xe7\\xe8Q\\xf0\\xb2~\\x80oo\\xfa\\x81\\xef\\xf1\\xdfx\\xd8~\\x19H`\\x17*\\xd9-\\xa4O\\xe77\\xc1\\x86\\x07z4Id\\x1aGqU!,\\xbc\\xd6\\xc6\\xf0\\x9d7\\xe6\\x98\\\\~\\x8f\\xf7\\xe6\\xf1a{\\xdbLv\\xfat\\x7f<P;\\x04ML4\\xf1\\xf6\\xdcN:\\xe26\\xd2\\x1e\\xcd\\xbfP\\xfe\\xda\\x81Y\\xba\\xa4\\x8aS\\xb5\\xd2\\x15\\xaf\\x96\\r\\xc0\\xf1\\xa1\\xadp\\xe6\\xc8\\x07<\\xff0\\x07\\xc6\\x83\\xff\\xd0\\x86\\xb7\\xde\\x9cv\\xb7]\\x8cp\\xba\\x00,\\xf67\\xa1\\xe1\\xcf\\x8f\\x91\\xa8\\xd9y\\xe8\\xc3\\'\\x86\\x83+u\\xf1\\xe0\\x8b\\x064)\\x1c\\x83\\xb8ni\\xf2iz\\x1b\\xban\\xa6\\xe8:|\\x1f\\xf7\\xb9\\xf7A\\\\\\xf9&Z\\xf0\\xf5/\\xcc\\xd09\\n\\xea\\xc9\\xc7\\xe8\\xad=+a\\xfa\\xb1\\x0b\\x9c\\xb3o\\xd7\\xb1\\xfa\\xe9f\\xe06\\xd9\\x8a\\xfbv/\\x03\\xf1\\xd8\\xb30\\xac5\\x93\\x93\\xf0\\xb6\\x11N%%\\xc1\\xb9\\xa3{0\\xcc\\xb9\\x98\\xe5s\\xf3\\xa3s\\xe5w@\\xe2\\xd3\\x02\\xcccs\\xe0r\\xf7#\\x12\\xfbv\\t\\xd6\\x9d\\x1fB\\xc7\\\\\\t\\x94\\xbb\\xd2\\x01\\xed\\xd2Sa[\\xc0\\x0f|\\xdf\\xa9\\x88\\xba\\xf77@\\xf8:=h\\x14\\xbd\\x8aqqr5!\\xc7<\\xd1\\xc2\\xdd\\x07#\\xe6\\xc4\\x82\\xa8\\xd00\\x06?\\xaf\\x06\\xb9\\xf5#\\xf0\\xd6\\xba\\x9b\\x9a\\xfe\\xfd\\x01\\xb3b*A\\xd3\\\\\\x82\\xe1\\xb1\\x89\\xe4\\xf4\\xef\\x1bF\\xbe\\xd4\\x99xFZ\\r\\x1a\\xb7\\x173\\xd2\\xe6\\x1e\\xb0\\xe2\\xbb=\\xd7bt*#\\xf2\\xad\\x04\\x92\\xa7\\xe8`\\xea\\xf9I\\xdc6\\xf2\\x16\\xf4\\x04.\\xa3\\xba\\xf6fH\\xbc\\xfb\\x90\\x99\\xb7H\\x90\\xddq3\\x82=\\xf8\\\\\\x8cy\\xfa\\xcf\\xcc\\xa7\\xff\\xcc\\x82\\x13\\x0b\\x1d\\x99e\\xd6\\x8fh\\x80\\xd8 \\xe9\\xfdd\\x04->\\xf3h\\xbc\\xbd-\\xe66\\xc4\\xc0\\xee\\x9e\\xaf\\xb8\\xfe\\xb6\\x10#\\xf0\\xe2\\x14\\xda/\\xe7\\xc5\\x97[\\xfb\\xd0\\xea\\xb2\\x0bd\\x867\\x80\\x8f\\x9b\\x0cX\\xbe\\x9b\\n\\x9bE>@q\\xba\\x04\\x95\\x0c>\\x83\\xcd}cX\\x95\\xdd\\x0eQ{\\xb6\\x81\\xc9W\\x01\\x08H\\xe35\\xe1?\\xd4\\xc1\\xca\\xea5\\x83\\x97\\xa5:\\xec\\xd7\\xbek\\xd8_i\\x0e\\xdc\\x15Z\\x1c\\x81\\x077\\xb8\\x1a\\xe6K0:P\\x08\\x8e\\xbb\\x9d\\x04\\xcb9\\xcb\\xc1\\xf5\\xd7\\x16\\xa8\\xb0\\xb7\\xc3\\x98\\xac\\x188:\\x852\\xbc\\xf2]\\xb0`\\xa9\\x04\\x9c\\xa8\\x1dC1\\x991\\x98!t\\x85\\xd5\\xfdz\\x8aU\\xe4?U+=\\xf0\\x9d\\x89\\xf9{\\x84\\x11w\\x8aa\\xa7\\xfc\\xde\\x047k\\x06I\\xa4i\\x10+>\\xfe\\xad&\\xd6g.\\xf7`\\xef&\\xa8\\xfcy\\x9c\\x94\\xfe\\xe6\\x83|\\x07\\x03\\xb2Z\\xf1;+\\x94\\xa9d\\xba\\xb6y\\x83\\xe9~;U\\xd3\\xb4\\xe7Y\\xa6K\\x83/\\xc0\\xa5\\xec \\xdc\\x19\\xc2\\x81\\x9e\\x8d\\x87P\\xa6\\xff \\x94|\\\\\\x02e\\xebg\\xb0\\x9a\\xe1\\xd3i.\\xb7\\x1f\\x1fU~\\x86\\xb7\\xb3|ij\\xc7.\\xdc\\x99\\xbc\\x9e|\\xf7\\x1aG{\\xd3QH\\xb6.\\xa1gN\\x8a3\\xda\\xaf\\xe6s\\xd3\\xd7\\\\@\\x1b\\xf3\\x19p\\xf0\\\\\\x1a\\xf9\\xeaS\\x84E\\xd27\\xa0\\xc9\\xa9\\x89\\xbe~\\xa2\\x84\\xd1\\xb7\\xf3\\xe8\\xedfAz\\xa7\\xf1#,\\x03\\xa3\\xeae\\xf9\\xae\\xd8\\x96z\\x0bb\\x13\\xcc\\xf1\\x82\\xe6\\x1d\\x8c[\\x94\\x87\\xe6\\xe2\\x918Zm\\xce.\\txV\\xddO\\x039\\x19%^(\\xaeMY\\x91w\\xfd\\xdc\\xb3I+h\\xcb\\xf2IvfO \\x0e\\x05\\xc80\\xa7\\xfd\\x9312\\xed\\x11\\xa3\\xe8\\x11\\x86\\x85ew\\xb0\\xf5\\xcf\\x11fv\\xf7\\x18\\x08\\xd9+\\xa08\\xea\\x82ak>$i/\\xc4\\x95\\xd9\\x04\\xe7\\xe8\\x060\\xba\\xf7\\x8ea\\x7f_\\x8a\\xa9\\xc8\\x91#\\xec\\x93?R\\xa6\\xd1q\\xabM\\xfb\\xa2\\x13LC\\xbb\\x8e0\\xa3SGa\\xefJQ\\xc6\\xack9Q\\x0f\\x91c\\x9cbv\\x82\\x90\\xda;\\xa29*K}\\x1b\\x0f\\x82\\xb2\\xbe*l\\nY\\x03.\\xc6!d\\xa7m\\x0f\\x96\\x08m\"a\\xcf.\\x90\\x89+7\\xc8\\x02\\xbbl\\x96\\xc7\\xfc%\\xa8\\x97\\xad%\\x0f\\x0fJ\\xc3\\x99_\\x0f\\xe8\\xf4\\x9cP|\\x92\\xa9\\x05\\xb7\\xec\\x1e\\xe0\\xbd\\xa26\\xbc\\x1el\\x89)\\xb7M\\x88\\xe5\\x85S\\xa4bn\\x15\\x0c\\xca\\x02\\xa3\\xfc\\xee\\x0eF\\xd5\\xb9\\xb3Z\\xfaf\\xd8l\\xa1\\x89\\x03\\xef|\\xf1\\x92E\\x11\\x96\\x16\\x9a!\\x04\\rc\\xd4\\xd9 \\xbcl\\xe8\\x8a\\xdf\\x1f\\xee\\xc4\\xe8\\x92D\\x12u\\xec$HU\\x98\\x92\\x05\\xab\\xc5\\xa10\\xed\\'\\x1c\\xf2O\\xc5\\xf9\\x89w\\xa8\\xe1\\xb5\\x1f\\xcc\\x1ceM\\xc85\\xb1\\x00\\xa3\\xec\\x8d\\x98- \\x83\\xf6u\\xedP*7\\x02iy&\\xd8A\\xe4\\x98\\xa8J\\rF\\xabb\\x8b\\xe9\\xa8U\\xa4Y\\xfd\\xecW\\xe6y\\xeb\\xf8\\xccO\\xdf\\xdbnv\\xfd\\xaa\\x9b\\xa9\\xf3\\xdd\\x99\\xd0\\x02\\x86\\xcc2}Mp\\xf1|\\x0e\\x9f|_c\\xfa\\xed|\\x13\\xdd\\xadb\\xa0\\x14\\xccS=\\\\?\\x8a\\xe7k\\xdb\\xe9\\xc9\\xadu\\xacrQ\\x1e]\\xb0k\\x13)\\xd1\\x98\\xcaJ\\xdedh\\xben\\x1c\\xce;{\\x93\\x91\\xff\\x8dPa1\\x0fe\\'M\\xe8s&\\x08\\x16\\x95\\x1f\\xc79\"\\xabp\\xf9\\xa0\\x10>\\x16\\x7f\\x03\\x9d\\xd7t\\xc0YY\\x9b\\xa8t\\x0f0\\x82\\xea\\xaa\\x8c \\x7f.\\xce.W\\'p\\xd9\\x96\\x1a\\x9ds\\xa6\\xcc\\xf0K\\xd8p#\\x10\\xb6\\xc4\\\\4I/\\xb9\\x8c\\xeb\\x15\\xb39\\xe7v\\xe4\\xd3\\xde}\\xafXY\\x9fn*7\\xaf\\x0elVZ\\xe3\"\\xb9\\x97\\xb4\\xdd\\xa4\\x95hLn\\x07\\xed\\x93\\x941*\\xb2gx\\x0fX\\xc2\\x8b\\x93\\x07\\xe1\\xcd\\xb7t\\xbcs8\\x14\\xb3\\x1eJR\\x07\\xbbDz\\x93\\xfd\\x84s\\x7f\\xea1\\x0e\\xe3\\x8c\\xe9\\xc9\\xcf\\x8f\\xcc\\xd6HY\\x99\\xfb\\x98\\x1e\\xb0\\x10Mxj\\xc1\\x97Zan\\xb7\\xac\\xce\\xb4\\xca\\xdc\\xb9V\\xf6\\xdeG\\xc6?S\\x12N\\xd7_c\\xf8\\xd6\\x9d\\xc4\\xcd\\x0f\\x1fP=\\xfd)d\\xc4\\xeb\\x0e+%\\xda\\x86\\x89\\xfa;\\xb0[\\xe7\\x0c\\xf5\\xde\\xf6\\x14\\x9e\\xc5uA\\xce\\xef\\x07\\xa8\\xb2X\\x1d\\xef\\xea\\xee\\xc14\\xb1\\xaf\\xd8\\x18\\xb5\\x02\\x0c\\xe2\\xfap\\x8fP6\\x18\\x06\\xee\\x86yJ6\\xb0\\xe3\\xde\\x14\\xf8\\xf3P\\r\\xcf\\xb8\\xae\\x03\\xcb\\xf8\\xc7\\x98\\xfe\\x08P\\xf7\\xb5\\x056\\xef\\xbb\\nw\\x9b+9\\xea\\xef\\xde\\x11~\\x81\\xdf`\\xbeS\\t\\x16:i\\xc1\\xcfk\\xde4\\x05:0\\xb2\\x9a0|\\xdc\\xa9\\xc0\\x06<\\xc2W\\xd5/X\\x17\\xaf\\x17\\x9c\\x96\\x7f\\xfbwG\\x9d&\\xca\\xc9\\x86\\x80\\xe4\\xeaLF+\\xa0\\x11\\x0c\\xfc\\xed\\x99)\\xab\\xf5aj\\xa1\\x1b\\xec\\xb5\\xbe\\xc2\\x9d\\x18\\xb3\\xc1O*\\xcf\\xe0lC \\xdcX=\\x8c\\x91\\xd2\\xcf!5\\xb6\\x81\\xa4\\xc4\\x8b\\x9b^\\x91\\xfbc\\xa6\\xe7&nn\\x91\\xf9\\xd9B\\xdc\\xde\\xcb\\xbc\\xbb\\xef\\xa7\\xb9\\x8dd\\x99\\xd9\\x8c\\x0c#N^\\xf7\\x18\\xe3(\\xfd\\x13@\\x8a\\xd2\\xfdm\\xf2t\\xacs&\\xd8\\xef\\xdd\\x82_Sw\\xc3r1%r/t\\x05\\xde\\x16\\x10`t\\xf7\\x07p+\\xe3|q\\xde\\x9f\\xa5\\xc07W\\x04l\\x17\\xffA\\xbb\\xe8g\\xf4g\\x9b\\x1cIy+C\\xbb\\x16\\x14\\xb1\\xb3-W\\xa0@\\xfa^L6.\\x02\\xc1i\\xf2\\xe8\\xe2?\\x9f\\x91\\x15\\xc9\\x03\\xd3\\xde\\x1e\\x8c6Nfx\\ruQd,\\x1a\\x93r\\xff\\xc0\\x1d\\x89\\x1b\\xd8\\xe0z\\x92uk\\n\\x81\\x8d\\x11+Q\\xb62\\x02[\\x0cb\\xe1\\xb7\\xd9EP\\xbb<\\r\\xfc\\xa4\\xbe\\x82\\x84\\xa9#\\xedm\\xe3\\xd27\\x15\\x93\\xdc\\xa4\\x95\\xc9X\\xbd-\\x92\\xd5\\xccY\\xc8\\xaa7\\x16B\\xe3\\xd9U\\xb0\\xa5\\xa1\\x14f<\\xdf\\x85\\x89\\xde\\xde\\x10a\\x18\\x03\\x91\\xfaf\\x9c\\xa6~gF\\xe8\\xd4-\\xc6\\xca\\xa3\\x8c\\x93Z\\x1bh\\xba\\xfd\\xedr3-\\xd96\\xb3l\\xbb \\xf3U\\xda2\\xe6\\xab\\xe9f\\xb3_|\\x0efz\\xaa\\rL\\xac\\xd9\\x04.\\xd5\\xf0\\x86\\xed\\xc4\\x85\\xb2\\xa7\\x8e\\xd2Q\\xa1NFx\\x967\\xf6\\xf3\\xeb\\xb0K\\xa6\\x88\\xc0\\x9b\\xc3\\x06t\\xae\\xe9[\\xbc{5\\x1d^\\xaao\\x06\\xa9\\x98\\x12\\xe8\\xd3\\xd2\\x81\\xf1\\x8e&\\x0cK\\xbe\\x03\\x95\\x01\\xd3\\x99\\xd9\\x06\\x8ax?\\xa7\\x95\\x9d\\xfa\\'\\x00y]\\x08+B4\\x91\\xbf\\xb2\\x03\\x92\\x0e\\xbe`Vo\\xfb\\n\\x9d\\xb7\\x84\\xb0m\\xbb)\\xda\\xd9\\xdd\\x83\\x07\\xf0\\x98T\\xbf\\xc9\\x81\\x01\\xc5\\x8b\\xf8c\\xc7\\x06\\xcc\\xd7\\x89cf\\xfb\\x98\\xe1\\x85\\x03v\\xd8\\xc2\\x13\\xcd\\xc8V\\x8b\\xd0\\xd2\\xec\\x13$EW\\x9fT=\\xa3\\xec\\xca\\xc5\\xd7XE_\\x85\\x9a\\xb8\\x81\\x195W\\r\\xde\\x91\\xd5\\xb1\\xde\\x9c\\x97;\\x8bH\\x1c\\xef 5\\x9e9\\x0cz%\\xf3\\xe0e\\xe05\\x12Q\\\\G\\x8dv\\x9d3\\xfe\\xfbp\\t\\xb3\\xe8O\\x14c6.\\x04I\\xfd\\xd5\\xa6s\\xeb\\x16\\x99\\x8e:\\x9c5\\xd3\\xf8\\xf2\\xdb\\xcc(\\xbc\\xda\\xecR\\xd7N\\xb3\\xa8\\x99\\xcef\\xbc\\x89\\xc6L\\xe7\\x11+X%1\\x07\\xa0T\\x93\\x84N~\\xc7\\xbb[\\x0b\\xc0\\xd0\\xe2&>,\\x8b\\xc5\\x0f\\xae<\\xb0eT\\x10\\xb6\\x87j\\xb1JkRY\\xa1/\\xbba\\x8d\\xe8J\\x10\\xfb\\xc6bzT\\x1f\\xa4\\x15\\xb4\\x80T\\xad6LUV@)\\x99R\\x1a\\xd5\\xb4\\x1a\\x96\\xe8\\xc8\\xd3\\xa1\\x83\\x99\\x90\\xffg\\x1f\\xce\\x12|K\\xa5W\\x98a\\xca\\xca*\\xfc\\x94\\x17\\xccN\\xe9\\xcaE\\x8b\\xd7\\xc7\\xa0\\xf5\\xb2*#\\xa3\\xfa\\x00\\xc2\\xdf\\x85\\xe1\\xf1\\xf4\\xeb\\xb0?\\xb7\\x9a[P\\xba\\x9b^\\xecS\\x82\\xd6\\xc2\\xe5\\xe0\\xbe?\\xb2&l\\x8b\\r\\xfa\\xcdZ\\x85\\xcf2\\xb2\\xc0l\\xbb\\x02J\\xc7\\xf3\\xd3{^VP9\\x85\\xa1\\xd2\\x02<(i\\x12\\rj{F\\xb1`C\\x11lRYB\\xaf\\xd8\\xa6\\xe1\\xf1\\xa0[\\x10\\xff\\xd9\\x17<\\xac\\xd5\\xe0\\x1b\\xd82F\\xbd%\\xcc\\x90\\x9b\\xac\\xe9:10\\xbd6if\\xca\\x1e\\n2\\xbd/t\\xd7t\\xd0\\xc1\\xc8\\xf4T\\x99\\x95)\\x7f\\xc1$\\xa3X\\xb2\\x03*c\\xb60Z69h\\xb9\\xba\\x16.I>\\x84\\x8a\\xaf<\\x84\\x15t\\xc5\\xa8A[\\xdc\\xee\\x91\\xce\\x08\\'4a\\xc7\\xf0N\\xd8C\\x96\\x83\\x8b\\xd85v\\xea\\x06\\x7f\\x88\\x98\\xff\\x17G\\xedv\\x91\\xd3\\x91s\\xc1\\xe6\\xd8FV\\xa9R\\re\\x95\\x93`\\xd8q\\x0b=?\\xd5\\x81\\x9d=\\xab\\x08o\\x98\\xe4\\xa0\\xd7Fc(\\xf7\\x11D3g)n\\x9a\\xe3r\\x94\\x15\\x9f\\x03\\xb7_\\xce\\x85@\\x9fA\\x92\\xe8\\xf7\\x02\\x07\\xcd\\x1b\\xb0\\xbd\\xd3\\x01\\xd8\\x84\\xe7\\xc0o\\xe9\\x01\\xd3\\x86\\x0b\\x80\\x9b\\xa0\\x87\\xc5\\x8b\\xcd\\xd9Y\\xfb\\xf5\\xc0\\xd6I\\x92\\xc3\\x17\\xd9\\x8d\\x01\\xb6\\t\\xf0\\xc9\\xe3;\\xbc\\x98\\x9c\\x01\\tP\\x0f\\rU\\x93\\xd4\\xfe\\xfb\\x14\\xdc\\xd1[\\x07\\xda\\x0f\\x8d\\x99i_\\x16\\xc0\\x93y\\xdb\\xd0\\xd5\\xf8+\\xd5\\xf8\\xeb\\x07\\t\\xc3\\xbb\\x98\\xe0\\x98p\\xe6\\xc9#\\x0f\\xa6\\xdaf-\\xf3\"a\\x0fsW_\\x82\\xe9\\xce\\xe63\\x85\\x8dmL\\xd8\\xd3\\xbf\\x8c@\\xdb\\x07\\xc6\\x95o#\\xc6\\x8f\\xd6\\xd3\\xcf\\xa2\\xeb\\xb0^\\xaa\\x1c\\xd6\\xb8\\xa5\\x90;\\x9d\\xfb155\\x8e\\x15\\x8a\\xdf\\x0e#\\x1b\\xf2\\xc0\\xa4k\\x88\\xd1&\\xe3\\x90\\xf7l=&\\xaf\\xb2\\xc6\\xd7\\xdcN\\xdc\\xb4\\xfe\\x15\\xa3\\x9aQL/\\\\z\\x8d\\xe3\\xaa7\\xf1~\\x926\\x18\\xfc\\t\\x00\\xa19.\\xa8\\\\\\xec\\xc0\\xceq,d\\x047=\\x86\\xac\\xca\\x11\\x14\\x9f\\xc5\\x01\\x9e\\xba.\\x12\\xc5=S\\xe3\\xebT\\xfa\\xef\\x1dUA\\xe5\\xbd\\x838Ks\\x10\\x13v9\\x123\\x89\\xc5`\\xdb\\xc0\\xa0\\xa6\\xecV2#\\xee\\x06\\xea\\x1ex\\x8c~?\\xde\\x9b\\\\\\xe1;\\x8d\\t\\xaek\\xe1\\xcfvGhz\\xd6\\x0e\\x85\\xc7\\x1a\\xc8\\x83e\\xcad\\xc3\\xae`\\x08\\xf0\\xfc\\x80\\x89\\x1b\\xde\\xc1\\xe9\\x89\\x15\\x8c\\xc4\\xe7\\x1f\\xb8\\xdc;\\x1dx\\xe46Q\\x9e\\xaa\\xa94\\xc71\\x8e\\xe1?\\x9d\\xccx\\xdf\\xfa\\xc5\\xac\\x11{\\xcb\\\\\\xf7\\x9a\\xc3\\x9c\\rReL\\x96&3\\xcb\\xd4\\xe6\\xc2\\xeb\\xa9J\\x90\\xfb\\x9cT1?V\\xc1\\x827Qh\\x9b\\xfd\\x0b\\xb3\\x94W`\\xba\\xa30\\x94\\r\\x16\\x83r\\xa5)\\xc6\\xfc\\xf1d\\xe6n\\xb2\\xc2\\x83\\x1eq\\\\\\xe5nc\\x00\\xeb\\\\\\xac\\xcc\\x8b\\xc1\\x9b\\xb7\\xeb\\xe0\\xc9\\x80\\x1149\\xae\\x83c\\x19\\xe6\\x8c\\x90G\\x0c|\\x94\\xd9\\x88\\x16S\\xb5 3\\xfe5^kM\\x82n\\xb39\\x10q\\xee-h\\xca\\xd636]\\xa3\\x10\\xbf#\\x9a\\xe1\\x7f\\xbe\\x88\\x91\\x167!\\xcf\\x84\\xfd\\xc1\\xd9\\xe3!\\xca\\x19Qr\\xea\\xd3\\x14f\\xde@\\x06pm)\\xa6l2\\xc2\\xf6\\xda4\\\\\\xa7\\x13\\x89a\\xef\\x17\\xc3y\\xc3\\xf3X\\x9c<\\x8b[\\xbcP\\x84Y\\xfc\\xf1*\\xc4\\xa7}\\xa1\\xd7CFX\\xf3\\xbd/PI>\\x1f\\x9f\\x8c\\x85\\xd4X\\x05\\x14B\\xf1X\\x00D-~\\xcbH\\xd5\\xbc\\xa0\\xfd\\xb1\\xe2(\"\\xa9\\xcd\\xf0L\\xb1\\x83\\xc3\\xabv2\\xb6\\xa9{!\\xaf+\\x0e*B\\xe6\\xc1\\xda\\xa6\\x0b\\xf0\\x94\\xb9\\x0b\\x97\\xbd\\x17\\xc1\\xcd+R\\xf4\\xa0\\xc4\\x14\\xe8u\\x8e$\\xef\\xa7\\xcd\\xc2\\xfd\\xdbK\\xd1{\\xcdM\\x084\\xb6\\x07\\x85_i\\x84\\x0c=E\\xbc\\xb7\\x1c=\\xe8\\'\\xbaw\\xfb\\x19\\xc6\\xb6\\x1c\\xb1*\\xbf\\rB\\x16\\xb0\\xac\\xda\\xcf$\\xa0\\nKp\\xeb\\xc5Z\\\\\\xb7r\\x14\\xa2\\xef\\xb9\\xe3\\x99\\xff\\xab\\x1fA?8\\xa3\\xf37s\\xab\\x8aN\\xc1\\x8f\\x1a9n\\x85\\xdd[n\\xf4_\\rV y\\x1f\\xd6J\\xac\\xa3\\x99n\\r\\x98\\xed\\xf9\\x1e\\xf3y\\xb4\\xd1}K\\x19\\x08WU`G\\x89\\x18\\x0cnz\\r\\x1fu\\xd6\\xb3\\xfa\\x8b\\xf2\\xa9k\\xee6pv\\x9f\\x0f__\\x1f\\x02\\xf9K\\xd9x\\xc8\\xe3\\x0b\\xe9\\xb40\\xa1y\\x89\\xcf\\x89NO.\\xf0Z\\xd5B\\xc8\\xef(\\xbaae7\\xe9*8\\xfaof\\x8a lz:\\xa73\\xf8-\\xa8\\xbcJ\\x03m\\xbb!f\\xc6\\x9cP\\xe4M\\xfa\\x82n\\x9f\\x83\\xa0\\xe2\\xb2*\\xa4n\\x8a\\x00\\xeep-\\xfdaS\\x0c#\\xd3/\\x12[\\xa54Z\\xbem+-X\\x19\\x85\\xad\\xc7/\\x82\\xd3\\xf2\\x05\\xf4\\xf7R}.O\\xc1WP~w\\xc3d\\xd3\\x9e\\xa7\\x10\\xbe\\xdf\\n\\xae\\xdfx\\xcb\\x08\\x8e-\\x85\\xeb)\\xab\\xf16\\\\`\\x84\\xd5\\xe5\\xc0aT\\x0f2\\xf6%s&2\\x941\\xf7\\xaa\\x17Y%\\xdaOodz\\x83\\x80\\x91\\x13\\xab\\xfej\\x15}m\\x95\\x08\\x8d7*P\\xa8\\xe0\\x0f\\x95]u\\x14\\x92I>3\\xdf\\xb0\\x0e\\x02\\xad:\\xa8\\xde\\xe3[\\xb0z\\xca0\\x9c\\xf8\\xb8\\x08\\x0f\\x8b\\x0c\\xe3D@\\x13\\xf9\\x98\\xb5\\x05\\xbd\\x1b\\x17\\xd3\\x90\\xdcj\\xec\\x14;\\x84\\xaf\\x07\\x9a `I\\n\\x14\\xee6fe]\\xde\\xe3\\xcd\\x07,)M\\xd8\\x87\\xfc\\xf2\\x06\\x8cB\\xfaKf\\xf9&\\x1b2{\\xc9Zr\\xb3\\xbf\\x05j\\xb2w\\xd3\\xe3\\xb7r\\x08\\xda\\x7f\\x03\\xddk\\xbbp\\xf9\\xdc\\xab\\xe0\\x9a\\xfc\\x11E\\xf2\\x0ea\\xa8}\\x05\\xd4\\xec\\x1ac\\xf9\\x9e\\xde\\x83\\xaa\\x0ea\\x18\\xd9YB\\xc2J\\xdf\\x80\\x9d\\xa9\\t\\xd9\\xa0\\x18H\\xf7|j\\xc1mo\\x9e\\x11\\xc7\\xd0[P9\\xa0B\\x06\\xda\\x1b\\xe9\\x99\\xbao\\xac|w?d\\xa66\\x80`\\xdaj\\x98\\xf9\\xbe\\x82\\n\\x85\\xfd\\x85H\\xf3I\\xf8\\x1c\\xb3\\x17~\\x9bH\\xd1\\xc8-QhG\\xb7\\x83\\x94\\xd1oX*8\\x1b\\xe4^.F\\x9b\\x19Q\\xec\\xb2\\x82\\x0b\\x9c\\xf3\\xfc\\xd3\\xa1\\xc9?\\x92~\\xd1=G\\xce\\xdftD\\x9d\\xae\\n\\\\\\xcc\\x0e\\xd2[[\\xbe`\\xa6\\xd6a\\x1a\\'\\x94\\x0c\\xf3\\xdb{\\xe1\\x85\\x8b1~\\x1eY\\x8d\\xd1\\x0b/\\x93\\xd7I!\\xa4_\\xef\\x18IvJ@\\xaf7\\x04s\\xfcJ8\\xa3\\x9e\\xf31\\xa6\\xff(\\xf66E\\xa2qA5\\xac\\xe7\\x07(\\x98y\\r\\x8a\\xd4\\xb84x\\xcb}\\xa83\\xdb\\x0c\\xa7\\xeaj\\xe9\\x85\\xb71$^\\xe5/\\xa3q\\xfa1\\xf6\\x1aOB\\xe5\\xa3\\xf7\\x9c\\xd6\\xda\\xe3\\xe0\\xb9y3T\\xea\\xcc\\'j\\xc9\\xc5p\\xfe\\xb3:\\xbe\\x0b\\xf5dE\\xfb\\xc5\\xb8\\xdd\\xbf\\xa2@\\xddZ\\x19WU\\x17Bk\\x11\\x97*J\\x1cc\\xa7\\xb4]\\xc6\\xed\\t\\xd3\\x99\\xad\\xdd\\xda`\\xa2\\x98\\x85\\xce\\xef\\xb6q\\xbc\\xa6\\xaf\\xe5\\x86\\x9f0\\x86\\xddN\\x01\\xb8/\\xf1\\x066\\x07\\x8c\\xd3\\xe3\\x8a\\xb3\\xc1\\xf3\\xe1Q\\x98\\xd1\\x19F\\xa6\\xda\\x1ef\\xd4B\\xb7p\\x0c\\x17\\xba\\x92C\\xcbv\\x93#\\xaf:\\xb1t\\xe3B\\x88~\\xb6\\x89$\\x1b\\x9d\\x87\\xcb\\n)\\x0c\\x7f\\xcdo\\x8c\\xcd]\\xce\\xf5-\\x1b\\xab\\x99-\\xfeo\\xd7/\\xef\\xc5\\xe2\\x83\\x86pNi\\x00\\xf0\\xb5\\x1d\\xcb\\x9f0\\x8f\\x9c:<\\x04a\\xfdj\\x18\\x16\\xe5\\xc9\\n\\xd5\\xe8b\\x85\\x86?\\x1c\\xba\\x16B\\x86*\\xa5\\xc9\\xef(KX9\"K\\xd9%\\xba\\xf8\\xda[\\x9b\\x91\\xbe\\x98\\xc9\\xfd~\\x92\\x03G\\x15\\xc7\\xe1\\xe7\\xb9\\xa7\\x9c\\x98\\xd1\\x0eN\\x87\\xfa\\\\x\\xa3\\xe8\\x84\\xca\\xbb\\x96\\x91\\xe3\\x86\\x1d\\xe4\\x9a\\xc2*Z},\\x80<\\xe9V\\x03u\\x8f\\x03X\\xc0T\\xc3\\x94c\\xbb\\xb0\\x0cGi\\xbbe2\\xd7\\xe9x\\x0e]\\x9f\\xaa\\x80!e\\xbbIk=\\x81\\xd6I\\x82\\xa6\\xe1\\xf9t\\x8aD5\\x9c\\x8dy\\x8e\\xdb\\x9b\\x12\\xe0\\xea1o\\x0c~\\x1c\\x0b+\\xf4\\x84\\xa0d\\xefyfz\\xe6!\\x10\\xd5\\xd6\\x86L\\x8f2\\xa8\\xdd\\xa4\\x06\\xf9\\xf3\\xb8\\x10\\xf6*\\x07N\\x16\\x8c\\x92g\\x86\\xa1\\x9c\\xf7S\\xb7\\x91\\x07\\xed\\xc6\\x10\\x99\\x11H\\xdb\\xbf\\xbb\\x92\"\\xf1\\xd5\\xcc\\x0c\\xc3\\x16\\x18\\xe9\\x9a\\x0e\\x81\\xc2\\x80\\xfe\\x05K\\x80\\xbf\\xdc\\x1e\\x16\\xaeL\\xe7\\xdc:\\x13\\xcb\\x1c\\xed\\x8b\\xc6\\xac\\xa4\\x08\\x0c\\xb5\\x9a`f\\xbe\\x15\\xa82\\xe5k\\x83\\xb0\\x89\\xa9\\xa4\\xa9\\xc7\\x17\\xbc\\x8f\\xeb\\xd1\\xf0y\\x96\\xd4E\\xcc\\x93\\xb4G4Q\\xe3\\xab6\\xe8\\xd4\\xb3\\x0cs\\t?+\\x13&W\\x13qw\\x0ccB\\xad\\xf0\\xcc\\xdb\\x8b\\xffr\\xf3(\\x86\\xbf\\xfeF\\x9a\\x7f\\xb9B[\\x1a\\x07\\xecD\\x04@\\xfc\\xcd\\x00\\x06F\\t\\xc1\\xf7R\\t\"9\\xcf\\x891Vx\\x0f\\xf12+\\xb9\\xc5\\xae\\xbf0c\\xeb\\x18@\\x86!\\xd4\\xb1\\xc6\\xb8\\xcb\\xe7\\x0c\\xe7\\xd3\\x1b\\x05\\xb0\\xf8\\xbe\\x13\\xaf=n\\xc1\\xbc\\x1e%\\xdc\\xc1\\xade5\\xd6\\x7f\\x04-\\x9e\\xbb(n\\xb5\\x05\\x96\\x97\\xec\\x03g\\xd3\\x00\\xd2G\\x95\\xb1\\xf6\\xe7#z\\x92\\xfdCj\\xf2\\n\\xa9\\xa0\\xd9O<\\xf1v\\x11\\xe6\\xbf\\x9c\\xc0\\xf0\\xecx\\xa8\\xae_\\x80\\xc2\\xaf_\\x93\\x91\\xa7\\xfd\\xb0*e\\x1f3\\xfb,\\x1f\\xa3\\xbb\\xd8\\x19\\x1e|\\xcc\\xe3\\xa4\\xc9\\xd7\\xa3JY\\x01\\xccT\\x18\\x84\\xbd^J0\\xf2\\xd1\\n\\xa6\\xae\\x94\\x85\\x8e\\xbb~\\xf0\\xa9>\\x95.\\xe8L\\x02c\\xf9~\\xd4\\x8d\\xff\\x0c\\x8aF\\xdexX`\\x1b\\x1c\\x14\\x9ad4\\xa3Ws\\xd2\\x7f\\xfc\\x85U\\xb6\\xaa\\xb0$\\xb7\\x02\\xf9[\\xa3\\xc0\\xe3\\xcc}L\\\\\\xa9F\\x9f\\xdb\\xcc\\x86J\\x87\\xa9&s\\'\\x8eA\\xc6\\x94G\\x9c\\x96u\\x1e`S\\x89\\xd8\\xdc\\xe3\\x8ee[4P:\\xcc\\x19t\\x1b\\xder\\x92~\\x1d\\xc00\\x95\\xb7\\xf8\\xd2`-\\xe7I\\x95\\x03\\xac\\x89s$\\x16\\xc3\\xd7\\x18\\xc9\\xee\\x19\\x8c\\xd0\\xb2\\xc7\\x98&\\xe2\\x89\\xc9\\xa7%\\xe9\\xf0V;v\\xea\\xb6#\\xb0\\xd8\\xdf\\r\\x02\\xbd;\\xf0Ob\\x11T\\xdf0\\xc0\\xf0\\xcd\\xa38\\xda\\xd0\\xc4\\xace\\xc6\\xe9\\xc3=A(\\xb0u)\\xa7X\\xad\\x9d\\xd1>\\xf3\\x85\\xb1\\x16\\xdf\\xcd\\xea\\r\\x9fDw\\xad\\x10\\xb20}\\x80\\xb5\\t{\\x81\\x82\\x8d\\xa1\\xdc\\xe2\\xb2f\\xd2\\x18[\\x8e\\xc9*\\'h\"\\t\\x81\\xf29k\\xa1\\xc2m\\x02%\\xef\\xe6\\xd3\\x87\\x0b\\x03\\xa9\\x96\\x85\\x16.\\xd6\\x9cE\\x8e\\xdc\\x9e\\x81\\x8d\\xbaZ\\xd8t\\xef\\xdf\\x99%r\\x18\\xc9\\x8dK\\xd1\\xd4\\xf4\\x12\\x9dY\\x92\\x80\\xbb\\x9f\\xed`\\x05\\xddK\\xe1\\xf0\\x9a0\\xd0n\\xbc\\x88\\xdfo\\x15\\xd0\\xfb\\xbd\\xbb\\x98\\xb8`ix5\\xec\\xc5*~\\xd9\\x82\\xa6\\xdf4\\xc9II?\\xd8m9\\r\\xaeg\\x99\\x93:u#t2\\xbf\\x08\\xb8*\\x1c\\xc2r\\xc4\\xd10\\xe809\\xb1\\xcf\\x05\\xdf\\\\\\x0f\\x82\\xc0\\x1d\\xcbI\\xb4\\xef4f\\xe6\\xf62\\x9c\\xf2.\\xf2\\xdf\\xbdmg\\xa6J\\x06\\xb23\\x14g2\"o\\xaaHbZ#8\\xb4\\x9de\\xa4\\r\\x07q\\xf6\\x98\\x07hEG\\xd0\\xc2\\xca!r.\\xf4,\\x18L\\xdf\\x08k]r\\xc0\\xbe\\xb5\\x14\\xa3\\xc6N\\xd1\\x1e\\xbd\\x8b\\x18\\xaf\\x92\\x01\\xa2\\xfc\\xa9\\x94|\\x18\\xc1\\xf4\\xdc^\\xce\\xfa\\x04[\\x18*\\xc8\\xc3w\\x8b\\xa6\\x83W\\xc3K\\x88L\\xba\\x83\\xf2nB\\xd0\\x1e\\xb5\\x05\\xce\\xee:\\xc1j\\xf0_\\xc3\\xf2\\xc4\\xcf\\xcc~\\x93B\\xc6\\xc8C\\x01\\xbc\\xdb\\xcd\\xc0\\xc8~\\x16w\\x17\\xed\\xa4\\xed\\xa7\\xed\\xb9\\xe5&\\xd5`\\xfc\\xb7\\x8c\\x95\\x9ds\\x97U\\xab=\\x00Q\\x1b\\x9eC\\xbd\\xf1(\\xae\\x9f\\xb9\\x84\\xbb\\xe0\\xcbJ\\xe3x\\x89\"\\x8eKg!y>\\xfc\\x8c\\x15pp\\xa7\\x8f9\\x8b\\xa9\\xf8\\xb05\\x8d\\x92U\\xa3\\xdc\\xfb\\xdb\\xb9\\x83V\\xfed\\\\U\\x1b\\x8aw\\xfe@\\xff\\xe6\\x1c46\\x8f\\xc03m\\x89\\x98\\xb7\\xaf\\x01\\xb4\\xcb\\xef\\x80CQ\"c\\xfc6\\x9b\\xb51lb\\x95\\xbe\\x9c&\\xa3\\xb6\\x994\\xf4\\xca\\n<\\xee\\xa3\\xcd\\xedk\\xddH\\x17\\xa8\\xcd\\xa5\\x8flo\\x9bd\\xf7\\\\\\xe4`\\xfc\\n\\xc8x\\xc40\\x12\\xe7\\x7f\\xc3\\x96\\xeb?(\\xaf\\xc1,\\xecm>\\x88g\\xd4\\xde\\xd3:l@\\xfd$\\x1d\\xf2\\xd7o\\x84\\x9e\\xba\\xff\\x1d_o\\xf2bL\\xf6\\xaeb\\x14\\xe2\\x9f`\\xfc\\x9a\\x05\\xdc\\x8f\\xfawI\\x8a\\xd3:\\xd8\\xb3X\\x1a\\x9e\\x95~%\\xceN\\x7f\\xa9}H4\\xbaO\\xf1\\x84\"mM\\x88\\x17\\xde\\x89\\xa7\\x7f\\x95\\xb3\\x8e\\x8f7\\xd2\\xf0aI\\x08c;1Ts\\x10l.\\xb9c\\xc6\\x8dn\\xa2\\xa6T\\xc2\\xf9\\xe1\\xe8\\tz\\x02_Y~\\xb7\\xd9X\\xf2P\\x14\\xfc6]F\\xb1b\\x11n\\xf3\\xf9aR\\x14\\xe8\\rW\\x8e\\xb0p:o>TE~\\x84\\x8e\\x9dKL\\xfa\\xbc\\x871\\xde\\xa5\\x05VDn\\x84\\xe8\\x05\\xea\\x0c_\\xd14\\xb4\\x90\\xaa!C\\rZP#o\\x80\\xbf\\xf7\\x7f\\xe7\\x8a\\x07+\\x93\\xd3\\x1f\\xbf\\xb3r\\x8fZ mC\"#\\xd9y\\x154\\xef\\xcb`r\\\\\\x1a\\x8a\\',\\xc1\\xdf\\x1e\\x1e\\x9c\\xe1;\\xbe\\xb8/\\xb7\\x88lV\\xbd\\r\\x8b\\xea/B\\x8bD\\xf8\\xbf\\xb3}\\x84\\x9e\\xfaWh\\xd6\\xae\\xc3p\\xe2\\x0b\\x85\\x0b\\x17\\xa6\\xe2\\xa6\\xac~\\x94\\xcc\\xd5F\\x01\\xa9\\xcb\\xe0\\xd16\\x8e\\xf9G\\x0fAw\\xa7\\x0b\\xd8\\x94\\xbc\\xc1\\xec\\xf3\\x8d0\\xad\\xb3\\t\\x0e\\xb6\\xd9\\xe3\\xe5s\\x96@\\x9eG@\\x85\\xf9y\\xd8\\xber\\x19i;\\xdf\\x8e\\xf3;\\xef\\x93\\x9f\\'\\xd2@s\\x9d(y\\x11\\xa8\\xcb\\xf9\\xd0^\\xc3\\xcc~\\xacD^\\x8a~\\xa2\\xeb\\xec~rf\\xc6%\\xc1\\x86\\xb4*\\xe0Q\\x9dK\\xcf\\xa5\\xf9\\x82f(\\xd0\\xe6{\\x89\\x90\\xb5\\xaf\\x0ee\\xfe\\xf9\\xe0CI\\x0b\\x08\\x19\\x94\\'\\x96e\\n\\xd0\\xb2O\\x8el\\xbb\\x1d\\xcf\\xce\\x9c\\xd1i2\\x12\\x94\\t\\x13\\xf7>\\xd2\\xa5\\x8a\\x150\\xedD\\x12\\x11\\xde\\xeb\\x88y\\xebu\\xe1s\\xb8\\x1d\\xf0ZW\\x11\\xc1O=4rF\\r\\x98\\x15\\x0cq\\x95\\x1f\\x0bA\\xba\\xd5\\x13\\xd23\\xdf\\x0f\\xf6vya\\x14_07\\xd9J\\x98\\xa6jv\\xb3\\xb3$\\xaebb\\x98/\\xf5\\xd9\\x1f\\x8bv\\x91M\\xd0\\x9f\\xb0\\x93tId\\x91\\x94\\xd7\\xef`\\xda\\x8f\\xdb\\x8c\\xc0\\x04\\x0f\\xb5\\xd8\\xbf\\x10b\\x0c\\x9d\\xb8\\xb6\\x13{\\xc9\\x04\\xcfr\\xf2\\xf4~,\\x89y\\xe3\\x8f>\\xd6\\\\L8\\xb3\\x04\\xf9\\xe6\\xdcEG\\xdf\\xfbh\\xfd\\xd4\\x90\\x94\\\\\\xbc\\x84uS\\xbfC\\xe6\\x07EH\\xc8\\x19\\x85\\xed\\xdd\\xb2\\xf4\\xfe\\xd9\\x12\\xb0\\xf5\\xb6\\xa2\\x0b\\x93y9\\xa74\\xa7c-\\xf7\\xdf\\xc8:\\xaf\\x01\\x83w\\xda\\x98\\xf0\\xf2\\x12\\xb1SyFZ\\nc\\xb1\\xb0<\\x99pW\\xf80\\xf2c:\\x1c\\xde\\x9a~\\xb8\\xfa\\xaa\\x9e\\x0c\\x07\\xecgC\\xfb\\x14h\\xe6\\x88\\xc6?\\x0f\\x1f\\xc6N\\xcf\\x95p\\xdd0\\x15\\xbe\\x9co@\\xf5i\"\\xd88\\xb7\\x1cJ\\xf8l\\xc1:|\\x18]\\xb69\\xc2e\\x89\\xe5\\x08\\x9f\\x9f\\xc2#]KT\\x98\\x1e\\x82Q\\x01\\xf5\\xb0`\\xe6\\x13\\\\\\xb1\\x85KN94R\\xf7)\\xed\\x8c\\x98+\\xc5\\xb8\\x97\\xefq\\xbf\\x8a5VI\\x8e\\xd1\\x9d_n\\xa0b\\xe6Y\\x9c\\xfe\\xe1\\'9o\\x86\\xb0\\xeaH\\x00}a}\\x10\\xa6\\x1f\\x99\\x06\\xe5\\xb5\\xcet\\x86J\\x05\\x92\\\\\\x0fP\\xcb\\x8aB\\xc3\\xc3\\x7f\\xb0mL\\x8b\\x91_j\\xc4,q:\\x02\\x7f\\xd8]p\\x14\\xca9|\\xab\\x0e\\xc1\\x9eg/\\xb0s\\xc2\\t>Y=\\x00\\x1d\\x18\\xc0\\x1b\\'\\xb8\\xe8\\x90\\xf0\\x1a\\xc3P\\x1c/\\xa5*\\xc1\\x85\\xb3\\xa7q[a\\x10\\xd9sD\\x0f\\xd6\\x8bY\\xfe\\xcfL\\xa5\\x18r\\x84\\x8c-\\xfd\\x8d\\xedd9\\xc6\\xc7.C\\x05\\xdd+\\xb8\\xf0Q\\x1a\\xfd\\xf2:\\x86|[\\xd3\\xcf\\r\\xed\\xae\\xa0O\\x1c;i\\xc5a\\x0b`\\xae+\\xa2\\xc9\\xc5\\x83\\xe4\\xda\\x11Ar6 \\x12s\\x17\\xf9\\xb2\\xae5\\xc78\\xcaK\\xfb1\\xb6Y\\x07\\'\\x92\\xca1\\xfb\\xc9\\x08L\\x89\\x18\\xe5\\x08\\xd6\\xa9\\xb3\\xab\\xda\\x0c\\xab\\x07\\x1d\\xe4\\xe0J\\\\*6\\xeeVg6\\xca\\xac \\xad\\xdd\\x0fi]\\xc8\\x04^\\xf5Z\\xc5\\n5*\\xc1\\xcd]\\xfb\\xf0\\xcd\\x93N\\x94\\xf0\\xfb\\x8c\\x01\\xd5\\xc2\\xe89\\xf5\\x02u\\xfcd\\x00\\xd1\\xd4\\x8a\\x94B\\t\\x04\\xa6^\\xa3;\\xf7\\xec\\xfe\\x97\\xc3\\x1e\\xe2\\xfbe\\xda,\\'\\x7f\\x17\\xbbG\\xdf\\x83\\xfe(\\xad\\xc4\\xdd\\xf7\\x9e\\x92!\\xef\\xef \\xfb[\\x8e1\\x13-\\x05\\xbf\\x899x\\xf9c*\\x1aW=\\xa2mn{\\x18\\xc1\\xe2w\\xe0\\xbcl\\x92\\xect]I\\xaf\\xa7r\\xc8\\xb3\\xa2\\'\\x8c\\xc9\\xb0&\\xdc:RJ\\xb1o\\xb3\\x89\\xd6\\x9f\\xe9\\xb0\\xa5\\xd2\\nG\\'\\xbfbFO8\\x1d\\xd2\\xeaEU\\x8e\\x1d>\\x8a\\x89F\\xde#Kq\\xf1\\xad~b\\xe4\\xfa\\x08\\x12\\xa2\\xb4\\xe9\\x85\\xefZ5\\x15G\\x03\\xc0e\\xec\\x16QR\\x91a\\x05\\xd7\\xaf\\x803\\x82Gp~\\xf99Fpk5\\x8e\\x1f\\xe1c#~l\\xa7:\\xfd^p\\xd1s)\\xed\\xf9\\xb1\\x07f\\xbc1g\\xc8=\\x15,\\xfd\\x16\\x8b\\x01\\xc2\\x93\\xf8\\xd9\\x82\\x03\\x13\\xfc\\xb9\\x08\\xb3\\xe4\\xd0[\\xf0\\x12\\xfc\\xd1\\xf3\\xc3\\xd6!U\\x8e\\x9f\\xc8RFj[\\x1a6,r\\x82\\x13\\x1f:!C>\\x9f5r\\x0b\\xc5i\\xc3*\\xc0\\xe7\\xd0\\xcb\\x95<a\\xcfJ\\xae\\xf9\\x8b\\x9e\\xbd&l\\xb1U\\x1b\\xed\\xdf<\\x9f\\xde\\xab\\xd7\\xc2\\xdeo\\xa7\\x91\\'o1\\xa4\\xa8\\xdf\\x83\\x14\\x13\\x17\\xf4Z\\xf5\\x182\\xb37\\xd0\\xb2\\xa1=\\xac\\xcc\\x87\\x8d\\x18Q\\x90b\\xa2?\\x9d\\x1f\\x1f\\xf5\\xb4\\xc0q!o2\\xea%\\x88\\xdd\\x978\\xd8\\xbf\\xae\\x8f\\xf0\\xed~\\x8fi\\xaf\\xc6\\xb0\\xd1\\x03\\x81\\x95\\x16\\xc1O2\\x88\\xc2\\x17\\xaf\\x80\\x85\\xe9]r\\x99\\xf7\\x14n\\xb8\\xf8\\r\\x0bC\\xbb\\xa0l\\xff\\x08xf\\xc6\\x13\\x8e{?F\\xf0?GS\\xfe\\xa3\\x8c\\xf2\\xfc]\\x8cl\\xb0\\x0b\\xe9Ms\\xc0\\xfc+\"\\xb8X\\xe7_-\\x9fw\\xb1~;=!\\xaa\\xb8\\x91Y\\xd7A\\xe8\\xa5\\x96q\\xb0\\x0f\\xb6\\xc6\\x1f\\x96\\x83ht\\xdd\\xe2_\\xa6\\xf8\\xc1=\\x16\\xd0L\\x1e\\x07\\xb5\\x18\\xd7\\xa7[\\xa3\\x95\\xb0\\t\\x8d\\xabl!U\\x82\\xe9\\x90\\xa8g\\x87)\\xc5\\xbd\\xec\\xcc\\xb5I\\xb0TD\\x17\\xa5\\xf4\\xf8X\\xdd\\x84VR<\\xfc\\xd7De$\\x1f\\xc6\\xdfI2\\xe2\\xbfN\\xe1\\x0ev\\x04j\\r\\xeeB\\xd7Z9\\xd2\\xee\\xf3\\x98>=Q\\x06\\x91\\x06\\x9f9\\x89\\xcbU\\xa9*\\x8e\\xd0\\xa9\\x0f4\\x90\\xff{+\\xa8\\xcf\\xcd\\xe0\\xde\\xad:\\x83\\xa5\\xaa\\x17\\xb8\\xca]&\\xb0x\\x03\\x0f\\xc7\\xe7\\xd9)F\\xcf\\xe1(\\xd9\\xed\\xb4\\x1b\\xea*\\xaf\\xd3\\xc7\\xc2\\xde\\xd8\\xd2S\\x0c\\xa9C\\x86h\\x9e=\\x03\\xdb\\xc3G\\xc9\\xf9\\x8f\\x83\\xf0\\xaa\\xa2\\x14\\x82\\x1c.cEs6g\\x91&\\x97\\x84\\xef\\x11\\xc3\\xb0Y\\xf2\\x10tI\\x08>D\\x861kM\\xef\\xe3v\\xd1|\\x14n\\xdf\\x8d\\x96\\x85\\xaf\\x80u\\xba\\xc0\\xf4O\\xbeC\\xa99m\\xec\\xe2\\xb1T\\xecz\\xa9\\xc0\\xd9l\\x17\\x8a\\xb3e\\xd6\\xe3g\\x1b\\x1f:%\\xa0\\r\\xd8ur\\x0c?\\xb8\\xd0\\x0c\\xcbB\\xf2t\\xd1{\\xf2e@\\x196\\xce\\xa5p\\x8a\\x87\\x17G]\\x1e\\xa2\\xe0\\x11=\\xd4\\xe1\\r\\x87\\x8f\\xb9\\'Ao\\xb4\\x83\\xf8\\xca\\xcdA\\xe7:\\x15\\x0c\\x1bu\\xc5\\x9c\\xfd\\xd9\\xf0\\xe0\\xefYf\\x9e\\xe7\\x1bV]o1\\x9c\\x0c\\xae\\xe4\\\\\\xb4\\x9c\\x8d\\xf2\\xebji\\xd0\\x1cA\\xd2\"\\xa9R\\xbd\\xbe\\x7f5~v\\x1e\\xa1\\xbf\\x1eF0\\xda\\xb3\\xc6Qo\\xc1O\\x0c\\x15.\\x82\\xf0\\xb5\\xbe$\\xf2\\xe1*\\x1a})\\x04\\x14\\x82\\xee\\xc1\\x9b\\xd1\\x10\\xd8\\xf3\\xeb)~j\\xbb\\x01._\\xab\\x18\\x1e\\t9\\x103\\xef\\'%{\\xf9\\x88\\xcc\\x93%4\\xf8\\xbd\\x1c\\xf7\\x83\\xc71T\\xdb\\xf2\\x1d\\x93\\x84\\xbdXA\\xe3\\x0f\\xe4U\\xa1\\x03t\\x16N\\xa2{\\xeem\\xda18\\xc6L{<\\x1b\\'\\x9dwpo\\xef\\xe8\\x03\\x83\\x04Abiz\\x12\\x96\\xc9\\xb6\\xb0\\x9bg\\xc9\\xe2\\xdb\\x96\\x03\\x8c\\xc0,\\xca*yT\\xb36\\x9b\\xea\\x19\\x0b\\x95\\x16\\x88\\x9e\\xb6\\x14\\x15\\xa4\\xa7r\\xe5\\xb7\\xec\\xa1\\x1f\\xc3\\x8f\\xa0 \\xbf\\x14\\xbaW*c\\x94\\xb04\\x08\\x0c>\\x03\\xbe\\x9b\\xad\\xec\\xbcY\\xc6Dt\\xedg4\\x88\\xf7\\xc4\\x9c\\x92\\n(\\xd9\\x1a\\x04la7<\\xcd\\x91\\x00\\xe3\\xd6\\xb5p`\\xd4\\x0c\\xdf\\x9f\\x9eMW/\\x9c\\x85\\xe1\\xd6\\x9f\\xb1\\xaaA\\x96\\xf8\\x1c\\xfa\\n\\xef\\x8et\\x90\\xc1\\x88+\\x18^?\\x81/tr\\xe8\\xac\\xcb\\xda\\x84\\xd7h3]s\\xe0$\\xd9h\\xac\\x0b\\xb2\\x01\\x02\\xac\\xce\\x91B,\\xd8u\\x19\\xe7\\x0c\\x0bR\\x17\\r\\x05Fq,\\x15:\\xf5\\xaf\\x92\\xcb\\xf9:\\x8c\\x80\\xe8v*\\xf5\\xea2~\\xe9\\xf5\\x02\\xe3\\xab]\\x8c\\xdc\\xd7\\xe3\\xa4^{\\x01v\\n.\\xc5;~\\xc3$\\xd1\\xe31\\x18t\\x0b\\xc0\\x9c\\xa60LS\\x7f\\x01\\x17\\x15V\\xe1&f\\x16;\\xdfD\\x87D\\xef8G\\xc7\\x0b{\\xf1\\xa3\\xa0\\x16\\xe9Z\\x11\\r\\xd2\\x11\\x1a\\xe4S\\xaa\\x16\\xa8\\xbc\\x10\\x05e\\x85 Zw\\xc1\\x86Y\\xa5\\xb2\\x9f&\\xf7>\\x03\\xb0UcD\\xff\\xbarW1\\x97k\\xfa\\xc8GrM\\x7f\\x08\\xbb\\x13\\x96\\xc1DB\\x18\\x06\\x9eq\\xc6\\x8c\\x93rXd\\xfe\\x13\\xe4f/\\xa3\\xf7\\xa3\\x8e\\xb2&\\xe9\\xce\\x90~x\\x98\\x11v\\x08\\x03\\xc9\\x19i\\xc0\\x93\\x1f\\x03\\xd9\\x15\\x9f\\xb0\\xf8\\x855d\\x88\\x12\\xb8\\x1eb\\r\\xd3\\xee0h\\xc5g\\x08\\xd3\\x85\\x1f\\xc0\\xb9\\x97\\xbf9\\xcf\\x82D\\xe0\\xb4G4\\xf5(x\\x87\\x12W\\xb2\\xa1\\xf7\\xc1\\x06<5S\\x14\\x15\"\\x86\\xe9\\xd9\\xa9V\\x8c\\xf2\\xe9\\xbf\\x8c\\xdc\\xa5G\\xccT\\xc2\\x8b\\xf7\\xd6\\xfa\\xd3\\x82\\xc1df\\xd6\\xb5p\\xda\\x94\\xb8\\x85N\\xa4\\x19\\x93S\\xf1V\\xb8Xo3\\x89\\xad\\x99\\x06\\xdd\\x02Sa\\x9e\\x11/Lw=\\xc2iU?\\x0e1\\x01/\\xd1\\x81\\xe7+\\xa8\\xde\\xcc\\xc2\\xec\\xdd\\xa7Hq\\xbe\\x1d\\x9a\\x1e\\xd8\\n\\x0bd\\x8eA\\xf2\\xac r\\xe9\\xdf\\xfdru\\x8f#?\\xe6\\xfab\\xcb\\x9dm\\x18\\xeb\\x99\\x0f7\\x17\\xae\\x03}7)\\xee\\x99\\'\\xc6\\xf0\\xb0\\xaf\\x84L}z\\x9d\\xf4\\xb4e\\xd2\\xc4\\x8cyxd\\xef2fA\\x82\\x18\\xa3\\xb2r\\x98\\xa8/:C\\xafe\\xb5\\xe0\\xc7\\xa8S\\xec\\xb2\\x18[v\\xbe\\xdbtl\\xad\\x9d\\xc2}\\'1\\x0c\\rV\\xfb\\xaa>1\\xc6\\xa8Q\\xb2\\x03}\\xb6:\\xd2\\xa2\\xb9\\xaexg\\xc8\\x99\\xb4\\xaf\\xac\\'%\\xeb\\xc4\\xa0\\x8f\\x91\\x85\\x90\\x05\\xc7\\xd8\\r\\x03\\x8fj\\x16\\x18|\\x82\\x95NJ\\xe4\\xcc\\xd1X \\x0bW@83\\x93\\xd1\\xad\\xbf\\x00\\x8bs_\\xc2\\xa2\\x8c\\x1anV\\xc0k\\\\\\x99&\\x86\\x85j\\x07\\xe1\\xfeP(\\xb9tB\\x85\\x1c\\x98\\xd2\\x81\\x9f\\x8a\\x96\\xe0\\xc9\\xd3I\\xb8\\x97\\x05\\x1a\\xa9=\\x1d4FNB\\xc3\\xceGx\\xc2\\xba\\x19\\x9d\\xcf|\\x80o{\\xcb\\xd8Y{\\x06H\\xc7\\x1e?p\\xdb\\x11\\xc4J\\x19\\xd7B\\xb2\\x93%<\\xfa\\xeeM\\x86\\xac\\xe5I\\xe3\"3\\xe2\\xed\\xe8\\x0c\\xf2\\x91~X\\xdf\\xb3\\rO\\x0b\\x7f\\xc4\\xc7\\xc2e8sZ)\\x1c:y\\x11Z\\xbf\\x94\\xe2\\x8d\\x0cU\\xba@N\\x0c\\x06\\xbe\\xba\\xe1\\xb3\\xf9\\xe2\\xa4\\xcc\\xdf\\r\\xbb~\\xa5\\xd3\\xb4\\xb9o\\xc0\\xa3\\xff$\\xab\\x7f^\\n\\xd9\\xe0\\r\\x90\\xc4\\x91\\xc2\\xabj\\xcfP\\xbf\\xba\\t\\x8b\\x19.\\x96|\\xfbC\\xfclVsSl\\x8c Sd?\\xc9=%M\\x9c\\xd9\\x83\\xac\\xf6\\xed\\xcb,\\xcf\\xba\\xf3\\xf8z\\xb2\\x03\\xe3\\x9e\\x16\\x01\\xd7B\\xb2\\xba\\xeb\\xd2bN\\xa4f\\x1f\\xc8\\xd5g\\x90?\\x7f\\xe28JA\\x91x\\xfcp\\x07\\xd1\\x8b\\xb2&\\x8b\\x9fV\\x03/\\xffyHzt\\x1c\\xf8\\xcdlP}j\\x1b\\xb7\\x7f^\\x16\\x1a\\x98\\xbec\\xa4Gw\\x19\\x17\\x8a~\\xe2\\x9e\\xc3\\x03X\\xfb\\xd4\\x91\\x13\\x19l\\xc5\\xaa^\\xdb\\x83\\xab\\xaf<\\x03\\xd3\\xfc1\\x92\\xb9\\xff$\\xbe={\\x18v/\\xbe\\t\\\\\\xedj\\xd2\\xe9\\x1d\\x886\\x8c9L\\xbf\\xb9\\x04\\xdd\\x8f\\xfe@\\xf7\\x8e\\x15\\x8c\\x86\\xdf&X\\xdfp\\x0e\\xb3\\xa7\\xae\\xc2\\xad\\xc2w1%e\\x15:m\\x9eVc\\xeaP\\x8b\\x1b[gA\\xfa\\xbdi\\xec\\xd25\\xaa\\xec\\x02\\x876XrL\\x14\\x1f\\xb4\\xaa`\\xd7\\x1e}\\xfa\\xa3\\xfd\\x17I8\\xa6\\x06\\xda\\x87\\xca`\\xce=~\\x10\\xd3R\\x85\\xe57Z\\xa8Y\\xad\\n\\xc6\\xaf/\\x04_\\x8dc\\xe4\\xccaC\\xf2f\\x81/\\xf4W\\x8a\\xd2\\xa4\\xbdnX\\x95v\\x0e#\\xbd\\xc6\\xb0\\xfd\\xe0M\\xf2\\xc4\\xd7\\x928\\x1a\\xceA\\xe3\\xdb\\xfdd_\\xb0{\\xcd\\xcc\\xef\\x05\\xdc\\xb4\\x1e>\\xe8\\xbds\\x1c\\xd7\\xf9\\xecGc\\xc5\\\\<\\xb3c\\x17\\xe1\\x18T\\x80\\x8aO0\\x8a\\xbc0Fi\\x99Z*\\'u\\x18\\x9bg\\xce\\x83\\x93k\\xcb\\xf0\\xf1\\x1c^\\xe3\\xcf\\xcf\\x1ak~zz\\xc1\\xe6/\\xbepo\\x83\\x13\\xdd3\\x7f\\t+8\\xaa\\rL\\xc19\\x1a\\x932\\re6\\xacF\\xdb\\xd4\\xe5dCQ/\\xfd\\xf18\\x87\\xe0\\xea!\\xec\"a\\x8c\\xdc\\xb4?\\xe0;\\xa3\\r\\xa6m}\\x856\\x8a\\xe9xc\\xf1\\x1a\\xbaB\\xb5\\x00\\xe6@4\\xee\\xfa\\xfb\\x06\\xacv\\xbe\\x81\\xc9?\\xc2\\xac\\xa4\\x95\\n1\\xfb\\xa2\\xc0mV\\xbe\\x03JE+\\xf0\\x94w\\x00V<\\xb1\\x83\\xb8\\x89\\xf9\\xb0\\xc84\\x04\\xe3\\xb7vC\\xb1\\xcc\\x1d,^_D\\xb7gk\\xc2n\\xd6\\x06\\x8b\\x92\\x05\\xc9\\x99\\xef\\xa1&\\x1a\\x93\\x91\\x98sT\\x92\\x15\\xb7\\xee\\x82\\xdb\\xafX\\xe4;\\xf3\\x93;\\xb8\\xf93\\xf11\\xe7\\xc1ru9\\x92a\\xbb\\x156\\xf5\\xac\\xc7\\xb0E\\xd1\\xe4\\xc3\\x90\\x12\\xa3\\x1a2\\x8f3\\xf9\\x92\\xc1y\\x1b\\x0fq\\x1e\\xbd\\xca\\xc3u}R\\xf4a\\x9d\\x1c\\xc3\\xb9\\xbd\\x1d<\\x1f\\xe6r\\xde\\xae8N.%\\xd6@\\x96r\\x10\\x06;\\\\\\xa49J\\xd3`\\xd0\\xde\\x8b\\xe1\\x0b\\xd9\\r\\xa9F\\x17Y\\x9b\\x03>,\\x8f\\xa55\\x0e/t\\xc2\\xf0\\xf0:R\\xf5Q\\x07\\xb9SM!\\xc2\\xee\\x02\\\\\\x88\\xf7\\xa1\\x0fz\\xef3\\xbcK:\\x19\\xe9\\x8f\\xfb\\x90\\xfcv\\xc5\\x1a\\x07\\x1dvzA\\x1dF\\x9f4\\xa3\\x81)C\\xd5/&\\x1e\\x90\\xcf\\x16\\xadp\\xc1\\xaa\\x8f\\xe5}\\xf0\\nKO\\x04\\xc3\\x1b4\\'\\xc1\\x03_\\xd0Y\\xf2,\\xd1(\\x98\\x8b\\xb9\\x02&\\xf4\\xe6\\r3\\x96gc6F\\xbe\\xb1dx\\xf4\\xe3\\xe9\\xe6\\x89`\\xae\\xc7\\xeaW\\x0co\\xcd!\\xaa-^\\x03\\xabv\\x04\\x80\\xff\\x83\\xeb \\xfd\\xb9\\x0f\\x0f\\x8e\\x84\\x93\\x91\\xc0\\x034g`\\r,\\xd4\\xf0\\x87#>\\xda\\xe0\\xecR\\x8f\\xe7x\\x9f\\xb3\\x02\\x19F\\xf8\\xb4R\\x89\\xbe{9HF\\xdeDanS\\x12\\x8e}\\x8d\\xc2\\xdb\\xd3z\\x91wm-z\\x7f\\xd5\\xe2\\xf0\\xbf\\xdf\\x0c\\x11_D\\xc9u\\xb3\\xfb$s\\x875\\xb7E\\xef<\\n5\\xf3@z$\\x0b\\x9fL\\xab!\\xb5\\xf9-w\\xf0\\xd7;\\xcc<\\x9dIn_\\xce\\x84\\x9e\\xf7\\xbe\\x1c\\x9a\\xa9\\x86K~\\xde\\x81&\\xc3\\x03\\x90\\xb7.\\x12\\x8c;\\xa4I\\xe3\\x02\\x07x\\xbc\\xb3\\x02\\x15\\xec\\xaf\\xe0\\xe2/\\'Q\\xbf\\x9e\\x8b\\xdf\\xbc\\xe3\\xe0\\x85q\\x12\\xbb\\\\k-\\xed:\\xf9\\x00\\xf3L#\\x81\\x8f?\\x1b\\xcb\"\\xadH\\xdb\\xfb\\x08\\xa8\\xe7\\xcd\\x01\\xa5y\\x8aXc1\\x1b{;O\\xb33f{\\xa1\\xd3\\xbc+8U\\xea\\x0e\\xa9\\xcf\\x8b\\xa6\\xfc\\x19_!\\xa6\\xa1\\x92f\\xd5\\xd8p\\xaa\\xde\\x0e\\xa2\\xb8\\n\\x0b\\x1b\\xce\\xb9\\x91&\\x97\\xf3\\x18\\xb9\\xb6\\x19\\xcfo]\\x0b\\'W\\xf1\\xe0\\xec\\x83ax\\xfbU%\\x9c\\x1a\\x9c\\xcb\\x08I\\x16\\xe1R\\xe7NL\\xf8v\\x8e\\xfb\\xbd\\xbf\\x97\\x0c\\xabD\\xd3\\'u{h\\xd4\\xb3Z\\xbc6j\\x8c\\xdb.\\xde\\xa8\\xcen\\\\\\x8d2\\xd7\\x0b\\xd1Aa\\x803ZS\\x0f3\\x07\\xf88E\\xf3\\xfc8O\\xcf\\xa4@\\xe8\\xb3G`\\xbb\\xef\\x0b\\xb9}\\xf67d\\xab\\xbe\\xae\\x99\\x91\\xa1\\x8b:R\\xd9\\xb0eP\\x81f\\xd9=\\x80\\xab\\xea|ps\\xc6AH[\\xdd\\xcd\\xcc\\xb36\\x81P\\xb1\\xc3\\x8c\\xe4\\x94\\x0c\\xb8\\xe2%\\x8b76\\x1e#\\xd3$cA\\xfe\\xc3\\'*\\xa9\\xd1\\xf7\\xcf\\x1bj0\\xe3\\xc4$}\\xedt\\t\"R\\xfd!\\xa0|\\x036u\\r\\xc1S\\xcd\\r\\xcc\\x16\\xcb6\\xc8\\x88|\\r\\x16CS\\xc9\\xebSI \\xa6@!ty\\x10\\xab3\\xbb\\x06\\xdf\\x0f\\x9b\\xf3\\xfc\\xc7\\x7f\\xfc\\xc7\\x7f\\xfc\\xc7\\xff\\xef\\xfc\\x0f\\x95\\xca\\xc0\\r\\xc0N\\x00\\x00'}}"
      ]
     },
     "execution_count": 116,
     "metadata": {},
     "output_type": "execute_result"
    }
   ],
   "source": [
    "ztfalert.alert"
   ]
  },
  {
   "cell_type": "markdown",
   "metadata": {},
   "source": [
    "Which of the quantities provided here (on the side of the cutouts/lightcurve) do you think are most important in determining whether an alert is a real astrophysical transient or not?"
   ]
  },
  {
   "cell_type": "markdown",
   "metadata": {},
   "source": [
    "Having an alert packet dictionary is quite useful in order to filter on certain criteria that we care about. For example, suppose we wanted to see only the photometry that was obtained as a part of the MSIP survey, we could filter on programid:"
   ]
  },
  {
   "cell_type": "code",
   "execution_count": 117,
   "metadata": {},
   "outputs": [
    {
     "data": {
      "text/plain": [
       "dict_keys(['schemavsn', 'publisher', 'objectId', 'candid', 'candidate', 'prv_candidates', 'cutoutScience', 'cutoutTemplate', 'cutoutDifference'])"
      ]
     },
     "execution_count": 117,
     "metadata": {},
     "output_type": "execute_result"
    }
   ],
   "source": [
    "# YOUR CODE HERE\n",
    "ztfalert.alert.keys()"
   ]
  },
  {
   "cell_type": "markdown",
   "metadata": {},
   "source": [
    "For example, calculate the number of alerts from the MSIP data"
   ]
  },
  {
   "cell_type": "code",
   "execution_count": 131,
   "metadata": {},
   "outputs": [
    {
     "data": {
      "text/plain": [
       "28"
      ]
     },
     "execution_count": 131,
     "metadata": {},
     "output_type": "execute_result"
    }
   ],
   "source": [
    "# YOUR CODE HERE\n",
    "len(ztfalert.alert['prv_candidates'])"
   ]
  },
  {
   "cell_type": "markdown",
   "metadata": {},
   "source": [
    "What percentage of alerts were generated from Partnership survey observations? What percentage have a real-bogus value greater than 0.5?"
   ]
  },
  {
   "cell_type": "code",
   "execution_count": 172,
   "metadata": {},
   "outputs": [],
   "source": [
    "alert_dict = ztfalert.alert\n",
    "partnership_alerts = []\n",
    "real_alerts = []\n",
    "for alert in alert_dict['prv_candidates']:\n",
    "    # YOUR CODE HERE\n",
    "    if alert['programid'] == 1:\n",
    "        partnership_alerts.append(alert)\n",
    "    if alert['rb'] != None and alert['rb'] > 0.5:\n",
    "        real_alerts.append(alert)\n",
    "    pass"
   ]
  },
  {
   "cell_type": "code",
   "execution_count": 173,
   "metadata": {},
   "outputs": [
    {
     "data": {
      "text/plain": [
       "[{'jd': 2458464.7433681,\n",
       "  'fid': 1,\n",
       "  'pid': 710243366315,\n",
       "  'diffmaglim': 20.401599884033203,\n",
       "  'pdiffimfilename': '/ztf/archive/sci/2018/1212/243356/ztf_20181212243356_000658_zg_c16_o_q4_scimrefdiffimg.fits.fz',\n",
       "  'programpi': 'Kulkarni',\n",
       "  'programid': 1,\n",
       "  'candid': 710243366315015036,\n",
       "  'isdiffpos': 't',\n",
       "  'tblid': 36,\n",
       "  'nid': 710,\n",
       "  'rcid': 63,\n",
       "  'field': 658,\n",
       "  'xpos': 2455.7900390625,\n",
       "  'ypos': 2934.8798828125,\n",
       "  'ra': 75.2005213,\n",
       "  'dec': 35.3613293,\n",
       "  'magpsf': 19.122499465942383,\n",
       "  'sigmapsf': 0.15693099796772003,\n",
       "  'chipsf': 2.3269500732421875,\n",
       "  'magap': 18.66510009765625,\n",
       "  'sigmagap': 0.06650000065565109,\n",
       "  'distnr': 0.8740450143814087,\n",
       "  'magnr': 16.746999740600586,\n",
       "  'sigmagnr': 0.01600000075995922,\n",
       "  'chinr': 0.4390000104904175,\n",
       "  'sharpnr': -0.03500000014901161,\n",
       "  'sky': -0.4147239923477173,\n",
       "  'magdiff': -0.4574190080165863,\n",
       "  'fwhm': 2.7899999618530273,\n",
       "  'classtar': 0.8429999947547913,\n",
       "  'mindtoedge': 145.625,\n",
       "  'magfromlim': 1.7365000247955322,\n",
       "  'seeratio': 1.262969970703125,\n",
       "  'aimage': 1.4950000047683716,\n",
       "  'bimage': 1.2719999551773071,\n",
       "  'aimagerat': 0.5358420014381409,\n",
       "  'bimagerat': 0.4559139907360077,\n",
       "  'elong': 1.1753100156784058,\n",
       "  'nneg': 1,\n",
       "  'nbad': 0,\n",
       "  'rb': 0.3966670036315918,\n",
       "  'ssdistnr': 15.0,\n",
       "  'ssmagnr': 21.0,\n",
       "  'ssnamenr': '496822',\n",
       "  'sumrat': 1.0,\n",
       "  'magapbig': 18.590900421142578,\n",
       "  'sigmagapbig': 0.07509999722242355,\n",
       "  'ranr': 75.2007678,\n",
       "  'decnr': 35.3614708,\n",
       "  'scorr': 10.8979,\n",
       "  'magzpsci': 26.276500701904297,\n",
       "  'magzpsciunc': 1.1331099813105538e-05,\n",
       "  'magzpscirms': 0.03207220137119293,\n",
       "  'clrcoeff': -0.09714719653129578,\n",
       "  'clrcounc': 1.3177499567973427e-05,\n",
       "  'rbversion': 't12_f5_c3'},\n",
       " {'jd': 2458464.8087847,\n",
       "  'fid': 2,\n",
       "  'pid': 710308786315,\n",
       "  'diffmaglim': 20.40559959411621,\n",
       "  'pdiffimfilename': '/ztf/archive/sci/2018/1212/308773/ztf_20181212308773_000658_zr_c16_o_q4_scimrefdiffimg.fits.fz',\n",
       "  'programpi': 'Kulkarni',\n",
       "  'programid': 1,\n",
       "  'candid': None,\n",
       "  'isdiffpos': None,\n",
       "  'tblid': None,\n",
       "  'nid': 710,\n",
       "  'rcid': 63,\n",
       "  'field': 658,\n",
       "  'xpos': None,\n",
       "  'ypos': None,\n",
       "  'ra': None,\n",
       "  'dec': None,\n",
       "  'magpsf': None,\n",
       "  'sigmapsf': None,\n",
       "  'chipsf': None,\n",
       "  'magap': None,\n",
       "  'sigmagap': None,\n",
       "  'distnr': None,\n",
       "  'magnr': None,\n",
       "  'sigmagnr': None,\n",
       "  'chinr': None,\n",
       "  'sharpnr': None,\n",
       "  'sky': None,\n",
       "  'magdiff': None,\n",
       "  'fwhm': None,\n",
       "  'classtar': None,\n",
       "  'mindtoedge': None,\n",
       "  'magfromlim': None,\n",
       "  'seeratio': None,\n",
       "  'aimage': None,\n",
       "  'bimage': None,\n",
       "  'aimagerat': None,\n",
       "  'bimagerat': None,\n",
       "  'elong': None,\n",
       "  'nneg': None,\n",
       "  'nbad': None,\n",
       "  'rb': None,\n",
       "  'ssdistnr': None,\n",
       "  'ssmagnr': None,\n",
       "  'ssnamenr': None,\n",
       "  'sumrat': None,\n",
       "  'magapbig': None,\n",
       "  'sigmagapbig': None,\n",
       "  'ranr': None,\n",
       "  'decnr': None,\n",
       "  'scorr': None,\n",
       "  'magzpsci': 26.150400161743164,\n",
       "  'magzpsciunc': 3.940509941458004e-06,\n",
       "  'magzpscirms': 0.018985100090503693,\n",
       "  'clrcoeff': 0.1061599999666214,\n",
       "  'clrcounc': 4.607570190273691e-06,\n",
       "  'rbversion': 't12_f5_c3'},\n",
       " {'jd': 2458465.7352662,\n",
       "  'fid': 1,\n",
       "  'pid': 711235266315,\n",
       "  'diffmaglim': 20.264799118041992,\n",
       "  'pdiffimfilename': '/ztf/archive/sci/2018/1213/235266/ztf_20181213235266_000658_zg_c16_o_q4_scimrefdiffimg.fits.fz',\n",
       "  'programpi': 'Kulkarni',\n",
       "  'programid': 1,\n",
       "  'candid': 711235266315015027,\n",
       "  'isdiffpos': 't',\n",
       "  'tblid': 27,\n",
       "  'nid': 711,\n",
       "  'rcid': 63,\n",
       "  'field': 658,\n",
       "  'xpos': 2484.0400390625,\n",
       "  'ypos': 2900.300048828125,\n",
       "  'ra': 75.2003498,\n",
       "  'dec': 35.3612185,\n",
       "  'magpsf': 19.327299118041992,\n",
       "  'sigmapsf': 0.18195100128650665,\n",
       "  'chipsf': 3.6639699935913086,\n",
       "  'magap': 18.76759910583496,\n",
       "  'sigmagap': 0.0723000019788742,\n",
       "  'distnr': 1.5080699920654297,\n",
       "  'magnr': 16.746999740600586,\n",
       "  'sigmagnr': 0.01600000075995922,\n",
       "  'chinr': 0.4390000104904175,\n",
       "  'sharpnr': -0.03500000014901161,\n",
       "  'sky': -0.29673901200294495,\n",
       "  'magdiff': -0.559689998626709,\n",
       "  'fwhm': 2.3399999141693115,\n",
       "  'classtar': 0.7170000076293945,\n",
       "  'mindtoedge': 180.20399475097656,\n",
       "  'magfromlim': 1.497189998626709,\n",
       "  'seeratio': 1.7089200019836426,\n",
       "  'aimage': 1.7890000343322754,\n",
       "  'bimage': 1.5099999904632568,\n",
       "  'aimagerat': 0.7645300030708313,\n",
       "  'bimagerat': 0.6452990174293518,\n",
       "  'elong': 1.1847699880599976,\n",
       "  'nneg': 4,\n",
       "  'nbad': 0,\n",
       "  'rb': 0.36000001430511475,\n",
       "  'ssdistnr': None,\n",
       "  'ssmagnr': None,\n",
       "  'ssnamenr': None,\n",
       "  'sumrat': 0.8946229815483093,\n",
       "  'magapbig': 18.747900009155273,\n",
       "  'sigmagapbig': 0.08609999716281891,\n",
       "  'ranr': 75.2007678,\n",
       "  'decnr': 35.3614708,\n",
       "  'scorr': 8.9567,\n",
       "  'magzpsci': 26.318300247192383,\n",
       "  'magzpsciunc': 1.3844800378137734e-05,\n",
       "  'magzpscirms': 0.03554010018706322,\n",
       "  'clrcoeff': -0.1105860024690628,\n",
       "  'clrcounc': 1.6152000171132386e-05,\n",
       "  'rbversion': 't12_f5_c3'},\n",
       " {'jd': 2458465.7594676,\n",
       "  'fid': 2,\n",
       "  'pid': 711259466315,\n",
       "  'diffmaglim': 20.211999893188477,\n",
       "  'pdiffimfilename': '/ztf/archive/sci/2018/1213/259456/ztf_20181213259456_000658_zr_c16_o_q4_scimrefdiffimg.fits.fz',\n",
       "  'programpi': 'Kulkarni',\n",
       "  'programid': 1,\n",
       "  'candid': None,\n",
       "  'isdiffpos': None,\n",
       "  'tblid': None,\n",
       "  'nid': 711,\n",
       "  'rcid': 63,\n",
       "  'field': 658,\n",
       "  'xpos': None,\n",
       "  'ypos': None,\n",
       "  'ra': None,\n",
       "  'dec': None,\n",
       "  'magpsf': None,\n",
       "  'sigmapsf': None,\n",
       "  'chipsf': None,\n",
       "  'magap': None,\n",
       "  'sigmagap': None,\n",
       "  'distnr': None,\n",
       "  'magnr': None,\n",
       "  'sigmagnr': None,\n",
       "  'chinr': None,\n",
       "  'sharpnr': None,\n",
       "  'sky': None,\n",
       "  'magdiff': None,\n",
       "  'fwhm': None,\n",
       "  'classtar': None,\n",
       "  'mindtoedge': None,\n",
       "  'magfromlim': None,\n",
       "  'seeratio': None,\n",
       "  'aimage': None,\n",
       "  'bimage': None,\n",
       "  'aimagerat': None,\n",
       "  'bimagerat': None,\n",
       "  'elong': None,\n",
       "  'nneg': None,\n",
       "  'nbad': None,\n",
       "  'rb': None,\n",
       "  'ssdistnr': None,\n",
       "  'ssmagnr': None,\n",
       "  'ssnamenr': None,\n",
       "  'sumrat': None,\n",
       "  'magapbig': None,\n",
       "  'sigmagapbig': None,\n",
       "  'ranr': None,\n",
       "  'decnr': None,\n",
       "  'scorr': None,\n",
       "  'magzpsci': 26.17930030822754,\n",
       "  'magzpsciunc': 4.065990196977509e-06,\n",
       "  'magzpscirms': 0.019159600138664246,\n",
       "  'clrcoeff': 0.08313559740781784,\n",
       "  'clrcounc': 4.752000222651986e-06,\n",
       "  'rbversion': 't12_f5_c3'},\n",
       " {'jd': 2458466.8000347,\n",
       "  'fid': 1,\n",
       "  'pid': 712300036315,\n",
       "  'diffmaglim': 20.067899703979492,\n",
       "  'pdiffimfilename': '/ztf/archive/sci/2018/1214/299954/ztf_20181214299954_000658_zg_c16_o_q4_scimrefdiffimg.fits.fz',\n",
       "  'programpi': 'Kulkarni',\n",
       "  'programid': 1,\n",
       "  'candid': 712300036315015015,\n",
       "  'isdiffpos': 't',\n",
       "  'tblid': 15,\n",
       "  'nid': 712,\n",
       "  'rcid': 63,\n",
       "  'field': 658,\n",
       "  'xpos': 2488.5400390625,\n",
       "  'ypos': 2928.1298828125,\n",
       "  'ra': 75.2005575,\n",
       "  'dec': 35.3614176,\n",
       "  'magpsf': 19.027799606323242,\n",
       "  'sigmapsf': 0.18181900680065155,\n",
       "  'chipsf': 3.0431699752807617,\n",
       "  'magap': 18.751699447631836,\n",
       "  'sigmagap': 0.1315000057220459,\n",
       "  'distnr': 0.6384249925613403,\n",
       "  'magnr': 16.746999740600586,\n",
       "  'sigmagnr': 0.01600000075995922,\n",
       "  'chinr': 0.4390000104904175,\n",
       "  'sharpnr': -0.03500000014901161,\n",
       "  'sky': -0.06775899976491928,\n",
       "  'magdiff': -0.2761090099811554,\n",
       "  'fwhm': 2.3499999046325684,\n",
       "  'classtar': 0.8479999899864197,\n",
       "  'mindtoedge': 152.37100219726562,\n",
       "  'magfromlim': 1.316249966621399,\n",
       "  'seeratio': 1.0212600231170654,\n",
       "  'aimage': 0.7490000128746033,\n",
       "  'bimage': 0.5460000038146973,\n",
       "  'aimagerat': 0.31872299313545227,\n",
       "  'bimagerat': 0.2323399931192398,\n",
       "  'elong': 1.3717999458312988,\n",
       "  'nneg': 5,\n",
       "  'nbad': 0,\n",
       "  'rb': 0.5466669797897339,\n",
       "  'ssdistnr': None,\n",
       "  'ssmagnr': None,\n",
       "  'ssnamenr': None,\n",
       "  'sumrat': 0.9575620293617249,\n",
       "  'magapbig': 18.680400848388672,\n",
       "  'sigmagapbig': 0.15330000221729279,\n",
       "  'ranr': 75.2007678,\n",
       "  'decnr': 35.3614708,\n",
       "  'scorr': 5.52437,\n",
       "  'magzpsci': 25.635799407958984,\n",
       "  'magzpsciunc': 1.1772700418077875e-05,\n",
       "  'magzpscirms': 0.03299269825220108,\n",
       "  'clrcoeff': -0.043134499341249466,\n",
       "  'clrcounc': 1.3806699826091062e-05,\n",
       "  'rbversion': 't12_f5_c3'},\n",
       " {'jd': 2458466.8188542,\n",
       "  'fid': 2,\n",
       "  'pid': 712318856315,\n",
       "  'diffmaglim': 19.677799224853516,\n",
       "  'pdiffimfilename': '/ztf/archive/sci/2018/1214/318738/ztf_20181214318738_000658_zr_c16_o_q4_scimrefdiffimg.fits.fz',\n",
       "  'programpi': 'Kulkarni',\n",
       "  'programid': 1,\n",
       "  'candid': None,\n",
       "  'isdiffpos': None,\n",
       "  'tblid': None,\n",
       "  'nid': 712,\n",
       "  'rcid': 63,\n",
       "  'field': 658,\n",
       "  'xpos': None,\n",
       "  'ypos': None,\n",
       "  'ra': None,\n",
       "  'dec': None,\n",
       "  'magpsf': None,\n",
       "  'sigmapsf': None,\n",
       "  'chipsf': None,\n",
       "  'magap': None,\n",
       "  'sigmagap': None,\n",
       "  'distnr': None,\n",
       "  'magnr': None,\n",
       "  'sigmagnr': None,\n",
       "  'chinr': None,\n",
       "  'sharpnr': None,\n",
       "  'sky': None,\n",
       "  'magdiff': None,\n",
       "  'fwhm': None,\n",
       "  'classtar': None,\n",
       "  'mindtoedge': None,\n",
       "  'magfromlim': None,\n",
       "  'seeratio': None,\n",
       "  'aimage': None,\n",
       "  'bimage': None,\n",
       "  'aimagerat': None,\n",
       "  'bimagerat': None,\n",
       "  'elong': None,\n",
       "  'nneg': None,\n",
       "  'nbad': None,\n",
       "  'rb': None,\n",
       "  'ssdistnr': None,\n",
       "  'ssmagnr': None,\n",
       "  'ssnamenr': None,\n",
       "  'sumrat': None,\n",
       "  'magapbig': None,\n",
       "  'sigmagapbig': None,\n",
       "  'ranr': None,\n",
       "  'decnr': None,\n",
       "  'scorr': None,\n",
       "  'magzpsci': 25.61050033569336,\n",
       "  'magzpsciunc': 6.175599992275238e-06,\n",
       "  'magzpscirms': 0.02367899939417839,\n",
       "  'clrcoeff': 0.09718719869852066,\n",
       "  'clrcounc': 7.214120159915183e-06,\n",
       "  'rbversion': 't12_f5_c3'},\n",
       " {'jd': 2458468.7839699,\n",
       "  'fid': 2,\n",
       "  'pid': 714283966315,\n",
       "  'diffmaglim': 20.41230010986328,\n",
       "  'pdiffimfilename': '/ztf/archive/sci/2018/1216/283785/ztf_20181216283785_000658_zr_c16_o_q4_scimrefdiffimg.fits.fz',\n",
       "  'programpi': 'Kulkarni',\n",
       "  'programid': 1,\n",
       "  'candid': None,\n",
       "  'isdiffpos': None,\n",
       "  'tblid': None,\n",
       "  'nid': 714,\n",
       "  'rcid': 63,\n",
       "  'field': 658,\n",
       "  'xpos': None,\n",
       "  'ypos': None,\n",
       "  'ra': None,\n",
       "  'dec': None,\n",
       "  'magpsf': None,\n",
       "  'sigmapsf': None,\n",
       "  'chipsf': None,\n",
       "  'magap': None,\n",
       "  'sigmagap': None,\n",
       "  'distnr': None,\n",
       "  'magnr': None,\n",
       "  'sigmagnr': None,\n",
       "  'chinr': None,\n",
       "  'sharpnr': None,\n",
       "  'sky': None,\n",
       "  'magdiff': None,\n",
       "  'fwhm': None,\n",
       "  'classtar': None,\n",
       "  'mindtoedge': None,\n",
       "  'magfromlim': None,\n",
       "  'seeratio': None,\n",
       "  'aimage': None,\n",
       "  'bimage': None,\n",
       "  'aimagerat': None,\n",
       "  'bimagerat': None,\n",
       "  'elong': None,\n",
       "  'nneg': None,\n",
       "  'nbad': None,\n",
       "  'rb': None,\n",
       "  'ssdistnr': None,\n",
       "  'ssmagnr': None,\n",
       "  'ssnamenr': None,\n",
       "  'sumrat': None,\n",
       "  'magapbig': None,\n",
       "  'sigmagapbig': None,\n",
       "  'ranr': None,\n",
       "  'decnr': None,\n",
       "  'scorr': None,\n",
       "  'magzpsci': 26.173500061035156,\n",
       "  'magzpsciunc': 3.73800003217184e-06,\n",
       "  'magzpscirms': 0.018409699201583862,\n",
       "  'clrcoeff': 0.09262599796056747,\n",
       "  'clrcounc': 4.363610059954226e-06,\n",
       "  'rbversion': 't12_f5_c3'},\n",
       " {'jd': 2458469.6793519,\n",
       "  'fid': 1,\n",
       "  'pid': 715179356315,\n",
       "  'diffmaglim': 20.280799865722656,\n",
       "  'pdiffimfilename': '/ztf/archive/sci/2018/1217/179340/ztf_20181217179340_000658_zg_c16_o_q4_scimrefdiffimg.fits.fz',\n",
       "  'programpi': 'Kulkarni',\n",
       "  'programid': 1,\n",
       "  'candid': None,\n",
       "  'isdiffpos': None,\n",
       "  'tblid': None,\n",
       "  'nid': 715,\n",
       "  'rcid': 63,\n",
       "  'field': 658,\n",
       "  'xpos': None,\n",
       "  'ypos': None,\n",
       "  'ra': None,\n",
       "  'dec': None,\n",
       "  'magpsf': None,\n",
       "  'sigmapsf': None,\n",
       "  'chipsf': None,\n",
       "  'magap': None,\n",
       "  'sigmagap': None,\n",
       "  'distnr': None,\n",
       "  'magnr': None,\n",
       "  'sigmagnr': None,\n",
       "  'chinr': None,\n",
       "  'sharpnr': None,\n",
       "  'sky': None,\n",
       "  'magdiff': None,\n",
       "  'fwhm': None,\n",
       "  'classtar': None,\n",
       "  'mindtoedge': None,\n",
       "  'magfromlim': None,\n",
       "  'seeratio': None,\n",
       "  'aimage': None,\n",
       "  'bimage': None,\n",
       "  'aimagerat': None,\n",
       "  'bimagerat': None,\n",
       "  'elong': None,\n",
       "  'nneg': None,\n",
       "  'nbad': None,\n",
       "  'rb': None,\n",
       "  'ssdistnr': None,\n",
       "  'ssmagnr': None,\n",
       "  'ssnamenr': None,\n",
       "  'sumrat': None,\n",
       "  'magapbig': None,\n",
       "  'sigmagapbig': None,\n",
       "  'ranr': None,\n",
       "  'decnr': None,\n",
       "  'scorr': None,\n",
       "  'magzpsci': 26.21980094909668,\n",
       "  'magzpsciunc': 9.16126009542495e-06,\n",
       "  'magzpscirms': 0.029184799641370773,\n",
       "  'clrcoeff': -0.054421499371528625,\n",
       "  'clrcounc': 1.0673699762264732e-05,\n",
       "  'rbversion': 't12_f5_c3'},\n",
       " {'jd': 2458471.7562847,\n",
       "  'fid': 2,\n",
       "  'pid': 717256286315,\n",
       "  'diffmaglim': 18.88089942932129,\n",
       "  'pdiffimfilename': '/ztf/archive/sci/2018/1219/256273/ztf_20181219256273_000658_zr_c16_o_q4_scimrefdiffimg.fits.fz',\n",
       "  'programpi': 'Kulkarni',\n",
       "  'programid': 1,\n",
       "  'candid': 717256286315010021,\n",
       "  'isdiffpos': 'f',\n",
       "  'tblid': 21,\n",
       "  'nid': 717,\n",
       "  'rcid': 63,\n",
       "  'field': 658,\n",
       "  'xpos': 2491.110107421875,\n",
       "  'ypos': 2914.949951171875,\n",
       "  'ra': 75.2008108,\n",
       "  'dec': 35.3613921,\n",
       "  'magpsf': 16.39620018005371,\n",
       "  'sigmapsf': 0.08995500206947327,\n",
       "  'chipsf': 19.18950080871582,\n",
       "  'magap': 16.212600708007812,\n",
       "  'sigmagap': 0.03370000049471855,\n",
       "  'distnr': 0.3072949945926666,\n",
       "  'magnr': 14.319000244140625,\n",
       "  'sigmagnr': 0.01600000075995922,\n",
       "  'chinr': 0.7440000176429749,\n",
       "  'sharpnr': 0.04699999839067459,\n",
       "  'sky': -7.308690071105957,\n",
       "  'magdiff': -0.18356600403785706,\n",
       "  'fwhm': 1.332170009613037,\n",
       "  'classtar': 0.9980000257492065,\n",
       "  'mindtoedge': 165.5469970703125,\n",
       "  'magfromlim': 2.668339967727661,\n",
       "  'seeratio': 2.0,\n",
       "  'aimage': 1.0140000581741333,\n",
       "  'bimage': 0.9739999771118164,\n",
       "  'aimagerat': 0.7611640095710754,\n",
       "  'bimagerat': 0.7311379909515381,\n",
       "  'elong': 1.0410699844360352,\n",
       "  'nneg': 0,\n",
       "  'nbad': 0,\n",
       "  'rb': 0.6733329892158508,\n",
       "  'ssdistnr': None,\n",
       "  'ssmagnr': None,\n",
       "  'ssnamenr': None,\n",
       "  'sumrat': 1.0,\n",
       "  'magapbig': 16.20359992980957,\n",
       "  'sigmagapbig': 0.04170000180602074,\n",
       "  'ranr': 75.2007661,\n",
       "  'decnr': 35.3614709,\n",
       "  'scorr': 9.92211,\n",
       "  'magzpsci': 25.80820083618164,\n",
       "  'magzpsciunc': 1.5606699889758602e-05,\n",
       "  'magzpscirms': 0.03772670030593872,\n",
       "  'clrcoeff': 0.10134200006723404,\n",
       "  'clrcounc': 1.8175100194639526e-05,\n",
       "  'rbversion': 't12_f5_c3'},\n",
       " {'jd': 2458472.7447454,\n",
       "  'fid': 1,\n",
       "  'pid': 718244746315,\n",
       "  'diffmaglim': 19.59749984741211,\n",
       "  'pdiffimfilename': '/ztf/archive/sci/2018/1220/244688/ztf_20181220244688_000658_zg_c16_o_q4_scimrefdiffimg.fits.fz',\n",
       "  'programpi': 'Kulkarni',\n",
       "  'programid': 1,\n",
       "  'candid': None,\n",
       "  'isdiffpos': None,\n",
       "  'tblid': None,\n",
       "  'nid': 718,\n",
       "  'rcid': 63,\n",
       "  'field': 658,\n",
       "  'xpos': None,\n",
       "  'ypos': None,\n",
       "  'ra': None,\n",
       "  'dec': None,\n",
       "  'magpsf': None,\n",
       "  'sigmapsf': None,\n",
       "  'chipsf': None,\n",
       "  'magap': None,\n",
       "  'sigmagap': None,\n",
       "  'distnr': None,\n",
       "  'magnr': None,\n",
       "  'sigmagnr': None,\n",
       "  'chinr': None,\n",
       "  'sharpnr': None,\n",
       "  'sky': None,\n",
       "  'magdiff': None,\n",
       "  'fwhm': None,\n",
       "  'classtar': None,\n",
       "  'mindtoedge': None,\n",
       "  'magfromlim': None,\n",
       "  'seeratio': None,\n",
       "  'aimage': None,\n",
       "  'bimage': None,\n",
       "  'aimagerat': None,\n",
       "  'bimagerat': None,\n",
       "  'elong': None,\n",
       "  'nneg': None,\n",
       "  'nbad': None,\n",
       "  'rb': None,\n",
       "  'ssdistnr': None,\n",
       "  'ssmagnr': None,\n",
       "  'ssnamenr': None,\n",
       "  'sumrat': None,\n",
       "  'magapbig': None,\n",
       "  'sigmagapbig': None,\n",
       "  'ranr': None,\n",
       "  'decnr': None,\n",
       "  'scorr': None,\n",
       "  'magzpsci': 26.258499145507812,\n",
       "  'magzpsciunc': 1.8713000827119686e-05,\n",
       "  'magzpscirms': 0.040821000933647156,\n",
       "  'clrcoeff': -0.04120130091905594,\n",
       "  'clrcounc': 2.203330041083973e-05,\n",
       "  'rbversion': 't12_f5_c3'},\n",
       " {'jd': 2458472.7760995,\n",
       "  'fid': 2,\n",
       "  'pid': 718276096315,\n",
       "  'diffmaglim': 19.768400192260742,\n",
       "  'pdiffimfilename': '/ztf/archive/sci/2018/1220/276065/ztf_20181220276065_000658_zr_c16_o_q4_scimrefdiffimg.fits.fz',\n",
       "  'programpi': 'Kulkarni',\n",
       "  'programid': 1,\n",
       "  'candid': 718276096315010001,\n",
       "  'isdiffpos': 'f',\n",
       "  'tblid': 1,\n",
       "  'nid': 718,\n",
       "  'rcid': 63,\n",
       "  'field': 658,\n",
       "  'xpos': 2475.659912109375,\n",
       "  'ypos': 2881.070068359375,\n",
       "  'ra': 75.2007895,\n",
       "  'dec': 35.3613651,\n",
       "  'magpsf': 16.304000854492188,\n",
       "  'sigmapsf': 0.072782002389431,\n",
       "  'chipsf': 98.0071029663086,\n",
       "  'magap': 16.136600494384766,\n",
       "  'sigmagap': 0.017400000244379044,\n",
       "  'distnr': 0.3817960023880005,\n",
       "  'magnr': 14.319000244140625,\n",
       "  'sigmagnr': 0.01600000075995922,\n",
       "  'chinr': 0.7440000176429749,\n",
       "  'sharpnr': 0.04699999839067459,\n",
       "  'sky': -1.0609999895095825,\n",
       "  'magdiff': -0.16744400560855865,\n",
       "  'fwhm': 7.070000171661377,\n",
       "  'classtar': 0.9800000190734863,\n",
       "  'mindtoedge': 199.4290008544922,\n",
       "  'magfromlim': 3.6318399906158447,\n",
       "  'seeratio': 0.3431589901447296,\n",
       "  'aimage': 1.1610000133514404,\n",
       "  'bimage': 1.0420000553131104,\n",
       "  'aimagerat': 0.16421499848365784,\n",
       "  'bimagerat': 0.14738300442695618,\n",
       "  'elong': 1.1141999959945679,\n",
       "  'nneg': 0,\n",
       "  'nbad': 0,\n",
       "  'rb': 0.5600000023841858,\n",
       "  'ssdistnr': None,\n",
       "  'ssmagnr': None,\n",
       "  'ssnamenr': None,\n",
       "  'sumrat': 1.0,\n",
       "  'magapbig': 16.1018009185791,\n",
       "  'sigmagapbig': 0.02019999921321869,\n",
       "  'ranr': 75.2007661,\n",
       "  'decnr': 35.3614709,\n",
       "  'scorr': 9.65259,\n",
       "  'magzpsci': 26.18199920654297,\n",
       "  'magzpsciunc': 6.932929863978643e-06,\n",
       "  'magzpscirms': 0.025093000382184982,\n",
       "  'clrcoeff': 0.09686709940433502,\n",
       "  'clrcounc': 8.085479748842772e-06,\n",
       "  'rbversion': 't12_f5_c3'},\n",
       " {'jd': 2458476.0065162,\n",
       "  'fid': 1,\n",
       "  'pid': 721506516315,\n",
       "  'diffmaglim': 18.493200302124023,\n",
       "  'pdiffimfilename': '/ztf/archive/sci/2018/1223/506377/ztf_20181223506377_000658_zg_c16_o_q4_scimrefdiffimg.fits.fz',\n",
       "  'programpi': 'Kulkarni',\n",
       "  'programid': 1,\n",
       "  'candid': 721506516315010008,\n",
       "  'isdiffpos': 'f',\n",
       "  'tblid': 8,\n",
       "  'nid': 721,\n",
       "  'rcid': 63,\n",
       "  'field': 658,\n",
       "  'xpos': 2454.0400390625,\n",
       "  'ypos': 2865.030029296875,\n",
       "  'ra': 75.200933,\n",
       "  'dec': 35.3614062,\n",
       "  'magpsf': 18.311399459838867,\n",
       "  'sigmapsf': 0.14271199703216553,\n",
       "  'chipsf': 1.2425099611282349,\n",
       "  'magap': 18.45680046081543,\n",
       "  'sigmagap': 0.31060001254081726,\n",
       "  'distnr': 0.5224440097808838,\n",
       "  'magnr': 16.746999740600586,\n",
       "  'sigmagnr': 0.01600000075995922,\n",
       "  'chinr': 0.4390000104904175,\n",
       "  'sharpnr': -0.03500000014901161,\n",
       "  'sky': -2.3708300590515137,\n",
       "  'magdiff': 0.1454389989376068,\n",
       "  'fwhm': 1.510990023612976,\n",
       "  'classtar': 0.984000027179718,\n",
       "  'mindtoedge': 215.46499633789062,\n",
       "  'magfromlim': 0.036371998488903046,\n",
       "  'seeratio': 2.0,\n",
       "  'aimage': 0.8650000095367432,\n",
       "  'bimage': 0.7080000042915344,\n",
       "  'aimagerat': 0.5724740028381348,\n",
       "  'bimagerat': 0.46856799721717834,\n",
       "  'elong': 1.221750020980835,\n",
       "  'nneg': 6,\n",
       "  'nbad': 0,\n",
       "  'rb': 0.6866670250892639,\n",
       "  'ssdistnr': None,\n",
       "  'ssmagnr': None,\n",
       "  'ssnamenr': None,\n",
       "  'sumrat': 0.9799730181694031,\n",
       "  'magapbig': 18.652000427246094,\n",
       "  'sigmagapbig': 0.4771000146865845,\n",
       "  'ranr': 75.2007678,\n",
       "  'decnr': 35.3614708,\n",
       "  'scorr': 6.77427,\n",
       "  'magzpsci': 26.056400299072266,\n",
       "  'magzpsciunc': 6.137350283097476e-05,\n",
       "  'magzpscirms': 0.048471301794052124,\n",
       "  'clrcoeff': -0.03710639849305153,\n",
       "  'clrcounc': 7.877970347180963e-05,\n",
       "  'rbversion': 't12_f5_c3'},\n",
       " {'jd': 2458476.7992361,\n",
       "  'fid': 2,\n",
       "  'pid': 722299236315,\n",
       "  'diffmaglim': 19.758800506591797,\n",
       "  'pdiffimfilename': '/ztf/archive/sci/2018/1224/299109/ztf_20181224299109_000658_zr_c16_o_q4_scimrefdiffimg.fits.fz',\n",
       "  'programpi': 'Kulkarni',\n",
       "  'programid': 1,\n",
       "  'candid': 722299236315010004,\n",
       "  'isdiffpos': 'f',\n",
       "  'tblid': 4,\n",
       "  'nid': 722,\n",
       "  'rcid': 63,\n",
       "  'field': 658,\n",
       "  'xpos': 2472.110107421875,\n",
       "  'ypos': 2941.830078125,\n",
       "  'ra': 75.2007884,\n",
       "  'dec': 35.3613781,\n",
       "  'magpsf': 15.71030044555664,\n",
       "  'sigmapsf': 0.07040899991989136,\n",
       "  'chipsf': 103.40899658203125,\n",
       "  'magap': 15.623000144958496,\n",
       "  'sigmagap': 0.010999999940395355,\n",
       "  'distnr': 0.34183600544929504,\n",
       "  'magnr': 14.319000244140625,\n",
       "  'sigmagnr': 0.01600000075995922,\n",
       "  'chinr': 0.7440000176429749,\n",
       "  'sharpnr': 0.04699999839067459,\n",
       "  'sky': 0.7067189812660217,\n",
       "  'magdiff': -0.08734700083732605,\n",
       "  'fwhm': 4.619999885559082,\n",
       "  'classtar': 1.0,\n",
       "  'mindtoedge': 138.67300415039062,\n",
       "  'magfromlim': 4.135799884796143,\n",
       "  'seeratio': 0.5189020037651062,\n",
       "  'aimage': 0.8539999723434448,\n",
       "  'bimage': 0.8330000042915344,\n",
       "  'aimagerat': 0.18484799563884735,\n",
       "  'bimagerat': 0.18030300736427307,\n",
       "  'elong': 1.0252100229263306,\n",
       "  'nneg': 0,\n",
       "  'nbad': 0,\n",
       "  'rb': 0.7566670179367065,\n",
       "  'ssdistnr': None,\n",
       "  'ssmagnr': None,\n",
       "  'ssnamenr': None,\n",
       "  'sumrat': 1.0,\n",
       "  'magapbig': 15.624300003051758,\n",
       "  'sigmagapbig': 0.013199999928474426,\n",
       "  'ranr': 75.2007661,\n",
       "  'decnr': 35.3614709,\n",
       "  'scorr': 36.9074,\n",
       "  'magzpsci': 26.16830062866211,\n",
       "  'magzpsciunc': 5.59603995498037e-06,\n",
       "  'magzpscirms': 0.022677000612020493,\n",
       "  'clrcoeff': 0.10219399631023407,\n",
       "  'clrcounc': 6.528759968205122e-06,\n",
       "  'rbversion': 't12_f5_c3'},\n",
       " {'jd': 2458480.8017245,\n",
       "  'fid': 2,\n",
       "  'pid': 726301726315,\n",
       "  'diffmaglim': 20.041500091552734,\n",
       "  'pdiffimfilename': '/ztf/archive/sci/2018/1228/301725/ztf_20181228301725_000658_zr_c16_o_q4_scimrefdiffimg.fits.fz',\n",
       "  'programpi': 'Kulkarni',\n",
       "  'programid': 1,\n",
       "  'candid': 726301726315010007,\n",
       "  'isdiffpos': 'f',\n",
       "  'tblid': 7,\n",
       "  'nid': 726,\n",
       "  'rcid': 63,\n",
       "  'field': 658,\n",
       "  'xpos': 2462.669921875,\n",
       "  'ypos': 2954.43994140625,\n",
       "  'ra': 75.200766,\n",
       "  'dec': 35.3614129,\n",
       "  'magpsf': 15.41469955444336,\n",
       "  'sigmapsf': 0.04314500093460083,\n",
       "  'chipsf': 104.4010009765625,\n",
       "  'magap': 15.35949993133545,\n",
       "  'sigmagap': 0.006599999964237213,\n",
       "  'distnr': 0.20615899562835693,\n",
       "  'magnr': 14.319000244140625,\n",
       "  'sigmagnr': 0.01600000075995922,\n",
       "  'chinr': 0.7440000176429749,\n",
       "  'sharpnr': 0.04699999839067459,\n",
       "  'sky': 1.196079969406128,\n",
       "  'magdiff': -0.05521000176668167,\n",
       "  'fwhm': 5.110000133514404,\n",
       "  'classtar': 1.0,\n",
       "  'mindtoedge': 126.06400299072266,\n",
       "  'magfromlim': 4.682010173797607,\n",
       "  'seeratio': 0.6075230240821838,\n",
       "  'aimage': 1.0989999771118164,\n",
       "  'bimage': 1.069000005722046,\n",
       "  'aimagerat': 0.2150679975748062,\n",
       "  'bimagerat': 0.209197998046875,\n",
       "  'elong': 1.028059959411621,\n",
       "  'nneg': 0,\n",
       "  'nbad': 0,\n",
       "  'rb': 0.7433329820632935,\n",
       "  'ssdistnr': None,\n",
       "  'ssmagnr': None,\n",
       "  'ssnamenr': None,\n",
       "  'sumrat': 1.0,\n",
       "  'magapbig': 15.346599578857422,\n",
       "  'sigmagapbig': 0.007400000002235174,\n",
       "  'ranr': 75.2007661,\n",
       "  'decnr': 35.3614709,\n",
       "  'scorr': 61.887,\n",
       "  'magzpsci': 26.139699935913086,\n",
       "  'magzpsciunc': 5.2400400818441994e-06,\n",
       "  'magzpscirms': 0.0217886995524168,\n",
       "  'clrcoeff': 0.09752260148525238,\n",
       "  'clrcounc': 6.118780220276676e-06,\n",
       "  'rbversion': 't12_f5_c3'},\n",
       " {'jd': 2458481.8214468,\n",
       "  'fid': 2,\n",
       "  'pid': 727321446315,\n",
       "  'diffmaglim': 20.198999404907227,\n",
       "  'pdiffimfilename': '/ztf/archive/sci/2018/1229/321447/ztf_20181229321447_000658_zr_c16_o_q4_scimrefdiffimg.fits.fz',\n",
       "  'programpi': 'Kulkarni',\n",
       "  'programid': 1,\n",
       "  'candid': 727321446315010004,\n",
       "  'isdiffpos': 'f',\n",
       "  'tblid': 4,\n",
       "  'nid': 727,\n",
       "  'rcid': 63,\n",
       "  'field': 658,\n",
       "  'xpos': 2458.090087890625,\n",
       "  'ypos': 2955.860107421875,\n",
       "  'ra': 75.2007861,\n",
       "  'dec': 35.3614323,\n",
       "  'magpsf': 15.359000205993652,\n",
       "  'sigmapsf': 0.04518299922347069,\n",
       "  'chipsf': 73.64320373535156,\n",
       "  'magap': 15.30739974975586,\n",
       "  'sigmagap': 0.006099999882280827,\n",
       "  'distnr': 0.1559160053730011,\n",
       "  'magnr': 14.319000244140625,\n",
       "  'sigmagnr': 0.01600000075995922,\n",
       "  'chinr': 0.7440000176429749,\n",
       "  'sharpnr': 0.04699999839067459,\n",
       "  'sky': 0.7390589714050293,\n",
       "  'magdiff': -0.051642999053001404,\n",
       "  'fwhm': 4.150000095367432,\n",
       "  'classtar': 0.996999979019165,\n",
       "  'mindtoedge': 124.63800048828125,\n",
       "  'magfromlim': 4.891550064086914,\n",
       "  'seeratio': 0.699416995048523,\n",
       "  'aimage': 1.0,\n",
       "  'bimage': 0.9549999833106995,\n",
       "  'aimagerat': 0.24096399545669556,\n",
       "  'bimagerat': 0.2301200032234192,\n",
       "  'elong': 1.0471199750900269,\n",
       "  'nneg': 0,\n",
       "  'nbad': 0,\n",
       "  'rb': 0.7699999809265137,\n",
       "  'ssdistnr': None,\n",
       "  'ssmagnr': None,\n",
       "  'ssnamenr': None,\n",
       "  'sumrat': 1.0,\n",
       "  'magapbig': 15.302200317382812,\n",
       "  'sigmagapbig': 0.006800000090152025,\n",
       "  'ranr': 75.2007661,\n",
       "  'decnr': 35.3614709,\n",
       "  'scorr': 48.8836,\n",
       "  'magzpsci': 26.14699935913086,\n",
       "  'magzpsciunc': 4.875089871347882e-06,\n",
       "  'magzpscirms': 0.02101290039718151,\n",
       "  'clrcoeff': 0.10136599838733673,\n",
       "  'clrcounc': 5.681859875039663e-06,\n",
       "  'rbversion': 't12_f5_c3'},\n",
       " {'jd': 2458482.6949421,\n",
       "  'fid': 2,\n",
       "  'pid': 728194946315,\n",
       "  'diffmaglim': 20.03580093383789,\n",
       "  'pdiffimfilename': '/ztf/archive/sci/2018/1230/194931/ztf_20181230194931_000658_zr_c16_o_q4_scimrefdiffimg.fits.fz',\n",
       "  'programpi': 'Kulkarni',\n",
       "  'programid': 1,\n",
       "  'candid': 728194946315010005,\n",
       "  'isdiffpos': 'f',\n",
       "  'tblid': 5,\n",
       "  'nid': 728,\n",
       "  'rcid': 63,\n",
       "  'field': 658,\n",
       "  'xpos': 2464.5,\n",
       "  'ypos': 2923.070068359375,\n",
       "  'ra': 75.200777,\n",
       "  'dec': 35.3614459,\n",
       "  'magpsf': 15.312999725341797,\n",
       "  'sigmapsf': 0.04950200021266937,\n",
       "  'chipsf': 193.52999877929688,\n",
       "  'magap': 15.258500099182129,\n",
       "  'sigmagap': 0.006399999838322401,\n",
       "  'distnr': 0.09554900228977203,\n",
       "  'magnr': 14.319000244140625,\n",
       "  'sigmagnr': 0.01600000075995922,\n",
       "  'chinr': 0.7440000176429749,\n",
       "  'sharpnr': 0.04699999839067459,\n",
       "  'sky': 0.37242600321769714,\n",
       "  'magdiff': -0.05451900139451027,\n",
       "  'fwhm': 4.760000228881836,\n",
       "  'classtar': 0.9919999837875366,\n",
       "  'mindtoedge': 157.42599487304688,\n",
       "  'magfromlim': 4.777279853820801,\n",
       "  'seeratio': 0.6033520102500916,\n",
       "  'aimage': 0.9990000128746033,\n",
       "  'bimage': 0.968999981880188,\n",
       "  'aimagerat': 0.2098740041255951,\n",
       "  'bimagerat': 0.20357100665569305,\n",
       "  'elong': 1.030959963798523,\n",
       "  'nneg': 0,\n",
       "  'nbad': 0,\n",
       "  'rb': 0.7433329820632935,\n",
       "  'ssdistnr': None,\n",
       "  'ssmagnr': None,\n",
       "  'ssnamenr': None,\n",
       "  'sumrat': 1.0,\n",
       "  'magapbig': 15.248700141906738,\n",
       "  'sigmagapbig': 0.007199999876320362,\n",
       "  'ranr': 75.2007661,\n",
       "  'decnr': 35.3614709,\n",
       "  'scorr': 55.9607,\n",
       "  'magzpsci': 26.05500030517578,\n",
       "  'magzpsciunc': 4.798020199814346e-06,\n",
       "  'magzpscirms': 0.020884400233626366,\n",
       "  'clrcoeff': 0.0965849980711937,\n",
       "  'clrcounc': 5.596600203716662e-06,\n",
       "  'rbversion': 't12_f5_c3'},\n",
       " {'jd': 2458486.6315856,\n",
       "  'fid': 2,\n",
       "  'pid': 732131586315,\n",
       "  'diffmaglim': 20.260700225830078,\n",
       "  'pdiffimfilename': '/ztf/archive/sci/2019/0103/131586/ztf_20190103131586_000658_zr_c16_o_q4_scimrefdiffimg.fits.fz',\n",
       "  'programpi': 'Kulkarni',\n",
       "  'programid': 1,\n",
       "  'candid': 732131586315010005,\n",
       "  'isdiffpos': 'f',\n",
       "  'tblid': 5,\n",
       "  'nid': 732,\n",
       "  'rcid': 63,\n",
       "  'field': 658,\n",
       "  'xpos': 2464.389892578125,\n",
       "  'ypos': 2911.340087890625,\n",
       "  'ra': 75.2007552,\n",
       "  'dec': 35.3614111,\n",
       "  'magpsf': 15.256400108337402,\n",
       "  'sigmapsf': 0.04493499919772148,\n",
       "  'chipsf': 193.19500732421875,\n",
       "  'magap': 15.202500343322754,\n",
       "  'sigmagap': 0.00559999980032444,\n",
       "  'distnr': 0.22332200407981873,\n",
       "  'magnr': 14.319000244140625,\n",
       "  'sigmagnr': 0.01600000075995922,\n",
       "  'chinr': 0.7440000176429749,\n",
       "  'sharpnr': 0.04699999839067459,\n",
       "  'sky': 0.6538370251655579,\n",
       "  'magdiff': -0.05390400066971779,\n",
       "  'fwhm': 6.559999942779541,\n",
       "  'classtar': 0.9900000095367432,\n",
       "  'mindtoedge': 169.156005859375,\n",
       "  'magfromlim': 5.058169841766357,\n",
       "  'seeratio': 0.41437700390815735,\n",
       "  'aimage': 1.0789999961853027,\n",
       "  'bimage': 1.0210000276565552,\n",
       "  'aimagerat': 0.1644819974899292,\n",
       "  'bimagerat': 0.15564000606536865,\n",
       "  'elong': 1.0568100214004517,\n",
       "  'nneg': 0,\n",
       "  'nbad': 0,\n",
       "  'rb': 0.7266669869422913,\n",
       "  'ssdistnr': None,\n",
       "  'ssmagnr': None,\n",
       "  'ssnamenr': None,\n",
       "  'sumrat': 1.0,\n",
       "  'magapbig': 15.189900398254395,\n",
       "  'sigmagapbig': 0.006200000178068876,\n",
       "  'ranr': 75.2007661,\n",
       "  'decnr': 35.3614709,\n",
       "  'scorr': 32.1037,\n",
       "  'magzpsci': 26.141399383544922,\n",
       "  'magzpsciunc': 4.441750206751749e-06,\n",
       "  'magzpscirms': 0.019985899329185486,\n",
       "  'clrcoeff': 0.10217099636793137,\n",
       "  'clrcounc': 5.180249900149647e-06,\n",
       "  'rbversion': 't12_f5_c3'},\n",
       " {'jd': 2458487.6926157,\n",
       "  'fid': 1,\n",
       "  'pid': 733192616315,\n",
       "  'diffmaglim': 20.482999801635742,\n",
       "  'pdiffimfilename': '/ztf/archive/sci/2019/0104/192616/ztf_20190104192616_000658_zg_c16_o_q4_scimrefdiffimg.fits.fz',\n",
       "  'programpi': 'Kulkarni',\n",
       "  'programid': 1,\n",
       "  'candid': 733192616315010008,\n",
       "  'isdiffpos': 'f',\n",
       "  'tblid': 8,\n",
       "  'nid': 733,\n",
       "  'rcid': 63,\n",
       "  'field': 658,\n",
       "  'xpos': 2464.6201171875,\n",
       "  'ypos': 2933.2900390625,\n",
       "  'ra': 75.2007876,\n",
       "  'dec': 35.3614494,\n",
       "  'magpsf': 17.79170036315918,\n",
       "  'sigmapsf': 0.06877300143241882,\n",
       "  'chipsf': 8.970430374145508,\n",
       "  'magap': 17.942100524902344,\n",
       "  'sigmagap': 0.03440000116825104,\n",
       "  'distnr': 0.1015779972076416,\n",
       "  'magnr': 16.746999740600586,\n",
       "  'sigmagnr': 0.01600000075995922,\n",
       "  'chinr': 0.4390000104904175,\n",
       "  'sharpnr': -0.03500000014901161,\n",
       "  'sky': 0.4061650037765503,\n",
       "  'magdiff': 0.15037000179290771,\n",
       "  'fwhm': 3.940000057220459,\n",
       "  'classtar': 0.9829999804496765,\n",
       "  'mindtoedge': 147.20599365234375,\n",
       "  'magfromlim': 2.5409200191497803,\n",
       "  'seeratio': 0.7884460091590881,\n",
       "  'aimage': 0.9459999799728394,\n",
       "  'bimage': 0.8920000195503235,\n",
       "  'aimagerat': 0.24010199308395386,\n",
       "  'bimagerat': 0.22639599442481995,\n",
       "  'elong': 1.060539960861206,\n",
       "  'nneg': 1,\n",
       "  'nbad': 0,\n",
       "  'rb': 0.8033329844474792,\n",
       "  'ssdistnr': None,\n",
       "  'ssmagnr': None,\n",
       "  'ssnamenr': None,\n",
       "  'sumrat': 1.0,\n",
       "  'magapbig': 17.93120002746582,\n",
       "  'sigmagapbig': 0.04179999977350235,\n",
       "  'ranr': 75.2007678,\n",
       "  'decnr': 35.3614708,\n",
       "  'scorr': 44.5531,\n",
       "  'magzpsci': 26.251699447631836,\n",
       "  'magzpsciunc': 8.795470421318896e-06,\n",
       "  'magzpscirms': 0.028508400544524193,\n",
       "  'clrcoeff': -0.05983800068497658,\n",
       "  'clrcounc': 1.0259999726258684e-05,\n",
       "  'rbversion': 't12_f5_c3'},\n",
       " {'jd': 2458487.7407986,\n",
       "  'fid': 2,\n",
       "  'pid': 733240796315,\n",
       "  'diffmaglim': 20.58329963684082,\n",
       "  'pdiffimfilename': '/ztf/archive/sci/2019/0104/240741/ztf_20190104240741_000658_zr_c16_o_q4_scimrefdiffimg.fits.fz',\n",
       "  'programpi': 'Kulkarni',\n",
       "  'programid': 1,\n",
       "  'candid': 733240796315010006,\n",
       "  'isdiffpos': 'f',\n",
       "  'tblid': 6,\n",
       "  'nid': 733,\n",
       "  'rcid': 63,\n",
       "  'field': 658,\n",
       "  'xpos': 2487.199951171875,\n",
       "  'ypos': 2941.219970703125,\n",
       "  'ra': 75.200771,\n",
       "  'dec': 35.3614093,\n",
       "  'magpsf': 15.26609992980957,\n",
       "  'sigmapsf': 0.0545319989323616,\n",
       "  'chipsf': 152.79200744628906,\n",
       "  'magap': 15.200200080871582,\n",
       "  'sigmagap': 0.005200000014156103,\n",
       "  'distnr': 0.22668099403381348,\n",
       "  'magnr': 14.319000244140625,\n",
       "  'sigmagnr': 0.01600000075995922,\n",
       "  'chinr': 0.7440000176429749,\n",
       "  'sharpnr': 0.04699999839067459,\n",
       "  'sky': 0.12334699928760529,\n",
       "  'magdiff': -0.06589800119400024,\n",
       "  'fwhm': 4.630000114440918,\n",
       "  'classtar': 1.0,\n",
       "  'mindtoedge': 139.27999877929688,\n",
       "  'magfromlim': 5.383090019226074,\n",
       "  'seeratio': 0.5362290143966675,\n",
       "  'aimage': 0.9100000262260437,\n",
       "  'bimage': 0.8610000014305115,\n",
       "  'aimagerat': 0.19654400646686554,\n",
       "  'bimagerat': 0.18596099317073822,\n",
       "  'elong': 1.0569100379943848,\n",
       "  'nneg': 0,\n",
       "  'nbad': 0,\n",
       "  'rb': 0.6899999976158142,\n",
       "  'ssdistnr': None,\n",
       "  'ssmagnr': None,\n",
       "  'ssnamenr': None,\n",
       "  'sumrat': 1.0,\n",
       "  'magapbig': 15.184700012207031,\n",
       "  'sigmagapbig': 0.00559999980032444,\n",
       "  'ranr': 75.2007661,\n",
       "  'decnr': 35.3614709,\n",
       "  'scorr': 23.7179,\n",
       "  'magzpsci': 26.156099319458008,\n",
       "  'magzpsciunc': 4.035779966216069e-06,\n",
       "  'magzpscirms': 0.019275400787591934,\n",
       "  'clrcoeff': 0.09837999939918518,\n",
       "  'clrcounc': 4.723120127891889e-06,\n",
       "  'rbversion': 't12_f5_c3'},\n",
       " {'jd': 2458488.7228356,\n",
       "  'fid': 1,\n",
       "  'pid': 734222836315,\n",
       "  'diffmaglim': 20.35759925842285,\n",
       "  'pdiffimfilename': '/ztf/archive/sci/2019/0105/222812/ztf_20190105222812_000658_zg_c16_o_q4_scimrefdiffimg.fits.fz',\n",
       "  'programpi': 'Kulkarni',\n",
       "  'programid': 1,\n",
       "  'candid': 734222836315010013,\n",
       "  'isdiffpos': 'f',\n",
       "  'tblid': 13,\n",
       "  'nid': 734,\n",
       "  'rcid': 63,\n",
       "  'field': 658,\n",
       "  'xpos': 2483.14990234375,\n",
       "  'ypos': 2928.02001953125,\n",
       "  'ra': 75.2007813,\n",
       "  'dec': 35.361441,\n",
       "  'magpsf': 17.67729949951172,\n",
       "  'sigmapsf': 0.07684099674224854,\n",
       "  'chipsf': 12.906399726867676,\n",
       "  'magap': 17.869800567626953,\n",
       "  'sigmagap': 0.046300001442432404,\n",
       "  'distnr': 0.1200449988245964,\n",
       "  'magnr': 16.746999740600586,\n",
       "  'sigmagnr': 0.01600000075995922,\n",
       "  'chinr': 0.4390000104904175,\n",
       "  'sharpnr': -0.03500000014901161,\n",
       "  'sky': -0.08934000134468079,\n",
       "  'magdiff': 0.19248899817466736,\n",
       "  'fwhm': 2.2899999618530273,\n",
       "  'classtar': 0.9829999804496765,\n",
       "  'mindtoedge': 152.4810028076172,\n",
       "  'magfromlim': 2.487839937210083,\n",
       "  'seeratio': 1.0200599431991577,\n",
       "  'aimage': 0.6060000061988831,\n",
       "  'bimage': 0.5820000171661377,\n",
       "  'aimagerat': 0.2646290063858032,\n",
       "  'bimagerat': 0.254148006439209,\n",
       "  'elong': 1.0412399768829346,\n",
       "  'nneg': 6,\n",
       "  'nbad': 0,\n",
       "  'rb': 0.6966670155525208,\n",
       "  'ssdistnr': None,\n",
       "  'ssmagnr': None,\n",
       "  'ssnamenr': None,\n",
       "  'sumrat': 0.9163370132446289,\n",
       "  'magapbig': 17.884599685668945,\n",
       "  'sigmagapbig': 0.05820000171661377,\n",
       "  'ranr': 75.2007678,\n",
       "  'decnr': 35.3614708,\n",
       "  'scorr': 19.2258,\n",
       "  'magzpsci': 25.792299270629883,\n",
       "  'magzpsciunc': 1.1668399565678556e-05,\n",
       "  'magzpscirms': 0.0330657996237278,\n",
       "  'clrcoeff': -0.028700700029730797,\n",
       "  'clrcounc': 1.3634399692818988e-05,\n",
       "  'rbversion': 't12_f5_c3'},\n",
       " {'jd': 2458488.7541088,\n",
       "  'fid': 2,\n",
       "  'pid': 734254106315,\n",
       "  'diffmaglim': 20.536100387573242,\n",
       "  'pdiffimfilename': '/ztf/archive/sci/2019/0105/253958/ztf_20190105253958_000658_zr_c16_o_q4_scimrefdiffimg.fits.fz',\n",
       "  'programpi': 'Kulkarni',\n",
       "  'programid': 1,\n",
       "  'candid': 734254106315010014,\n",
       "  'isdiffpos': 'f',\n",
       "  'tblid': 14,\n",
       "  'nid': 734,\n",
       "  'rcid': 63,\n",
       "  'field': 658,\n",
       "  'xpos': 2483.179931640625,\n",
       "  'ypos': 2933.820068359375,\n",
       "  'ra': 75.2007706,\n",
       "  'dec': 35.3614575,\n",
       "  'magpsf': 15.26609992980957,\n",
       "  'sigmapsf': 0.07365600019693375,\n",
       "  'chipsf': 335.7070007324219,\n",
       "  'magap': 15.19260025024414,\n",
       "  'sigmagap': 0.0052999998442828655,\n",
       "  'distnr': 0.05526899918913841,\n",
       "  'magnr': 14.319000244140625,\n",
       "  'sigmagnr': 0.01600000075995922,\n",
       "  'chinr': 0.7440000176429749,\n",
       "  'sharpnr': 0.04699999839067459,\n",
       "  'sky': -0.2264620065689087,\n",
       "  'magdiff': -0.07348400354385376,\n",
       "  'fwhm': 3.7300000190734863,\n",
       "  'classtar': 1.0,\n",
       "  'mindtoedge': 146.68299865722656,\n",
       "  'magfromlim': 5.34345006942749,\n",
       "  'seeratio': 0.6642490029335022,\n",
       "  'aimage': 0.8109999895095825,\n",
       "  'bimage': 0.7929999828338623,\n",
       "  'aimagerat': 0.21742600202560425,\n",
       "  'bimagerat': 0.21260100603103638,\n",
       "  'elong': 1.0226999521255493,\n",
       "  'nneg': 0,\n",
       "  'nbad': 0,\n",
       "  'rb': 0.7200000286102295,\n",
       "  'ssdistnr': None,\n",
       "  'ssmagnr': None,\n",
       "  'ssnamenr': None,\n",
       "  'sumrat': 1.0,\n",
       "  'magapbig': 15.184700012207031,\n",
       "  'sigmagapbig': 0.00570000009611249,\n",
       "  'ranr': 75.2007661,\n",
       "  'decnr': 35.3614709,\n",
       "  'scorr': 52.9317,\n",
       "  'magzpsci': 26.13409996032715,\n",
       "  'magzpsciunc': 5.671930011885706e-06,\n",
       "  'magzpscirms': 0.02271980047225952,\n",
       "  'clrcoeff': 0.09155859798192978,\n",
       "  'clrcounc': 6.640800165769178e-06,\n",
       "  'rbversion': 't12_f5_c3'},\n",
       " {'jd': 2458490.7040856,\n",
       "  'fid': 2,\n",
       "  'pid': 736204086315,\n",
       "  'diffmaglim': 20.551599502563477,\n",
       "  'pdiffimfilename': '/ztf/archive/sci/2019/0107/204062/ztf_20190107204062_000658_zr_c16_o_q4_scimrefdiffimg.fits.fz',\n",
       "  'programpi': 'Kulkarni',\n",
       "  'programid': 1,\n",
       "  'candid': 736204086315010013,\n",
       "  'isdiffpos': 'f',\n",
       "  'tblid': 13,\n",
       "  'nid': 736,\n",
       "  'rcid': 63,\n",
       "  'field': 658,\n",
       "  'xpos': 2475.659912109375,\n",
       "  'ypos': 2926.989990234375,\n",
       "  'ra': 75.2007764,\n",
       "  'dec': 35.3614407,\n",
       "  'magpsf': 15.282600402832031,\n",
       "  'sigmapsf': 0.05258699879050255,\n",
       "  'chipsf': 212.32200622558594,\n",
       "  'magap': 15.242500305175781,\n",
       "  'sigmagap': 0.005400000140070915,\n",
       "  'distnr': 0.12009800225496292,\n",
       "  'magnr': 14.319000244140625,\n",
       "  'sigmagnr': 0.01600000075995922,\n",
       "  'chinr': 0.7440000176429749,\n",
       "  'sharpnr': 0.04699999839067459,\n",
       "  'sky': 0.1623850017786026,\n",
       "  'magdiff': -0.04010799899697304,\n",
       "  'fwhm': 4.239999771118164,\n",
       "  'classtar': 0.9990000128746033,\n",
       "  'mindtoedge': 153.51100158691406,\n",
       "  'magfromlim': 5.309140205383301,\n",
       "  'seeratio': 0.6079229712486267,\n",
       "  'aimage': 0.8769999742507935,\n",
       "  'bimage': 0.8560000061988831,\n",
       "  'aimagerat': 0.20683999359607697,\n",
       "  'bimagerat': 0.20188699662685394,\n",
       "  'elong': 1.024530053138733,\n",
       "  'nneg': 0,\n",
       "  'nbad': 0,\n",
       "  'rb': 0.7266669869422913,\n",
       "  'ssdistnr': None,\n",
       "  'ssmagnr': None,\n",
       "  'ssnamenr': None,\n",
       "  'sumrat': 1.0,\n",
       "  'magapbig': 15.233400344848633,\n",
       "  'sigmagapbig': 0.005799999926239252,\n",
       "  'ranr': 75.2007661,\n",
       "  'decnr': 35.3614709,\n",
       "  'scorr': 55.6365,\n",
       "  'magzpsci': 26.15060043334961,\n",
       "  'magzpsciunc': 2.792670102280681e-06,\n",
       "  'magzpscirms': 0.01593630015850067,\n",
       "  'clrcoeff': 0.08970910310745239,\n",
       "  'clrcounc': 3.258920060034143e-06,\n",
       "  'rbversion': 't12_f5_c3'},\n",
       " {'jd': 2458490.7308796,\n",
       "  'fid': 1,\n",
       "  'pid': 736230876315,\n",
       "  'diffmaglim': 20.36870002746582,\n",
       "  'pdiffimfilename': '/ztf/archive/sci/2019/0107/230498/ztf_20190107230498_000658_zg_c16_o_q4_scimrefdiffimg.fits.fz',\n",
       "  'programpi': 'Kulkarni',\n",
       "  'programid': 1,\n",
       "  'candid': 736230876315010014,\n",
       "  'isdiffpos': 'f',\n",
       "  'tblid': 14,\n",
       "  'nid': 736,\n",
       "  'rcid': 63,\n",
       "  'field': 658,\n",
       "  'xpos': 2480.22998046875,\n",
       "  'ypos': 2936.449951171875,\n",
       "  'ra': 75.2008078,\n",
       "  'dec': 35.3614237,\n",
       "  'magpsf': 17.859800338745117,\n",
       "  'sigmapsf': 0.07368499785661697,\n",
       "  'chipsf': 5.563529968261719,\n",
       "  'magap': 17.991199493408203,\n",
       "  'sigmagap': 0.03440000116825104,\n",
       "  'distnr': 0.19920000433921814,\n",
       "  'magnr': 16.746999740600586,\n",
       "  'sigmagnr': 0.01600000075995922,\n",
       "  'chinr': 0.4390000104904175,\n",
       "  'sharpnr': -0.03500000014901161,\n",
       "  'sky': 0.40188199281692505,\n",
       "  'magdiff': 0.1314219981431961,\n",
       "  'fwhm': 4.179999828338623,\n",
       "  'classtar': 0.9829999804496765,\n",
       "  'mindtoedge': 144.05299377441406,\n",
       "  'magfromlim': 2.3774800300598145,\n",
       "  'seeratio': 0.8757960200309753,\n",
       "  'aimage': 1.11899995803833,\n",
       "  'bimage': 1.0859999656677246,\n",
       "  'aimagerat': 0.26770299673080444,\n",
       "  'bimagerat': 0.2598089873790741,\n",
       "  'elong': 1.0303900241851807,\n",
       "  'nneg': 0,\n",
       "  'nbad': 0,\n",
       "  'rb': 0.8100000023841858,\n",
       "  'ssdistnr': None,\n",
       "  'ssmagnr': None,\n",
       "  'ssnamenr': None,\n",
       "  'sumrat': 1.0,\n",
       "  'magapbig': 18.00629997253418,\n",
       "  'sigmagapbig': 0.04259999841451645,\n",
       "  'ranr': 75.2007678,\n",
       "  'decnr': 35.3614708,\n",
       "  'scorr': 41.1089,\n",
       "  'magzpsci': 26.251800537109375,\n",
       "  'magzpsciunc': 1.5056900338095147e-05,\n",
       "  'magzpscirms': 0.03732069954276085,\n",
       "  'clrcoeff': -0.04329109936952591,\n",
       "  'clrcounc': 1.7638700228417292e-05,\n",
       "  'rbversion': 't12_f5_c3'},\n",
       " {'jd': 2458491.7049769,\n",
       "  'fid': 1,\n",
       "  'pid': 737204976315,\n",
       "  'diffmaglim': 20.735200881958008,\n",
       "  'pdiffimfilename': '/ztf/archive/sci/2019/0108/204965/ztf_20190108204965_000658_zg_c16_o_q4_scimrefdiffimg.fits.fz',\n",
       "  'programpi': 'Kulkarni',\n",
       "  'programid': 1,\n",
       "  'candid': 737204976315010007,\n",
       "  'isdiffpos': 'f',\n",
       "  'tblid': 7,\n",
       "  'nid': 737,\n",
       "  'rcid': 63,\n",
       "  'field': 658,\n",
       "  'xpos': 2479.0400390625,\n",
       "  'ypos': 2924.64990234375,\n",
       "  'ra': 75.2007932,\n",
       "  'dec': 35.3614306,\n",
       "  'magpsf': 17.822900772094727,\n",
       "  'sigmapsf': 0.07487700134515762,\n",
       "  'chipsf': 15.062299728393555,\n",
       "  'magap': 18.036399841308594,\n",
       "  'sigmagap': 0.035999998450279236,\n",
       "  'distnr': 0.17242300510406494,\n",
       "  'magnr': 16.746999740600586,\n",
       "  'sigmagnr': 0.01600000075995922,\n",
       "  'chinr': 0.4390000104904175,\n",
       "  'sharpnr': -0.03500000014901161,\n",
       "  'sky': 0.35016998648643494,\n",
       "  'magdiff': 0.2135089933872223,\n",
       "  'fwhm': 3.809999942779541,\n",
       "  'classtar': 0.984000027179718,\n",
       "  'mindtoedge': 155.84500122070312,\n",
       "  'magfromlim': 2.6987500190734863,\n",
       "  'seeratio': 0.6854779720306396,\n",
       "  'aimage': 0.7710000276565552,\n",
       "  'bimage': 0.7089999914169312,\n",
       "  'aimagerat': 0.20236200094223022,\n",
       "  'bimagerat': 0.18608899414539337,\n",
       "  'elong': 1.0874500274658203,\n",
       "  'nneg': 4,\n",
       "  'nbad': 0,\n",
       "  'rb': 0.7766669988632202,\n",
       "  'ssdistnr': None,\n",
       "  'ssmagnr': None,\n",
       "  'ssnamenr': None,\n",
       "  'sumrat': 0.9894049763679504,\n",
       "  'magapbig': 18.035600662231445,\n",
       "  'sigmagapbig': 0.04390000179409981,\n",
       "  'ranr': 75.2007678,\n",
       "  'decnr': 35.3614708,\n",
       "  'scorr': 27.0125,\n",
       "  'magzpsci': 26.23590087890625,\n",
       "  'magzpsciunc': 9.639779818826355e-06,\n",
       "  'magzpscirms': 0.029942499473690987,\n",
       "  'clrcoeff': -0.0402613990008831,\n",
       "  'clrcounc': 1.122819958254695e-05,\n",
       "  'rbversion': 't12_f5_c3'},\n",
       " {'jd': 2458491.7361806,\n",
       "  'fid': 2,\n",
       "  'pid': 737236186315,\n",
       "  'diffmaglim': 20.34819984436035,\n",
       "  'pdiffimfilename': '/ztf/archive/sci/2019/0108/236169/ztf_20190108236169_000658_zr_c16_o_q4_scimrefdiffimg.fits.fz',\n",
       "  'programpi': 'Kulkarni',\n",
       "  'programid': 1,\n",
       "  'candid': 737236186315010012,\n",
       "  'isdiffpos': 'f',\n",
       "  'tblid': 12,\n",
       "  'nid': 737,\n",
       "  'rcid': 63,\n",
       "  'field': 658,\n",
       "  'xpos': 2485.5,\n",
       "  'ypos': 2926.199951171875,\n",
       "  'ra': 75.200787,\n",
       "  'dec': 35.3614155,\n",
       "  'magpsf': 15.294400215148926,\n",
       "  'sigmapsf': 0.042775001376867294,\n",
       "  'chipsf': 203.9080047607422,\n",
       "  'magap': 15.25469970703125,\n",
       "  'sigmagap': 0.00559999980032444,\n",
       "  'distnr': 0.22149300575256348,\n",
       "  'magnr': 14.319000244140625,\n",
       "  'sigmagnr': 0.01600000075995922,\n",
       "  'chinr': 0.7440000176429749,\n",
       "  'sharpnr': 0.04699999839067459,\n",
       "  'sky': 0.8142539858818054,\n",
       "  'magdiff': -0.039707001298666,\n",
       "  'fwhm': 5.619999885559082,\n",
       "  'classtar': 0.9959999918937683,\n",
       "  'mindtoedge': 154.2969970703125,\n",
       "  'magfromlim': 5.093480110168457,\n",
       "  'seeratio': 0.5019440054893494,\n",
       "  'aimage': 1.059000015258789,\n",
       "  'bimage': 1.0110000371932983,\n",
       "  'aimagerat': 0.18843400478363037,\n",
       "  'bimagerat': 0.17989300191402435,\n",
       "  'elong': 1.0474799871444702,\n",
       "  'nneg': 0,\n",
       "  'nbad': 0,\n",
       "  'rb': 0.7099999785423279,\n",
       "  'ssdistnr': None,\n",
       "  'ssmagnr': None,\n",
       "  'ssnamenr': None,\n",
       "  'sumrat': 1.0,\n",
       "  'magapbig': 15.238499641418457,\n",
       "  'sigmagapbig': 0.006099999882280827,\n",
       "  'ranr': 75.2007661,\n",
       "  'decnr': 35.3614709,\n",
       "  'scorr': 27.6026,\n",
       "  'magzpsci': 26.14539909362793,\n",
       "  'magzpsciunc': 3.58507008968445e-06,\n",
       "  'magzpscirms': 0.01819480024278164,\n",
       "  'clrcoeff': 0.1041250005364418,\n",
       "  'clrcounc': 4.187790182186291e-06,\n",
       "  'rbversion': 't12_f5_c3'},\n",
       " {'jd': 2458492.6524653,\n",
       "  'fid': 2,\n",
       "  'pid': 738152466315,\n",
       "  'diffmaglim': 18.69379997253418,\n",
       "  'pdiffimfilename': '/ztf/archive/sci/2019/0109/152292/ztf_20190109152292_000658_zr_c16_o_q4_scimrefdiffimg.fits.fz',\n",
       "  'programpi': 'Kulkarni',\n",
       "  'programid': 1,\n",
       "  'candid': 738152466315010001,\n",
       "  'isdiffpos': 'f',\n",
       "  'tblid': 1,\n",
       "  'nid': 738,\n",
       "  'rcid': 63,\n",
       "  'field': 658,\n",
       "  'xpos': 2485.02001953125,\n",
       "  'ypos': 2970.280029296875,\n",
       "  'ra': 75.20077,\n",
       "  'dec': 35.3614404,\n",
       "  'magpsf': 15.35569953918457,\n",
       "  'sigmapsf': 0.058031998574733734,\n",
       "  'chipsf': 28.701099395751953,\n",
       "  'magap': 15.299500465393066,\n",
       "  'sigmagap': 0.01769999973475933,\n",
       "  'distnr': 0.11629799753427505,\n",
       "  'magnr': 14.319000244140625,\n",
       "  'sigmagnr': 0.01600000075995922,\n",
       "  'chinr': 0.7440000176429749,\n",
       "  'sharpnr': 0.04699999839067459,\n",
       "  'sky': -0.7631239891052246,\n",
       "  'magdiff': -0.05616699904203415,\n",
       "  'fwhm': 5.409999847412109,\n",
       "  'classtar': 0.9980000257492065,\n",
       "  'mindtoedge': 110.21900177001953,\n",
       "  'magfromlim': 3.394289970397949,\n",
       "  'seeratio': 0.4955419898033142,\n",
       "  'aimage': 0.9710000157356262,\n",
       "  'bimage': 0.9319999814033508,\n",
       "  'aimagerat': 0.17948199808597565,\n",
       "  'bimagerat': 0.17227399349212646,\n",
       "  'elong': 1.0418399572372437,\n",
       "  'nneg': 1,\n",
       "  'nbad': 0,\n",
       "  'rb': 0.6766669750213623,\n",
       "  'ssdistnr': None,\n",
       "  'ssmagnr': None,\n",
       "  'ssnamenr': None,\n",
       "  'sumrat': 1.0,\n",
       "  'magapbig': 15.305999755859375,\n",
       "  'sigmagapbig': 0.02199999988079071,\n",
       "  'ranr': 75.2007661,\n",
       "  'decnr': 35.3614709,\n",
       "  'scorr': 20.5733,\n",
       "  'magzpsci': 25.03070068359375,\n",
       "  'magzpsciunc': 1.271679957426386e-05,\n",
       "  'magzpscirms': 0.034464698284864426,\n",
       "  'clrcoeff': 0.07444129884243011,\n",
       "  'clrcounc': 1.4830799955234397e-05,\n",
       "  'rbversion': 't12_f5_c3'},\n",
       " {'jd': 2458492.6886111,\n",
       "  'fid': 1,\n",
       "  'pid': 738188616315,\n",
       "  'diffmaglim': 18.706600189208984,\n",
       "  'pdiffimfilename': '/ztf/archive/sci/2019/0109/188194/ztf_20190109188194_000658_zg_c16_o_q4_scimrefdiffimg.fits.fz',\n",
       "  'programpi': 'Kulkarni',\n",
       "  'programid': 1,\n",
       "  'candid': 738188616315010031,\n",
       "  'isdiffpos': 'f',\n",
       "  'tblid': 31,\n",
       "  'nid': 738,\n",
       "  'rcid': 63,\n",
       "  'field': 658,\n",
       "  'xpos': 2476.6298828125,\n",
       "  'ypos': 2970.969970703125,\n",
       "  'ra': 75.2007756,\n",
       "  'dec': 35.3614608,\n",
       "  'magpsf': 17.744199752807617,\n",
       "  'sigmapsf': 0.13925400376319885,\n",
       "  'chipsf': 2.3575100898742676,\n",
       "  'magap': 18.11720085144043,\n",
       "  'sigmagap': 0.22200000286102295,\n",
       "  'distnr': 0.04202599823474884,\n",
       "  'magnr': 16.746999740600586,\n",
       "  'sigmagnr': 0.01600000075995922,\n",
       "  'chinr': 0.4390000104904175,\n",
       "  'sharpnr': -0.03500000014901161,\n",
       "  'sky': 0.4911240041255951,\n",
       "  'magdiff': 0.3730359971523285,\n",
       "  'fwhm': 2.4200000762939453,\n",
       "  'classtar': 0.9779999852180481,\n",
       "  'mindtoedge': 109.53399658203125,\n",
       "  'magfromlim': 0.589372992515564,\n",
       "  'seeratio': 1.0661300420761108,\n",
       "  'aimage': 0.6769999861717224,\n",
       "  'bimage': 0.6179999709129333,\n",
       "  'aimagerat': 0.2797519862651825,\n",
       "  'bimagerat': 0.25537198781967163,\n",
       "  'elong': 1.0954699516296387,\n",
       "  'nneg': 5,\n",
       "  'nbad': 0,\n",
       "  'rb': 0.7166669964790344,\n",
       "  'ssdistnr': None,\n",
       "  'ssmagnr': None,\n",
       "  'ssnamenr': None,\n",
       "  'sumrat': 0.9367560148239136,\n",
       "  'magapbig': 18.117300033569336,\n",
       "  'sigmagapbig': 0.28369998931884766,\n",
       "  'ranr': 75.2007678,\n",
       "  'decnr': 35.3614708,\n",
       "  'scorr': 14.2461,\n",
       "  'magzpsci': 24.579200744628906,\n",
       "  'magzpsciunc': 8.400309889111668e-05,\n",
       "  'magzpscirms': 0.06778939813375473,\n",
       "  'clrcoeff': -0.10580699890851974,\n",
       "  'clrcounc': 0.00010472400026628748,\n",
       "  'rbversion': 't12_f5_c3'},\n",
       " {'jd': 2458493.7031597,\n",
       "  'fid': 1,\n",
       "  'pid': 739203156315,\n",
       "  'diffmaglim': 20.77440071105957,\n",
       "  'pdiffimfilename': '/ztf/archive/sci/2019/0110/202917/ztf_20190110202917_000658_zg_c16_o_q4_scimrefdiffimg.fits.fz',\n",
       "  'programpi': 'Kulkarni',\n",
       "  'programid': 1,\n",
       "  'candid': 739203156315010009,\n",
       "  'isdiffpos': '0',\n",
       "  'tblid': 9,\n",
       "  'nid': 739,\n",
       "  'rcid': 63,\n",
       "  'field': 658,\n",
       "  'xpos': 2466.580078125,\n",
       "  'ypos': 2915.969970703125,\n",
       "  'ra': 75.2007902,\n",
       "  'dec': 35.3614651,\n",
       "  'magpsf': 17.906200408935547,\n",
       "  'sigmapsf': 0.07848600298166275,\n",
       "  'chipsf': 18.881099700927734,\n",
       "  'magap': 18.112300872802734,\n",
       "  'sigmagap': 0.04019999876618385,\n",
       "  'distnr': 0.0742269977927208,\n",
       "  'magnr': 16.746999740600586,\n",
       "  'sigmagnr': 0.01600000075995922,\n",
       "  'chinr': 0.4390000104904175,\n",
       "  'sharpnr': -0.03500000014901161,\n",
       "  'sky': -0.3882330060005188,\n",
       "  'magdiff': 0.20614099502563477,\n",
       "  'fwhm': 3.0299999713897705,\n",
       "  'classtar': 0.9829999804496765,\n",
       "  'mindtoedge': 164.5279998779297,\n",
       "  'magfromlim': 2.662130117416382,\n",
       "  'seeratio': 0.8007029891014099,\n",
       "  'aimage': 0.6499999761581421,\n",
       "  'bimage': 0.6000000238418579,\n",
       "  'aimagerat': 0.21452100574970245,\n",
       "  'bimagerat': 0.19801999628543854,\n",
       "  'elong': 1.0833300352096558,\n",
       "  'nneg': 7,\n",
       "  'nbad': 0,\n",
       "  'rb': 0.5828570127487183,\n",
       "  'ssdistnr': None,\n",
       "  'ssmagnr': None,\n",
       "  'ssnamenr': None,\n",
       "  'sumrat': 0.9683279991149902,\n",
       "  'magapbig': 18.13010025024414,\n",
       "  'sigmagapbig': 0.049800001084804535,\n",
       "  'ranr': 75.2007678,\n",
       "  'decnr': 35.3614708,\n",
       "  'scorr': 21.2911,\n",
       "  'magzpsci': 26.156200408935547,\n",
       "  'magzpsciunc': 6.962489806028316e-06,\n",
       "  'magzpscirms': 0.025365499779582024,\n",
       "  'clrcoeff': -0.05268219858407974,\n",
       "  'clrcounc': 8.104510015982669e-06,\n",
       "  'rbversion': 't15_f5_c3'}]"
      ]
     },
     "execution_count": 173,
     "metadata": {},
     "output_type": "execute_result"
    }
   ],
   "source": [
    "partnership_alerts"
   ]
  },
  {
   "cell_type": "code",
   "execution_count": 174,
   "metadata": {},
   "outputs": [
    {
     "data": {
      "text/plain": [
       "[{'jd': 2458466.8000347,\n",
       "  'fid': 1,\n",
       "  'pid': 712300036315,\n",
       "  'diffmaglim': 20.067899703979492,\n",
       "  'pdiffimfilename': '/ztf/archive/sci/2018/1214/299954/ztf_20181214299954_000658_zg_c16_o_q4_scimrefdiffimg.fits.fz',\n",
       "  'programpi': 'Kulkarni',\n",
       "  'programid': 1,\n",
       "  'candid': 712300036315015015,\n",
       "  'isdiffpos': 't',\n",
       "  'tblid': 15,\n",
       "  'nid': 712,\n",
       "  'rcid': 63,\n",
       "  'field': 658,\n",
       "  'xpos': 2488.5400390625,\n",
       "  'ypos': 2928.1298828125,\n",
       "  'ra': 75.2005575,\n",
       "  'dec': 35.3614176,\n",
       "  'magpsf': 19.027799606323242,\n",
       "  'sigmapsf': 0.18181900680065155,\n",
       "  'chipsf': 3.0431699752807617,\n",
       "  'magap': 18.751699447631836,\n",
       "  'sigmagap': 0.1315000057220459,\n",
       "  'distnr': 0.6384249925613403,\n",
       "  'magnr': 16.746999740600586,\n",
       "  'sigmagnr': 0.01600000075995922,\n",
       "  'chinr': 0.4390000104904175,\n",
       "  'sharpnr': -0.03500000014901161,\n",
       "  'sky': -0.06775899976491928,\n",
       "  'magdiff': -0.2761090099811554,\n",
       "  'fwhm': 2.3499999046325684,\n",
       "  'classtar': 0.8479999899864197,\n",
       "  'mindtoedge': 152.37100219726562,\n",
       "  'magfromlim': 1.316249966621399,\n",
       "  'seeratio': 1.0212600231170654,\n",
       "  'aimage': 0.7490000128746033,\n",
       "  'bimage': 0.5460000038146973,\n",
       "  'aimagerat': 0.31872299313545227,\n",
       "  'bimagerat': 0.2323399931192398,\n",
       "  'elong': 1.3717999458312988,\n",
       "  'nneg': 5,\n",
       "  'nbad': 0,\n",
       "  'rb': 0.5466669797897339,\n",
       "  'ssdistnr': None,\n",
       "  'ssmagnr': None,\n",
       "  'ssnamenr': None,\n",
       "  'sumrat': 0.9575620293617249,\n",
       "  'magapbig': 18.680400848388672,\n",
       "  'sigmagapbig': 0.15330000221729279,\n",
       "  'ranr': 75.2007678,\n",
       "  'decnr': 35.3614708,\n",
       "  'scorr': 5.52437,\n",
       "  'magzpsci': 25.635799407958984,\n",
       "  'magzpsciunc': 1.1772700418077875e-05,\n",
       "  'magzpscirms': 0.03299269825220108,\n",
       "  'clrcoeff': -0.043134499341249466,\n",
       "  'clrcounc': 1.3806699826091062e-05,\n",
       "  'rbversion': 't12_f5_c3'},\n",
       " {'jd': 2458471.7562847,\n",
       "  'fid': 2,\n",
       "  'pid': 717256286315,\n",
       "  'diffmaglim': 18.88089942932129,\n",
       "  'pdiffimfilename': '/ztf/archive/sci/2018/1219/256273/ztf_20181219256273_000658_zr_c16_o_q4_scimrefdiffimg.fits.fz',\n",
       "  'programpi': 'Kulkarni',\n",
       "  'programid': 1,\n",
       "  'candid': 717256286315010021,\n",
       "  'isdiffpos': 'f',\n",
       "  'tblid': 21,\n",
       "  'nid': 717,\n",
       "  'rcid': 63,\n",
       "  'field': 658,\n",
       "  'xpos': 2491.110107421875,\n",
       "  'ypos': 2914.949951171875,\n",
       "  'ra': 75.2008108,\n",
       "  'dec': 35.3613921,\n",
       "  'magpsf': 16.39620018005371,\n",
       "  'sigmapsf': 0.08995500206947327,\n",
       "  'chipsf': 19.18950080871582,\n",
       "  'magap': 16.212600708007812,\n",
       "  'sigmagap': 0.03370000049471855,\n",
       "  'distnr': 0.3072949945926666,\n",
       "  'magnr': 14.319000244140625,\n",
       "  'sigmagnr': 0.01600000075995922,\n",
       "  'chinr': 0.7440000176429749,\n",
       "  'sharpnr': 0.04699999839067459,\n",
       "  'sky': -7.308690071105957,\n",
       "  'magdiff': -0.18356600403785706,\n",
       "  'fwhm': 1.332170009613037,\n",
       "  'classtar': 0.9980000257492065,\n",
       "  'mindtoedge': 165.5469970703125,\n",
       "  'magfromlim': 2.668339967727661,\n",
       "  'seeratio': 2.0,\n",
       "  'aimage': 1.0140000581741333,\n",
       "  'bimage': 0.9739999771118164,\n",
       "  'aimagerat': 0.7611640095710754,\n",
       "  'bimagerat': 0.7311379909515381,\n",
       "  'elong': 1.0410699844360352,\n",
       "  'nneg': 0,\n",
       "  'nbad': 0,\n",
       "  'rb': 0.6733329892158508,\n",
       "  'ssdistnr': None,\n",
       "  'ssmagnr': None,\n",
       "  'ssnamenr': None,\n",
       "  'sumrat': 1.0,\n",
       "  'magapbig': 16.20359992980957,\n",
       "  'sigmagapbig': 0.04170000180602074,\n",
       "  'ranr': 75.2007661,\n",
       "  'decnr': 35.3614709,\n",
       "  'scorr': 9.92211,\n",
       "  'magzpsci': 25.80820083618164,\n",
       "  'magzpsciunc': 1.5606699889758602e-05,\n",
       "  'magzpscirms': 0.03772670030593872,\n",
       "  'clrcoeff': 0.10134200006723404,\n",
       "  'clrcounc': 1.8175100194639526e-05,\n",
       "  'rbversion': 't12_f5_c3'},\n",
       " {'jd': 2458472.7760995,\n",
       "  'fid': 2,\n",
       "  'pid': 718276096315,\n",
       "  'diffmaglim': 19.768400192260742,\n",
       "  'pdiffimfilename': '/ztf/archive/sci/2018/1220/276065/ztf_20181220276065_000658_zr_c16_o_q4_scimrefdiffimg.fits.fz',\n",
       "  'programpi': 'Kulkarni',\n",
       "  'programid': 1,\n",
       "  'candid': 718276096315010001,\n",
       "  'isdiffpos': 'f',\n",
       "  'tblid': 1,\n",
       "  'nid': 718,\n",
       "  'rcid': 63,\n",
       "  'field': 658,\n",
       "  'xpos': 2475.659912109375,\n",
       "  'ypos': 2881.070068359375,\n",
       "  'ra': 75.2007895,\n",
       "  'dec': 35.3613651,\n",
       "  'magpsf': 16.304000854492188,\n",
       "  'sigmapsf': 0.072782002389431,\n",
       "  'chipsf': 98.0071029663086,\n",
       "  'magap': 16.136600494384766,\n",
       "  'sigmagap': 0.017400000244379044,\n",
       "  'distnr': 0.3817960023880005,\n",
       "  'magnr': 14.319000244140625,\n",
       "  'sigmagnr': 0.01600000075995922,\n",
       "  'chinr': 0.7440000176429749,\n",
       "  'sharpnr': 0.04699999839067459,\n",
       "  'sky': -1.0609999895095825,\n",
       "  'magdiff': -0.16744400560855865,\n",
       "  'fwhm': 7.070000171661377,\n",
       "  'classtar': 0.9800000190734863,\n",
       "  'mindtoedge': 199.4290008544922,\n",
       "  'magfromlim': 3.6318399906158447,\n",
       "  'seeratio': 0.3431589901447296,\n",
       "  'aimage': 1.1610000133514404,\n",
       "  'bimage': 1.0420000553131104,\n",
       "  'aimagerat': 0.16421499848365784,\n",
       "  'bimagerat': 0.14738300442695618,\n",
       "  'elong': 1.1141999959945679,\n",
       "  'nneg': 0,\n",
       "  'nbad': 0,\n",
       "  'rb': 0.5600000023841858,\n",
       "  'ssdistnr': None,\n",
       "  'ssmagnr': None,\n",
       "  'ssnamenr': None,\n",
       "  'sumrat': 1.0,\n",
       "  'magapbig': 16.1018009185791,\n",
       "  'sigmagapbig': 0.02019999921321869,\n",
       "  'ranr': 75.2007661,\n",
       "  'decnr': 35.3614709,\n",
       "  'scorr': 9.65259,\n",
       "  'magzpsci': 26.18199920654297,\n",
       "  'magzpsciunc': 6.932929863978643e-06,\n",
       "  'magzpscirms': 0.025093000382184982,\n",
       "  'clrcoeff': 0.09686709940433502,\n",
       "  'clrcounc': 8.085479748842772e-06,\n",
       "  'rbversion': 't12_f5_c3'},\n",
       " {'jd': 2458476.0065162,\n",
       "  'fid': 1,\n",
       "  'pid': 721506516315,\n",
       "  'diffmaglim': 18.493200302124023,\n",
       "  'pdiffimfilename': '/ztf/archive/sci/2018/1223/506377/ztf_20181223506377_000658_zg_c16_o_q4_scimrefdiffimg.fits.fz',\n",
       "  'programpi': 'Kulkarni',\n",
       "  'programid': 1,\n",
       "  'candid': 721506516315010008,\n",
       "  'isdiffpos': 'f',\n",
       "  'tblid': 8,\n",
       "  'nid': 721,\n",
       "  'rcid': 63,\n",
       "  'field': 658,\n",
       "  'xpos': 2454.0400390625,\n",
       "  'ypos': 2865.030029296875,\n",
       "  'ra': 75.200933,\n",
       "  'dec': 35.3614062,\n",
       "  'magpsf': 18.311399459838867,\n",
       "  'sigmapsf': 0.14271199703216553,\n",
       "  'chipsf': 1.2425099611282349,\n",
       "  'magap': 18.45680046081543,\n",
       "  'sigmagap': 0.31060001254081726,\n",
       "  'distnr': 0.5224440097808838,\n",
       "  'magnr': 16.746999740600586,\n",
       "  'sigmagnr': 0.01600000075995922,\n",
       "  'chinr': 0.4390000104904175,\n",
       "  'sharpnr': -0.03500000014901161,\n",
       "  'sky': -2.3708300590515137,\n",
       "  'magdiff': 0.1454389989376068,\n",
       "  'fwhm': 1.510990023612976,\n",
       "  'classtar': 0.984000027179718,\n",
       "  'mindtoedge': 215.46499633789062,\n",
       "  'magfromlim': 0.036371998488903046,\n",
       "  'seeratio': 2.0,\n",
       "  'aimage': 0.8650000095367432,\n",
       "  'bimage': 0.7080000042915344,\n",
       "  'aimagerat': 0.5724740028381348,\n",
       "  'bimagerat': 0.46856799721717834,\n",
       "  'elong': 1.221750020980835,\n",
       "  'nneg': 6,\n",
       "  'nbad': 0,\n",
       "  'rb': 0.6866670250892639,\n",
       "  'ssdistnr': None,\n",
       "  'ssmagnr': None,\n",
       "  'ssnamenr': None,\n",
       "  'sumrat': 0.9799730181694031,\n",
       "  'magapbig': 18.652000427246094,\n",
       "  'sigmagapbig': 0.4771000146865845,\n",
       "  'ranr': 75.2007678,\n",
       "  'decnr': 35.3614708,\n",
       "  'scorr': 6.77427,\n",
       "  'magzpsci': 26.056400299072266,\n",
       "  'magzpsciunc': 6.137350283097476e-05,\n",
       "  'magzpscirms': 0.048471301794052124,\n",
       "  'clrcoeff': -0.03710639849305153,\n",
       "  'clrcounc': 7.877970347180963e-05,\n",
       "  'rbversion': 't12_f5_c3'},\n",
       " {'jd': 2458476.7992361,\n",
       "  'fid': 2,\n",
       "  'pid': 722299236315,\n",
       "  'diffmaglim': 19.758800506591797,\n",
       "  'pdiffimfilename': '/ztf/archive/sci/2018/1224/299109/ztf_20181224299109_000658_zr_c16_o_q4_scimrefdiffimg.fits.fz',\n",
       "  'programpi': 'Kulkarni',\n",
       "  'programid': 1,\n",
       "  'candid': 722299236315010004,\n",
       "  'isdiffpos': 'f',\n",
       "  'tblid': 4,\n",
       "  'nid': 722,\n",
       "  'rcid': 63,\n",
       "  'field': 658,\n",
       "  'xpos': 2472.110107421875,\n",
       "  'ypos': 2941.830078125,\n",
       "  'ra': 75.2007884,\n",
       "  'dec': 35.3613781,\n",
       "  'magpsf': 15.71030044555664,\n",
       "  'sigmapsf': 0.07040899991989136,\n",
       "  'chipsf': 103.40899658203125,\n",
       "  'magap': 15.623000144958496,\n",
       "  'sigmagap': 0.010999999940395355,\n",
       "  'distnr': 0.34183600544929504,\n",
       "  'magnr': 14.319000244140625,\n",
       "  'sigmagnr': 0.01600000075995922,\n",
       "  'chinr': 0.7440000176429749,\n",
       "  'sharpnr': 0.04699999839067459,\n",
       "  'sky': 0.7067189812660217,\n",
       "  'magdiff': -0.08734700083732605,\n",
       "  'fwhm': 4.619999885559082,\n",
       "  'classtar': 1.0,\n",
       "  'mindtoedge': 138.67300415039062,\n",
       "  'magfromlim': 4.135799884796143,\n",
       "  'seeratio': 0.5189020037651062,\n",
       "  'aimage': 0.8539999723434448,\n",
       "  'bimage': 0.8330000042915344,\n",
       "  'aimagerat': 0.18484799563884735,\n",
       "  'bimagerat': 0.18030300736427307,\n",
       "  'elong': 1.0252100229263306,\n",
       "  'nneg': 0,\n",
       "  'nbad': 0,\n",
       "  'rb': 0.7566670179367065,\n",
       "  'ssdistnr': None,\n",
       "  'ssmagnr': None,\n",
       "  'ssnamenr': None,\n",
       "  'sumrat': 1.0,\n",
       "  'magapbig': 15.624300003051758,\n",
       "  'sigmagapbig': 0.013199999928474426,\n",
       "  'ranr': 75.2007661,\n",
       "  'decnr': 35.3614709,\n",
       "  'scorr': 36.9074,\n",
       "  'magzpsci': 26.16830062866211,\n",
       "  'magzpsciunc': 5.59603995498037e-06,\n",
       "  'magzpscirms': 0.022677000612020493,\n",
       "  'clrcoeff': 0.10219399631023407,\n",
       "  'clrcounc': 6.528759968205122e-06,\n",
       "  'rbversion': 't12_f5_c3'},\n",
       " {'jd': 2458480.8017245,\n",
       "  'fid': 2,\n",
       "  'pid': 726301726315,\n",
       "  'diffmaglim': 20.041500091552734,\n",
       "  'pdiffimfilename': '/ztf/archive/sci/2018/1228/301725/ztf_20181228301725_000658_zr_c16_o_q4_scimrefdiffimg.fits.fz',\n",
       "  'programpi': 'Kulkarni',\n",
       "  'programid': 1,\n",
       "  'candid': 726301726315010007,\n",
       "  'isdiffpos': 'f',\n",
       "  'tblid': 7,\n",
       "  'nid': 726,\n",
       "  'rcid': 63,\n",
       "  'field': 658,\n",
       "  'xpos': 2462.669921875,\n",
       "  'ypos': 2954.43994140625,\n",
       "  'ra': 75.200766,\n",
       "  'dec': 35.3614129,\n",
       "  'magpsf': 15.41469955444336,\n",
       "  'sigmapsf': 0.04314500093460083,\n",
       "  'chipsf': 104.4010009765625,\n",
       "  'magap': 15.35949993133545,\n",
       "  'sigmagap': 0.006599999964237213,\n",
       "  'distnr': 0.20615899562835693,\n",
       "  'magnr': 14.319000244140625,\n",
       "  'sigmagnr': 0.01600000075995922,\n",
       "  'chinr': 0.7440000176429749,\n",
       "  'sharpnr': 0.04699999839067459,\n",
       "  'sky': 1.196079969406128,\n",
       "  'magdiff': -0.05521000176668167,\n",
       "  'fwhm': 5.110000133514404,\n",
       "  'classtar': 1.0,\n",
       "  'mindtoedge': 126.06400299072266,\n",
       "  'magfromlim': 4.682010173797607,\n",
       "  'seeratio': 0.6075230240821838,\n",
       "  'aimage': 1.0989999771118164,\n",
       "  'bimage': 1.069000005722046,\n",
       "  'aimagerat': 0.2150679975748062,\n",
       "  'bimagerat': 0.209197998046875,\n",
       "  'elong': 1.028059959411621,\n",
       "  'nneg': 0,\n",
       "  'nbad': 0,\n",
       "  'rb': 0.7433329820632935,\n",
       "  'ssdistnr': None,\n",
       "  'ssmagnr': None,\n",
       "  'ssnamenr': None,\n",
       "  'sumrat': 1.0,\n",
       "  'magapbig': 15.346599578857422,\n",
       "  'sigmagapbig': 0.007400000002235174,\n",
       "  'ranr': 75.2007661,\n",
       "  'decnr': 35.3614709,\n",
       "  'scorr': 61.887,\n",
       "  'magzpsci': 26.139699935913086,\n",
       "  'magzpsciunc': 5.2400400818441994e-06,\n",
       "  'magzpscirms': 0.0217886995524168,\n",
       "  'clrcoeff': 0.09752260148525238,\n",
       "  'clrcounc': 6.118780220276676e-06,\n",
       "  'rbversion': 't12_f5_c3'},\n",
       " {'jd': 2458481.8214468,\n",
       "  'fid': 2,\n",
       "  'pid': 727321446315,\n",
       "  'diffmaglim': 20.198999404907227,\n",
       "  'pdiffimfilename': '/ztf/archive/sci/2018/1229/321447/ztf_20181229321447_000658_zr_c16_o_q4_scimrefdiffimg.fits.fz',\n",
       "  'programpi': 'Kulkarni',\n",
       "  'programid': 1,\n",
       "  'candid': 727321446315010004,\n",
       "  'isdiffpos': 'f',\n",
       "  'tblid': 4,\n",
       "  'nid': 727,\n",
       "  'rcid': 63,\n",
       "  'field': 658,\n",
       "  'xpos': 2458.090087890625,\n",
       "  'ypos': 2955.860107421875,\n",
       "  'ra': 75.2007861,\n",
       "  'dec': 35.3614323,\n",
       "  'magpsf': 15.359000205993652,\n",
       "  'sigmapsf': 0.04518299922347069,\n",
       "  'chipsf': 73.64320373535156,\n",
       "  'magap': 15.30739974975586,\n",
       "  'sigmagap': 0.006099999882280827,\n",
       "  'distnr': 0.1559160053730011,\n",
       "  'magnr': 14.319000244140625,\n",
       "  'sigmagnr': 0.01600000075995922,\n",
       "  'chinr': 0.7440000176429749,\n",
       "  'sharpnr': 0.04699999839067459,\n",
       "  'sky': 0.7390589714050293,\n",
       "  'magdiff': -0.051642999053001404,\n",
       "  'fwhm': 4.150000095367432,\n",
       "  'classtar': 0.996999979019165,\n",
       "  'mindtoedge': 124.63800048828125,\n",
       "  'magfromlim': 4.891550064086914,\n",
       "  'seeratio': 0.699416995048523,\n",
       "  'aimage': 1.0,\n",
       "  'bimage': 0.9549999833106995,\n",
       "  'aimagerat': 0.24096399545669556,\n",
       "  'bimagerat': 0.2301200032234192,\n",
       "  'elong': 1.0471199750900269,\n",
       "  'nneg': 0,\n",
       "  'nbad': 0,\n",
       "  'rb': 0.7699999809265137,\n",
       "  'ssdistnr': None,\n",
       "  'ssmagnr': None,\n",
       "  'ssnamenr': None,\n",
       "  'sumrat': 1.0,\n",
       "  'magapbig': 15.302200317382812,\n",
       "  'sigmagapbig': 0.006800000090152025,\n",
       "  'ranr': 75.2007661,\n",
       "  'decnr': 35.3614709,\n",
       "  'scorr': 48.8836,\n",
       "  'magzpsci': 26.14699935913086,\n",
       "  'magzpsciunc': 4.875089871347882e-06,\n",
       "  'magzpscirms': 0.02101290039718151,\n",
       "  'clrcoeff': 0.10136599838733673,\n",
       "  'clrcounc': 5.681859875039663e-06,\n",
       "  'rbversion': 't12_f5_c3'},\n",
       " {'jd': 2458482.6949421,\n",
       "  'fid': 2,\n",
       "  'pid': 728194946315,\n",
       "  'diffmaglim': 20.03580093383789,\n",
       "  'pdiffimfilename': '/ztf/archive/sci/2018/1230/194931/ztf_20181230194931_000658_zr_c16_o_q4_scimrefdiffimg.fits.fz',\n",
       "  'programpi': 'Kulkarni',\n",
       "  'programid': 1,\n",
       "  'candid': 728194946315010005,\n",
       "  'isdiffpos': 'f',\n",
       "  'tblid': 5,\n",
       "  'nid': 728,\n",
       "  'rcid': 63,\n",
       "  'field': 658,\n",
       "  'xpos': 2464.5,\n",
       "  'ypos': 2923.070068359375,\n",
       "  'ra': 75.200777,\n",
       "  'dec': 35.3614459,\n",
       "  'magpsf': 15.312999725341797,\n",
       "  'sigmapsf': 0.04950200021266937,\n",
       "  'chipsf': 193.52999877929688,\n",
       "  'magap': 15.258500099182129,\n",
       "  'sigmagap': 0.006399999838322401,\n",
       "  'distnr': 0.09554900228977203,\n",
       "  'magnr': 14.319000244140625,\n",
       "  'sigmagnr': 0.01600000075995922,\n",
       "  'chinr': 0.7440000176429749,\n",
       "  'sharpnr': 0.04699999839067459,\n",
       "  'sky': 0.37242600321769714,\n",
       "  'magdiff': -0.05451900139451027,\n",
       "  'fwhm': 4.760000228881836,\n",
       "  'classtar': 0.9919999837875366,\n",
       "  'mindtoedge': 157.42599487304688,\n",
       "  'magfromlim': 4.777279853820801,\n",
       "  'seeratio': 0.6033520102500916,\n",
       "  'aimage': 0.9990000128746033,\n",
       "  'bimage': 0.968999981880188,\n",
       "  'aimagerat': 0.2098740041255951,\n",
       "  'bimagerat': 0.20357100665569305,\n",
       "  'elong': 1.030959963798523,\n",
       "  'nneg': 0,\n",
       "  'nbad': 0,\n",
       "  'rb': 0.7433329820632935,\n",
       "  'ssdistnr': None,\n",
       "  'ssmagnr': None,\n",
       "  'ssnamenr': None,\n",
       "  'sumrat': 1.0,\n",
       "  'magapbig': 15.248700141906738,\n",
       "  'sigmagapbig': 0.007199999876320362,\n",
       "  'ranr': 75.2007661,\n",
       "  'decnr': 35.3614709,\n",
       "  'scorr': 55.9607,\n",
       "  'magzpsci': 26.05500030517578,\n",
       "  'magzpsciunc': 4.798020199814346e-06,\n",
       "  'magzpscirms': 0.020884400233626366,\n",
       "  'clrcoeff': 0.0965849980711937,\n",
       "  'clrcounc': 5.596600203716662e-06,\n",
       "  'rbversion': 't12_f5_c3'},\n",
       " {'jd': 2458486.6315856,\n",
       "  'fid': 2,\n",
       "  'pid': 732131586315,\n",
       "  'diffmaglim': 20.260700225830078,\n",
       "  'pdiffimfilename': '/ztf/archive/sci/2019/0103/131586/ztf_20190103131586_000658_zr_c16_o_q4_scimrefdiffimg.fits.fz',\n",
       "  'programpi': 'Kulkarni',\n",
       "  'programid': 1,\n",
       "  'candid': 732131586315010005,\n",
       "  'isdiffpos': 'f',\n",
       "  'tblid': 5,\n",
       "  'nid': 732,\n",
       "  'rcid': 63,\n",
       "  'field': 658,\n",
       "  'xpos': 2464.389892578125,\n",
       "  'ypos': 2911.340087890625,\n",
       "  'ra': 75.2007552,\n",
       "  'dec': 35.3614111,\n",
       "  'magpsf': 15.256400108337402,\n",
       "  'sigmapsf': 0.04493499919772148,\n",
       "  'chipsf': 193.19500732421875,\n",
       "  'magap': 15.202500343322754,\n",
       "  'sigmagap': 0.00559999980032444,\n",
       "  'distnr': 0.22332200407981873,\n",
       "  'magnr': 14.319000244140625,\n",
       "  'sigmagnr': 0.01600000075995922,\n",
       "  'chinr': 0.7440000176429749,\n",
       "  'sharpnr': 0.04699999839067459,\n",
       "  'sky': 0.6538370251655579,\n",
       "  'magdiff': -0.05390400066971779,\n",
       "  'fwhm': 6.559999942779541,\n",
       "  'classtar': 0.9900000095367432,\n",
       "  'mindtoedge': 169.156005859375,\n",
       "  'magfromlim': 5.058169841766357,\n",
       "  'seeratio': 0.41437700390815735,\n",
       "  'aimage': 1.0789999961853027,\n",
       "  'bimage': 1.0210000276565552,\n",
       "  'aimagerat': 0.1644819974899292,\n",
       "  'bimagerat': 0.15564000606536865,\n",
       "  'elong': 1.0568100214004517,\n",
       "  'nneg': 0,\n",
       "  'nbad': 0,\n",
       "  'rb': 0.7266669869422913,\n",
       "  'ssdistnr': None,\n",
       "  'ssmagnr': None,\n",
       "  'ssnamenr': None,\n",
       "  'sumrat': 1.0,\n",
       "  'magapbig': 15.189900398254395,\n",
       "  'sigmagapbig': 0.006200000178068876,\n",
       "  'ranr': 75.2007661,\n",
       "  'decnr': 35.3614709,\n",
       "  'scorr': 32.1037,\n",
       "  'magzpsci': 26.141399383544922,\n",
       "  'magzpsciunc': 4.441750206751749e-06,\n",
       "  'magzpscirms': 0.019985899329185486,\n",
       "  'clrcoeff': 0.10217099636793137,\n",
       "  'clrcounc': 5.180249900149647e-06,\n",
       "  'rbversion': 't12_f5_c3'},\n",
       " {'jd': 2458487.6926157,\n",
       "  'fid': 1,\n",
       "  'pid': 733192616315,\n",
       "  'diffmaglim': 20.482999801635742,\n",
       "  'pdiffimfilename': '/ztf/archive/sci/2019/0104/192616/ztf_20190104192616_000658_zg_c16_o_q4_scimrefdiffimg.fits.fz',\n",
       "  'programpi': 'Kulkarni',\n",
       "  'programid': 1,\n",
       "  'candid': 733192616315010008,\n",
       "  'isdiffpos': 'f',\n",
       "  'tblid': 8,\n",
       "  'nid': 733,\n",
       "  'rcid': 63,\n",
       "  'field': 658,\n",
       "  'xpos': 2464.6201171875,\n",
       "  'ypos': 2933.2900390625,\n",
       "  'ra': 75.2007876,\n",
       "  'dec': 35.3614494,\n",
       "  'magpsf': 17.79170036315918,\n",
       "  'sigmapsf': 0.06877300143241882,\n",
       "  'chipsf': 8.970430374145508,\n",
       "  'magap': 17.942100524902344,\n",
       "  'sigmagap': 0.03440000116825104,\n",
       "  'distnr': 0.1015779972076416,\n",
       "  'magnr': 16.746999740600586,\n",
       "  'sigmagnr': 0.01600000075995922,\n",
       "  'chinr': 0.4390000104904175,\n",
       "  'sharpnr': -0.03500000014901161,\n",
       "  'sky': 0.4061650037765503,\n",
       "  'magdiff': 0.15037000179290771,\n",
       "  'fwhm': 3.940000057220459,\n",
       "  'classtar': 0.9829999804496765,\n",
       "  'mindtoedge': 147.20599365234375,\n",
       "  'magfromlim': 2.5409200191497803,\n",
       "  'seeratio': 0.7884460091590881,\n",
       "  'aimage': 0.9459999799728394,\n",
       "  'bimage': 0.8920000195503235,\n",
       "  'aimagerat': 0.24010199308395386,\n",
       "  'bimagerat': 0.22639599442481995,\n",
       "  'elong': 1.060539960861206,\n",
       "  'nneg': 1,\n",
       "  'nbad': 0,\n",
       "  'rb': 0.8033329844474792,\n",
       "  'ssdistnr': None,\n",
       "  'ssmagnr': None,\n",
       "  'ssnamenr': None,\n",
       "  'sumrat': 1.0,\n",
       "  'magapbig': 17.93120002746582,\n",
       "  'sigmagapbig': 0.04179999977350235,\n",
       "  'ranr': 75.2007678,\n",
       "  'decnr': 35.3614708,\n",
       "  'scorr': 44.5531,\n",
       "  'magzpsci': 26.251699447631836,\n",
       "  'magzpsciunc': 8.795470421318896e-06,\n",
       "  'magzpscirms': 0.028508400544524193,\n",
       "  'clrcoeff': -0.05983800068497658,\n",
       "  'clrcounc': 1.0259999726258684e-05,\n",
       "  'rbversion': 't12_f5_c3'},\n",
       " {'jd': 2458487.7407986,\n",
       "  'fid': 2,\n",
       "  'pid': 733240796315,\n",
       "  'diffmaglim': 20.58329963684082,\n",
       "  'pdiffimfilename': '/ztf/archive/sci/2019/0104/240741/ztf_20190104240741_000658_zr_c16_o_q4_scimrefdiffimg.fits.fz',\n",
       "  'programpi': 'Kulkarni',\n",
       "  'programid': 1,\n",
       "  'candid': 733240796315010006,\n",
       "  'isdiffpos': 'f',\n",
       "  'tblid': 6,\n",
       "  'nid': 733,\n",
       "  'rcid': 63,\n",
       "  'field': 658,\n",
       "  'xpos': 2487.199951171875,\n",
       "  'ypos': 2941.219970703125,\n",
       "  'ra': 75.200771,\n",
       "  'dec': 35.3614093,\n",
       "  'magpsf': 15.26609992980957,\n",
       "  'sigmapsf': 0.0545319989323616,\n",
       "  'chipsf': 152.79200744628906,\n",
       "  'magap': 15.200200080871582,\n",
       "  'sigmagap': 0.005200000014156103,\n",
       "  'distnr': 0.22668099403381348,\n",
       "  'magnr': 14.319000244140625,\n",
       "  'sigmagnr': 0.01600000075995922,\n",
       "  'chinr': 0.7440000176429749,\n",
       "  'sharpnr': 0.04699999839067459,\n",
       "  'sky': 0.12334699928760529,\n",
       "  'magdiff': -0.06589800119400024,\n",
       "  'fwhm': 4.630000114440918,\n",
       "  'classtar': 1.0,\n",
       "  'mindtoedge': 139.27999877929688,\n",
       "  'magfromlim': 5.383090019226074,\n",
       "  'seeratio': 0.5362290143966675,\n",
       "  'aimage': 0.9100000262260437,\n",
       "  'bimage': 0.8610000014305115,\n",
       "  'aimagerat': 0.19654400646686554,\n",
       "  'bimagerat': 0.18596099317073822,\n",
       "  'elong': 1.0569100379943848,\n",
       "  'nneg': 0,\n",
       "  'nbad': 0,\n",
       "  'rb': 0.6899999976158142,\n",
       "  'ssdistnr': None,\n",
       "  'ssmagnr': None,\n",
       "  'ssnamenr': None,\n",
       "  'sumrat': 1.0,\n",
       "  'magapbig': 15.184700012207031,\n",
       "  'sigmagapbig': 0.00559999980032444,\n",
       "  'ranr': 75.2007661,\n",
       "  'decnr': 35.3614709,\n",
       "  'scorr': 23.7179,\n",
       "  'magzpsci': 26.156099319458008,\n",
       "  'magzpsciunc': 4.035779966216069e-06,\n",
       "  'magzpscirms': 0.019275400787591934,\n",
       "  'clrcoeff': 0.09837999939918518,\n",
       "  'clrcounc': 4.723120127891889e-06,\n",
       "  'rbversion': 't12_f5_c3'},\n",
       " {'jd': 2458488.7228356,\n",
       "  'fid': 1,\n",
       "  'pid': 734222836315,\n",
       "  'diffmaglim': 20.35759925842285,\n",
       "  'pdiffimfilename': '/ztf/archive/sci/2019/0105/222812/ztf_20190105222812_000658_zg_c16_o_q4_scimrefdiffimg.fits.fz',\n",
       "  'programpi': 'Kulkarni',\n",
       "  'programid': 1,\n",
       "  'candid': 734222836315010013,\n",
       "  'isdiffpos': 'f',\n",
       "  'tblid': 13,\n",
       "  'nid': 734,\n",
       "  'rcid': 63,\n",
       "  'field': 658,\n",
       "  'xpos': 2483.14990234375,\n",
       "  'ypos': 2928.02001953125,\n",
       "  'ra': 75.2007813,\n",
       "  'dec': 35.361441,\n",
       "  'magpsf': 17.67729949951172,\n",
       "  'sigmapsf': 0.07684099674224854,\n",
       "  'chipsf': 12.906399726867676,\n",
       "  'magap': 17.869800567626953,\n",
       "  'sigmagap': 0.046300001442432404,\n",
       "  'distnr': 0.1200449988245964,\n",
       "  'magnr': 16.746999740600586,\n",
       "  'sigmagnr': 0.01600000075995922,\n",
       "  'chinr': 0.4390000104904175,\n",
       "  'sharpnr': -0.03500000014901161,\n",
       "  'sky': -0.08934000134468079,\n",
       "  'magdiff': 0.19248899817466736,\n",
       "  'fwhm': 2.2899999618530273,\n",
       "  'classtar': 0.9829999804496765,\n",
       "  'mindtoedge': 152.4810028076172,\n",
       "  'magfromlim': 2.487839937210083,\n",
       "  'seeratio': 1.0200599431991577,\n",
       "  'aimage': 0.6060000061988831,\n",
       "  'bimage': 0.5820000171661377,\n",
       "  'aimagerat': 0.2646290063858032,\n",
       "  'bimagerat': 0.254148006439209,\n",
       "  'elong': 1.0412399768829346,\n",
       "  'nneg': 6,\n",
       "  'nbad': 0,\n",
       "  'rb': 0.6966670155525208,\n",
       "  'ssdistnr': None,\n",
       "  'ssmagnr': None,\n",
       "  'ssnamenr': None,\n",
       "  'sumrat': 0.9163370132446289,\n",
       "  'magapbig': 17.884599685668945,\n",
       "  'sigmagapbig': 0.05820000171661377,\n",
       "  'ranr': 75.2007678,\n",
       "  'decnr': 35.3614708,\n",
       "  'scorr': 19.2258,\n",
       "  'magzpsci': 25.792299270629883,\n",
       "  'magzpsciunc': 1.1668399565678556e-05,\n",
       "  'magzpscirms': 0.0330657996237278,\n",
       "  'clrcoeff': -0.028700700029730797,\n",
       "  'clrcounc': 1.3634399692818988e-05,\n",
       "  'rbversion': 't12_f5_c3'},\n",
       " {'jd': 2458488.7541088,\n",
       "  'fid': 2,\n",
       "  'pid': 734254106315,\n",
       "  'diffmaglim': 20.536100387573242,\n",
       "  'pdiffimfilename': '/ztf/archive/sci/2019/0105/253958/ztf_20190105253958_000658_zr_c16_o_q4_scimrefdiffimg.fits.fz',\n",
       "  'programpi': 'Kulkarni',\n",
       "  'programid': 1,\n",
       "  'candid': 734254106315010014,\n",
       "  'isdiffpos': 'f',\n",
       "  'tblid': 14,\n",
       "  'nid': 734,\n",
       "  'rcid': 63,\n",
       "  'field': 658,\n",
       "  'xpos': 2483.179931640625,\n",
       "  'ypos': 2933.820068359375,\n",
       "  'ra': 75.2007706,\n",
       "  'dec': 35.3614575,\n",
       "  'magpsf': 15.26609992980957,\n",
       "  'sigmapsf': 0.07365600019693375,\n",
       "  'chipsf': 335.7070007324219,\n",
       "  'magap': 15.19260025024414,\n",
       "  'sigmagap': 0.0052999998442828655,\n",
       "  'distnr': 0.05526899918913841,\n",
       "  'magnr': 14.319000244140625,\n",
       "  'sigmagnr': 0.01600000075995922,\n",
       "  'chinr': 0.7440000176429749,\n",
       "  'sharpnr': 0.04699999839067459,\n",
       "  'sky': -0.2264620065689087,\n",
       "  'magdiff': -0.07348400354385376,\n",
       "  'fwhm': 3.7300000190734863,\n",
       "  'classtar': 1.0,\n",
       "  'mindtoedge': 146.68299865722656,\n",
       "  'magfromlim': 5.34345006942749,\n",
       "  'seeratio': 0.6642490029335022,\n",
       "  'aimage': 0.8109999895095825,\n",
       "  'bimage': 0.7929999828338623,\n",
       "  'aimagerat': 0.21742600202560425,\n",
       "  'bimagerat': 0.21260100603103638,\n",
       "  'elong': 1.0226999521255493,\n",
       "  'nneg': 0,\n",
       "  'nbad': 0,\n",
       "  'rb': 0.7200000286102295,\n",
       "  'ssdistnr': None,\n",
       "  'ssmagnr': None,\n",
       "  'ssnamenr': None,\n",
       "  'sumrat': 1.0,\n",
       "  'magapbig': 15.184700012207031,\n",
       "  'sigmagapbig': 0.00570000009611249,\n",
       "  'ranr': 75.2007661,\n",
       "  'decnr': 35.3614709,\n",
       "  'scorr': 52.9317,\n",
       "  'magzpsci': 26.13409996032715,\n",
       "  'magzpsciunc': 5.671930011885706e-06,\n",
       "  'magzpscirms': 0.02271980047225952,\n",
       "  'clrcoeff': 0.09155859798192978,\n",
       "  'clrcounc': 6.640800165769178e-06,\n",
       "  'rbversion': 't12_f5_c3'},\n",
       " {'jd': 2458490.7040856,\n",
       "  'fid': 2,\n",
       "  'pid': 736204086315,\n",
       "  'diffmaglim': 20.551599502563477,\n",
       "  'pdiffimfilename': '/ztf/archive/sci/2019/0107/204062/ztf_20190107204062_000658_zr_c16_o_q4_scimrefdiffimg.fits.fz',\n",
       "  'programpi': 'Kulkarni',\n",
       "  'programid': 1,\n",
       "  'candid': 736204086315010013,\n",
       "  'isdiffpos': 'f',\n",
       "  'tblid': 13,\n",
       "  'nid': 736,\n",
       "  'rcid': 63,\n",
       "  'field': 658,\n",
       "  'xpos': 2475.659912109375,\n",
       "  'ypos': 2926.989990234375,\n",
       "  'ra': 75.2007764,\n",
       "  'dec': 35.3614407,\n",
       "  'magpsf': 15.282600402832031,\n",
       "  'sigmapsf': 0.05258699879050255,\n",
       "  'chipsf': 212.32200622558594,\n",
       "  'magap': 15.242500305175781,\n",
       "  'sigmagap': 0.005400000140070915,\n",
       "  'distnr': 0.12009800225496292,\n",
       "  'magnr': 14.319000244140625,\n",
       "  'sigmagnr': 0.01600000075995922,\n",
       "  'chinr': 0.7440000176429749,\n",
       "  'sharpnr': 0.04699999839067459,\n",
       "  'sky': 0.1623850017786026,\n",
       "  'magdiff': -0.04010799899697304,\n",
       "  'fwhm': 4.239999771118164,\n",
       "  'classtar': 0.9990000128746033,\n",
       "  'mindtoedge': 153.51100158691406,\n",
       "  'magfromlim': 5.309140205383301,\n",
       "  'seeratio': 0.6079229712486267,\n",
       "  'aimage': 0.8769999742507935,\n",
       "  'bimage': 0.8560000061988831,\n",
       "  'aimagerat': 0.20683999359607697,\n",
       "  'bimagerat': 0.20188699662685394,\n",
       "  'elong': 1.024530053138733,\n",
       "  'nneg': 0,\n",
       "  'nbad': 0,\n",
       "  'rb': 0.7266669869422913,\n",
       "  'ssdistnr': None,\n",
       "  'ssmagnr': None,\n",
       "  'ssnamenr': None,\n",
       "  'sumrat': 1.0,\n",
       "  'magapbig': 15.233400344848633,\n",
       "  'sigmagapbig': 0.005799999926239252,\n",
       "  'ranr': 75.2007661,\n",
       "  'decnr': 35.3614709,\n",
       "  'scorr': 55.6365,\n",
       "  'magzpsci': 26.15060043334961,\n",
       "  'magzpsciunc': 2.792670102280681e-06,\n",
       "  'magzpscirms': 0.01593630015850067,\n",
       "  'clrcoeff': 0.08970910310745239,\n",
       "  'clrcounc': 3.258920060034143e-06,\n",
       "  'rbversion': 't12_f5_c3'},\n",
       " {'jd': 2458490.7308796,\n",
       "  'fid': 1,\n",
       "  'pid': 736230876315,\n",
       "  'diffmaglim': 20.36870002746582,\n",
       "  'pdiffimfilename': '/ztf/archive/sci/2019/0107/230498/ztf_20190107230498_000658_zg_c16_o_q4_scimrefdiffimg.fits.fz',\n",
       "  'programpi': 'Kulkarni',\n",
       "  'programid': 1,\n",
       "  'candid': 736230876315010014,\n",
       "  'isdiffpos': 'f',\n",
       "  'tblid': 14,\n",
       "  'nid': 736,\n",
       "  'rcid': 63,\n",
       "  'field': 658,\n",
       "  'xpos': 2480.22998046875,\n",
       "  'ypos': 2936.449951171875,\n",
       "  'ra': 75.2008078,\n",
       "  'dec': 35.3614237,\n",
       "  'magpsf': 17.859800338745117,\n",
       "  'sigmapsf': 0.07368499785661697,\n",
       "  'chipsf': 5.563529968261719,\n",
       "  'magap': 17.991199493408203,\n",
       "  'sigmagap': 0.03440000116825104,\n",
       "  'distnr': 0.19920000433921814,\n",
       "  'magnr': 16.746999740600586,\n",
       "  'sigmagnr': 0.01600000075995922,\n",
       "  'chinr': 0.4390000104904175,\n",
       "  'sharpnr': -0.03500000014901161,\n",
       "  'sky': 0.40188199281692505,\n",
       "  'magdiff': 0.1314219981431961,\n",
       "  'fwhm': 4.179999828338623,\n",
       "  'classtar': 0.9829999804496765,\n",
       "  'mindtoedge': 144.05299377441406,\n",
       "  'magfromlim': 2.3774800300598145,\n",
       "  'seeratio': 0.8757960200309753,\n",
       "  'aimage': 1.11899995803833,\n",
       "  'bimage': 1.0859999656677246,\n",
       "  'aimagerat': 0.26770299673080444,\n",
       "  'bimagerat': 0.2598089873790741,\n",
       "  'elong': 1.0303900241851807,\n",
       "  'nneg': 0,\n",
       "  'nbad': 0,\n",
       "  'rb': 0.8100000023841858,\n",
       "  'ssdistnr': None,\n",
       "  'ssmagnr': None,\n",
       "  'ssnamenr': None,\n",
       "  'sumrat': 1.0,\n",
       "  'magapbig': 18.00629997253418,\n",
       "  'sigmagapbig': 0.04259999841451645,\n",
       "  'ranr': 75.2007678,\n",
       "  'decnr': 35.3614708,\n",
       "  'scorr': 41.1089,\n",
       "  'magzpsci': 26.251800537109375,\n",
       "  'magzpsciunc': 1.5056900338095147e-05,\n",
       "  'magzpscirms': 0.03732069954276085,\n",
       "  'clrcoeff': -0.04329109936952591,\n",
       "  'clrcounc': 1.7638700228417292e-05,\n",
       "  'rbversion': 't12_f5_c3'},\n",
       " {'jd': 2458491.7049769,\n",
       "  'fid': 1,\n",
       "  'pid': 737204976315,\n",
       "  'diffmaglim': 20.735200881958008,\n",
       "  'pdiffimfilename': '/ztf/archive/sci/2019/0108/204965/ztf_20190108204965_000658_zg_c16_o_q4_scimrefdiffimg.fits.fz',\n",
       "  'programpi': 'Kulkarni',\n",
       "  'programid': 1,\n",
       "  'candid': 737204976315010007,\n",
       "  'isdiffpos': 'f',\n",
       "  'tblid': 7,\n",
       "  'nid': 737,\n",
       "  'rcid': 63,\n",
       "  'field': 658,\n",
       "  'xpos': 2479.0400390625,\n",
       "  'ypos': 2924.64990234375,\n",
       "  'ra': 75.2007932,\n",
       "  'dec': 35.3614306,\n",
       "  'magpsf': 17.822900772094727,\n",
       "  'sigmapsf': 0.07487700134515762,\n",
       "  'chipsf': 15.062299728393555,\n",
       "  'magap': 18.036399841308594,\n",
       "  'sigmagap': 0.035999998450279236,\n",
       "  'distnr': 0.17242300510406494,\n",
       "  'magnr': 16.746999740600586,\n",
       "  'sigmagnr': 0.01600000075995922,\n",
       "  'chinr': 0.4390000104904175,\n",
       "  'sharpnr': -0.03500000014901161,\n",
       "  'sky': 0.35016998648643494,\n",
       "  'magdiff': 0.2135089933872223,\n",
       "  'fwhm': 3.809999942779541,\n",
       "  'classtar': 0.984000027179718,\n",
       "  'mindtoedge': 155.84500122070312,\n",
       "  'magfromlim': 2.6987500190734863,\n",
       "  'seeratio': 0.6854779720306396,\n",
       "  'aimage': 0.7710000276565552,\n",
       "  'bimage': 0.7089999914169312,\n",
       "  'aimagerat': 0.20236200094223022,\n",
       "  'bimagerat': 0.18608899414539337,\n",
       "  'elong': 1.0874500274658203,\n",
       "  'nneg': 4,\n",
       "  'nbad': 0,\n",
       "  'rb': 0.7766669988632202,\n",
       "  'ssdistnr': None,\n",
       "  'ssmagnr': None,\n",
       "  'ssnamenr': None,\n",
       "  'sumrat': 0.9894049763679504,\n",
       "  'magapbig': 18.035600662231445,\n",
       "  'sigmagapbig': 0.04390000179409981,\n",
       "  'ranr': 75.2007678,\n",
       "  'decnr': 35.3614708,\n",
       "  'scorr': 27.0125,\n",
       "  'magzpsci': 26.23590087890625,\n",
       "  'magzpsciunc': 9.639779818826355e-06,\n",
       "  'magzpscirms': 0.029942499473690987,\n",
       "  'clrcoeff': -0.0402613990008831,\n",
       "  'clrcounc': 1.122819958254695e-05,\n",
       "  'rbversion': 't12_f5_c3'},\n",
       " {'jd': 2458491.7361806,\n",
       "  'fid': 2,\n",
       "  'pid': 737236186315,\n",
       "  'diffmaglim': 20.34819984436035,\n",
       "  'pdiffimfilename': '/ztf/archive/sci/2019/0108/236169/ztf_20190108236169_000658_zr_c16_o_q4_scimrefdiffimg.fits.fz',\n",
       "  'programpi': 'Kulkarni',\n",
       "  'programid': 1,\n",
       "  'candid': 737236186315010012,\n",
       "  'isdiffpos': 'f',\n",
       "  'tblid': 12,\n",
       "  'nid': 737,\n",
       "  'rcid': 63,\n",
       "  'field': 658,\n",
       "  'xpos': 2485.5,\n",
       "  'ypos': 2926.199951171875,\n",
       "  'ra': 75.200787,\n",
       "  'dec': 35.3614155,\n",
       "  'magpsf': 15.294400215148926,\n",
       "  'sigmapsf': 0.042775001376867294,\n",
       "  'chipsf': 203.9080047607422,\n",
       "  'magap': 15.25469970703125,\n",
       "  'sigmagap': 0.00559999980032444,\n",
       "  'distnr': 0.22149300575256348,\n",
       "  'magnr': 14.319000244140625,\n",
       "  'sigmagnr': 0.01600000075995922,\n",
       "  'chinr': 0.7440000176429749,\n",
       "  'sharpnr': 0.04699999839067459,\n",
       "  'sky': 0.8142539858818054,\n",
       "  'magdiff': -0.039707001298666,\n",
       "  'fwhm': 5.619999885559082,\n",
       "  'classtar': 0.9959999918937683,\n",
       "  'mindtoedge': 154.2969970703125,\n",
       "  'magfromlim': 5.093480110168457,\n",
       "  'seeratio': 0.5019440054893494,\n",
       "  'aimage': 1.059000015258789,\n",
       "  'bimage': 1.0110000371932983,\n",
       "  'aimagerat': 0.18843400478363037,\n",
       "  'bimagerat': 0.17989300191402435,\n",
       "  'elong': 1.0474799871444702,\n",
       "  'nneg': 0,\n",
       "  'nbad': 0,\n",
       "  'rb': 0.7099999785423279,\n",
       "  'ssdistnr': None,\n",
       "  'ssmagnr': None,\n",
       "  'ssnamenr': None,\n",
       "  'sumrat': 1.0,\n",
       "  'magapbig': 15.238499641418457,\n",
       "  'sigmagapbig': 0.006099999882280827,\n",
       "  'ranr': 75.2007661,\n",
       "  'decnr': 35.3614709,\n",
       "  'scorr': 27.6026,\n",
       "  'magzpsci': 26.14539909362793,\n",
       "  'magzpsciunc': 3.58507008968445e-06,\n",
       "  'magzpscirms': 0.01819480024278164,\n",
       "  'clrcoeff': 0.1041250005364418,\n",
       "  'clrcounc': 4.187790182186291e-06,\n",
       "  'rbversion': 't12_f5_c3'},\n",
       " {'jd': 2458492.6524653,\n",
       "  'fid': 2,\n",
       "  'pid': 738152466315,\n",
       "  'diffmaglim': 18.69379997253418,\n",
       "  'pdiffimfilename': '/ztf/archive/sci/2019/0109/152292/ztf_20190109152292_000658_zr_c16_o_q4_scimrefdiffimg.fits.fz',\n",
       "  'programpi': 'Kulkarni',\n",
       "  'programid': 1,\n",
       "  'candid': 738152466315010001,\n",
       "  'isdiffpos': 'f',\n",
       "  'tblid': 1,\n",
       "  'nid': 738,\n",
       "  'rcid': 63,\n",
       "  'field': 658,\n",
       "  'xpos': 2485.02001953125,\n",
       "  'ypos': 2970.280029296875,\n",
       "  'ra': 75.20077,\n",
       "  'dec': 35.3614404,\n",
       "  'magpsf': 15.35569953918457,\n",
       "  'sigmapsf': 0.058031998574733734,\n",
       "  'chipsf': 28.701099395751953,\n",
       "  'magap': 15.299500465393066,\n",
       "  'sigmagap': 0.01769999973475933,\n",
       "  'distnr': 0.11629799753427505,\n",
       "  'magnr': 14.319000244140625,\n",
       "  'sigmagnr': 0.01600000075995922,\n",
       "  'chinr': 0.7440000176429749,\n",
       "  'sharpnr': 0.04699999839067459,\n",
       "  'sky': -0.7631239891052246,\n",
       "  'magdiff': -0.05616699904203415,\n",
       "  'fwhm': 5.409999847412109,\n",
       "  'classtar': 0.9980000257492065,\n",
       "  'mindtoedge': 110.21900177001953,\n",
       "  'magfromlim': 3.394289970397949,\n",
       "  'seeratio': 0.4955419898033142,\n",
       "  'aimage': 0.9710000157356262,\n",
       "  'bimage': 0.9319999814033508,\n",
       "  'aimagerat': 0.17948199808597565,\n",
       "  'bimagerat': 0.17227399349212646,\n",
       "  'elong': 1.0418399572372437,\n",
       "  'nneg': 1,\n",
       "  'nbad': 0,\n",
       "  'rb': 0.6766669750213623,\n",
       "  'ssdistnr': None,\n",
       "  'ssmagnr': None,\n",
       "  'ssnamenr': None,\n",
       "  'sumrat': 1.0,\n",
       "  'magapbig': 15.305999755859375,\n",
       "  'sigmagapbig': 0.02199999988079071,\n",
       "  'ranr': 75.2007661,\n",
       "  'decnr': 35.3614709,\n",
       "  'scorr': 20.5733,\n",
       "  'magzpsci': 25.03070068359375,\n",
       "  'magzpsciunc': 1.271679957426386e-05,\n",
       "  'magzpscirms': 0.034464698284864426,\n",
       "  'clrcoeff': 0.07444129884243011,\n",
       "  'clrcounc': 1.4830799955234397e-05,\n",
       "  'rbversion': 't12_f5_c3'},\n",
       " {'jd': 2458492.6886111,\n",
       "  'fid': 1,\n",
       "  'pid': 738188616315,\n",
       "  'diffmaglim': 18.706600189208984,\n",
       "  'pdiffimfilename': '/ztf/archive/sci/2019/0109/188194/ztf_20190109188194_000658_zg_c16_o_q4_scimrefdiffimg.fits.fz',\n",
       "  'programpi': 'Kulkarni',\n",
       "  'programid': 1,\n",
       "  'candid': 738188616315010031,\n",
       "  'isdiffpos': 'f',\n",
       "  'tblid': 31,\n",
       "  'nid': 738,\n",
       "  'rcid': 63,\n",
       "  'field': 658,\n",
       "  'xpos': 2476.6298828125,\n",
       "  'ypos': 2970.969970703125,\n",
       "  'ra': 75.2007756,\n",
       "  'dec': 35.3614608,\n",
       "  'magpsf': 17.744199752807617,\n",
       "  'sigmapsf': 0.13925400376319885,\n",
       "  'chipsf': 2.3575100898742676,\n",
       "  'magap': 18.11720085144043,\n",
       "  'sigmagap': 0.22200000286102295,\n",
       "  'distnr': 0.04202599823474884,\n",
       "  'magnr': 16.746999740600586,\n",
       "  'sigmagnr': 0.01600000075995922,\n",
       "  'chinr': 0.4390000104904175,\n",
       "  'sharpnr': -0.03500000014901161,\n",
       "  'sky': 0.4911240041255951,\n",
       "  'magdiff': 0.3730359971523285,\n",
       "  'fwhm': 2.4200000762939453,\n",
       "  'classtar': 0.9779999852180481,\n",
       "  'mindtoedge': 109.53399658203125,\n",
       "  'magfromlim': 0.589372992515564,\n",
       "  'seeratio': 1.0661300420761108,\n",
       "  'aimage': 0.6769999861717224,\n",
       "  'bimage': 0.6179999709129333,\n",
       "  'aimagerat': 0.2797519862651825,\n",
       "  'bimagerat': 0.25537198781967163,\n",
       "  'elong': 1.0954699516296387,\n",
       "  'nneg': 5,\n",
       "  'nbad': 0,\n",
       "  'rb': 0.7166669964790344,\n",
       "  'ssdistnr': None,\n",
       "  'ssmagnr': None,\n",
       "  'ssnamenr': None,\n",
       "  'sumrat': 0.9367560148239136,\n",
       "  'magapbig': 18.117300033569336,\n",
       "  'sigmagapbig': 0.28369998931884766,\n",
       "  'ranr': 75.2007678,\n",
       "  'decnr': 35.3614708,\n",
       "  'scorr': 14.2461,\n",
       "  'magzpsci': 24.579200744628906,\n",
       "  'magzpsciunc': 8.400309889111668e-05,\n",
       "  'magzpscirms': 0.06778939813375473,\n",
       "  'clrcoeff': -0.10580699890851974,\n",
       "  'clrcounc': 0.00010472400026628748,\n",
       "  'rbversion': 't12_f5_c3'},\n",
       " {'jd': 2458493.7031597,\n",
       "  'fid': 1,\n",
       "  'pid': 739203156315,\n",
       "  'diffmaglim': 20.77440071105957,\n",
       "  'pdiffimfilename': '/ztf/archive/sci/2019/0110/202917/ztf_20190110202917_000658_zg_c16_o_q4_scimrefdiffimg.fits.fz',\n",
       "  'programpi': 'Kulkarni',\n",
       "  'programid': 1,\n",
       "  'candid': 739203156315010009,\n",
       "  'isdiffpos': '0',\n",
       "  'tblid': 9,\n",
       "  'nid': 739,\n",
       "  'rcid': 63,\n",
       "  'field': 658,\n",
       "  'xpos': 2466.580078125,\n",
       "  'ypos': 2915.969970703125,\n",
       "  'ra': 75.2007902,\n",
       "  'dec': 35.3614651,\n",
       "  'magpsf': 17.906200408935547,\n",
       "  'sigmapsf': 0.07848600298166275,\n",
       "  'chipsf': 18.881099700927734,\n",
       "  'magap': 18.112300872802734,\n",
       "  'sigmagap': 0.04019999876618385,\n",
       "  'distnr': 0.0742269977927208,\n",
       "  'magnr': 16.746999740600586,\n",
       "  'sigmagnr': 0.01600000075995922,\n",
       "  'chinr': 0.4390000104904175,\n",
       "  'sharpnr': -0.03500000014901161,\n",
       "  'sky': -0.3882330060005188,\n",
       "  'magdiff': 0.20614099502563477,\n",
       "  'fwhm': 3.0299999713897705,\n",
       "  'classtar': 0.9829999804496765,\n",
       "  'mindtoedge': 164.5279998779297,\n",
       "  'magfromlim': 2.662130117416382,\n",
       "  'seeratio': 0.8007029891014099,\n",
       "  'aimage': 0.6499999761581421,\n",
       "  'bimage': 0.6000000238418579,\n",
       "  'aimagerat': 0.21452100574970245,\n",
       "  'bimagerat': 0.19801999628543854,\n",
       "  'elong': 1.0833300352096558,\n",
       "  'nneg': 7,\n",
       "  'nbad': 0,\n",
       "  'rb': 0.5828570127487183,\n",
       "  'ssdistnr': None,\n",
       "  'ssmagnr': None,\n",
       "  'ssnamenr': None,\n",
       "  'sumrat': 0.9683279991149902,\n",
       "  'magapbig': 18.13010025024414,\n",
       "  'sigmagapbig': 0.049800001084804535,\n",
       "  'ranr': 75.2007678,\n",
       "  'decnr': 35.3614708,\n",
       "  'scorr': 21.2911,\n",
       "  'magzpsci': 26.156200408935547,\n",
       "  'magzpsciunc': 6.962489806028316e-06,\n",
       "  'magzpscirms': 0.025365499779582024,\n",
       "  'clrcoeff': -0.05268219858407974,\n",
       "  'clrcounc': 8.104510015982669e-06,\n",
       "  'rbversion': 't15_f5_c3'}]"
      ]
     },
     "execution_count": 174,
     "metadata": {},
     "output_type": "execute_result"
    }
   ],
   "source": [
    "real_alerts"
   ]
  },
  {
   "cell_type": "code",
   "execution_count": 175,
   "metadata": {},
   "outputs": [
    {
     "name": "stdout",
     "output_type": "stream",
     "text": [
      "100 percent of the alerts were generated from partnership observations.\n",
      "71 percent of the alerts had RB scores greater than 0.5.\n"
     ]
    }
   ],
   "source": [
    "print(\"%d percent of the alerts were generated from partnership observations.\" % (len(partnership_alerts)/len(alert_dict['prv_candidates'])*100))\n",
    "print(\"%d percent of the alerts had RB scores greater than 0.5.\" % (len(real_alerts)/len(alert_dict['prv_candidates'])*100))"
   ]
  },
  {
   "cell_type": "markdown",
   "metadata": {},
   "source": [
    "# Fritz candidate lightcurves and lightcurve properties"
   ]
  },
  {
   "cell_type": "markdown",
   "metadata": {},
   "source": [
    "Our candidates are stored in a ZTF marshal database called Fritz. Now, we will retrieve an object and its respective properties from the Fritz marshal using ZTFQuery."
   ]
  },
  {
   "cell_type": "code",
   "execution_count": 254,
   "metadata": {},
   "outputs": [],
   "source": [
    "from ztfquery import fritz\n",
    "source = fritz.download_source(\"ZTF19aadyppr\", get_object=True)"
   ]
  },
  {
   "cell_type": "code",
   "execution_count": 255,
   "metadata": {},
   "outputs": [
    {
     "data": {
      "text/plain": [
       "{'ra_dis': None,\n",
       " 'redshift_history': [{'value': 0.0015,\n",
       "   'set_at_utc': '2020-11-05T13:03:48.314811',\n",
       "   'set_by_user_id': 22}],\n",
       " 'is_roid': False,\n",
       " 'dec_dis': None,\n",
       " 'altdata': {'passing_alert_id': 1222285755315010004},\n",
       " 'score': 0.9999933242797852,\n",
       " 'created_at': '2020-11-05T03:45:06.587069',\n",
       " 'ra_err': None,\n",
       " 'dist_nearest_source': None,\n",
       " 'origin': None,\n",
       " 'modified': '2022-07-16T15:06:15.342984',\n",
       " 'dec_err': None,\n",
       " 'mag_nearest_source': None,\n",
       " 'alias': None,\n",
       " 'ra': 202.4267435,\n",
       " 'offset': 0.0,\n",
       " 'e_mag_nearest_source': None,\n",
       " 'healpix': 775994328883373900,\n",
       " 'dec': 47.1879649,\n",
       " 'redshift': 0.0015,\n",
       " 'transient': False,\n",
       " 'internal_key': '6e38a85b-a356-4ba3-9b5e-9777a2aaaa69',\n",
       " 'id': 'ZTF19aadyppr',\n",
       " 'redshift_error': None,\n",
       " 'varstar': False,\n",
       " 'detect_photometry_count': None,\n",
       " 'redshift_origin': None,\n",
       " 'followup_requests': [],\n",
       " 'assignments': [],\n",
       " 'duplicates': None,\n",
       " 'annotations': [],\n",
       " 'classifications': [],\n",
       " 'gal_lat': 68.57917779137746,\n",
       " 'gal_lon': 104.9162956084081,\n",
       " 'luminosity_distance': 6.653938970556693,\n",
       " 'dm': 29.11539406616867,\n",
       " 'angular_diameter_distance': 6.634021978073021,\n",
       " 'groups': []}"
      ]
     },
     "execution_count": 255,
     "metadata": {},
     "output_type": "execute_result"
    }
   ],
   "source": [
    "source.fritzdict"
   ]
  },
  {
   "cell_type": "markdown",
   "metadata": {},
   "source": [
    "As you can see from the JSON dictionary, the source classification is simply \"transient\". Print the luminosity distance, and distance modulus from the JSON dict. What two groups did this transient belong to?"
   ]
  },
  {
   "cell_type": "code",
   "execution_count": null,
   "metadata": {},
   "outputs": [],
   "source": []
  },
  {
   "cell_type": "code",
   "execution_count": 256,
   "metadata": {},
   "outputs": [
    {
     "name": "stdout",
     "output_type": "stream",
     "text": [
      "Luminosity Distance:  6.653938970556693\n",
      "Distance Modulus:  29.11539406616867\n"
     ]
    }
   ],
   "source": [
    "# YOUR CODE HERE\n",
    "dl = source.fritzdict['luminosity_distance']\n",
    "dm = source.fritzdict['dm']\n",
    "print('Luminosity Distance: ', dl)\n",
    "print('Distance Modulus: ', dm)"
   ]
  },
  {
   "cell_type": "code",
   "execution_count": 257,
   "metadata": {},
   "outputs": [
    {
     "name": "stdout",
     "output_type": "stream",
     "text": [
      "[]\n"
     ]
    }
   ],
   "source": [
    "print(source.fritzdict['groups'])"
   ]
  },
  {
   "cell_type": "markdown",
   "metadata": {},
   "source": [
    "A: The transient belongs to both \"Redshift Completeness Factor\" program as well as the \"Census of the Local Unverse\" program, satisfying the filtering criteria of both."
   ]
  },
  {
   "cell_type": "markdown",
   "metadata": {},
   "source": [
    "Now, let us take a closer look at the lightcurve of this transient."
   ]
  },
  {
   "cell_type": "code",
   "execution_count": 258,
   "metadata": {},
   "outputs": [],
   "source": [
    "fritz_lc = fritz.FritzPhotometry.from_name(\"ZTF19aadyppr\", force_dl=True)"
   ]
  },
  {
   "cell_type": "code",
   "execution_count": 259,
   "metadata": {},
   "outputs": [],
   "source": [
    "fritz_lc.store()"
   ]
  },
  {
   "cell_type": "code",
   "execution_count": 260,
   "metadata": {},
   "outputs": [
    {
     "name": "stderr",
     "output_type": "stream",
     "text": [
      "/opt/anaconda3/envs/ztfsummer/lib/python3.8/site-packages/ztfquery/fritz.py:710: UserWarning: Unknown instrument: atlasc | magnitude not shown\n",
      "  warnings.warn(f\"Unknown instrument: {filter_} | magnitude not shown\")\n",
      "/opt/anaconda3/envs/ztfsummer/lib/python3.8/site-packages/ztfquery/fritz.py:710: UserWarning: Unknown instrument: atlaso | magnitude not shown\n",
      "  warnings.warn(f\"Unknown instrument: {filter_} | magnitude not shown\")\n"
     ]
    },
    {
     "data": {
      "image/png": "[encoded data removed]",
      "text/plain": [
       "<Figure size 360x216 with 1 Axes>"
      ]
     },
     "execution_count": 260,
     "metadata": {},
     "output_type": "execute_result"
    },
    {
     "data": {
      "image/png": "[encoded data removed]",
      "text/plain": [
       "<Figure size 360x216 with 1 Axes>"
      ]
     },
     "metadata": {
      "needs_background": "light"
     },
     "output_type": "display_data"
    }
   ],
   "source": [
    "fritz_lc.show()"
   ]
  },
  {
   "cell_type": "markdown",
   "metadata": {},
   "source": [
    "The lightcurve will be written to a file in the ZTFDATA directory we had created earlier, by default."
   ]
  },
  {
   "cell_type": "code",
   "execution_count": 197,
   "metadata": {},
   "outputs": [
    {
     "data": {
      "text/plain": [
       "['fritz_lightcurve_ZTF19aadyppr.csv']"
      ]
     },
     "execution_count": 197,
     "metadata": {},
     "output_type": "execute_result"
    }
   ],
   "source": [
    "import os\n",
    "os.listdir(os.path.join(fritz.FRITZSOURCE,\"lightcurve\"))\n",
    "           "
   ]
  },
  {
   "cell_type": "code",
   "execution_count": 198,
   "metadata": {},
   "outputs": [
    {
     "data": {
      "text/html": [
       "<div><i>Table length=380</i>\n",
       "<table id=\"table140210684641392\" class=\"table-striped table-bordered table-condensed\">\n",
       "<thead><tr><th>obj_id</th><th>ra</th><th>dec</th><th>filter</th><th>mjd</th><th>snr</th><th>instrument_id</th><th>instrument_name</th><th>ra_unc</th><th>dec_unc</th><th>origin</th><th>id</th><th>groups</th><th>altdata</th><th>mag</th><th>magerr</th><th>magsys</th><th>limiting_mag</th></tr></thead>\n",
       "<thead><tr><th>str12</th><th>float64</th><th>float64</th><th>str6</th><th>float64</th><th>float64</th><th>int64</th><th>str5</th><th>int64</th><th>int64</th><th>str4</th><th>int64</th><th>str50</th><th>int64</th><th>float64</th><th>float64</th><th>str2</th><th>float64</th></tr></thead>\n",
       "<tr><td>ZTF19aadyppr</td><td>--</td><td>--</td><td>ztfr</td><td>59394.30842590006</td><td>--</td><td>1</td><td>ZTF</td><td>--</td><td>--</td><td>None</td><td>142238412</td><td>[3]</td><td>--</td><td>--</td><td>--</td><td>ab</td><td>19.84749984741211</td></tr>\n",
       "<tr><td>ZTF19aadyppr</td><td>--</td><td>--</td><td>ztfr</td><td>59396.20166670019</td><td>--</td><td>1</td><td>ZTF</td><td>--</td><td>--</td><td>None</td><td>142238413</td><td>[3]</td><td>--</td><td>--</td><td>--</td><td>ab</td><td>20.59830093383789</td></tr>\n",
       "<tr><td>ZTF19aadyppr</td><td>--</td><td>--</td><td>ztfg</td><td>59396.24265050003</td><td>--</td><td>1</td><td>ZTF</td><td>--</td><td>--</td><td>None</td><td>142238414</td><td>[3]</td><td>--</td><td>--</td><td>--</td><td>ab</td><td>20.607500076293945</td></tr>\n",
       "<tr><td>ZTF19aadyppr</td><td>--</td><td>--</td><td>ztfr</td><td>59399.197812499944</td><td>--</td><td>1</td><td>ZTF</td><td>--</td><td>--</td><td>None</td><td>142238415</td><td>[3]</td><td>--</td><td>--</td><td>--</td><td>ab</td><td>20.57939910888672</td></tr>\n",
       "<tr><td>ZTF19aadyppr</td><td>--</td><td>--</td><td>ztfg</td><td>59399.24678240018</td><td>--</td><td>1</td><td>ZTF</td><td>--</td><td>--</td><td>None</td><td>142238416</td><td>[3]</td><td>--</td><td>--</td><td>--</td><td>ab</td><td>20.408700942993164</td></tr>\n",
       "<tr><td>ZTF19aadyppr</td><td>--</td><td>--</td><td>ztfg</td><td>59401.22344909981</td><td>--</td><td>1</td><td>ZTF</td><td>--</td><td>--</td><td>None</td><td>142238417</td><td>[3]</td><td>--</td><td>--</td><td>--</td><td>ab</td><td>20.217500686645508</td></tr>\n",
       "<tr><td>...</td><td>...</td><td>...</td><td>...</td><td>...</td><td>...</td><td>...</td><td>...</td><td>...</td><td>...</td><td>...</td><td>...</td><td>...</td><td>...</td><td>...</td><td>...</td><td>...</td><td>...</td></tr>\n",
       "<tr><td>ZTF19aadyppr</td><td>202.42674</td><td>47.18796</td><td>atlasc</td><td>58724.238571</td><td>--</td><td>72</td><td>ATLAS</td><td>--</td><td>--</td><td>None</td><td>205984514</td><td>[255, 261, 280, 1, 239, 364, 41, 43, 51, 214, 215]</td><td>--</td><td>--</td><td>--</td><td>ab</td><td>19.13</td></tr>\n",
       "<tr><td>ZTF19aadyppr</td><td>202.42674</td><td>47.18796</td><td>atlasc</td><td>58724.241806</td><td>--</td><td>72</td><td>ATLAS</td><td>--</td><td>--</td><td>None</td><td>205984515</td><td>[255, 261, 280, 1, 239, 364, 41, 43, 51, 214, 215]</td><td>--</td><td>--</td><td>--</td><td>ab</td><td>19.41</td></tr>\n",
       "<tr><td>ZTF19aadyppr</td><td>202.42674</td><td>47.18796</td><td>atlasc</td><td>58724.248642</td><td>--</td><td>72</td><td>ATLAS</td><td>--</td><td>--</td><td>None</td><td>205984516</td><td>[255, 261, 280, 1, 239, 364, 41, 43, 51, 214, 215]</td><td>--</td><td>--</td><td>--</td><td>ab</td><td>19.51</td></tr>\n",
       "<tr><td>ZTF19aadyppr</td><td>202.42674</td><td>47.18796</td><td>atlasc</td><td>58724.26064</td><td>--</td><td>72</td><td>ATLAS</td><td>--</td><td>--</td><td>None</td><td>205984517</td><td>[255, 261, 280, 1, 239, 364, 41, 43, 51, 214, 215]</td><td>--</td><td>--</td><td>--</td><td>ab</td><td>19.47</td></tr>\n",
       "<tr><td>ZTF19aadyppr</td><td>202.42674</td><td>47.18796</td><td>atlaso</td><td>58740.220244</td><td>--</td><td>72</td><td>ATLAS</td><td>--</td><td>--</td><td>None</td><td>205984518</td><td>[255, 261, 280, 1, 239, 364, 41, 43, 51, 214, 215]</td><td>--</td><td>--</td><td>--</td><td>ab</td><td>17.21</td></tr>\n",
       "<tr><td>ZTF19aadyppr</td><td>202.42674</td><td>47.18796</td><td>atlaso</td><td>58740.225728</td><td>--</td><td>72</td><td>ATLAS</td><td>--</td><td>--</td><td>None</td><td>205984519</td><td>[255, 261, 280, 1, 239, 364, 41, 43, 51, 214, 215]</td><td>--</td><td>--</td><td>--</td><td>ab</td><td>18.02</td></tr>\n",
       "<tr><td>ZTF19aadyppr</td><td>202.42674</td><td>47.18796</td><td>atlaso</td><td>58740.236931</td><td>--</td><td>72</td><td>ATLAS</td><td>--</td><td>--</td><td>None</td><td>205984520</td><td>[255, 261, 280, 1, 239, 364, 41, 43, 51, 214, 215]</td><td>--</td><td>--</td><td>--</td><td>ab</td><td>17.82</td></tr>\n",
       "</table></div>"
      ],
      "text/plain": [
       "<Table length=380>\n",
       "   obj_id        ra      dec    filter        mjd         ...   mag    magerr magsys    limiting_mag   \n",
       "   str12      float64  float64   str6       float64       ... float64 float64  str2       float64      \n",
       "------------ --------- -------- ------ ------------------ ... ------- ------- ------ ------------------\n",
       "ZTF19aadyppr        --       --   ztfr  59394.30842590006 ...      --      --     ab  19.84749984741211\n",
       "ZTF19aadyppr        --       --   ztfr  59396.20166670019 ...      --      --     ab  20.59830093383789\n",
       "ZTF19aadyppr        --       --   ztfg  59396.24265050003 ...      --      --     ab 20.607500076293945\n",
       "ZTF19aadyppr        --       --   ztfr 59399.197812499944 ...      --      --     ab  20.57939910888672\n",
       "ZTF19aadyppr        --       --   ztfg  59399.24678240018 ...      --      --     ab 20.408700942993164\n",
       "ZTF19aadyppr        --       --   ztfg  59401.22344909981 ...      --      --     ab 20.217500686645508\n",
       "         ...       ...      ...    ...                ... ...     ...     ...    ...                ...\n",
       "ZTF19aadyppr 202.42674 47.18796 atlasc       58724.238571 ...      --      --     ab              19.13\n",
       "ZTF19aadyppr 202.42674 47.18796 atlasc       58724.241806 ...      --      --     ab              19.41\n",
       "ZTF19aadyppr 202.42674 47.18796 atlasc       58724.248642 ...      --      --     ab              19.51\n",
       "ZTF19aadyppr 202.42674 47.18796 atlasc        58724.26064 ...      --      --     ab              19.47\n",
       "ZTF19aadyppr 202.42674 47.18796 atlaso       58740.220244 ...      --      --     ab              17.21\n",
       "ZTF19aadyppr 202.42674 47.18796 atlaso       58740.225728 ...      --      --     ab              18.02\n",
       "ZTF19aadyppr 202.42674 47.18796 atlaso       58740.236931 ...      --      --     ab              17.82"
      ]
     },
     "execution_count": 198,
     "metadata": {},
     "output_type": "execute_result"
    }
   ],
   "source": [
    "from astropy.io import ascii\n",
    "from astropy.table import Table\n",
    "fname = os.path.join(fritz.FRITZSOURCE,\"lightcurve\")+\"/fritz_lightcurve_ZTF19aadyppr.csv\"\n",
    "phot_table = Table(ascii.read(fname, format='csv'))\n",
    "phot_table"
   ]
  },
  {
   "cell_type": "markdown",
   "metadata": {},
   "source": [
    "In case downloading the lightcurve from ztfquery does not work, we have the lightcurve stored already in the data directory."
   ]
  },
  {
   "cell_type": "code",
   "execution_count": 199,
   "metadata": {},
   "outputs": [],
   "source": [
    "from astropy.io import ascii\n",
    "from astropy.table import Table\n",
    "fname = 'data/fritz_lightcurve_ZTF19aadyppr.csv'\n",
    "phot_table = Table(ascii.read(fname, format='csv', comment=\"#\"))"
   ]
  },
  {
   "cell_type": "markdown",
   "metadata": {},
   "source": [
    "Now, plot this lightcurve from the fritz_lc JSON dictionary, with a few modifications: 1) show the lightcurve upto 200 days 2) change x-axis to days from peak, 3) add absolute magnitude on the secondary y-axis 4) add a legend for different filters (and change the color-coding if you please!) 5) plot with grid 6) exclude the non-detections"
   ]
  },
  {
   "cell_type": "code",
   "execution_count": 269,
   "metadata": {},
   "outputs": [
    {
     "data": {
      "image/png": "[encoded data removed]",
      "text/plain": [
       "<Figure size 432x288 with 2 Axes>"
      ]
     },
     "metadata": {
      "needs_background": "light"
     },
     "output_type": "display_data"
    }
   ],
   "source": [
    "# YOUR CODE HERE\n",
    "filters = phot_table['filter']\n",
    "fig, ax1 = plt.subplots()\n",
    "ax2 = ax1.twinx()\n",
    "\n",
    "for f in np.unique(filters):\n",
    "    mjd = phot_table['mjd'][filters == f]\n",
    "    flux = phot_table['flux'][filters == f]\n",
    "    t0 = mjd[np.where(flux == np.nanmax(flux))]\n",
    "    tshift = mjd - t0[0]\n",
    "    ax1.scatter(tshift[flux>0],flux[flux>0],label=str(f))\n",
    "    absmag = -2.5*np.log10(flux[flux>0])-dm\n",
    "    #absmag = -2.5*np.log10(flux[flux>0]) - 2.5*np.log10((dl/10)**2)\n",
    "    ax2.set_ylim(np.nanmax(absmag),np.nanmin(absmag))\n",
    "    \n",
    "ax1.legend()\n",
    "ax1.grid()\n",
    "ax1.set_xlabel('Days from peak')\n",
    "ax1.set_ylabel('Flux')\n",
    "ax2.set_ylabel('Absolute Magnitude')\n",
    "plt.xlim(-50,150)\n",
    "plt.show()"
   ]
  },
  {
   "cell_type": "markdown",
   "metadata": {},
   "source": [
    "Now looking at your lightcurve, what kind of object do you think it is? Could it be a core-collapse supernova of some subtype? If not, what other types of transients live in this luminosity-space?"
   ]
  },
  {
   "cell_type": "code",
   "execution_count": null,
   "metadata": {},
   "outputs": [],
   "source": []
  },
  {
   "cell_type": "markdown",
   "metadata": {
    "slideshow": {
     "slide_type": "subslide"
    }
   },
   "source": [
    "# Bayesian Inference\n",
    "\n",
    "## Statistical inference is a logical framework with which to test our beliefs of a noisy world against data.\n",
    "### We formalize our beliefs in a probabilistic model."
   ]
  },
  {
   "cell_type": "markdown",
   "metadata": {
    "slideshow": {
     "slide_type": "subslide"
    }
   },
   "source": [
    "# AXIOMS OF PROBABILITY"
   ]
  },
  {
   "cell_type": "markdown",
   "metadata": {
    "slideshow": {
     "slide_type": "subslide"
    }
   },
   "source": [
    "## SOME KEY IDEAS\n",
    "* All of the data we collect include some degree of randomness\n",
    "* Any conclusions we draw must therefore incorporate some notion of uncertainty\n",
    "* There is a a correct answer - the Universe as we know it exists after all.\n",
    "* Theory gives us a useful model for it. The challenging is evaluating how likely that model is given the data\n",
    "* Data are constants.\n",
    "* Even if they were randomly generated by the Universe, the data that we have already collected are fixed numbers.\n",
    "* We describe things we don't know with perfect precision as \"random\""
   ]
  },
  {
   "cell_type": "markdown",
   "metadata": {
    "slideshow": {
     "slide_type": "subslide"
    }
   },
   "source": [
    "## RANDOM VARIABLES\n",
    "\n",
    "<center> <img src =\"./figures/cartoon_probability.png\" width=\"800\"> </center>"
   ]
  },
  {
   "cell_type": "markdown",
   "metadata": {
    "slideshow": {
     "slide_type": "subslide"
    }
   },
   "source": [
    "<center> <img src =\"./figures/random_variables.png\" width=\"800\"> </center>"
   ]
  },
  {
   "cell_type": "markdown",
   "metadata": {
    "slideshow": {
     "slide_type": "subslide"
    }
   },
   "source": [
    "## Random Variables\n",
    "\n",
    "* Discrete:\n",
    "   * Spectral type (G2V, KIII)\n",
    "   * Galaxy type, galaxy zoo\n",
    "* Continuous:\n",
    "   * magnitude, flux, colour, radial velocity, parallax/distance, temperature, elemental abundances, magnetic field, age, etc..."
   ]
  },
  {
   "cell_type": "markdown",
   "metadata": {
    "slideshow": {
     "slide_type": "subslide"
    }
   },
   "source": [
    "# Statistical inference is a logical framework with which to test our beliefs of a noisy world against data.\n",
    "\n",
    "## We formalize our beliefs in a probabilistic model."
   ]
  },
  {
   "cell_type": "markdown",
   "metadata": {
    "slideshow": {
     "slide_type": "subslide"
    }
   },
   "source": [
    "## THE MULTIVARIATE CASE\n",
    "\n",
    "<center> <img src =\"./figures/2D.png\" width=\"800\"> </center>\n",
    "\n",
    "<center> <img src =\"./figures/marginal.png\" width=\"800\"> </center>"
   ]
  },
  {
   "cell_type": "markdown",
   "metadata": {
    "slideshow": {
     "slide_type": "subslide"
    }
   },
   "source": [
    "## Bayes\n",
    "\n",
    "<center> <img src =\"./figures/bayes.png\" width=\"800\"> </center>\n",
    "\n",
    "* Posterior Likelihood: How probable is the hypothesis given the data we observed\n",
    "* Prior: How probable was the hypothesis before we observed anything\n",
    "* Likelihood: How probable is the data given the hypothesis is true\n",
    "* Evidence: How probable is the data over all possible hypotheses"
   ]
  },
  {
   "cell_type": "markdown",
   "metadata": {
    "slideshow": {
     "slide_type": "subslide"
    }
   },
   "source": [
    "## In-class Warm-up\n",
    "* Download this file (too big for git!): https://bit.ly/38PDnGy\n",
    "   * Use h5py to look at this data - h5py.File() to open, and then use the keys() method to find what elements are store\n",
    "   * You want “chain” and then “position”\n",
    "* Use numpy to get the stored data as an array\n",
    "* Use matplotlib to visualize this point cloud (CAREFUL)\n",
    "* Use pandas to convert the first two columns of the numpy array to a dataframe\n",
    "* Use seaborn’s jointplot to visualize this dataframe (try hex, or a kde with every 100th sample)\n",
    "* Use pandas to convert the first two columns of the numpy array to a dataframe (maybe you should make the above a function) and again plot every 100th point with a low alpha using matplotlib\n",
    "* Remember our goal is to infer a hypothesis from data i.e. P(H|D)\n",
    "* Estimate the means and standard deviations in both x and y by eye\n",
    "* Now use scipy.stats.multi_variate normal to construct a distribution object in python and overlay it with matplotlib (https://docs.scipy.org/doc/scipy-0.14.0/reference/generated/scipy.stats.multivariate_normal.html)\n",
    "* Finally, see how well your eyeball estimate matches astroML.stats.fit_bivariate_normal"
   ]
  },
  {
   "cell_type": "code",
   "execution_count": 270,
   "metadata": {},
   "outputs": [],
   "source": [
    "import h5py"
   ]
  },
  {
   "cell_type": "code",
   "execution_count": 280,
   "metadata": {},
   "outputs": [
    {
     "name": "stderr",
     "output_type": "stream",
     "text": [
      "/var/folders/92/wktkk4l141l1djg4k847ct7r0000gn/T/ipykernel_52228/1197700715.py:1: H5pyDeprecationWarning: The default file mode will change to 'r' (read-only) in h5py 3.0. To suppress this warning, pass the mode you need to h5py.File(), or set the global default h5.get_config().default_file_mode, or set the environment variable H5PY_DEFAULT_READONLY=1. Available modes are: 'r', 'r+', 'w', 'w-'/'x', 'a'. See the docs for details.\n",
      "  file = h5py.File('./data/sdssj120650-20130310-total_mcmc.hdf5')\n"
     ]
    }
   ],
   "source": [
    "file = h5py.File('./data/sdssj120650-20130310-total_mcmc.hdf5')\n",
    "pos = np.array(file['chain']['position'])"
   ]
  },
  {
   "cell_type": "code",
   "execution_count": 295,
   "metadata": {},
   "outputs": [
    {
     "data": {
      "text/plain": [
       "array([[2.1631852e+04, 7.8012624e+00, 9.9401720e-02, 3.4938181e+03,\n",
       "        4.7777710e+00, 6.3605392e-01, 5.1781841e+03, 6.3061573e-02,\n",
       "        5.7964489e+01],\n",
       "       [2.1591557e+04, 7.8048306e+00, 9.9981725e-02, 3.5055083e+03,\n",
       "        5.4655557e+00, 7.3528093e-01, 5.3072866e+03, 1.1687943e-01,\n",
       "        5.7964813e+01]], dtype=float32)"
      ]
     },
     "execution_count": 295,
     "metadata": {},
     "output_type": "execute_result"
    }
   ],
   "source": [
    "pos[:2,:]"
   ]
  },
  {
   "cell_type": "code",
   "execution_count": 292,
   "metadata": {},
   "outputs": [
    {
     "data": {
      "text/plain": [
       "array([[2.16318516e+04, 7.80126238e+00, 9.94017199e-02, ...,\n",
       "        5.17818408e+03, 6.30615726e-02, 5.79644890e+01],\n",
       "       [2.15915566e+04, 7.80483055e+00, 9.99817252e-02, ...,\n",
       "        5.30728662e+03, 1.16879433e-01, 5.79648132e+01],\n",
       "       [2.17799219e+04, 7.80329084e+00, 1.15788519e-01, ...,\n",
       "        5.06343311e+03, 1.10313416e-01, 5.79618225e+01],\n",
       "       ...,\n",
       "       [2.35407559e+04, 8.14471436e+00, 6.68568239e-02, ...,\n",
       "        1.17017969e+03, 1.65873244e-02, 5.81975517e+01],\n",
       "       [2.55131602e+04, 7.83339977e+00, 1.35151520e-01, ...,\n",
       "        1.35381189e+03, 4.24929708e-02, 5.82760468e+01],\n",
       "       [2.34764434e+04, 7.96922731e+00, 4.67580110e-02, ...,\n",
       "        1.66028003e+03, 6.59993216e-02, 5.82040863e+01]], dtype=float32)"
      ]
     },
     "execution_count": 292,
     "metadata": {},
     "output_type": "execute_result"
    }
   ],
   "source": [
    "pos"
   ]
  },
  {
   "cell_type": "code",
   "execution_count": null,
   "metadata": {},
   "outputs": [],
   "source": []
  },
  {
   "cell_type": "code",
   "execution_count": null,
   "metadata": {},
   "outputs": [],
   "source": []
  },
  {
   "cell_type": "markdown",
   "metadata": {
    "slideshow": {
     "slide_type": "slide"
    }
   },
   "source": [
    "# The Likelihood Function\n",
    "\n",
    "If we know the distribution from which our data were drawn (or make a hypothesis about it), then we can compute the **probability** of our data being generated.\n",
    "\n",
    "For example, for the Gaussian distribution probablity of getting a specific value of $x$ is given by:\n",
    "\n",
    "## $$p(x|\\mu,\\sigma) = \\frac{1}{\\sigma\\sqrt{2\\pi}} \\exp\\left(\\frac{-(x-\\mu)^2}{2\\sigma^2}\\right).$$"
   ]
  },
  {
   "cell_type": "markdown",
   "metadata": {
    "slideshow": {
     "slide_type": "subslide"
    }
   },
   "source": [
    "### The Likelihood Function\n",
    "\n",
    "If we want to know the total probability of our *entire* data set (as opposed to one measurement) then we must compute the *product* of all the individual probabilities:\n",
    "\n",
    "## $$L \\equiv p(\\{x_i\\}|H(\\theta)) = \\prod_{i=1}^n p(x_i|H(\\theta)),$$\n",
    "\n",
    "where $H$ refers to the *hypothesis* and $\\theta$ refers collectively to the $k$ parameters of the model, which can generally be multi-dimensional. \n",
    "\n",
    "\n",
    "In words, this is ***the probability of the data given the model parameters***. "
   ]
  },
  {
   "cell_type": "markdown",
   "metadata": {
    "slideshow": {
     "slide_type": "skip"
    }
   },
   "source": [
    "Note that this implicitly assumes that the measurements in your sample are, as always, i.i.d\n",
    "\n",
    "\n",
    "Recall (from the axioms of probability) that:\n",
    "\n",
    "## $$ P(A \\cap B)  = P(A|B)\\cdot P(B) = P(B|A)\\cdot P(A)$$\n",
    "and iff:\n",
    "## $$ P(A \\cap B) = P(A) \\cdot P(B) $$ then $A$ and $B$ are **independent**.\n"
   ]
  },
  {
   "cell_type": "markdown",
   "metadata": {
    "slideshow": {
     "slide_type": "subslide"
    }
   },
   "source": [
    "\n",
    "We can write this out as:\n",
    "### $$L = \\prod_{i=1}^n \\frac{1}{\\sigma\\sqrt{2\\pi}} \\exp\\left(\\frac{-(x_i-\\mu)^2}{2\\sigma^2}\\right),$$\n",
    "\n",
    "This can simplify to\n",
    "### $$L = \\left( \\prod_{i=1}^n \\frac{1}{\\sigma\\sqrt{2\\pi}} \\right) \\exp\\left( -\\frac{1}{2} \\sum \\left[\\frac{-(x_i-\\mu)}{\\sigma} \\right]^2 \\right),$$\n",
    "\n",
    "where we have written the product of the exponentials as the exponential of the sum of the arguments, which will make things easier to deal with later.\n",
    "\n",
    "i.e. we have done this: \n",
    "### $$\\prod_{i=1}^n A_i \\exp(-B_i) = (A_iA_{i+1}\\ldots A_n) \\exp[-(B_i+B_{i+1}+\\ldots+B_n)]$$"
   ]
  },
  {
   "cell_type": "markdown",
   "metadata": {
    "slideshow": {
     "slide_type": "subslide"
    }
   },
   "source": [
    "The argument of the exponential is just\n",
    "\n",
    "### $$\\exp \\left(-\\frac{\\chi^2}{2}\\right).$$\n",
    "\n",
    "where, for our Gaussian distribution\n",
    "### $$\\chi^2 = \\sum_{i=1}^n \\left ( \\frac{x_i-\\mu}{\\sigma}\\right)^2.$$"
   ]
  },
  {
   "cell_type": "markdown",
   "metadata": {
    "slideshow": {
     "slide_type": "subslide"
    }
   },
   "source": [
    "At some specific values of the model parameters, $\\theta$, we can evaluate the likelihood of our data, given the model (you did this with the sum of squared residuals) i.e \n",
    "\n",
    "### $$p(D | \\theta)$$"
   ]
  },
  {
   "cell_type": "markdown",
   "metadata": {
    "slideshow": {
     "slide_type": "skip"
    }
   },
   "source": [
    "**Note**\n",
    "\n",
    "For multidimensional distributions, as we will see later in the course, the uncertainties come in the form of a covariance matrix where there uncertainties can be correlated. This still assumes Gaussianity\n",
    "\n",
    "## $$ L = p(D\\; | \\;  \\pmb \\theta\\;) =  \\prod_{k=1}^{n} \\; \\frac{1}{(2\\pi)^{d/2} \\; |\\Sigma|^{1/2}} exp \\bigg[ -\\frac{1}{2}(\\pmb x - \\pmb \\mu)^t \\Sigma^{-1}(\\pmb x - \\pmb \\mu) \\bigg]$$\n",
    "\n",
    "where $\\Sigma$ is the covariance matrix and $d$ is the dimensionality"
   ]
  },
  {
   "cell_type": "markdown",
   "metadata": {
    "slideshow": {
     "slide_type": "subslide"
    }
   },
   "source": [
    "For practical reasons, it's better to work with the natural logarithm of the likelihood (we'll get to why in a few slides)\n",
    "\n",
    "We define the *log-likelihood function* as ${\\rm lnL} = \\ln[L(\\theta)]$.  The maximum of this function happens at the same place as the maximum of $L$. Given all that, we have:\n",
    "\n",
    "## $${\\rm lnL} = {\\rm constant} - \\sum_{i=1}^N \\frac{(x_i - \\mu)^2}{2\\sigma^2}.$$"
   ]
  },
  {
   "cell_type": "markdown",
   "metadata": {
    "slideshow": {
     "slide_type": "subslide"
    }
   },
   "source": [
    "We then determine the maximum in the same way that we always do.  It is the parameter set for which the derivative of ${\\rm lnL}$ is zero:\n",
    "\n",
    "$$\\frac{d\\;{\\rm lnL}(\\mu)}{d\\mu}\\Biggr\\rvert_{\\hat \\mu} \\equiv 0.$$\n",
    "\n",
    "That gives $$ \\sum_{i=1}^N \\frac{(x_i - \\hat \\mu)}{\\sigma^2} = 0.$$\n",
    "\n",
    "(note: we should also check that the $2^{\\rm nd}$ derivative is negative, to ensure this is the *maximum* of $L$)\n",
    "\n",
    "(also note: any constants in $\\ln L$ disappear when differentiated, so constant terms can typically be ignored.)"
   ]
  },
  {
   "cell_type": "markdown",
   "metadata": {
    "slideshow": {
     "slide_type": "subslide"
    }
   },
   "source": [
    "So, maximizing the likelihood is the same as minimizing $\\chi^2$:\n",
    "\n",
    "Maximizing the likelihood is solving for the extremum of:\n",
    "### $$ L \\sim \\exp \\left(-\\frac{\\chi^2}{2}\\right).$$\n",
    "\n",
    "is the same as Maximizing the natural logarithm of the likelihood:\n",
    "(because the log is a monotonically increasing function)\n",
    "\n",
    "### $$ \\ln (L) \\sim -\\frac{\\chi^2}{2}$$\n",
    "\n",
    "and therefore is the same as **minimizing** the negative log likelihood:\n",
    "\n",
    "### $$ -\\ln(L) \\sim \\frac{\\chi^2}{2}$$\n",
    "\n",
    "\n",
    "i.e. maximum likelihood estimation - and $\\chi^2$ minimization are just a special case of M-estimators. "
   ]
  },
  {
   "cell_type": "markdown",
   "metadata": {
    "slideshow": {
     "slide_type": "subslide"
    }
   },
   "source": [
    "Since $\\sigma = {\\rm constant}$, that says \n",
    "## $$\\sum_{i=1}^N x_i = \\sum_{i=1}^N \\hat \\mu = N \\hat \\mu.$$\n",
    "\n",
    "Thus we find that\n",
    "## $$\\hat \\mu = \\frac{1}{N}\\sum_{i=1}^N x_i,$$\n",
    "which is just the arithmetic mean of all the measurements."
   ]
  },
  {
   "cell_type": "markdown",
   "metadata": {
    "slideshow": {
     "slide_type": "subslide"
    }
   },
   "source": [
    "### Parameter Uncertainties\n",
    "\n",
    "Whether frequentist or Bayesian, the maximum likelihood \"point estimate\" is only a small part of the picture. What we're really interested in scientifically is the *uncertainty* of the estimates. So simply reporting a point estimate is not appropriate.\n",
    "\n",
    "In frequentist approaches, \"error bars\" are generally computed from *Confidence Intervals*, which effectively measure $P(\\hat\\theta\\mid\\theta)$, rather than $P(\\theta\\mid D)$.\n",
    "It takes some mental gymnastics to relate the confidence interval to the quantity we as scientists have in mind when we say \"uncertainty\".\n",
    "\n",
    "In the Bayesian approach, we are actually measuring $P(\\theta\\mid D)$ from the beginning."
   ]
  },
  {
   "cell_type": "markdown",
   "metadata": {
    "slideshow": {
     "slide_type": "skip"
    }
   },
   "source": [
    "For some approachable reading on frequentist vs. Bayesian uncertainties, I'd suggest [The Fallacy of Placing Confidence in Confidence Intervals](http://learnbayes.org/papers/confidenceIntervalsFallacy/), as well as Jake's (rather opinionated) blog post on the topic, [Confidence, Credibility, and why Frequentism and Science do not Mix](http://jakevdp.github.io/blog/2014/06/12/frequentism-and-bayesianism-3-confidence-credibility/)."
   ]
  },
  {
   "cell_type": "markdown",
   "metadata": {
    "slideshow": {
     "slide_type": "slide"
    }
   },
   "source": [
    "### Aside - the denominator in Bayes' rule\n",
    "\n",
    "\n",
    "The denominator in Bayes' rule is the Evidence $P(D)$\n",
    "\n",
    "# $$ P(H|D) = \\frac{P(D|H) \\cdot P(H)}{P(D)} $$"
   ]
  },
  {
   "cell_type": "markdown",
   "metadata": {
    "slideshow": {
     "slide_type": "subslide"
    }
   },
   "source": [
    "Consider that the evidence can be expressed as an integral using the identities we covered above:\n",
    "$$\n",
    "P(D) = \\int P(D\\mid\\theta) P(\\theta) d\\theta\n",
    "$$\n",
    "\n",
    "In other words, it is the integral over the likelihood for *all possible values of theta*.\n",
    "\n",
    "This means we could have called the Fully Marginalized Likelihood (FML) instead of the evidence. \n",
    "\n",
    "When your likelihood is a complicated function of many parameters, computing this integral can become extremely costly (a manifestation of the *curse of dimensionality*), which makes the acronym doubly appropriate in any situation where you actually need it.\n",
    "\n",
    "\n",
    "In general, for **model fitting**, you can ignore the FML as a simple normalization term. In **model selection**, the FML can become important."
   ]
  },
  {
   "cell_type": "markdown",
   "metadata": {
    "slideshow": {
     "slide_type": "subslide"
    }
   },
   "source": [
    "## The liklihood function then has to play a dual role:\n",
    "    \n",
    "Given a fixed set of model parameters ($\\theta = \\theta_0$) it is evaluating how likely the data you observed is.\n",
    "\n",
    "\n",
    "But, you can also consider the likelihood to be a function of the model parameters, given fixed data.\n",
    "\n",
    "You cast the likelihood as a function you evaluated at a range of model parameter values.\n",
    "\n",
    "You'll also have to do this on your homework, except now you've got more than 1 parameter."
   ]
  },
  {
   "cell_type": "markdown",
   "metadata": {
    "slideshow": {
     "slide_type": "slide"
    }
   },
   "source": [
    "### Confidence Interval vs. Credible Region\n",
    "\n",
    "Even with a flat uniform prior, the two approaches **are not the same.**\n",
    "\n",
    "In the **frequentist paradigm**, the meaning of the *confidence interval* $\\mu_0 \\pm \\sigma_{\\mu}$ is \n",
    "the interval that would contain the true $\\mu$ (from which the data were drawn) in 68% cases\n",
    "of a large number of imaginary repeated experiments (each with a different N values of $\\{x_i\\}$). \n",
    "\n",
    "The same interval follows from the **Bayesian approach** with uniform priors.\n",
    "However, the meaning of that so-called *credible region* is *fundamentally different*: it is the interval\n",
    "that contains the true $\\mu$ with a probability of 68%, given the given dataset (our dear one and only \n",
    "dataset - there are no imaginary experiments in Bayesian paradigm). \n",
    "\n",
    "This credible region is the relevant quantity in the context of scientific measurements. "
   ]
  },
  {
   "cell_type": "markdown",
   "metadata": {
    "slideshow": {
     "slide_type": "subslide"
    }
   },
   "source": [
    "### The Essence of the Bayesian Method \n",
    "\n",
    "The basic premise of the Bayesian method is that probability statements are not limited to data, \n",
    "but can be made for model parameters and models themselves. Inferences are made by producing \n",
    "probability density functions (pdfs); most notably, **model parameters are treated as random variables**."
   ]
  },
  {
   "cell_type": "markdown",
   "metadata": {
    "slideshow": {
     "slide_type": "slide"
    }
   },
   "source": [
    "# In class exercise:\n",
    "\n",
    "Seeing the drawback of an MLE approach, when you fail to incorporate prior information is easy.\n",
    "\n",
    "Let's do it with some example data:"
   ]
  },
  {
   "cell_type": "code",
   "execution_count": null,
   "metadata": {
    "slideshow": {
     "slide_type": "subslide"
    }
   },
   "outputs": [],
   "source": [
    "# some imports we need\n",
    "%matplotlib inline\n",
    "import matplotlib.pyplot as plt\n",
    "plt.rcParams['figure.figsize'] = [10, 10]\n",
    "\n",
    "import scipy.stats as st\n",
    "import numpy as np\n",
    "import scipy.integrate as si"
   ]
  },
  {
   "cell_type": "code",
   "execution_count": null,
   "metadata": {
    "slideshow": {
     "slide_type": "subslide"
    }
   },
   "outputs": [],
   "source": [
    "### Let's draw a homoscedastic sample of {x_i} from a Gaussian and see what happens with L\n",
    "# first generate a sample of N points drawn from N(mu,sigma):\n",
    "\n",
    "np.random.seed(42)\n",
    "sampleSize=100\n",
    "mu = 1.0\n",
    "sigma = 0.2 \n",
    "sample = st.norm(mu, sigma).rvs(sampleSize) \n",
    "\n",
    "# now compute likelihoods for each point using true mu \n",
    "muGrid = np.linspace(0,2,1000)\n",
    "likelihood = np.ones(len(muGrid))\n",
    "\n",
    "# what's the total likelihood and where is the maximum likelihood\n",
    "for i in sample:\n",
    "    this_L = st.norm(i, sigma).pdf(muGrid)\n",
    "    plt.plot(muGrid, this_L, alpha=0.1)\n",
    "    likelihood*=this_L\n",
    "\n",
    "# renormalize the total area\n",
    "likelihood /= si.trapz(likelihood, muGrid)\n",
    "\n",
    "# plot the likelihood\n",
    "plt.plot(muGrid, likelihood, lw=2, color='DodgerBlue', ls='-.', label='Total likelihood from samples')\n",
    "  \n",
    "    \n",
    "# plot the truth for comparison\n",
    "# you should be able to change the sample size in the above cell \n",
    "# and see the total likelihood get sharper as the sample size increases\n",
    "# you can even verify that the standard deviation scales as sqrt(N)\n",
    "\n",
    "truth = st.norm(1, sigma).pdf(muGrid)\n",
    "plt.plot(muGrid, truth, 'k:', lw=4, label='Truth')\n",
    "plt.legend(frameon=False)\n",
    "\n",
    "print(\"Maximum likelihood at {:.3f}\".format(muGrid[likelihood.argmax()]))"
   ]
  },
  {
   "cell_type": "code",
   "execution_count": null,
   "metadata": {
    "slideshow": {
     "slide_type": "subslide"
    }
   },
   "outputs": [],
   "source": [
    "# now what happens if I tell you that mu>=0.99?\n",
    "muMin = 0.99\n",
    "\n",
    "\n",
    "# draw sample as before\n",
    "np.random.seed(42)\n",
    "sampleSize=10\n",
    "mu = 1.0\n",
    "sigma = 0.2 \n",
    "sample = st.norm(mu, sigma).rvs(sampleSize)\n",
    "\n",
    "# lets clip samples to be greater than 0.99\n",
    "sample = np.clip(sample, muMin, None)\n",
    "\n",
    "\n",
    "likelihood = np.ones(len(muGrid))\n",
    "# what's the total likelihood and where is the maximum likelihood\n",
    "for i in sample:\n",
    "    this_L = st.norm(i, sigma).pdf(muGrid)\n",
    "    plt.plot(muGrid, this_L, alpha=0.1)\n",
    "    likelihood*=this_L\n",
    "\n",
    "# renormalize the total area\n",
    "likelihood /= si.trapz(likelihood, muGrid)\n",
    "\n",
    "# save a copy of this for the next step\n",
    "likelihood_no_prior = likelihood\n",
    "\n",
    "plt.plot(muGrid, likelihood, lw=2, color='DodgerBlue', ls='-.', label='Total likelihood from samples')\n",
    "plt.axvline(muMin, color='grey', label=f'muMin = {muMin:0.2f}')\n",
    "plt.legend(frameon=False)\n",
    "\n"
   ]
  },
  {
   "cell_type": "code",
   "execution_count": null,
   "metadata": {},
   "outputs": [],
   "source": [
    "# now what happens if I tell you that mu>=0.99?\n",
    "muMin = 0.99\n",
    "\n",
    "# draw sample as before\n",
    "np.random.seed(42)\n",
    "sampleSize=3\n",
    "mu = 1.0\n",
    "sigma = 0.2 \n",
    "sample = st.norm(mu, sigma).rvs(sampleSize)\n",
    "\n",
    "# lets clip samples to be greater than 0.9\n",
    "sample = np.clip(sample, muMin, None)\n",
    "\n",
    "\n",
    "likelihood = np.ones(len(muGrid))\n",
    "posterior  = np.ones(len(muGrid))\n",
    "\n",
    "# now lets incorporate a prior\n",
    "prior = np.ones(len(muGrid))\n",
    "prior[muGrid < muMin] = 0.\n",
    "\n",
    "\n",
    "# what's the total likelihood and where is the maximum likelihood\n",
    "for i in sample:\n",
    "    this_L = st.norm(i, sigma).pdf(muGrid)   \n",
    "    plt.plot(muGrid, this_L, alpha=0.1)\n",
    "    likelihood*=this_L\n",
    "    posterior *= (this_L*prior)\n",
    "\n",
    "    \n",
    "# renormalize the total area\n",
    "posterior /= si.trapz(posterior, muGrid)\n",
    "# renormalize the total area\n",
    "likelihood /= si.trapz(likelihood, muGrid)\n",
    "\n",
    "plt.plot(muGrid, prior, lw=2, color='orange', ls=':', label='Prior')\n",
    "plt.plot(muGrid, posterior, lw=2, color='Crimson', ls='-', label='Posterior from samples')\n",
    "plt.plot(muGrid, likelihood, lw=2, color='DodgerBlue', ls='-.', label='Total likelihood from samples')\n",
    "\n",
    "plt.axvline(muMin, color='grey', label=f'muMin = {muMin:0.2f}')\n",
    "plt.legend(frameon=False)\n",
    "\n"
   ]
  },
  {
   "cell_type": "markdown",
   "metadata": {},
   "source": [
    "## Notice that the shape of the likelihood and posterior distributions is now quite different\n",
    "\n",
    "## with a large number of samples, this difference should be minimized... but sometimes you don't get lucky enough to get a large number of samples and still have to account for some sort of selection effect.\n",
    "\n",
    "## Here we're seeing how the distributions look different. In the homework today, you'll quantify how the two different frameworks can differ *quantitatively*."
   ]
  },
  {
   "cell_type": "markdown",
   "metadata": {
    "slideshow": {
     "slide_type": "slide"
    }
   },
   "source": [
    "# Recap\n",
    "\n",
    "* We talked about a frequentist vs Bayesian view of the Universe \n",
    "    * frequentist confidence intervals on estimators from a sample vs.\n",
    "    * Credible regions for the model (meaningless for a frequentist)\n",
    "* The central role of the likelihood function to both statistical frameworks\n",
    "* How incorporating prior information causes frequentists and Bayesians to disagree very fundamentally about what \"truth\" is"
   ]
  },
  {
   "cell_type": "markdown",
   "metadata": {
    "slideshow": {
     "slide_type": "slide"
    }
   },
   "source": [
    "# Statistical Frameworks\n",
    "\n",
    "Goals:\n",
    "\n",
    "* Explore the relationship between \"characterizing the posterior PDF\" and \"fitting a model to data.\"\n",
    "\n",
    "* Understand how to derive maximum likelihood estimators and their confidence intervals\n",
    "\n",
    "* Be able to compare, contrast and appreciate the Bayesian and Frequentist approaches to statistics\n",
    "\n",
    "We'll work through a simple Bayesian inference (fitting a straight line and reporting summaries of marginalized posterior PDFs), and then compare with the frequentist procedure of _estimating_ the gradient and intercept and reporting confidence intervals."
   ]
  },
  {
   "cell_type": "markdown",
   "metadata": {
    "slideshow": {
     "slide_type": "slide"
    }
   },
   "source": [
    "# <center> We've only known our Universe is expanding for ~91 years </center>"
   ]
  },
  {
   "cell_type": "markdown",
   "metadata": {
    "slideshow": {
     "slide_type": "slide"
    }
   },
   "source": [
    "# Proper motion gives us distances to stars in our own Galaxy from geometry\n",
    "<center> <img src=\"./figures/proper_motion.png\" width=\"20%\"></center>\n",
    "\n",
    "You've already seen that stars in our galaxy have different proper motions in homework 01."
   ]
  },
  {
   "cell_type": "markdown",
   "metadata": {
    "slideshow": {
     "slide_type": "subslide"
    }
   },
   "source": [
    "## <center> You've also seen that we can measure the brightness of stars (HW 2) </center>"
   ]
  },
  {
   "cell_type": "markdown",
   "metadata": {
    "slideshow": {
     "slide_type": "slide"
    }
   },
   "source": [
    "## All stars vary if you look long enough. Some actually pulsate.\n",
    "\n",
    "<img src='./figures/rspuppis.gif'>"
   ]
  },
  {
   "cell_type": "markdown",
   "metadata": {
    "slideshow": {
     "slide_type": "slide"
    }
   },
   "source": [
    "<img src=\"./figures/hubble_mtwilson.jpg\" width=\"50%\">"
   ]
  },
  {
   "cell_type": "markdown",
   "metadata": {
    "slideshow": {
     "slide_type": "slide"
    }
   },
   "source": [
    "<img src=\"./figures/HubbleCepheid.jpg\">"
   ]
  },
  {
   "cell_type": "markdown",
   "metadata": {
    "slideshow": {
     "slide_type": "slide"
    }
   },
   "source": [
    "<img src=\"./figures/hubblenotebk.jpg\">"
   ]
  },
  {
   "cell_type": "markdown",
   "metadata": {
    "slideshow": {
     "slide_type": "slide"
    }
   },
   "source": [
    "## The period-magnitude relation in Cepheid stars\n",
    "\n",
    "* Cepheids are stars whose brightness oscillates with a stable period the logarithm of which appears to be strongly correlated with their mean luminosity (or absolute magnitude).\n",
    "<img width=\"512\" src=\"./figures/Cepheid-variabledb92-600x461.jpg\">"
   ]
  },
  {
   "cell_type": "markdown",
   "metadata": {
    "slideshow": {
     "slide_type": "slide"
    }
   },
   "source": [
    "## Why does this make them useful\n",
    "\n",
    "* A lot of _monitoring_ data - repeated imaging and subsequent \"photometry\" of the star - can provide a measurement of the period of the oscillation and their apparent magnitudes\n",
    "\n",
    "* If you can do this in our Galaxy, you can compare apparent magnitudes to distances from parallax and find a relation - this relation involves the period of the Cepehids. You can therefore define some mean corrected apparent magnitude and together with the distance, you can derive an *absolute magnitude*\n",
    "\n",
    "* If you measure Cepehids in other galaxies (too far away for parallax distances) then you can assert that those Cepheids are the same as the ones in our Galaxy and therefore have the same absolute magnitude - so now you can get the distances to those galaxies"
   ]
  },
  {
   "cell_type": "markdown",
   "metadata": {
    "slideshow": {
     "slide_type": "slide"
    }
   },
   "source": [
    "<img src=\"./figures/hubble_diagram.jpg\" width=\"80%\">"
   ]
  },
  {
   "cell_type": "markdown",
   "metadata": {
    "slideshow": {
     "slide_type": "slide"
    }
   },
   "source": [
    "<img src=\"./figures/hubblefindsu.jpg\">"
   ]
  },
  {
   "cell_type": "markdown",
   "metadata": {
    "slideshow": {
     "slide_type": "slide"
    }
   },
   "source": [
    "<img src=\"./figures/distance_ladder.jpg\">"
   ]
  },
  {
   "cell_type": "markdown",
   "metadata": {
    "slideshow": {
     "slide_type": "slide"
    }
   },
   "source": [
    "* Let's look at some Cepheid measurements reported by [Riess et al (2011, R11)](https://arxiv.org/abs/1103.2976).  The data are in the form of datapoints, one for each star.\n",
    "\n",
    "* The periods are well measured (how??? we'll get there!), while the magnitudes come with reported error bars."
   ]
  },
  {
   "cell_type": "markdown",
   "metadata": {
    "slideshow": {
     "slide_type": "slide"
    }
   },
   "source": [
    "<img src=\"./figures/cepheid_data.png\" width=100%>"
   ]
  },
  {
   "cell_type": "markdown",
   "metadata": {
    "slideshow": {
     "slide_type": "slide"
    }
   },
   "source": [
    "## The model, and the data\n",
    "\n",
    "* Let's assume that Cepheid stars' luminosities are related to their oscillation periods by a power law, such that their apparent magnitude and log period follow the linear relation\n",
    "\n",
    "$\\;\\;\\;\\;\\;\\;\\;m = a\\;\\log_{10} P + b$\n",
    "\n",
    "* The data consist of *observed magnitudes with quoted uncertainties*, such as: \n",
    "\n",
    "$\\;\\;\\;\\;\\;\\;\\;m^{\\rm obs} = 24.51 \\pm 0.31$ at $\\log_{10} P = \\log_{10} (13.0/{\\rm days})$"
   ]
  },
  {
   "cell_type": "markdown",
   "metadata": {
    "slideshow": {
     "slide_type": "slide"
    }
   },
   "source": [
    "## Bayesian inference\n",
    "\n",
    "* We compute the posterior PDF for the parameters $a$ and $b$ given the data and the assumed model $H$: \n",
    "\n",
    "$\\;\\;\\;\\;\\;P(a,b|\\boldsymbol{m}^{\\rm obs},H) \\propto P(\\boldsymbol{m}^{\\rm obs}|a,b,H)\\;P(a,b|H)$\n",
    "\n",
    "* We can evaluate the unnormalized posterior PDF on a grid, renormalize it numerically, and then visualize and summarize the resulting 2D function."
   ]
  },
  {
   "cell_type": "markdown",
   "metadata": {
    "slideshow": {
     "slide_type": "slide"
    }
   },
   "source": [
    "## Building an inference\n",
    "\n",
    "We'll need:\n",
    "\n",
    "* The sampling distribution: $P(\\boldsymbol{m}^{\\rm obs}|\\boldsymbol{m},H)$\n",
    "\n",
    "* The conditional PDF for the latent variables $m_k$, $P(m_k|a,b,\\log_{10}{P_k},H)$\n",
    "\n",
    "* A prior PDF for our parameters: $P(a,b|H)$"
   ]
  },
  {
   "cell_type": "markdown",
   "metadata": {
    "slideshow": {
     "slide_type": "slide"
    }
   },
   "source": [
    "## The sampling distribution $P(\\boldsymbol{m}^{\\rm obs}|\\boldsymbol{m},H)$\n",
    "\n",
    "We were given points ($m^{\\rm obs}_k$) with error bars ($\\sigma_k$), which suggests a *Gaussian* sampling distribution for each one:\n",
    "\n",
    "$\\;\\;\\;\\;\\;\\;\\;P(m^{\\rm obs}_k|m_k,\\sigma_k,H) = \\frac{1}{\\sqrt{2\\pi\\sigma_k^2}} \\exp{-\\frac{(m^{\\rm obs}_k - m_k)^2}{2\\sigma_k^2}}$"
   ]
  },
  {
   "cell_type": "markdown",
   "metadata": {
    "slideshow": {
     "slide_type": "fragment"
    }
   },
   "source": [
    "> Note that we are never _given_ the form of the sampling distribution: it always has to be assumed. \n",
    "\n",
    "> A Gaussian will turn out to be a good choice in a number of cases where the problem has some true \"variance\" or dispersion ($\\sigma$) - even if you don't know what that is, because of a principle called maximum entropy. This sort of setting is common in the real world (see the Central Limit Theorem) and maximizing the entropy minimized the amount of prior information built into the posterior distribution."
   ]
  },
  {
   "cell_type": "markdown",
   "metadata": {
    "slideshow": {
     "slide_type": "slide"
    }
   },
   "source": [
    "If we assume that the measurements of each Cepheid start are *independent* of each other, then we can define *predicted and observed data \"vectors\"* $\\boldsymbol{m}$ and $\\boldsymbol{m}^{\\rm obs}$ (plus a corresponding observational uncertainty \"vector\" $\\boldsymbol{\\sigma}$) and compute the joint sampling distribution as:\n",
    "\n",
    "$\\;\\;\\;\\;\\;\\;\\;P(\\boldsymbol{m}^{\\rm obs}|\\boldsymbol{m},\\boldsymbol{\\sigma},H) = \\prod_k P(m^{\\rm obs}_k|m_k,\\sigma_k,H)$"
   ]
  },
  {
   "cell_type": "markdown",
   "metadata": {
    "slideshow": {
     "slide_type": "slide"
    }
   },
   "source": [
    "## The log likelihood\n",
    "\n",
    "Taking logs, for numerical stability, the product in the joint likelihood becomes the following sum:\n",
    "\n",
    "$\\;\\;\\;\\;\\;\\;\\;\\log P(\\boldsymbol{m}^{\\rm obs}|a,b,H) = \\sum_k \\log P(m^{\\rm obs}_k|(a\\log{P_k} + b),\\sigma,H)$\n",
    "\n",
    "which, substituting in our Gaussian form, gives us: \n",
    "\n",
    "$\\;\\log P(\\boldsymbol{m}^{\\rm obs}|a,b,H) = -\\frac{1}{2}\\sum_k \\log{2\\pi\\sigma_k^2} - \\frac{1}{2} \\sum_k \\frac{(m^{\\rm obs}_k - a\\log{P_k} - b)^2}{\\sigma_k^2}$"
   ]
  },
  {
   "cell_type": "markdown",
   "metadata": {
    "slideshow": {
     "slide_type": "fragment"
    }
   },
   "source": [
    "> Note that the log likelihood $\\log P(\\boldsymbol{m}^{\\rm obs}|a,b,H)$ is a function, $\\log \\mathcal{L}(a,b;\\boldsymbol{m}^{\\rm obs})$ that can be evaluated, as a function of $a$ and $b$, at constant $\\boldsymbol{m}^{\\rm obs}$"
   ]
  },
  {
   "cell_type": "markdown",
   "metadata": {
    "slideshow": {
     "slide_type": "slide"
    }
   },
   "source": [
    "## The Chi-squared misfit statistic\n",
    "\n",
    "Astronomers often call the term in the log likelihood that depends on the parameters $\\chi^2$ (\"chi-squared\"):\n",
    "\n",
    "$\\;\\;\\;\\;\\;\\;\\;\\chi^2 = \\sum_k \\frac{(m^{\\rm obs}_k - a\\log{P_k} - b)^2}{\\sigma_k^2}$\n",
    "\n",
    "$\\chi^2$ is a \"misfit\" statistic, that quantifies the difference between \"observed and predicted data.\" Under our assumptions, it's equal to -2 times the log likelihood (up to a constant). The \"predicted data\" are $m_k = a\\log{P_k} - b$"
   ]
  },
  {
   "cell_type": "markdown",
   "metadata": {
    "slideshow": {
     "slide_type": "slide"
    }
   },
   "source": [
    "## Including the prior $P(a,b|H)$\n",
    "\n",
    "* Let's assume  the prior PDFs for $a$ and $b$ to be independent, such that $P(a,b|H) = P(a|H)P(b|H)$.\n",
    "\n",
    "* For now, let's assume uniform prior PDFs for both $a$ and $b$, supposing that we know roughly what size they are:\n",
    "\n",
    "$\\;\\;\\;\\;\\;\\;\\;P(a|H) = \\frac{1}{a_{\\rm max} - a_{\\rm min}}$ with $(a_{\\rm min}, a_{\\rm max}) = (-10, 10)$\n",
    "\n",
    "$\\;\\;\\;\\;\\;\\;\\;P(b|H) = \\frac{1}{b_{\\rm max} - b_{\\rm min}}$ with $(b_{\\rm min}, b_{\\rm max}) = (10, 30)$\n",
    "\n",
    "* This is literally what you've been doing by evaluating on a grid of points"
   ]
  },
  {
   "cell_type": "markdown",
   "metadata": {
    "slideshow": {
     "slide_type": "slide"
    }
   },
   "source": [
    "## Putting it all together\n",
    "\n",
    "The joint PDF is:\n",
    "\n",
    "$\\;\\;\\;\\;\\;\\;\\;P(\\boldsymbol{m}^{\\rm obs},a,b|H) = P(\\boldsymbol{m}^{\\rm obs}|a,b,H) P(a|H) P(b|H)$\n",
    "\n",
    "> Since we marginalized out the $m$, analytically, we _could_ have drawn the PGM more simply, jumping directly to $P(\\boldsymbol{m}^{\\rm obs}|a,b,H)$. However, it's often helpful to _explicitly_ distinguish between \"true\" parameters and latent ones."
   ]
  },
  {
   "cell_type": "markdown",
   "metadata": {
    "slideshow": {
     "slide_type": "slide"
    }
   },
   "source": [
    "## Characterizing the posterior PDF\n",
    "\n",
    "With the completed factorization of the joint PDF for all variables, we have the following product: \n",
    "\n",
    "$\\;\\;P(a,b|\\boldsymbol{m}^{\\rm obs},H) \\propto P(\\boldsymbol{m}^{\\rm obs}|a,b,H) P(a|H) P(b|H)$\n",
    "\n",
    "We can evaluate the posterior PDF $P(a,b|\\boldsymbol{m}^{\\rm obs},H)$ for any choice of parameters $(a,b)$, up to a normalization constant."
   ]
  },
  {
   "cell_type": "markdown",
   "metadata": {
    "slideshow": {
     "slide_type": "slide"
    }
   },
   "source": [
    "## Posterior Evaluation on a Grid\n",
    "\n",
    "* Our 2-D posterior PDF can be visualized as a contour plot\n",
    "\n",
    "* We can choose contours that display the _credible regions_ that enclose 68% and 95% of the posterior probability.\n",
    "\n",
    "* _Given our assumption that the model is true, the probability that the true values of the model parameters lie within the 95% credible region given the data is 0.95._"
   ]
  },
  {
   "cell_type": "markdown",
   "metadata": {
    "slideshow": {
     "slide_type": "slide"
    }
   },
   "source": [
    "<img src=\"./figures/cepheids_2d-posterior.png\" width=60%>"
   ]
  },
  {
   "cell_type": "markdown",
   "metadata": {
    "slideshow": {
     "slide_type": "slide"
    }
   },
   "source": [
    "## Summarizing our inferences\n",
    "\n",
    "* Typically, we will want to (or will be expected to) report \"answers\" for our model parameters\n",
    "\n",
    "* This can be difficult: our result _is_ the posterior PDF for the model parameters given the data!\n",
    "\n",
    "* A convenient, and in this case appropriate, choice is to report quantiles of the 1D marginalized PDFs\n",
    "\n",
    "> In general, the most important thing when summarizing inferences is to state clearly what you are doing, preferably with critical commentary"
   ]
  },
  {
   "cell_type": "markdown",
   "metadata": {
    "slideshow": {
     "slide_type": "slide"
    }
   },
   "source": [
    "## 1D marginalized posterior PDFs\n",
    "\n",
    "<img src=\"./figures/cepheids_1d-posteriors.png\">\n",
    "\n",
    "Let's define the 68% credible interval as the range between the 16th and 84th percentile, and quote it as an (asymmetric) \"error bar\" on the 1-D posterior medians:\n",
    "\n",
    "$a = -2.95^{+0.06}_{-0.06} \\;\\;\\;\\;\\;\\;\\; b =  26.27^{+0.09}_{-0.1} $"
   ]
  },
  {
   "cell_type": "markdown",
   "metadata": {
    "slideshow": {
     "slide_type": "slide"
    }
   },
   "source": [
    "## Notes on summaries of marginal PDFs \n",
    "\n",
    "* In this simple case, our report makes sense: the medians of both 1D marginalized PDFs lie within the region of high 2D posterior PDF. *This will not always be the case.*\n",
    "\n",
    "\n",
    "* The marginalized 1-D posterior for $x$ has a well-defined meaning, regardless of the higher dimensional structure of the joint posterior:  it is $P(x|d,H)$, the PDF for $x$ given the data and the model, and *accounting for the uncertainty in all other parameters*.\n",
    "\n",
    "\n",
    "* The posterior PDF we computed is close to, but not quite, a bivariate Gaussian. \n",
    "\n",
    "**Question: What choice of (proper) prior would we have had to make in order for the posterior PDF to be _exactly_ Gaussian?**"
   ]
  },
  {
   "cell_type": "markdown",
   "metadata": {
    "slideshow": {
     "slide_type": "slide"
    }
   },
   "source": [
    "## Post-inference model checking\n",
    "\n",
    "\n",
    "It's always a good idea to check that the inferred parameter values are sensible: look at the model predictions in data space.\n",
    "\n",
    "$\\longrightarrow$ Let's overlay the model period-magnitude relation defined by the 1-D posterior median parameter values on the data.\n",
    "\n",
    "<img src=\"./figures/cepheids_posterior-median-check.png\">"
   ]
  },
  {
   "cell_type": "markdown",
   "metadata": {
    "slideshow": {
     "slide_type": "slide"
    }
   },
   "source": [
    "## \"Fitting the data\"\n",
    "\n",
    "* The Bayesian solution is not a single set of \"best-fit\" parameters. \n",
    "\n",
    "* We can think of the posterior PDF as providing us with a continuous distribution of model fits that are _plausible_ given the data and our assumptions.\n",
    "\n",
    "* There are other ways of defining the parameters that _best fit_ the data: the primary one is \"the method of Maximum Likelihood\""
   ]
  },
  {
   "cell_type": "markdown",
   "metadata": {
    "slideshow": {
     "slide_type": "slide"
    }
   },
   "source": [
    "## Computing the Bayesian Posterior PDF\n",
    "\n",
    "Here's how the figures for the Bayesian inference were made - starting with the functions for the log likelihood, the log prior, and the unnormalized log posterior, evaluated on a 2D $(a,b)$ parameter grid given the R11 data."
   ]
  },
  {
   "cell_type": "code",
   "execution_count": null,
   "metadata": {},
   "outputs": [],
   "source": [
    "exec(open('cepheids.py').read())\n",
    "%matplotlib inline\n",
    "plt.rcParams['figure.figsize'] = (15.0, 8.0)\n",
    "\n",
    "data = Cepheids('data/R11ceph.dat')\n",
    "\n",
    "def log_likelihood(logP, mobs, sigma, a, b):\n",
    "    return -0.5*np.sum(2*np.pi*sigma**2) - \\\n",
    "            0.5*np.sum((mobs - a*logP - b)**2/(sigma**2))\n",
    "\n",
    "def log_prior(a, b):\n",
    "\n",
    "    amin,amax = -10.0,10.0\n",
    "    bmin,bmax = 10.0,30.0\n",
    "\n",
    "    if (b > bmin)*(b < bmax):\n",
    "        value = 0.0\n",
    "# Interesting alterniative: Cauchy distribution for b, equivalent to uniform\n",
    "# in angle of orientation of line:\n",
    "#        value = np.log(1.0/(bmax-bmin)) - \\\n",
    "#                np.log(np.pi) - np.log(1 + a**2)\n",
    "    else:\n",
    "        value = -np.inf\n",
    "    \n",
    "    if (a > amin)*(a < amax):\n",
    "        value += 0.0\n",
    "    else:\n",
    "        value += -np.inf\n",
    "        \n",
    "    return value\n",
    "\n",
    "def log_posterior(logP, mobs, sigma, a, b):\n",
    "    return log_likelihood(logP,mobs,sigma,a,b) + log_prior(a,b)"
   ]
  },
  {
   "cell_type": "markdown",
   "metadata": {
    "slideshow": {
     "slide_type": "slide"
    }
   },
   "source": [
    "## Evaluating the posterior PDF\n",
    "\n",
    "Now, let's set up a suitable parameter grid, evaluate the unnormalized log posterior on it, and then renormalize it numerically."
   ]
  },
  {
   "cell_type": "code",
   "execution_count": null,
   "metadata": {},
   "outputs": [],
   "source": [
    "# Limits of parameter grids, focused on the high likelihood region:\n",
    "amin, amax = -3.4, -2.4\n",
    "bmin, bmax = 25.7, 26.8\n",
    "limits = (amin, amax, bmin, bmax)\n",
    "\n",
    "def evaluate_posterior_on_a_grid(limits, NGC_ID=4258, npix=100):\n",
    "    \n",
    "    # Make grids:\n",
    "    amin, amax, bmin, bmax = limits\n",
    "    agrid, bgrid, logprob = np.linspace(amin,amax,npix), np.linspace(bmin,bmax,npix), np.zeros([npix,npix])\n",
    "\n",
    "    # Select a Cepheid dataset:\n",
    "    data.select(NGC_ID)\n",
    "\n",
    "    # Loop over parameters, computing unnormlized log posterior PDF:\n",
    "    for i,a in enumerate(agrid):\n",
    "        for j,b in enumerate(bgrid):\n",
    "            logprob[j,i] = log_posterior(data.logP, data.mobs, data.sigma, a, b)\n",
    "\n",
    "    # Exponentiate and normalize to get posterior density:\n",
    "    prob = np.exp(logprob - np.max(logprob))\n",
    "    prob /= np.sum(prob)\n",
    "    \n",
    "    return prob, agrid, bgrid"
   ]
  },
  {
   "cell_type": "code",
   "execution_count": null,
   "metadata": {},
   "outputs": [],
   "source": [
    "%%time\n",
    "prob, a, b = evaluate_posterior_on_a_grid(limits, NGC_ID=4258, npix=100)"
   ]
  },
  {
   "cell_type": "markdown",
   "metadata": {
    "slideshow": {
     "slide_type": "slide"
    }
   },
   "source": [
    "## Visualizing the 2D PDF\n",
    "\n",
    "* Typically we want to be able to see the centroid, size and shape of the posterior PDF\n",
    "\n",
    "* In particular we want to see the _credible regions_ that enclose 68% and 95% of the posterior probability. These are best plotted as contours\n",
    "\n",
    "* Given our assumption that the model is true, the probability that the true values of the model parameters lie within the 95% credible region given the data is 0.95"
   ]
  },
  {
   "cell_type": "code",
   "execution_count": null,
   "metadata": {},
   "outputs": [],
   "source": [
    "sorted = np.sort(prob.flatten())\n",
    "C = sorted.cumsum()\n",
    "\n",
    "# Find the pixel values that lie at the levels that contain 68% and 95% of the probability:\n",
    "lvl68 = np.min(sorted[C > (1.0 - 0.68)])\n",
    "lvl95 = np.min(sorted[C > (1.0 - 0.95)])\n",
    "\n",
    "plt.figure(figsize=(10,10))\n",
    "plt.imshow(prob, origin='lower', cmap='Blues', interpolation='none', extent=limits)\n",
    "plt.contour(prob,[lvl95,lvl68],colors='black',extent=limits)\n",
    "plt.grid()\n",
    "plt.xlabel('slope a', fontsize=20)\n",
    "plt.ylabel('intercept b / AB magnitudes', fontsize=20);\n",
    "\n",
    "# plt.savefig(\"cepheids_2d-posterior.png\");"
   ]
  },
  {
   "cell_type": "markdown",
   "metadata": {
    "slideshow": {
     "slide_type": "slide"
    }
   },
   "source": [
    "## Summarizing our inferences\n",
    "\n",
    "Let's compute the 1D marginalized posterior PDFs for $a$ and for $b$, and report the median and \"68% credible interval\" (defined as the region of 1D parameter space enclosing 68% of the posterior probability)."
   ]
  },
  {
   "cell_type": "code",
   "execution_count": null,
   "metadata": {},
   "outputs": [],
   "source": [
    "prob_a_given_data = np.sum(prob, axis=0) # Approximate the integral as a sum\n",
    "prob_b_given_data = np.sum(prob, axis=1) # Approximate the integral as a sum\n",
    "\n",
    "# Check that we do have a 1D PDF:\n",
    "# print(prob_a_given_data.shape, np.sum(prob_a_given_data))\n",
    "\n",
    "plot_1d_marginalized_pdfs(a, b, prob_a_given_data, prob_b_given_data)\n",
    "\n",
    "# plt.savefig(\"cepheids_1d-posteriors.png\")\n",
    "\n",
    "print(\"a = \",compress_1D_pdf(a, prob_a_given_data, ci=68, dp=2))\n",
    "print(\"b = \",compress_1D_pdf(b, prob_b_given_data, ci=68, dp=2)) "
   ]
  },
  {
   "cell_type": "markdown",
   "metadata": {
    "slideshow": {
     "slide_type": "slide"
    }
   },
   "source": [
    "## Post-inference model checking\n",
    "\n",
    "\n",
    "Are these inferred parameters sensible? "
   ]
  },
  {
   "cell_type": "code",
   "execution_count": null,
   "metadata": {},
   "outputs": [],
   "source": [
    "data.plot(4258)\n",
    "\n",
    "data.overlay_straight_line_with(a=-2.95, b=26.25, label='Model')\n",
    "\n",
    "data.add_legend()\n",
    "\n",
    "# plt.savefig(\"cepheids_posterior-median-check.png\")"
   ]
  },
  {
   "cell_type": "markdown",
   "metadata": {
    "slideshow": {
     "slide_type": "slide"
    }
   },
   "source": [
    "# Curse of Dimensionality\n",
    "\n",
    "![Curse of Dimensionality](figures/ndim.png)"
   ]
  },
  {
   "cell_type": "markdown",
   "metadata": {
    "slideshow": {
     "slide_type": "slide"
    }
   },
   "source": [
    "In general, evaluating the posterior throughout the entire parameter space is too costly. \n",
    "\n",
    "We want to focus resources on mapping the posterior where it is non-tiny. \n",
    "\n",
    "**Generating samples from the posterior itself automatically accomplishes this.**"
   ]
  },
  {
   "cell_type": "markdown",
   "metadata": {
    "slideshow": {
     "slide_type": "slide"
    }
   },
   "source": [
    "### Sampling and numerical integration\n",
    "\n",
    "Almost always, we are ultimately interested in *integrals* of the posterior, i.e. marginal distributions of parameters. The tasks of Monte Carlo sampling and **Monte Carlo integration** are essentially indistinguishable. (Similar machinery is useful for difficult optimization problems.)\n",
    "\n",
    "The essence of MC integration:\n",
    "\n",
    "$\\int w(x)\\,p(x)\\,dx = \\int w(x)\\,dP(x) \\approx \\overline{w(x_i)}; ~ x_i\\sim P$\n",
    "\n",
    "i.e., if we can factor the integrand into a PDF and a weight, and sample from the PDF, then our integral becomes an _average over the samples_."
   ]
  },
  {
   "cell_type": "markdown",
   "metadata": {
    "slideshow": {
     "slide_type": "slide"
    }
   },
   "source": [
    "In other words, given a list of samples of $\\theta$ from $p(\\theta)$,\n",
    "* the marginalized 1D posterior for $\\theta_0$ is estimated by making a histogram of $\\theta_0$ samples\n",
    "* the marginalized 2D posterior for $\\theta_0,\\theta_1$ is estimated from a 2D histogram of $\\theta_0,\\theta_1$ samples\n",
    "* statistics like the mean or percentiles of the posterior are estimated directly from the samples\n",
    "\n",
    "All of these computations would be weighted if $w(\\theta)\\neq1$."
   ]
  },
  {
   "cell_type": "markdown",
   "metadata": {
    "slideshow": {
     "slide_type": "slide"
    }
   },
   "source": [
    "# Simple Example\n",
    "\n",
    "Area of a rectangle = Base $\\times$ Height\n",
    "Area of a triangle = 1/2 Base $\\times$ Height\n",
    "What about the area of this?\n",
    "\n",
    "![Messy Area](figures/messy_area.png)"
   ]
  },
  {
   "cell_type": "markdown",
   "metadata": {
    "slideshow": {
     "slide_type": "slide"
    }
   },
   "source": [
    "![Conditional probability](figures/conditional_prob2.png)"
   ]
  },
  {
   "cell_type": "markdown",
   "metadata": {
    "slideshow": {
     "slide_type": "slide"
    }
   },
   "source": [
    "## Simple Monte Carlo\n",
    "\n",
    "A posterior is already naturally factored into a likelihood function, $p(x|\\theta)$, and a prior PDF, $p(\\theta)$:\n",
    "\n",
    "$p(\\theta|x) \\propto p(x|\\theta)\\,p(\\theta)$\n",
    "\n",
    "Applying this in the MC integration context leads to the Simple Monte Carlo algorithm:\n",
    "\n",
    "```\n",
    "while we want more samples\n",
    "    draw theta from p(theta)\n",
    "    compute weight = p(x|theta)\n",
    "    store theta and weight\n",
    "```\n",
    "\n",
    "Obtaining marginal distribution(s) for $\\theta$ then reduces to constructing weighted histograms of the samples."
   ]
  },
  {
   "cell_type": "markdown",
   "metadata": {
    "slideshow": {
     "slide_type": "slide"
    }
   },
   "source": [
    "SMC is indeed simple (as long as the prior is simple to draw from), but if the priors are not very informative then it still wastes many likelihood evaluations where the posterior is small. However, refinements of this approach lead to some of the advanced algorithms we'll cover later.\n",
    "\n",
    "For now, we'll focus on the most common methods, which use a unit weight function (i.e. obtain draws directly from the posterior).\n",
    "\n",
    "But first, a bit more context re: random number generation."
   ]
  },
  {
   "cell_type": "markdown",
   "metadata": {
    "slideshow": {
     "slide_type": "slide"
    }
   },
   "source": [
    "## Random number generation\n",
    "Useful terms to know:\n",
    "\n",
    "* Random: predictable only in the sense of following a PDF\n",
    "\n",
    "* Pseudorandom: not random, but \"unpredictable enough\" for practical purposes. Various computer algorithms produce pseudorandom sequences that approximate the uniform distribution on [0,1).\n",
    "\n",
    "* Quasirandom: sequence that doesn't even pretend to be random, but does converge to a target PDF *more quickly* than a random or pseudorandom process would"
   ]
  },
  {
   "cell_type": "markdown",
   "metadata": {
    "slideshow": {
     "slide_type": "slide"
    }
   },
   "source": [
    "Here we assume that we have a reliable source of uniform pseudorandom numbers, and want to turn these into samples of another PDF.\n",
    "\n",
    "Two simple approaches are\n",
    "1. Rejection sampling\n",
    "2. Inverse Transform"
   ]
  },
  {
   "cell_type": "markdown",
   "metadata": {
    "slideshow": {
     "slide_type": "slide"
    }
   },
   "source": [
    "# # In class exercise - global minimization\n",
    "\n",
    "Let's create a complicated likelihood function with 2 parameters.\n",
    "\n",
    "Then, we'll use the Nelder-Mead method in `scipy.optimize` to determine minimum of this function."
   ]
  },
  {
   "cell_type": "code",
   "execution_count": null,
   "metadata": {
    "slideshow": {
     "slide_type": "slide"
    }
   },
   "outputs": [],
   "source": [
    "# RUN THIS\n",
    "%matplotlib inline\n",
    "import numpy as np\n",
    "import matplotlib.pyplot as plt\n",
    "plt.rcParams['figure.figsize'] = [10, 10]\n",
    "from mpl_toolkits.mplot3d import Axes3D\n",
    "from scipy import optimize\n",
    "\n",
    "\n",
    "def eggholder(x):\n",
    "    return (-(x[1] + 47) * np.sin(np.sqrt(abs(x[0]/2 + (x[1]  + 47))))\\\n",
    "            -x[0] * np.sin(np.sqrt(abs(x[0] - (x[1]  + 47)))))\n",
    "\n",
    "bounds = [(-512, 512), (-512, 512)]\n",
    "\n",
    "x = np.arange(-512, 513)\n",
    "y = np.arange(-512, 513)\n",
    "xgrid, ygrid = np.meshgrid(x, y)\n",
    "xy = np.stack([xgrid, ygrid])\n",
    "\n",
    "\n",
    "fig = plt.figure()\n",
    "ax = fig.add_subplot(111, projection='3d')\n",
    "ax.view_init(45, -45)\n",
    "ax.plot_surface(xgrid, ygrid, eggholder(xy), cmap='terrain')\n",
    "ax.set_xlabel('x')\n",
    "ax.set_ylabel('y')\n",
    "ax.set_zlabel('eggholder(x, y)')\n"
   ]
  },
  {
   "cell_type": "code",
   "execution_count": null,
   "metadata": {
    "slideshow": {
     "slide_type": "slide"
    }
   },
   "outputs": [],
   "source": [
    "# use optimize.minimize to try to find the minimum\n",
    "# try it 10 times with different starting guesses\n",
    "# print out the minimum value, and the x, y location of the minimum\n",
    "# since you already have the true function, get the minimum value \n",
    "# and the location of the minimum of your x, y grid\n",
    "\n",
    "# YOUR CODE HERE\n",
    "    \n",
    "# notice how the minimum value is all over the place based on your starting guess."
   ]
  },
  {
   "cell_type": "markdown",
   "metadata": {
    "slideshow": {
     "slide_type": "slide"
    }
   },
   "source": [
    "# In class exercise - rejection sampling\n",
    "\n",
    "In this exercise, we are going to estimate the value of $\\pi$ using rejection sampling.\n",
    "\n",
    "1. First, draw x, y points from a uniform distribution between 0 and 1. Use 3 sample sizes: [10, 10^3, 10^5]\n",
    "2. Next, calculate $r = sqrt(x^2 + y^2)$ for each point. Reject the point if r > 1, else accept it.\n",
    "3. Plot the accepted points in red and the rejected points in blue in the x-y plane\n",
    "4. Finally, estimate $\\pi$. Use the proportion of **accepted points / total points** and some algebra.\n",
    "\n",
    "Here is an example of a plot for step 3:\n",
    "\n",
    "![Example rejection sampling plot](figures/rejection.png)"
   ]
  },
  {
   "cell_type": "code",
   "execution_count": null,
   "metadata": {},
   "outputs": [],
   "source": [
    "# YOUR CODE HERE"
   ]
  },
  {
   "cell_type": "markdown",
   "metadata": {
    "slideshow": {
     "slide_type": "slide"
    }
   },
   "source": [
    "## Appendix: The conditional PDF $P(m_k|a,b,\\log_{10}{P_k},H)$ \n",
    "\n",
    "Our relationship between the intrinsic magnitude and the log period is linear and _deterministic_, indicating the following *delta-function* PDF:\n",
    "\n",
    "$\\;\\;\\;\\;\\;\\;\\;P(m_k|a,b,\\log_{10}{P_k},H) = \\delta(m_k - a\\log_{10}{P_k} - b)$\n",
    "\n",
    "<img width=\"300\" src=\"./figures/pgms_cepheids.png\"/>"
   ]
  },
  {
   "cell_type": "markdown",
   "metadata": {
    "slideshow": {
     "slide_type": "slide"
    }
   },
   "source": [
    "## The resulting joint likelihood, $\\mathcal{L}(a,b;\\boldsymbol{m}^{\\rm obs}) = P(\\boldsymbol{m}^{\\rm obs}|a,b,H)$\n",
    "\n",
    "The PDF for everything inside the PGM plate is the following product:\n",
    "\n",
    "$\\;\\;\\;\\;\\;\\;\\;P(\\boldsymbol{m}^{\\rm obs}|\\boldsymbol{m},\\sigma,H)\\;P(\\boldsymbol{m}|a,b,H)$\n",
    "\n",
    "$\\;\\;\\;\\;\\;\\;\\;\\;\\;\\;\\;\\;\\;\\; = \\prod_k P(m^{\\rm obs}_k|m_k,\\sigma_k,H)\\;\\delta(m_k - a\\log_{10}{P_k} - b)$"
   ]
  },
  {
   "cell_type": "markdown",
   "metadata": {
    "slideshow": {
     "slide_type": "slide"
    }
   },
   "source": [
    "## Marginalizing out the latent variables\n",
    "\n",
    "The intrinsic magnitudes of each Cepheid $m_k$ are \"latent variables,\" to be _marginalized out_:\n",
    "\n",
    "$\\;\\;\\;\\;\\;\\;\\;P(\\boldsymbol{m}^{\\rm obs}|a,b,H) = \\int P(\\boldsymbol{m}^{\\rm obs}|\\boldsymbol{m},\\sigma,H)\\;P(\\boldsymbol{m}|a,b,H)\\; d\\boldsymbol{m}$"
   ]
  },
  {
   "cell_type": "markdown",
   "metadata": {
    "slideshow": {
     "slide_type": "fragment"
    }
   },
   "source": [
    "$\\;\\;\\;\\;\\;\\;\\;\\;\\;\\;\\;\\;\\;\\; = \\prod_k \\int P(m^{\\rm obs}_k|m_k,\\sigma_k,H)\\;\\delta(m_k - a\\log_{10}{P_k} - b) dm_k$"
   ]
  },
  {
   "cell_type": "markdown",
   "metadata": {
    "slideshow": {
     "slide_type": "fragment"
    }
   },
   "source": [
    "$\\;\\;\\;\\;\\;\\;\\; \\longrightarrow P(\\boldsymbol{m}^{\\rm obs}|a,b,H) = \\prod_k P(\\boldsymbol{m}^{\\rm obs}_k|(a\\log{P_k} + b),\\sigma_k,H)$"
   ]
  },
  {
   "cell_type": "markdown",
   "metadata": {
    "slideshow": {
     "slide_type": "slide"
    }
   },
   "source": [
    "## Appendix: Finding the Maximum likelihood parameters\n",
    "\n",
    "Here's the code to find the maximum likelihood parameters in the Cepheid problem."
   ]
  },
  {
   "cell_type": "code",
   "execution_count": null,
   "metadata": {
    "slideshow": {
     "slide_type": "-"
    }
   },
   "outputs": [],
   "source": [
    "exec(open('cepheids.py').read())\n",
    "%matplotlib inline\n",
    "plt.rcParams['figure.figsize'] = (15.0, 8.0)\n",
    "\n",
    "data = Cepheids('data/R11ceph.dat')"
   ]
  },
  {
   "cell_type": "code",
   "execution_count": null,
   "metadata": {},
   "outputs": [],
   "source": [
    "data.select(4258)\n",
    "M, v = data.sufficient_statistics()\n",
    "a, b = np.linalg.solve(M, v)\n",
    "print('$ \\hat{a} = %.2f $' % np.round(a, 2))\n",
    "print('$ \\hat{b} = %.2f $' % np.round(b, 2))"
   ]
  },
  {
   "cell_type": "code",
   "execution_count": null,
   "metadata": {
    "slideshow": {
     "slide_type": "slide"
    }
   },
   "outputs": [],
   "source": [
    "data.plot(4258)\n",
    "\n",
    "data.overlay_straight_line_with(a=a, b=b, label='Maximum Likelihood fit')\n",
    "\n",
    "data.add_legend()"
   ]
  },
  {
   "cell_type": "markdown",
   "metadata": {
    "slideshow": {
     "slide_type": "slide"
    }
   },
   "source": [
    "## The covariance of MLEs\n",
    "\n",
    "Here's code to compute the inverse Hessian of the log likelihood, and hence a lower limit on the covariance of the ML estimators. The diagonal elements of the covariance matrix give an approximate symmetrical error bar."
   ]
  },
  {
   "cell_type": "code",
   "execution_count": null,
   "metadata": {
    "slideshow": {
     "slide_type": "-"
    }
   },
   "outputs": [],
   "source": [
    "# Generalized maximum likelihood approach:\n",
    "\n",
    "import scipy.optimize\n",
    "\n",
    "pars = np.array([0.0, 20])\n",
    "result = scipy.optimize.minimize(data.negative_log_likelihood, pars, method='BFGS', tol=0.001)\n",
    "\n",
    "print(result)"
   ]
  },
  {
   "cell_type": "code",
   "execution_count": null,
   "metadata": {},
   "outputs": [],
   "source": [
    "C = result.hess_inv\n",
    "np.sqrt(C[0,0]), np.sqrt(C[1,1])"
   ]
  },
  {
   "cell_type": "markdown",
   "metadata": {},
   "source": [
    "# Bayesian vs. Frequentist"
   ]
  },
  {
   "cell_type": "markdown",
   "metadata": {
    "slideshow": {
     "slide_type": "slide"
    }
   },
   "source": [
    "## Maximum likelihood\n",
    "\n",
    "* Instead of asking for the posterior probability for the parameters given the data, $P(a,b|\\boldsymbol{m}^{\\rm obs},H)$, we could find the parameters that maximize the probability of getting the data: $P(\\boldsymbol{m}^{\\rm obs}|a,b,H)$\n",
    "\n",
    "  > In astronomy, \"best fit\" often (but not always) means \"maximum likelihood\"\n",
    "\n",
    "* Where does the emphasis on the likelihood, rather than the posterior come from?"
   ]
  },
  {
   "cell_type": "markdown",
   "metadata": {
    "slideshow": {
     "slide_type": "slide"
    }
   },
   "source": [
    "## Frequentism\n",
    "\n",
    "* In the frequentist school of statistics, parameters do not have probability distributions. Probability can only be used to describe _frequencies_, not _degrees of belief_ (or odds). \n",
    "\n",
    "* In the frequentist view, it's only the data that can be modeled as having been drawn from a probability distribution, because we can imagine doing the experiment or observation multiple times, and building up a _frequency_ distribution of results.\n",
    "\n",
    "* This PDF over datasets is the sampling distribution, e.g. $P(\\boldsymbol{m}^{\\rm obs}|a,b,H)$"
   ]
  },
  {
   "cell_type": "markdown",
   "metadata": {
    "slideshow": {
     "slide_type": "slide"
    }
   },
   "source": [
    "* Given an assumed model, the frequentist view is that there is only one set of parameters, the true ones, and our job is to _estimate_ them.\n",
    "\n",
    "* Derivation of good estimators is a major activity in frequentist statistics, and has led to some powerful mathematical results and fast computational shortcuts - _some of which are useful in Bayesian inference too_\n"
   ]
  },
  {
   "cell_type": "markdown",
   "metadata": {
    "slideshow": {
     "slide_type": "slide"
    }
   },
   "source": [
    "## The Likelihood Principle\n",
    "\n",
    "* The _likelihood principle_ holds that all of the information in the data that is relevant to the model parameters is contained in the likelihood function $\\mathcal{L}(a,b;\\boldsymbol{m}^{\\rm obs}) = P(\\boldsymbol{m}^{\\rm obs}|a,b,H)$\n",
    "\n",
    "> This was evident in our Bayesian treatment, PGMs etc too: Frequentists and Bayesians are in full agreement about the importance of the likelihood function!\n",
    "\n",
    "* As a result of this focus, Maximum Likelihood estimators (MLEs) have some good properties"
   ]
  },
  {
   "cell_type": "markdown",
   "metadata": {
    "slideshow": {
     "slide_type": "slide"
    }
   },
   "source": [
    "## Maximum likelihood estimators\n",
    "\n",
    "* **Consistency:** as more data are taken, the MLE tends towards the true parameter value if the model is correct. \n",
    "\n",
    "> MLEs can be \"biased\" but this bias goes to zero as $N_{\\rm data} \\rightarrow \\infty$ \n",
    "\n",
    "* **Efficiency:** among estimators, MLEs have the minimum variance when sampled over datasets\n",
    "\n",
    "* **Asymptotic Normality:** as the dataset size increases, the distribution of MLEs over datasets tends to a Gaussian centred at the true parameter value.\n",
    "\n",
    "> The covariance of this ultimate Gaussian distribution is the inverse of the \"Fisher information matrix\""
   ]
  },
  {
   "cell_type": "markdown",
   "metadata": {
    "slideshow": {
     "slide_type": "slide"
    }
   },
   "source": [
    "* In our Cepheid straight line fit, we can derive MLEs for our parameters by finding the maximum (log) likelihood parameters analytically\n",
    "\n",
    "$\\;\\;\\;\\;\\;\\;\\;\\log L(a,b) = \\log P(\\boldsymbol{m}^{\\rm obs}|a,b,H) = -\\frac{1}{2}\\sum_k \\log{2\\pi\\sigma_k^2} - \\frac{1}{2} \\sum_k \\frac{(m^{\\rm obs}_k - a\\log{P_k} - b)^2}{\\sigma_k^2}$\n",
    "\n",
    "* That is, we need to find the parameters $(\\hat{a}, \\hat{b})$ that give\n",
    "\n",
    "$\\;\\;\\;\\;\\;\\;\\; -2 \\nabla \\log L(a,b) = \\nabla\\,\\chi^2$ = 0\n",
    "\n",
    "> NB: Maximizing a Gaussian likelihood is equivalent to minimizing $\\chi^2$ - and gives a \"weighted least squares\" fit"
   ]
  },
  {
   "cell_type": "markdown",
   "metadata": {
    "slideshow": {
     "slide_type": "slide"
    }
   },
   "source": [
    "The result in this case is a pair of equations that we can solve for the best-fit parameters $(\\hat{a}, \\hat{b})$, that give the smallest misfit between observed and model-predicted data\n",
    "\n",
    "Writing $x = \\log{P}$ and $y = m^{\\rm obs}$, we have\n",
    "\n",
    "$\\frac{\\partial \\log L}{\\partial a}\\Bigr|_{\\hat{a},\\hat{b}} =  \\sum_k \\frac{x_k(y_k - \\hat{a}x_k - \\hat{b})}{\\sigma_k^2} = 0 \\longrightarrow   \\hat{a} \\sum_k \\frac{x_k^2}{\\sigma_k^2} + \\hat{b} \\sum_k \\frac{x_k}{\\sigma_k^2} = \\sum_k \\frac{x_k y_k}{\\sigma_k^2}$\n",
    "\n",
    "$\\frac{\\partial \\log L}{\\partial b}\\Bigr|_{\\hat{a},\\hat{b}} =  \\sum_k \\frac{(y_k - \\hat{a}x_k - \\hat{b})}{\\sigma_k^2} = 0 \\longrightarrow \\hat{a} \\sum_k \\frac{x_k}{\\sigma_k^2} + \\hat{b} \\sum_k \\frac{1}{\\sigma_k^2} = \\sum_k \\frac{y_k}{\\sigma_k^2}$"
   ]
  },
  {
   "cell_type": "markdown",
   "metadata": {
    "slideshow": {
     "slide_type": "slide"
    }
   },
   "source": [
    "This set of linear equations can be solved straightforwardly to find the _estimators_ $\\hat{a}$ and $\\hat{b}$:\n",
    "\n",
    "$\\begin{pmatrix} S_{xx} & S_{x} \\\\ S_x & S_0 \\end{pmatrix} \\begin{pmatrix} \\hat{a} & \\hat{b} \\end{pmatrix} = \\begin{pmatrix} S_{xy} \\\\ S_{y} \\end{pmatrix}$\n",
    "\n",
    "> All the information in the data that is needed to find the best-fit parameters $\\boldsymbol{\\hat{\\theta}}$ is contained in a set of so-called **sufficient statistics** $S_{xx}$, $S_y$ etc. This is a common feature of maximum likelihod estimators"
   ]
  },
  {
   "cell_type": "markdown",
   "metadata": {
    "slideshow": {
     "slide_type": "slide"
    }
   },
   "source": [
    "Computing and combining the sufficient statistics, the maximum likelihood estmimators are as follows:\n",
    "\n",
    "$ \\hat{a} = -2.95 $\n",
    "\n",
    "$ \\hat{b} = 26.26 $\n",
    "\n",
    "**Questions: Why do you think the MLE $\\hat{b}$ not exactly the same as the posterior median value for $b$?**\n",
    "\n",
    "**Under what circumstances might $\\hat{b}$ or $\\hat{a}$ be _very_ different from the posterior medians?**"
   ]
  },
  {
   "cell_type": "markdown",
   "metadata": {
    "slideshow": {
     "slide_type": "slide"
    }
   },
   "source": [
    "## Distributions of estimators\n",
    "\n",
    "* In frequentism, we think of the estimators having distributions, since each dataset that we imagine being drawn from the sampling distribution will produce one estimator. An ensemble of (hypothetical) datasets leads to a (hypothetical) distribution of estimators\n",
    "\n",
    "* One straightforward approximate way to estimate these distributions is to use the asymptotic normality property of MLEs, and associate a _Gaussian approximation to the likelihood_ with the Gaussian distribution for the MLEs we expect to see when averaging over datasets"
   ]
  },
  {
   "cell_type": "markdown",
   "metadata": {
    "slideshow": {
     "slide_type": "slide"
    }
   },
   "source": [
    "## The distribution of the log likelihood\n",
    "\n",
    "* An estimator can be thought of as a _summary_ of the data, and so can the value of the value of the log likelihood evaluated at the estimators. \n",
    "\n",
    "* The distribution of the log likelihood itself over the hypothetical ensemble of datasets provides a route to a _confidence interval._\n",
    "\n",
    "* In our simple Gaussian likelihood example, and also in the large dataset limit, twice the negative log likelihood (our $\\chi^2$ statistic) follows a $\\chi^2$ distribution with the same number of degrees of freedom as the dimensionality of the parameter space. Integrating this distribution from 0 to some boundary $\\Delta \\chi^2_{D}$ defines a confidence region in parameter space."
   ]
  },
  {
   "cell_type": "markdown",
   "metadata": {
    "slideshow": {
     "slide_type": "slide"
    }
   },
   "source": [
    "## Confidence regions from $\\chi^2$ distributions\n",
    "\n",
    "* For example: in 1D, the 68.3% confidence region is bounded by the contour at $\\chi^2_{\\rm min} + \\Delta \\chi^2_{D}$ where $\\Delta \\chi^2_{D} = 1$ in 1D, and $\\Delta \\chi^2_{D} = 2.30$ in 2D. \n",
    "\n",
    "* In the 1D case, the boundary of the 68.3% confidence interval lies 1 standard deviation (or \"1-sigma\") from the mean, while the 95.4% CI lies 2-sigma from the mean.\n",
    "\n",
    "> Remember, general, $\\Delta \\chi^2_{D}$ can be computed from the $\\chi^2$ distribution quantile (or \"percentage point\") function, e.g.  `scipy.stats.chi2.ppf(0.683, D)`"
   ]
  },
  {
   "cell_type": "code",
   "execution_count": null,
   "metadata": {},
   "outputs": [],
   "source": [
    "import scipy.stats, numpy as np\n",
    "\n",
    "dimensions = 2\n",
    "level = 0.683\n",
    "dchisq = scipy.stats.chi2.ppf(level, dimensions)\n",
    "\n",
    "np.round(dchisq,2)"
   ]
  },
  {
   "cell_type": "markdown",
   "metadata": {
    "slideshow": {
     "slide_type": "slide"
    }
   },
   "source": [
    "* In our example, we have that:\n",
    "\n",
    "### $\\;\\;\\;\\;\\;\\chi^2 = (\\boldsymbol{\\hat{\\theta}} - \\boldsymbol{\\theta})^T (\\mathcal{M}^T C^{-1} \\mathcal{M})^{-1} (\\boldsymbol{\\hat{\\theta}} - \\boldsymbol{\\theta})$, \n",
    "\n",
    "$\\;\\;\\;\\;\\;$where $C$ is the covariance matrix of the data (i.e. $C$ is diagonal, with elements equal to the squared uncertainties on each datapoint) and $\\mathcal{M}$ is the 2xN _design matrix_ that predicts data given parameters via   $\\mathcal{M}\\boldsymbol{\\theta} = \\boldsymbol{m}$.\n",
    "\n",
    "* This $\\chi^2$ function can be computed on a grid, and visualized as a contour plot: the contour at $\\chi^2_{\\rm min} + 2.30$ will enclose the 68% 2-D confidence region."
   ]
  },
  {
   "cell_type": "markdown",
   "metadata": {
    "slideshow": {
     "slide_type": "slide"
    }
   },
   "source": [
    "## Approximate uncertainties\n",
    "\n",
    "* In general, the covariance matrix of a Gaussian approximation to the likelihood can be calculated by _taking second derivatives of the log likelihood at the peak_, and inverting the resulting _Hessian_ matrix. \n",
    "\n",
    "* This gives a lower limit to the covariance of a set of estimators: \n",
    "\n",
    "## $\\;\\;\\;\\;\\;V^{-1}_{ij} \\geq -\\frac{\\partial^2 \\log{L}}{\\partial\\theta_i\\partial\\theta_j} \\biggr|_{\\boldsymbol{\\hat{\\theta}}}$\n",
    "\n",
    "> $V$ is what [`scipy.optimize.minimize`](https://docs.scipy.org/doc/scipy-0.18.1/reference/generated/scipy.optimize.minimize.html) returns in its `hess_inv` field if you pass it the negative log likelihood."
   ]
  },
  {
   "cell_type": "markdown",
   "metadata": {},
   "source": [
    "## Coping with multiple dimensions\n",
    "\n",
    "In Frequentism there is no concept of marginalization: parameters are assumed to be single-valued and fixed, and the only probability distribution considered is _P(data|pars)_, not _P(pars|data)_.\n",
    "\n",
    "Instead, 1D confidence intervals are usually derived by _maximizing the likelihood_ over the other parameters, in a _profile likelihood_ analysis. The repeated optimizations involved can be computationally expensive."
   ]
  },
  {
   "cell_type": "markdown",
   "metadata": {
    "slideshow": {
     "slide_type": "slide"
    }
   },
   "source": [
    "## Wording\n",
    "\n",
    "* In general, Frequentist confidence intervals are different from Bayesian credible regions:\n",
    "\n",
    "> \"68% of datasets would give a 68% frequentist confidence interval that contains the true parameter value\"\n",
    "\n",
    "> \"The probability of the true parameter value lying within the 68% Bayesian credible region is 68%\"\n",
    "\n",
    "* The difference in wording comes from the different ways that probability is used in the two approaches."
   ]
  },
  {
   "cell_type": "markdown",
   "metadata": {
    "slideshow": {
     "slide_type": "slide"
    }
   },
   "source": [
    "## Uncertainties in the estimators\n",
    "\n",
    "* The covariance matrix of a Gaussian approximation to the likelihood defines a 1-sigma, 2D, elliptical, _frequentist confidence region_\n",
    "\n",
    "* Since this came from transforming the sampling distribution, which is a PDF over datasets, the confidence interval enables conclusions in terms of fractions of an ensemble of (hypothetical) datasets\n",
    "\n",
    "* The 68% confidence interval is the range of estimators that we expect to contain the true parameter value in 68% of the (hypothetical) datasets observed"
   ]
  },
  {
   "cell_type": "markdown",
   "metadata": {
    "slideshow": {
     "slide_type": "slide"
    }
   },
   "source": [
    "## Frequentism and Bayesianism\n",
    "\n",
    "* In Frequentism, the data are considered to be random variables (in large sets of hypothetical trials described with probability distributions) while parameters are considered fixed (and to be estimated)\n",
    "\n",
    "* In Bayesianism, the data are considered to be fixed (as constants, in datafiles) while parameters are considered random variables (to be inferred, with uncertainty described by probability distributions)"
   ]
  },
  {
   "cell_type": "markdown",
   "metadata": {
    "slideshow": {
     "slide_type": "slide"
    }
   },
   "source": [
    "Given an assumed model:\n",
    "\n",
    "* Frequentists seek to _transform_ the frequency distribution of the data into a frequency distribution of their estimators, and hence quantify their uncertainty in terms of _what they expect would happen if the observation were to be repeated_  \n",
    "  \n",
    "* Bayesians seek to _update their knowledge_ of their model parameters, and hence quantify their uncertainty in terms of _what might have been had the observation been different_, and _what they knew before the data were taken_"
   ]
  },
  {
   "cell_type": "markdown",
   "metadata": {
    "slideshow": {
     "slide_type": "slide"
    }
   },
   "source": [
    "## Frequentism vs. Bayesianism\n",
    "\n",
    "\n",
    "* \"You have to assume a prior\" cf. \"You get to assume a prior\""
   ]
  },
  {
   "cell_type": "markdown",
   "metadata": {
    "slideshow": {
     "slide_type": "fragment"
    }
   },
   "source": [
    "* \"Your calculations are computationally expensive\""
   ]
  },
  {
   "cell_type": "markdown",
   "metadata": {
    "slideshow": {
     "slide_type": "fragment"
    }
   },
   "source": [
    "* \"How do you account for your nuisance parameters?\""
   ]
  },
  {
   "cell_type": "markdown",
   "metadata": {
    "slideshow": {
     "slide_type": "fragment"
    }
   },
   "source": [
    "* \"Your conclusions are not relevant\""
   ]
  },
  {
   "cell_type": "markdown",
   "metadata": {
    "slideshow": {
     "slide_type": "slide"
    }
   },
   "source": [
    "## Things to remember\n",
    "\n",
    "* The most important thing is to _know what you are doing_, and to _communicate that clearly to others_: both approaches involve assumptions which must be recorded and tested\n",
    "\n",
    "* The Bayesian approach provides a logical framework for combining datasets and additional information, and provides answers in terms of the probability distribution for the model parameters\n",
    "\n",
    "* The Frequentist approach provides a way of studying the model independent of additional information beyond the dataset in hand, and provides answers in terms of the probability of getting the data"
   ]
  },
  {
   "cell_type": "markdown",
   "metadata": {
    "slideshow": {
     "slide_type": "slide"
    }
   },
   "source": [
    "## Endnote\n",
    "\n",
    "* The astronomy literature contains a mixture of frequentist and Bayesian analysis, sometimes within the same paper\n",
    "\n",
    "* Frequentist estimators often make good _summary statistics_ with well understood sampling distributions: astronomical catalogs are full of them\n",
    "\n",
    "* In most of this course we follow the Bayesian approach: Bayes' Theorem gives you a framework for deriving the solution to _any_ inference problem you encounter.  Having said that, we'll keep our eyes open."
   ]
  },
  {
   "cell_type": "markdown",
   "metadata": {
    "slideshow": {
     "slide_type": "subslide"
    }
   },
   "source": [
    "# Priors\n",
    "\n",
    "A **prior** is the probability of the parameters *without* any data\n",
    "* **this is a subjective choice which we get to make!**\n",
    "* it is your degree of belief in the model\n",
    "* the posterior is your degree of belief in the model, updated by the data you observed\n",
    "\n",
    "We generally want to pick a prior that is \"weak\" or \"uninformative\"\n",
    "* In the case of \"big\" enough data, the prior shouldn't matter\n",
    "* It is precisely when we do not have big enough data that we rely on the prior      \n",
    "\n",
    "MLE is a special case of maximum *a posteriori* inference with a uniform/flat prior"
   ]
  },
  {
   "cell_type": "markdown",
   "metadata": {
    "slideshow": {
     "slide_type": "subslide"
    }
   },
   "source": [
    " # <center> We already know the prior can alter the inference we make, but just to drive home the point... </center>"
   ]
  },
  {
   "cell_type": "markdown",
   "metadata": {
    "slideshow": {
     "slide_type": "slide"
    }
   },
   "source": [
    "## In class warm-up: Is the choice of a uniform prior actually uninformative?\n",
    "\n",
    "**Task:** Draw 1000 random values for $a$ from a uniform distribution U(-10, 10), which means a top-hat function between -10 and 10. Then, for each $a$, plot the line $y = ax$ (over $-1 < x < 1$)."
   ]
  },
  {
   "cell_type": "code",
   "execution_count": null,
   "metadata": {
    "slideshow": {
     "slide_type": "subslide"
    }
   },
   "outputs": [],
   "source": [
    "# YOUR CODE HERE\n",
    "\n",
    "a = np.arange(0., 10, 0.1)\n",
    "x = np.array([-1, 1])\n",
    "fig = plt.figure(figsize=(6,6))\n",
    "ax = fig.add_subplot(111)\n",
    "\n",
    "for m in a:\n",
    "    ax.plot(x, m*x, ls='-', color='k')\n",
    "    \n",
    "\n",
    "ax.set_xlim(-1, 1)\n",
    "ax.set_ylim(-1, 1)\n",
    "ax.set_aspect('equal')    "
   ]
  },
  {
   "cell_type": "markdown",
   "metadata": {
    "slideshow": {
     "slide_type": "slide"
    }
   },
   "source": [
    "## How to pick a prior \n",
    "\n",
    "### Bayesian priors\n",
    "\n",
    "Priors can be **informative** or **uninformative**.  As it sounds, informative priors are based on existing information (including previously obtained data, but not the data considered right now) that might be available.  Uniformative priors can be thought of as \"default\" priors, i.e., what your prior is when you never used\n",
    "any data, e.g, a \"flat\" prior like $p(\\theta|M,I) \\propto {\\rm C}$."
   ]
  },
  {
   "cell_type": "markdown",
   "metadata": {
    "slideshow": {
     "slide_type": "slide"
    }
   },
   "source": [
    "## Statistical Modeling \"Wisdom\"\n",
    "\n",
    "* Build a model for your data (ideally draw a \"Probabilistic Graphical Model\" or PGM - we'll see more of these)\n",
    "\n",
    "* Have an objective function (likelihood or posterior) that you optimize (or sample) to fit the the data\n",
    "\n",
    "    * The objective function evaluates the fit of your one dataset under different parameter values/models\n",
    " \n",
    "* Derive your objective function from modeling assumptions (physical or statistical)\n",
    "\n",
    "* **Write down your assumptions!!!** (You'll need these when things go wrong)"
   ]
  },
  {
   "cell_type": "markdown",
   "metadata": {
    "slideshow": {
     "slide_type": "slide"
    }
   },
   "source": [
    "## Statistical Modeling \"Wisdom\"\n",
    "\n",
    "Four Questions for a Bayesian:\n",
    "\n",
    "1. What is the model? $P(D|\\theta)$\n",
    "\n",
    "2. What is the likelihood? Derive $L(\\theta)$ from your sampling distribution $P(D|\\theta)$\n",
    "\n",
    "3. What are your priors? $P(\\theta)$\n",
    "\n",
    "4. How do you optimize/sample the objective function to model the data?"
   ]
  },
  {
   "cell_type": "markdown",
   "metadata": {
    "slideshow": {
     "slide_type": "slide"
    }
   },
   "source": [
    "So far, we've restricted ourselves to inferences with:\n",
    "* exact solutions - rare!\n",
    "* linear-izable functions - because these are convex, and minimum is the global minimum!\n",
    "* low-dimensional parameter spaces - limiting!\n",
    "\n",
    "We can think of more complicated scenarios:\n",
    "\n",
    "![Posteriors](figures/posteriors.png)"
   ]
  },
  {
   "cell_type": "markdown",
   "metadata": {
    "slideshow": {
     "slide_type": "slide"
    }
   },
   "source": [
    "# Global Optimizers (use if you have a complex problem but low dimensionality)\n",
    "\n",
    "\n",
    "A \"global optimizer\" finds global minima of functions. These generally use a two stage approach. The first stage takes large steps in parameter space to avoid getting stuck in local minima. Then, the second stage finds local minima near the best of the big steps."
   ]
  },
  {
   "cell_type": "markdown",
   "metadata": {
    "slideshow": {
     "slide_type": "slide"
    }
   },
   "source": [
    "# Simulated annealing\n",
    "\n",
    "Simulated annealing mimics the physical process of heating a material and then slowly lowering the temperature to decrease defects, thus minimizing the system energy.\n",
    "\n",
    "At each iteration of the simulated annealing algorithm, a new point is randomly generated. \n",
    "\n",
    "The distance of the new point from the current point, or the extent of the search, is based on a probability distribution \n",
    "\n",
    "## $$ P = \\exp(-\\Delta L/kT) $$\n",
    "\n",
    "\n",
    "\n",
    "The algorithm accepts all new points that lower the objective, but also, with a certain probability, points that raise the objective. \n",
    "\n",
    "By accepting points that raise the objective, the algorithm avoids being trapped in local minima, and is able to explore globally for more possible solutions.\n",
    "\n",
    "![Simulated Annealing](figures/sim_annealing_flow.png)\n",
    "\n",
    "\n",
    "An annealing schedule is selected to systematically decrease the temperature as the algorithm proceeds. \n",
    "\n",
    "As the temperature decreases, the algorithm reduces the extent of its search to converge to a minimum."
   ]
  },
  {
   "cell_type": "markdown",
   "metadata": {
    "slideshow": {
     "slide_type": "slide"
    }
   },
   "source": [
    "Basin-hopping algorithm is a stochastic algorithm that seeks a global minimum by combining random perturbation of the positions and local minimization.\n",
    "\n",
    "`scipy.optimize.basinhopping`\n",
    "\n",
    "![Basin Hopping](figures/basin_hopping.jpg)"
   ]
  },
  {
   "cell_type": "markdown",
   "metadata": {
    "slideshow": {
     "slide_type": "slide"
    }
   },
   "source": [
    "Simplicial homology global optimization (SHGO) is another good option, particularly since it also returns all other local and global minimum in addition to the global minimum. \n",
    "\n",
    "It's using \"novel, rigorously proven\" methods that detect the homological properties of the objective function surface). \n",
    "\n",
    "![SHGO](figures/shgo.svg)"
   ]
  },
  {
   "cell_type": "markdown",
   "metadata": {
    "slideshow": {
     "slide_type": "slide"
    }
   },
   "source": [
    "## Use Basin-hopping, simulated annealing and SHGO to solve the eggholder problem"
   ]
  },
  {
   "cell_type": "code",
   "execution_count": null,
   "metadata": {
    "slideshow": {
     "slide_type": "slide"
    }
   },
   "outputs": [],
   "source": [
    "class MyBounds(object):\n",
    "    def __init__(self, xmax=[512, 512], xmin=[-512,-512] ):\n",
    "        self.xmax = np.array(xmax)\n",
    "        self.xmin = np.array(xmin)\n",
    "    def __call__(self, **kwargs):\n",
    "        x = kwargs[\"x_new\"]\n",
    "        tmax = bool(np.all(x <= self.xmax))\n",
    "        tmin = bool(np.all(x >= self.xmin))\n",
    "        return tmax and tmin\n",
    "\n",
    "bounds = MyBounds()\n",
    "res1 = optimize.basinhopping(eggholder, [st.uniform.rvs(loc=-512, scale=1024, size=2)],\\\n",
    "                             niter=10000, T=1, accept_test=bounds, seed=42)\n",
    "print('Basin Hopping')\n",
    "print(res1)"
   ]
  },
  {
   "cell_type": "code",
   "execution_count": null,
   "metadata": {
    "slideshow": {
     "slide_type": "slide"
    }
   },
   "outputs": [],
   "source": [
    "print('-------------')\n",
    "res2 = optimize.shgo(eggholder, bounds=[(-512, 512), (-512, 512)], n=30, sampling_method='sobol')\n",
    "print('SHGO')\n",
    "print(res2)"
   ]
  }
 ],
 "metadata": {
  "celltoolbar": "Slideshow",
  "kernelspec": {
   "display_name": "Python 3 (ipykernel)",
   "language": "python",
   "name": "python3"
  },
  "language_info": {
   "codemirror_mode": {
    "name": "ipython",
    "version": 3
   },
   "file_extension": ".py",
   "mimetype": "text/x-python",
   "name": "python",
   "nbconvert_exporter": "python",
   "pygments_lexer": "ipython3",
   "version": "3.9.12"
  }
 },
 "nbformat": 4,
 "nbformat_minor": 2
}
